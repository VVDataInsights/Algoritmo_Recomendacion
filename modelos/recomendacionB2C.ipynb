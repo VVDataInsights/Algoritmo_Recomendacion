{
  "cells": [
    {
      "cell_type": "code",
      "execution_count": 1,
      "id": "046180c9",
      "metadata": {
        "colab": {
          "base_uri": "https://localhost:8080/"
        },
        "id": "046180c9",
        "outputId": "afda7b6d-b495-4610-adb8-260c4006bcad"
      },
      "outputs": [
        {
          "output_type": "stream",
          "name": "stdout",
          "text": [
            "Requirement already satisfied: pandas in /usr/local/lib/python3.11/dist-packages (2.2.2)\n",
            "Requirement already satisfied: numpy>=1.23.2 in /usr/local/lib/python3.11/dist-packages (from pandas) (2.0.2)\n",
            "Requirement already satisfied: python-dateutil>=2.8.2 in /usr/local/lib/python3.11/dist-packages (from pandas) (2.9.0.post0)\n",
            "Requirement already satisfied: pytz>=2020.1 in /usr/local/lib/python3.11/dist-packages (from pandas) (2025.2)\n",
            "Requirement already satisfied: tzdata>=2022.7 in /usr/local/lib/python3.11/dist-packages (from pandas) (2025.2)\n",
            "Requirement already satisfied: six>=1.5 in /usr/local/lib/python3.11/dist-packages (from python-dateutil>=2.8.2->pandas) (1.17.0)\n"
          ]
        }
      ],
      "source": [
        "import sys\n",
        "!pip install pandas\n",
        "import pandas as pd\n",
        "import numpy as np\n",
        "import nltk\n",
        "\n",
        "\n",
        "import re\n",
        "import nltk\n",
        "from joblib import dump, load\n",
        "import matplotlib.pyplot as plt\n",
        "pd.options.display.max_colwidth=200\n",
        "%matplotlib inline\n",
        "from sklearn.model_selection import train_test_split\n",
        "from sklearn.linear_model import LinearRegression\n",
        "from sklearn.pipeline import Pipeline\n",
        "from sklearn.compose import ColumnTransformer\n",
        "from sklearn.preprocessing import StandardScaler\n",
        "from sklearn.preprocessing import PolynomialFeatures\n",
        "from sklearn.metrics import mean_absolute_error, mean_squared_error, r2_score\n",
        "from sklearn.model_selection import train_test_split\n",
        "from sklearn.linear_model import LinearRegression\n",
        "from sklearn.pipeline import Pipeline\n",
        "from sklearn.compose import ColumnTransformer\n",
        "from sklearn.preprocessing import StandardScaler\n",
        "from sklearn.preprocessing import PolynomialFeatures\n",
        "from sklearn.metrics import mean_absolute_error, mean_squared_error, r2_score\n",
        "from sklearn.preprocessing import StandardScaler  # Asegúrate de importar StandardScaler\n",
        "from sklearn.cluster import KMeans\n",
        "from sklearn.metrics import silhouette_samples, silhouette_score\n",
        "\n",
        "\n",
        "\n",
        "\n",
        "import scipy.stats as stats\n",
        "import seaborn as sns; sns.set()  # for plot styling\n",
        "\n",
        "from sklearn.preprocessing import StandardScaler\n",
        "from sklearn.cluster import KMeans\n",
        "from sklearn.metrics import silhouette_samples, silhouette_score\n",
        "from sklearn.preprocessing import MinMaxScaler\n",
        "\n",
        "from matplotlib import cm\n",
        "from mpl_toolkits.mplot3d import Axes3D # for 3D plots\n",
        "import matplotlib.pyplot as plt\n",
        "\n",
        "import numpy as np\n",
        "import pandas as pd\n",
        "from sklearn.model_selection import KFold, GridSearchCV, train_test_split\n",
        "from sklearn.preprocessing import OneHotEncoder, MinMaxScaler\n",
        "import matplotlib.pyplot as plt\n",
        "from sklearn.linear_model import LinearRegression\n",
        "import seaborn as sns\n",
        "from sklearn.metrics import mean_squared_error as mse, r2_score, mean_absolute_error as mae\n",
        "\n",
        "\n",
        "import pandas as pd\n",
        "import numpy as np\n",
        "import matplotlib.pyplot as plt\n",
        "import seaborn as sns\n",
        "\n",
        "from sklearn import tree\n",
        "\n",
        "\n",
        "from sklearn.tree import DecisionTreeClassifier\n",
        "from sklearn.preprocessing import LabelEncoder\n",
        "\n",
        "# Para búsqueda de hiperparámetros\n",
        "from sklearn.model_selection import GridSearchCV\n",
        "# Para la validación cruzada\n",
        "from sklearn.model_selection import KFold\n",
        "\n",
        "# Metricas\n",
        "from sklearn.metrics import confusion_matrix, classification_report, precision_score, recall_score, f1_score, accuracy_score\n",
        "from sklearn.metrics import ConfusionMatrixDisplay\n",
        "\n",
        "from sklearn.model_selection import GridSearchCV\n",
        "from sklearn.neighbors import KNeighborsClassifier\n",
        "\n",
        "# q-q plots\n",
        "import scipy.stats as stats"
      ]
    },
    {
      "cell_type": "code",
      "execution_count": 2,
      "id": "f4b385fe",
      "metadata": {
        "colab": {
          "base_uri": "https://localhost:8080/"
        },
        "id": "f4b385fe",
        "outputId": "d6948df4-6ba6-410a-951e-23290a15b3d6"
      },
      "outputs": [
        {
          "output_type": "stream",
          "name": "stdout",
          "text": [
            "Collecting LightFM\n",
            "  Downloading lightfm-1.17.tar.gz (316 kB)\n",
            "\u001b[?25l     \u001b[90m━━━━━━━━━━━━━━━━━━━━━━━━━━━━━━━━━━━━━━━━\u001b[0m \u001b[32m0.0/316.4 kB\u001b[0m \u001b[31m?\u001b[0m eta \u001b[36m-:--:--\u001b[0m\r\u001b[2K     \u001b[90m━━━━━━━━━━━━━━━━━━━━━━━━━━━━━━━━━━━━━━\u001b[0m \u001b[32m316.4/316.4 kB\u001b[0m \u001b[31m11.8 MB/s\u001b[0m eta \u001b[36m0:00:00\u001b[0m\n",
            "\u001b[?25h  Preparing metadata (setup.py) ... \u001b[?25l\u001b[?25hdone\n",
            "Requirement already satisfied: numpy in /usr/local/lib/python3.11/dist-packages (from LightFM) (2.0.2)\n",
            "Requirement already satisfied: scipy>=0.17.0 in /usr/local/lib/python3.11/dist-packages (from LightFM) (1.15.2)\n",
            "Requirement already satisfied: requests in /usr/local/lib/python3.11/dist-packages (from LightFM) (2.32.3)\n",
            "Requirement already satisfied: scikit-learn in /usr/local/lib/python3.11/dist-packages (from LightFM) (1.6.1)\n",
            "Requirement already satisfied: charset-normalizer<4,>=2 in /usr/local/lib/python3.11/dist-packages (from requests->LightFM) (3.4.1)\n",
            "Requirement already satisfied: idna<4,>=2.5 in /usr/local/lib/python3.11/dist-packages (from requests->LightFM) (3.10)\n",
            "Requirement already satisfied: urllib3<3,>=1.21.1 in /usr/local/lib/python3.11/dist-packages (from requests->LightFM) (2.4.0)\n",
            "Requirement already satisfied: certifi>=2017.4.17 in /usr/local/lib/python3.11/dist-packages (from requests->LightFM) (2025.4.26)\n",
            "Requirement already satisfied: joblib>=1.2.0 in /usr/local/lib/python3.11/dist-packages (from scikit-learn->LightFM) (1.4.2)\n",
            "Requirement already satisfied: threadpoolctl>=3.1.0 in /usr/local/lib/python3.11/dist-packages (from scikit-learn->LightFM) (3.6.0)\n",
            "Building wheels for collected packages: LightFM\n",
            "  Building wheel for LightFM (setup.py) ... \u001b[?25l\u001b[?25hdone\n",
            "  Created wheel for LightFM: filename=lightfm-1.17-cp311-cp311-linux_x86_64.whl size=831164 sha256=2da88ef60880820879db308ec1fad138eaebe53af28c9f5664a6e36ae5d909d4\n",
            "  Stored in directory: /root/.cache/pip/wheels/b9/0d/8a/0729d2e6e3ca2a898ba55201f905da7db3f838a33df5b3fcdd\n",
            "Successfully built LightFM\n",
            "Installing collected packages: LightFM\n",
            "Successfully installed LightFM-1.17\n"
          ]
        }
      ],
      "source": [
        "!pip install LightFM\n",
        "from lightfm import LightFM\n",
        "from lightfm.data import Dataset"
      ]
    },
    {
      "cell_type": "markdown",
      "id": "9aca4f8c",
      "metadata": {
        "id": "9aca4f8c"
      },
      "source": [
        "## Carga de datos"
      ]
    },
    {
      "cell_type": "code",
      "source": [
        "from google.colab import drive\n",
        "drive.mount('/content/drive')"
      ],
      "metadata": {
        "colab": {
          "base_uri": "https://localhost:8080/"
        },
        "id": "qRm178zm6nKj",
        "outputId": "b6466c00-bfad-4f3b-d0af-8931fb86d1fa"
      },
      "id": "qRm178zm6nKj",
      "execution_count": 4,
      "outputs": [
        {
          "output_type": "stream",
          "name": "stdout",
          "text": [
            "Mounted at /content/drive\n"
          ]
        }
      ]
    },
    {
      "cell_type": "code",
      "execution_count": 5,
      "id": "61b4679f",
      "metadata": {
        "id": "61b4679f"
      },
      "outputs": [],
      "source": [
        "pd2 = pd.read_csv('/content/drive/MyDrive/Corona/b2c_nuevo.csv' , sep=\",\", encoding=\"utf-8\")"
      ]
    },
    {
      "cell_type": "code",
      "execution_count": 6,
      "id": "09f3b486",
      "metadata": {
        "id": "09f3b486"
      },
      "outputs": [],
      "source": [
        "\n",
        "b2c = pd2.copy()"
      ]
    },
    {
      "cell_type": "markdown",
      "id": "a6328d14",
      "metadata": {
        "id": "a6328d14"
      },
      "source": [
        "## Implementación B2C"
      ]
    },
    {
      "cell_type": "code",
      "execution_count": 7,
      "id": "a42a8d45",
      "metadata": {
        "colab": {
          "base_uri": "https://localhost:8080/"
        },
        "id": "a42a8d45",
        "outputId": "3af54c50-adb9-4c22-a206-0875bd7b3447"
      },
      "outputs": [
        {
          "output_type": "execute_result",
          "data": {
            "text/plain": [
              "Index(['edad_promedio', 'ingreso_laboral_promedio', 'porcentaje_urbano',\n",
              "       'IPUG', 'GINI', 'num_pedidos', 'categorias_diferentes',\n",
              "       'Total de edificaciones en obra', 'pedido', 'id', 'edad', 'municipio',\n",
              "       'asesor', 'punto de venta', 'cluster', 'categoria_macro', 'categoria',\n",
              "       'subcategoria', 'producto', 'color', 'cantidad', 'precio', 'valor',\n",
              "       'alineación con portafolio estratégico', 'log_cantidad', 'log_precio',\n",
              "       'log_valor', 'ajustada_alineacion', 'total_productos', 'total_gasto',\n",
              "       'precio_promedio', 'ticket_promedio', 'cantidad_promedio',\n",
              "       'zona_AMAZONAS', 'zona_ANTIOQUIA', 'zona_ARAUCA', 'zona_ATLÁNTICO',\n",
              "       'zona_BOGOTÁ', 'zona_BOLÍVAR', 'zona_BOYACA', 'zona_CALDAS',\n",
              "       'zona_CAQUETA', 'zona_CASANARE', 'zona_CAUCA', 'zona_CESAR',\n",
              "       'zona_CHOCO', 'zona_CUNDINAMARCA', 'zona_CÓRDOBA', 'zona_GUAINIA',\n",
              "       'zona_GUAVIARE', 'zona_HUILA', 'zona_LA GUAJIRA', 'zona_MAGDALENA',\n",
              "       'zona_META', 'zona_NARIÑO', 'zona_NORTE SANTANDER', 'zona_PUTUMAYO',\n",
              "       'zona_QUINDIO', 'zona_RISARALDA', 'zona_SAN ANDRÉS', 'zona_SANTANDER',\n",
              "       'zona_SUCRE', 'zona_TOLIMA', 'zona_VALLE', 'zona_VAUPES',\n",
              "       'zona_VICHADA', 'año', 'mes', 'día', 'trimestre'],\n",
              "      dtype='object')"
            ]
          },
          "metadata": {},
          "execution_count": 7
        }
      ],
      "source": [
        "b2c.columns"
      ]
    },
    {
      "cell_type": "code",
      "source": [
        "b2c = b2c.dropna(subset=['id', 'producto'])  # elimina filas con id o producto nulo\n"
      ],
      "metadata": {
        "id": "bNlQCZWbjeAJ"
      },
      "id": "bNlQCZWbjeAJ",
      "execution_count": 8,
      "outputs": []
    },
    {
      "cell_type": "markdown",
      "id": "daad5505",
      "metadata": {
        "id": "daad5505"
      },
      "source": [
        "## Pipeline LightFM"
      ]
    },
    {
      "cell_type": "code",
      "execution_count": 9,
      "id": "ed07f418",
      "metadata": {
        "id": "ed07f418"
      },
      "outputs": [],
      "source": [
        "from lightfm.data import Dataset\n",
        "\n",
        "dataset = Dataset()\n",
        "\n",
        "# USER features\n",
        "user_features = (\n",
        "    [f\"cluster:{x}\" for x in b2c['cluster'].astype(str).unique()] +\n",
        "    [f\"municipio:{x}\" for x in b2c['municipio'].astype(str).unique()] +\n",
        "    [f\"asesor:{x}\" for x in b2c['asesor'].astype(str).unique()] +\n",
        "    [f\"punto:{x}\" for x in b2c['punto de venta'].astype(str).unique()] +\n",
        "    b2c.columns[b2c.columns.str.startswith(\"zona_\")].tolist()\n",
        ")\n",
        "\n",
        "# ITEM features\n",
        "item_features = (\n",
        "    [f\"categoria_macro:{x}\" for x in b2c['categoria_macro'].astype(str).unique()] +\n",
        "    [f\"subcategoria:{x}\" for x in b2c['subcategoria'].astype(str).unique()] +\n",
        "    [f\"color:{x}\" for x in b2c['color'].astype(str).unique()]\n",
        ")\n",
        "\n",
        "dataset.fit(\n",
        "    users=b2c['id'].unique(),\n",
        "    items=b2c['producto'].unique(),\n",
        "    user_features=user_features,\n",
        "    item_features=item_features\n",
        ")\n"
      ]
    },
    {
      "cell_type": "code",
      "execution_count": 10,
      "id": "84ba9f28",
      "metadata": {
        "id": "84ba9f28"
      },
      "outputs": [],
      "source": [
        "\n",
        "interactions, _ = dataset.build_interactions([\n",
        "    (row['id'], row['producto']) for _, row in b2c.iterrows()\n",
        "])\n"
      ]
    },
    {
      "cell_type": "markdown",
      "id": "d26a7e2b",
      "metadata": {
        "id": "d26a7e2b"
      },
      "source": [
        "Ahora establecemos como se realiza la caracterización de los clientes y de los porductos"
      ]
    },
    {
      "cell_type": "code",
      "execution_count": 11,
      "id": "5681fa92",
      "metadata": {
        "id": "5681fa92"
      },
      "outputs": [],
      "source": [
        "def construir_features_usuario(df):\n",
        "    features = []\n",
        "    for _, row in df.iterrows():\n",
        "        f = [\n",
        "            f\"cluster:{row['cluster']}\",\n",
        "            f\"municipio:{row['municipio']}\",\n",
        "            f\"asesor:{row['asesor']}\",\n",
        "            f\"punto:{row['punto de venta']}\"\n",
        "        ]\n",
        "        for zona in df.columns[df.columns.str.startswith(\"zona_\")]:\n",
        "            if row[zona] == 1:\n",
        "                f.append(zona)\n",
        "        features.append((row['id'], f))\n",
        "    return features\n",
        "\n",
        "\n",
        "def construir_features_producto(df):\n",
        "    features = []\n",
        "    for _, row in df.iterrows():\n",
        "        f = [\n",
        "            f\"categoria_macro:{row['categoria_macro']}\",\n",
        "            f\"subcategoria:{row['subcategoria']}\",\n",
        "            f\"color:{row['color']}\"\n",
        "        ]\n",
        "        features.append((row['producto'], f))\n",
        "    return features\n",
        "\n",
        "\n",
        "user_features = dataset.build_user_features(construir_features_usuario(b2c))\n",
        "item_features = dataset.build_item_features(construir_features_producto(b2c))\n"
      ]
    },
    {
      "cell_type": "code",
      "execution_count": 12,
      "id": "6f118b80",
      "metadata": {
        "colab": {
          "base_uri": "https://localhost:8080/"
        },
        "id": "6f118b80",
        "outputId": "347945c8-0158-471a-afb3-03aeda8e2c3d"
      },
      "outputs": [
        {
          "output_type": "execute_result",
          "data": {
            "text/plain": [
              "<lightfm.lightfm.LightFM at 0x78ce3d5b0ed0>"
            ]
          },
          "metadata": {},
          "execution_count": 12
        }
      ],
      "source": [
        "model = LightFM(loss='warp', no_components=16)\n",
        "model.fit(interactions, user_features=user_features, item_features=item_features, epochs=5, num_threads=1)\n"
      ]
    },
    {
      "cell_type": "code",
      "source": [
        "b2c['id'].dropna().unique()[:10]\n"
      ],
      "metadata": {
        "colab": {
          "base_uri": "https://localhost:8080/"
        },
        "id": "FbHCeAH3oLTH",
        "outputId": "a974f418-75b5-42cb-e739-72c25979a9da"
      },
      "id": "FbHCeAH3oLTH",
      "execution_count": 13,
      "outputs": [
        {
          "output_type": "execute_result",
          "data": {
            "text/plain": [
              "array([ 2,  3,  4,  5,  6,  7,  8,  9, 10, 11])"
            ]
          },
          "metadata": {},
          "execution_count": 13
        }
      ]
    },
    {
      "cell_type": "code",
      "execution_count": 14,
      "id": "d3377f9c",
      "metadata": {
        "colab": {
          "base_uri": "https://localhost:8080/"
        },
        "id": "d3377f9c",
        "outputId": "909fed38-5ee7-44d7-fa3d-51a140c4face"
      },
      "outputs": [
        {
          "output_type": "stream",
          "name": "stdout",
          "text": [
            "Recomendaciones: ['producto_1116', 'producto_1508', 'producto_59', 'producto_171', 'producto_130', 'producto_831', 'producto_681', 'producto_830', 'producto_3', 'producto_119']\n"
          ]
        }
      ],
      "source": [
        "usuario_interno = dataset.mapping()[0][11]\n",
        "scores = model.predict(usuario_interno, np.arange(len(dataset.mapping()[2])), user_features=user_features, item_features=item_features)\n",
        "top_items = np.argsort(-scores)[:10]\n",
        "productos = list(dataset.mapping()[2].keys())\n",
        "print(\"Recomendaciones:\", [productos[i] for i in top_items])\n"
      ]
    },
    {
      "cell_type": "markdown",
      "id": "be2b2e16",
      "metadata": {
        "id": "be2b2e16"
      },
      "source": [
        "## Modelo Tabular"
      ]
    },
    {
      "cell_type": "code",
      "source": [
        "positivos = b2c[['id', 'producto']].drop_duplicates().copy()\n",
        "positivos['interaccion'] = 1\n"
      ],
      "metadata": {
        "id": "e7n86gtPptih"
      },
      "id": "e7n86gtPptih",
      "execution_count": 15,
      "outputs": []
    },
    {
      "cell_type": "code",
      "source": [
        "import pandas as pd\n",
        "import numpy as np\n",
        "from tqdm import tqdm  # barra de progreso\n",
        "\n",
        "usuarios = b2c['id'].unique()\n",
        "productos = b2c['producto'].unique()\n",
        "compras = b2c.groupby('id')['producto'].apply(set).to_dict()\n",
        "\n",
        "negativos = []\n",
        "rng = np.random.default_rng(seed=42)\n",
        "\n",
        "# Número de negativos por usuario (puedes cambiarlo)\n",
        "k_negativos = 5\n",
        "\n",
        "for u in tqdm(usuarios):\n",
        "    comprados = compras.get(u, set())\n",
        "    candidatos = list(set(productos) - comprados)\n",
        "\n",
        "    if len(candidatos) == 0:\n",
        "        continue  # este usuario ya compró todo\n",
        "\n",
        "    muestra = rng.choice(candidatos, size=min(k_negativos, len(candidatos)), replace=False)\n",
        "    negativos.extend([(u, p, 0) for p in muestra])\n",
        "\n",
        "# Convertir a DataFrame\n",
        "negativos = pd.DataFrame(negativos, columns=['id', 'producto', 'interaccion'])\n",
        "\n",
        "# Positivos\n",
        "positivos = b2c[['id', 'producto']].drop_duplicates().copy()\n",
        "positivos['interaccion'] = 1\n",
        "\n",
        "# Unir todo\n",
        "df_tabular = pd.concat([positivos, negativos], axis=0, ignore_index=True)\n"
      ],
      "metadata": {
        "colab": {
          "base_uri": "https://localhost:8080/"
        },
        "id": "toRXrCsgy7Pw",
        "outputId": "cfa4686b-47d4-4a37-c5d1-8efc5367886b"
      },
      "id": "toRXrCsgy7Pw",
      "execution_count": 16,
      "outputs": [
        {
          "output_type": "stream",
          "name": "stderr",
          "text": [
            "100%|██████████| 419221/419221 [24:13<00:00, 288.46it/s]\n"
          ]
        }
      ]
    },
    {
      "cell_type": "code",
      "source": [
        "features_usuario = b2c.drop_duplicates('id').set_index('id')[\n",
        "    ['edad', 'edad_promedio', 'ingreso_laboral_promedio', 'GINI', 'IPUG', 'cluster']\n",
        "]\n",
        "\n",
        "features_producto = b2c.drop_duplicates('producto').set_index('producto')[\n",
        "    ['categoria_macro', 'subcategoria', 'color', 'precio', 'alineación con portafolio estratégico']\n",
        "]\n",
        "\n",
        "df_tabular = df_tabular.merge(features_usuario, on='id', how='left')\n",
        "df_tabular = df_tabular.merge(features_producto, on='producto', how='left')\n"
      ],
      "metadata": {
        "id": "GwE9dDT0qCX3"
      },
      "id": "GwE9dDT0qCX3",
      "execution_count": 17,
      "outputs": []
    },
    {
      "cell_type": "code",
      "source": [
        "from xgboost import XGBClassifier\n",
        "from sklearn.model_selection import train_test_split\n",
        "from sklearn.metrics import roc_auc_score, classification_report\n",
        "import pandas as pd\n",
        "\n",
        "# --- 1. Selección de columnas útiles (excluye id, producto, interaccion) ---\n",
        "X = df_tabular.drop(columns=['id', 'producto', 'interaccion'])\n",
        "y = df_tabular['interaccion']\n",
        "\n",
        "# --- 2. Tratar nulos y reducir cardinalidad ---\n",
        "X.fillna(\"desconocido\", inplace=True)\n",
        "\n",
        "# Reducir cardinalidad de 'color' si tiene muchos valores\n",
        "if X['color'].nunique() > 20:\n",
        "    top_colores = X['color'].value_counts().nlargest(20).index\n",
        "    X['color'] = X['color'].where(X['color'].isin(top_colores), 'otros')\n",
        "\n",
        "# --- 3. Convertir categóricas a tipo 'category' ---\n",
        "categoricas = ['cluster', 'categoria_macro', 'subcategoria', 'color']\n",
        "for col in categoricas:\n",
        "    X[col] = X[col].astype('category')\n",
        "\n",
        "# --- 4. Split y entrenamiento ---\n",
        "X_train, X_test, y_train, y_test = train_test_split(\n",
        "    X, y, stratify=y, test_size=0.2, random_state=42\n",
        ")\n",
        "\n",
        "modelo_xgb = XGBClassifier(\n",
        "    tree_method='hist',\n",
        "    enable_categorical=True,\n",
        "    use_label_encoder=False,\n",
        "    eval_metric='logloss',\n",
        "    n_estimators=100,\n",
        "    learning_rate=0.1,\n",
        "    max_depth=6,\n",
        "    random_state=42\n",
        ")\n",
        "\n",
        "modelo_xgb.fit(X_train, y_train)\n",
        "\n",
        "# --- 5. Evaluación ---\n",
        "probs = modelo_xgb.predict_proba(X_test)[:, 1]\n",
        "preds = modelo_xgb.predict(X_test)\n",
        "\n",
        "print(\"AUC:\", round(roc_auc_score(y_test, probs), 4))\n",
        "print(classification_report(y_test, preds))\n"
      ],
      "metadata": {
        "colab": {
          "base_uri": "https://localhost:8080/"
        },
        "id": "iJzwBEaF6fbO",
        "outputId": "816cd0e2-7eda-425b-a9f5-416c64ccdf78"
      },
      "id": "iJzwBEaF6fbO",
      "execution_count": 18,
      "outputs": [
        {
          "output_type": "stream",
          "name": "stderr",
          "text": [
            "/usr/local/lib/python3.11/dist-packages/xgboost/core.py:158: UserWarning: [16:15:14] WARNING: /workspace/src/learner.cc:740: \n",
            "Parameters: { \"use_label_encoder\" } are not used.\n",
            "\n",
            "  warnings.warn(smsg, UserWarning)\n"
          ]
        },
        {
          "output_type": "stream",
          "name": "stdout",
          "text": [
            "AUC: 0.9136\n",
            "              precision    recall  f1-score   support\n",
            "\n",
            "           0       0.84      0.86      0.85    419221\n",
            "           1       0.83      0.81      0.82    356427\n",
            "\n",
            "    accuracy                           0.84    775648\n",
            "   macro avg       0.84      0.83      0.83    775648\n",
            "weighted avg       0.84      0.84      0.84    775648\n",
            "\n"
          ]
        }
      ]
    },
    {
      "cell_type": "code",
      "source": [
        "import matplotlib.pyplot as plt\n",
        "from xgboost import plot_importance\n",
        "\n",
        "plt.figure(figsize=(10, 6))\n",
        "plot_importance(modelo_xgb, max_num_features=15, importance_type='gain')\n",
        "plt.title(\"Top 15 Features más importantes\")\n",
        "plt.show()\n"
      ],
      "metadata": {
        "colab": {
          "base_uri": "https://localhost:8080/",
          "height": 465
        },
        "id": "xh8QZrlTqhnB",
        "outputId": "6a4ebb44-eaad-455b-ab4b-3317e993038b"
      },
      "id": "xh8QZrlTqhnB",
      "execution_count": 19,
      "outputs": [
        {
          "output_type": "display_data",
          "data": {
            "text/plain": [
              "<Figure size 1000x600 with 0 Axes>"
            ]
          },
          "metadata": {}
        },
        {
          "output_type": "display_data",
          "data": {
            "text/plain": [
              "<Figure size 640x480 with 1 Axes>"
            ],
            "image/png": "[encoded data removed]"
          },
          "metadata": {}
        }
      ]
    },
    {
      "cell_type": "code",
      "source": [
        "def recomendar_con_xgboost(cliente_id, top_n=10):\n",
        "    # Productos ya comprados por el cliente\n",
        "    productos_comprados = set(b2c[b2c['id'] == cliente_id]['producto'].unique())\n",
        "\n",
        "    # Productos candidatos (no comprados)\n",
        "    todos_productos = b2c['producto'].unique()\n",
        "    productos_candidatos = list(set(todos_productos) - productos_comprados)\n",
        "\n",
        "    if not productos_candidatos:\n",
        "        return f\"Cliente {cliente_id} ya ha comprado todos los productos.\"\n",
        "\n",
        "    # Crear dataset de predicción\n",
        "    df_pred = pd.DataFrame({'id': cliente_id, 'producto': productos_candidatos})\n",
        "\n",
        "    # Merge con features del usuario\n",
        "    df_pred = df_pred.merge(features_usuario, on='id', how='left')\n",
        "\n",
        "    # Merge con features del producto\n",
        "    df_pred = df_pred.merge(features_producto, on='producto', how='left')\n",
        "\n",
        "    # Tratar nulos\n",
        "    df_pred.fillna(\"desconocido\", inplace=True)\n",
        "\n",
        "    # Reducir cardinalidad de color si es necesario\n",
        "    if 'color' in df_pred.columns and df_pred['color'].nunique() > 20:\n",
        "        top_colores = features_producto['color'].value_counts().nlargest(20).index\n",
        "        df_pred['color'] = df_pred['color'].where(df_pred['color'].isin(top_colores), 'otros')\n",
        "\n",
        "    # Convertir variables categóricas\n",
        "    for col in ['cluster', 'categoria_macro', 'subcategoria', 'color']:\n",
        "        if col in df_pred.columns:\n",
        "            df_pred[col] = df_pred[col].astype('category')\n",
        "\n",
        "    # 🔧 Eliminar columnas no usadas durante el entrenamiento\n",
        "    X_pred = df_pred.drop(columns=['id', 'producto'])  # ← ahora sí correcto\n",
        "\n",
        "    # Predecir probabilidad de compra\n",
        "    probs = modelo_xgb.predict_proba(X_pred)[:, 1]\n",
        "\n",
        "    # Construir ranking\n",
        "    df_pred['score'] = probs\n",
        "    top_recomendaciones = df_pred.sort_values('score', ascending=False).head(top_n)\n",
        "\n",
        "    return top_recomendaciones[['producto', 'score']]\n"
      ],
      "metadata": {
        "id": "RhkMFZKxDCrj"
      },
      "id": "RhkMFZKxDCrj",
      "execution_count": 20,
      "outputs": []
    },
    {
      "cell_type": "code",
      "source": [
        "recomendar_con_xgboost(cliente_id=11, top_n=10)\n"
      ],
      "metadata": {
        "colab": {
          "base_uri": "https://localhost:8080/",
          "height": 363
        },
        "id": "hiDm-5r5DJc2",
        "outputId": "45c7c582-5ebb-40ff-81e3-2fa422d3b242"
      },
      "id": "hiDm-5r5DJc2",
      "execution_count": 21,
      "outputs": [
        {
          "output_type": "execute_result",
          "data": {
            "text/plain": [
              "          producto     score\n",
              "797    producto_49  0.988636\n",
              "2133   producto_19  0.984600\n",
              "6854   producto_72  0.977788\n",
              "3410   producto_28  0.976641\n",
              "2795    producto_3  0.976467\n",
              "1860   producto_27  0.973619\n",
              "2852  producto_112  0.971812\n",
              "6499   producto_40  0.969623\n",
              "4122  producto_143  0.969623\n",
              "6379  producto_119  0.969088"
            ],
            "text/html": [
              "\n",
              "  <div id=\"df-1409b669-526b-43d8-94dc-080dfe7277ee\" class=\"colab-df-container\">\n",
              "    <div>\n",
              "<style scoped>\n",
              "    .dataframe tbody tr th:only-of-type {\n",
              "        vertical-align: middle;\n",
              "    }\n",
              "\n",
              "    .dataframe tbody tr th {\n",
              "        vertical-align: top;\n",
              "    }\n",
              "\n",
              "    .dataframe thead th {\n",
              "        text-align: right;\n",
              "    }\n",
              "</style>\n",
              "<table border=\"1\" class=\"dataframe\">\n",
              "  <thead>\n",
              "    <tr style=\"text-align: right;\">\n",
              "      <th></th>\n",
              "      <th>producto</th>\n",
              "      <th>score</th>\n",
              "    </tr>\n",
              "  </thead>\n",
              "  <tbody>\n",
              "    <tr>\n",
              "      <th>797</th>\n",
              "      <td>producto_49</td>\n",
              "      <td>0.988636</td>\n",
              "    </tr>\n",
              "    <tr>\n",
              "      <th>2133</th>\n",
              "      <td>producto_19</td>\n",
              "      <td>0.984600</td>\n",
              "    </tr>\n",
              "    <tr>\n",
              "      <th>6854</th>\n",
              "      <td>producto_72</td>\n",
              "      <td>0.977788</td>\n",
              "    </tr>\n",
              "    <tr>\n",
              "      <th>3410</th>\n",
              "      <td>producto_28</td>\n",
              "      <td>0.976641</td>\n",
              "    </tr>\n",
              "    <tr>\n",
              "      <th>2795</th>\n",
              "      <td>producto_3</td>\n",
              "      <td>0.976467</td>\n",
              "    </tr>\n",
              "    <tr>\n",
              "      <th>1860</th>\n",
              "      <td>producto_27</td>\n",
              "      <td>0.973619</td>\n",
              "    </tr>\n",
              "    <tr>\n",
              "      <th>2852</th>\n",
              "      <td>producto_112</td>\n",
              "      <td>0.971812</td>\n",
              "    </tr>\n",
              "    <tr>\n",
              "      <th>6499</th>\n",
              "      <td>producto_40</td>\n",
              "      <td>0.969623</td>\n",
              "    </tr>\n",
              "    <tr>\n",
              "      <th>4122</th>\n",
              "      <td>producto_143</td>\n",
              "      <td>0.969623</td>\n",
              "    </tr>\n",
              "    <tr>\n",
              "      <th>6379</th>\n",
              "      <td>producto_119</td>\n",
              "      <td>0.969088</td>\n",
              "    </tr>\n",
              "  </tbody>\n",
              "</table>\n",
              "</div>\n",
              "    <div class=\"colab-df-buttons\">\n",
              "\n",
              "  <div class=\"colab-df-container\">\n",
              "    <button class=\"colab-df-convert\" onclick=\"convertToInteractive('df-1409b669-526b-43d8-94dc-080dfe7277ee')\"\n",
              "            title=\"Convert this dataframe to an interactive table.\"\n",
              "            style=\"display:none;\">\n",
              "\n",
              "  <svg xmlns=\"http://www.w3.org/2000/svg\" height=\"24px\" viewBox=\"0 -960 960 960\">\n",
              "    <path d=\"M120-120v-720h720v720H120Zm60-500h600v-160H180v160Zm220 220h160v-160H400v160Zm0 220h160v-160H400v160ZM180-400h160v-160H180v160Zm440 0h160v-160H620v160ZM180-180h160v-160H180v160Zm440 0h160v-160H620v160Z\"/>\n",
              "  </svg>\n",
              "    </button>\n",
              "\n",
              "  <style>\n",
              "    .colab-df-container {\n",
              "      display:flex;\n",
              "      gap: 12px;\n",
              "    }\n",
              "\n",
              "    .colab-df-convert {\n",
              "      background-color: #E8F0FE;\n",
              "      border: none;\n",
              "      border-radius: 50%;\n",
              "      cursor: pointer;\n",
              "      display: none;\n",
              "      fill: #1967D2;\n",
              "      height: 32px;\n",
              "      padding: 0 0 0 0;\n",
              "      width: 32px;\n",
              "    }\n",
              "\n",
              "    .colab-df-convert:hover {\n",
              "      background-color: #E2EBFA;\n",
              "      box-shadow: 0px 1px 2px rgba(60, 64, 67, 0.3), 0px 1px 3px 1px rgba(60, 64, 67, 0.15);\n",
              "      fill: #174EA6;\n",
              "    }\n",
              "\n",
              "    .colab-df-buttons div {\n",
              "      margin-bottom: 4px;\n",
              "    }\n",
              "\n",
              "    [theme=dark] .colab-df-convert {\n",
              "      background-color: #3B4455;\n",
              "      fill: #D2E3FC;\n",
              "    }\n",
              "\n",
              "    [theme=dark] .colab-df-convert:hover {\n",
              "      background-color: #434B5C;\n",
              "      box-shadow: 0px 1px 3px 1px rgba(0, 0, 0, 0.15);\n",
              "      filter: drop-shadow(0px 1px 2px rgba(0, 0, 0, 0.3));\n",
              "      fill: #FFFFFF;\n",
              "    }\n",
              "  </style>\n",
              "\n",
              "    <script>\n",
              "      const buttonEl =\n",
              "        document.querySelector('#df-1409b669-526b-43d8-94dc-080dfe7277ee button.colab-df-convert');\n",
              "      buttonEl.style.display =\n",
              "        google.colab.kernel.accessAllowed ? 'block' : 'none';\n",
              "\n",
              "      async function convertToInteractive(key) {\n",
              "        const element = document.querySelector('#df-1409b669-526b-43d8-94dc-080dfe7277ee');\n",
              "        const dataTable =\n",
              "          await google.colab.kernel.invokeFunction('convertToInteractive',\n",
              "                                                    [key], {});\n",
              "        if (!dataTable) return;\n",
              "\n",
              "        const docLinkHtml = 'Like what you see? Visit the ' +\n",
              "          '<a target=\"_blank\" href=https://colab.research.google.com/notebooks/data_table.ipynb>data table notebook</a>'\n",
              "          + ' to learn more about interactive tables.';\n",
              "        element.innerHTML = '';\n",
              "        dataTable['output_type'] = 'display_data';\n",
              "        await google.colab.output.renderOutput(dataTable, element);\n",
              "        const docLink = document.createElement('div');\n",
              "        docLink.innerHTML = docLinkHtml;\n",
              "        element.appendChild(docLink);\n",
              "      }\n",
              "    </script>\n",
              "  </div>\n",
              "\n",
              "\n",
              "    <div id=\"df-b94b6688-82fc-4eee-8464-3eb82f87136c\">\n",
              "      <button class=\"colab-df-quickchart\" onclick=\"quickchart('df-b94b6688-82fc-4eee-8464-3eb82f87136c')\"\n",
              "                title=\"Suggest charts\"\n",
              "                style=\"display:none;\">\n",
              "\n",
              "<svg xmlns=\"http://www.w3.org/2000/svg\" height=\"24px\"viewBox=\"0 0 24 24\"\n",
              "     width=\"24px\">\n",
              "    <g>\n",
              "        <path d=\"M19 3H5c-1.1 0-2 .9-2 2v14c0 1.1.9 2 2 2h14c1.1 0 2-.9 2-2V5c0-1.1-.9-2-2-2zM9 17H7v-7h2v7zm4 0h-2V7h2v10zm4 0h-2v-4h2v4z\"/>\n",
              "    </g>\n",
              "</svg>\n",
              "      </button>\n",
              "\n",
              "<style>\n",
              "  .colab-df-quickchart {\n",
              "      --bg-color: #E8F0FE;\n",
              "      --fill-color: #1967D2;\n",
              "      --hover-bg-color: #E2EBFA;\n",
              "      --hover-fill-color: #174EA6;\n",
              "      --disabled-fill-color: #AAA;\n",
              "      --disabled-bg-color: #DDD;\n",
              "  }\n",
              "\n",
              "  [theme=dark] .colab-df-quickchart {\n",
              "      --bg-color: #3B4455;\n",
              "      --fill-color: #D2E3FC;\n",
              "      --hover-bg-color: #434B5C;\n",
              "      --hover-fill-color: #FFFFFF;\n",
              "      --disabled-bg-color: #3B4455;\n",
              "      --disabled-fill-color: #666;\n",
              "  }\n",
              "\n",
              "  .colab-df-quickchart {\n",
              "    background-color: var(--bg-color);\n",
              "    border: none;\n",
              "    border-radius: 50%;\n",
              "    cursor: pointer;\n",
              "    display: none;\n",
              "    fill: var(--fill-color);\n",
              "    height: 32px;\n",
              "    padding: 0;\n",
              "    width: 32px;\n",
              "  }\n",
              "\n",
              "  .colab-df-quickchart:hover {\n",
              "    background-color: var(--hover-bg-color);\n",
              "    box-shadow: 0 1px 2px rgba(60, 64, 67, 0.3), 0 1px 3px 1px rgba(60, 64, 67, 0.15);\n",
              "    fill: var(--button-hover-fill-color);\n",
              "  }\n",
              "\n",
              "  .colab-df-quickchart-complete:disabled,\n",
              "  .colab-df-quickchart-complete:disabled:hover {\n",
              "    background-color: var(--disabled-bg-color);\n",
              "    fill: var(--disabled-fill-color);\n",
              "    box-shadow: none;\n",
              "  }\n",
              "\n",
              "  .colab-df-spinner {\n",
              "    border: 2px solid var(--fill-color);\n",
              "    border-color: transparent;\n",
              "    border-bottom-color: var(--fill-color);\n",
              "    animation:\n",
              "      spin 1s steps(1) infinite;\n",
              "  }\n",
              "\n",
              "  @keyframes spin {\n",
              "    0% {\n",
              "      border-color: transparent;\n",
              "      border-bottom-color: var(--fill-color);\n",
              "      border-left-color: var(--fill-color);\n",
              "    }\n",
              "    20% {\n",
              "      border-color: transparent;\n",
              "      border-left-color: var(--fill-color);\n",
              "      border-top-color: var(--fill-color);\n",
              "    }\n",
              "    30% {\n",
              "      border-color: transparent;\n",
              "      border-left-color: var(--fill-color);\n",
              "      border-top-color: var(--fill-color);\n",
              "      border-right-color: var(--fill-color);\n",
              "    }\n",
              "    40% {\n",
              "      border-color: transparent;\n",
              "      border-right-color: var(--fill-color);\n",
              "      border-top-color: var(--fill-color);\n",
              "    }\n",
              "    60% {\n",
              "      border-color: transparent;\n",
              "      border-right-color: var(--fill-color);\n",
              "    }\n",
              "    80% {\n",
              "      border-color: transparent;\n",
              "      border-right-color: var(--fill-color);\n",
              "      border-bottom-color: var(--fill-color);\n",
              "    }\n",
              "    90% {\n",
              "      border-color: transparent;\n",
              "      border-bottom-color: var(--fill-color);\n",
              "    }\n",
              "  }\n",
              "</style>\n",
              "\n",
              "      <script>\n",
              "        async function quickchart(key) {\n",
              "          const quickchartButtonEl =\n",
              "            document.querySelector('#' + key + ' button');\n",
              "          quickchartButtonEl.disabled = true;  // To prevent multiple clicks.\n",
              "          quickchartButtonEl.classList.add('colab-df-spinner');\n",
              "          try {\n",
              "            const charts = await google.colab.kernel.invokeFunction(\n",
              "                'suggestCharts', [key], {});\n",
              "          } catch (error) {\n",
              "            console.error('Error during call to suggestCharts:', error);\n",
              "          }\n",
              "          quickchartButtonEl.classList.remove('colab-df-spinner');\n",
              "          quickchartButtonEl.classList.add('colab-df-quickchart-complete');\n",
              "        }\n",
              "        (() => {\n",
              "          let quickchartButtonEl =\n",
              "            document.querySelector('#df-b94b6688-82fc-4eee-8464-3eb82f87136c button');\n",
              "          quickchartButtonEl.style.display =\n",
              "            google.colab.kernel.accessAllowed ? 'block' : 'none';\n",
              "        })();\n",
              "      </script>\n",
              "    </div>\n",
              "\n",
              "    </div>\n",
              "  </div>\n"
            ],
            "application/vnd.google.colaboratory.intrinsic+json": {
              "type": "dataframe",
              "summary": "{\n  \"name\": \"recomendar_con_xgboost(cliente_id=11, top_n=10)\",\n  \"rows\": 10,\n  \"fields\": [\n    {\n      \"column\": \"producto\",\n      \"properties\": {\n        \"dtype\": \"string\",\n        \"num_unique_values\": 10,\n        \"samples\": [\n          \"producto_143\",\n          \"producto_19\",\n          \"producto_27\"\n        ],\n        \"semantic_type\": \"\",\n        \"description\": \"\"\n      }\n    },\n    {\n      \"column\": \"score\",\n      \"properties\": {\n        \"dtype\": \"float32\",\n        \"num_unique_values\": 9,\n        \"samples\": [\n          0.9696226716041565,\n          0.9845995306968689,\n          0.9736194610595703\n        ],\n        \"semantic_type\": \"\",\n        \"description\": \"\"\n      }\n    }\n  ]\n}"
            }
          },
          "metadata": {},
          "execution_count": 21
        }
      ]
    },
    {
      "cell_type": "markdown",
      "id": "07cc7641",
      "metadata": {
        "id": "07cc7641"
      },
      "source": [
        "## Recomendador HIBRIDO"
      ]
    },
    {
      "cell_type": "code",
      "source": [
        "\n",
        "def recomendar_hibrido(cliente_id, top_n=10, alpha=0.5):\n",
        "    # Validar que cliente exista en el mapping de LightFM\n",
        "    if cliente_id not in dataset.mapping()[0]:\n",
        "        return f\"Cliente {cliente_id} no está en el dataset de LightFM.\"\n",
        "\n",
        "    # Productos ya comprados\n",
        "    productos_comprados = set(b2c[b2c['id'] == cliente_id]['producto'].unique())\n",
        "    productos_totales = b2c['producto'].unique()\n",
        "    productos_candidatos = list(set(productos_totales) - productos_comprados)\n",
        "\n",
        "    if not productos_candidatos:\n",
        "        return f\"Cliente {cliente_id} ya ha comprado todos los productos.\"\n",
        "\n",
        "    # --- LightFM: obtener scores ---\n",
        "    usuario_interno = dataset.mapping()[0][cliente_id]\n",
        "    productos_idx = [dataset.mapping()[2][p] for p in productos_candidatos if p in dataset.mapping()[2]]\n",
        "    scores_lfm = model.predict(usuario_interno, productos_idx, user_features=user_features, item_features=item_features)\n",
        "\n",
        "    # Mapear scores a productos\n",
        "    lfm_scores = pd.DataFrame({'producto': [p for p in productos_candidatos if p in dataset.mapping()[2]],\n",
        "                               'score_lfm': scores_lfm})\n",
        "\n",
        "    # --- XGBoost: obtener scores ---\n",
        "    df_pred = pd.DataFrame({'id': cliente_id, 'producto': lfm_scores['producto']})\n",
        "    df_pred = df_pred.merge(features_usuario, on='id', how='left')\n",
        "    df_pred = df_pred.merge(features_producto, on='producto', how='left')\n",
        "    df_pred.fillna(\"desconocido\", inplace=True)\n",
        "\n",
        "    if 'color' in df_pred.columns and df_pred['color'].nunique() > 20:\n",
        "        top_colores = features_producto['color'].value_counts().nlargest(20).index\n",
        "        df_pred['color'] = df_pred['color'].where(df_pred['color'].isin(top_colores), 'otros')\n",
        "\n",
        "    for col in ['cluster', 'categoria_macro', 'subcategoria', 'color']:\n",
        "        if col in df_pred.columns:\n",
        "            df_pred[col] = df_pred[col].astype('category')\n",
        "\n",
        "    X_pred = df_pred.drop(columns=['id', 'producto'])\n",
        "    scores_xgb = modelo_xgb.predict_proba(X_pred)[:, 1]\n",
        "\n",
        "    # Combinar scores\n",
        "    lfm_scores['score_xgb'] = scores_xgb\n",
        "    lfm_scores['score_hibrido'] = alpha * lfm_scores['score_lfm'] + (1 - alpha) * lfm_scores['score_xgb']\n",
        "\n",
        "    # Ordenar y devolver top N\n",
        "    top_recomendaciones = lfm_scores.sort_values('score_hibrido', ascending=False).head(top_n)\n",
        "    return top_recomendaciones[['producto', 'score_lfm', 'score_xgb', 'score_hibrido']]\n"
      ],
      "metadata": {
        "id": "aU-SAGDxEkWV"
      },
      "id": "aU-SAGDxEkWV",
      "execution_count": 22,
      "outputs": []
    },
    {
      "cell_type": "code",
      "source": [
        "recomendar_hibrido(cliente_id=2, top_n=10, alpha=0.6)\n"
      ],
      "metadata": {
        "colab": {
          "base_uri": "https://localhost:8080/",
          "height": 363
        },
        "id": "t1HGqDOkFEiY",
        "outputId": "1600da66-742e-41a0-dd97-eb175e90d440"
      },
      "id": "t1HGqDOkFEiY",
      "execution_count": 23,
      "outputs": [
        {
          "output_type": "execute_result",
          "data": {
            "text/plain": [
              "          producto  score_lfm  score_xgb  score_hibrido\n",
              "495   producto_132 -76.871391   0.913852     -45.757298\n",
              "794    producto_49 -76.971977   0.989324     -45.787460\n",
              "5095   producto_74 -76.972832   0.975372     -45.793552\n",
              "2787    producto_3 -77.094139   0.973797     -45.866966\n",
              "2536   producto_59 -77.114105   0.886910     -45.913700\n",
              "2844  producto_112 -77.171722   0.972307     -45.914112\n",
              "2821   producto_66 -77.171768   0.964738     -45.917168\n",
              "2795  producto_242 -77.172981   0.954529     -45.921978\n",
              "4170  producto_366 -77.172127   0.950576     -45.923046\n",
              "2980  producto_171 -77.114502   0.863316     -45.923378"
            ],
            "text/html": [
              "\n",
              "  <div id=\"df-c26bab28-6050-4302-9e37-749410f0c417\" class=\"colab-df-container\">\n",
              "    <div>\n",
              "<style scoped>\n",
              "    .dataframe tbody tr th:only-of-type {\n",
              "        vertical-align: middle;\n",
              "    }\n",
              "\n",
              "    .dataframe tbody tr th {\n",
              "        vertical-align: top;\n",
              "    }\n",
              "\n",
              "    .dataframe thead th {\n",
              "        text-align: right;\n",
              "    }\n",
              "</style>\n",
              "<table border=\"1\" class=\"dataframe\">\n",
              "  <thead>\n",
              "    <tr style=\"text-align: right;\">\n",
              "      <th></th>\n",
              "      <th>producto</th>\n",
              "      <th>score_lfm</th>\n",
              "      <th>score_xgb</th>\n",
              "      <th>score_hibrido</th>\n",
              "    </tr>\n",
              "  </thead>\n",
              "  <tbody>\n",
              "    <tr>\n",
              "      <th>495</th>\n",
              "      <td>producto_132</td>\n",
              "      <td>-76.871391</td>\n",
              "      <td>0.913852</td>\n",
              "      <td>-45.757298</td>\n",
              "    </tr>\n",
              "    <tr>\n",
              "      <th>794</th>\n",
              "      <td>producto_49</td>\n",
              "      <td>-76.971977</td>\n",
              "      <td>0.989324</td>\n",
              "      <td>-45.787460</td>\n",
              "    </tr>\n",
              "    <tr>\n",
              "      <th>5095</th>\n",
              "      <td>producto_74</td>\n",
              "      <td>-76.972832</td>\n",
              "      <td>0.975372</td>\n",
              "      <td>-45.793552</td>\n",
              "    </tr>\n",
              "    <tr>\n",
              "      <th>2787</th>\n",
              "      <td>producto_3</td>\n",
              "      <td>-77.094139</td>\n",
              "      <td>0.973797</td>\n",
              "      <td>-45.866966</td>\n",
              "    </tr>\n",
              "    <tr>\n",
              "      <th>2536</th>\n",
              "      <td>producto_59</td>\n",
              "      <td>-77.114105</td>\n",
              "      <td>0.886910</td>\n",
              "      <td>-45.913700</td>\n",
              "    </tr>\n",
              "    <tr>\n",
              "      <th>2844</th>\n",
              "      <td>producto_112</td>\n",
              "      <td>-77.171722</td>\n",
              "      <td>0.972307</td>\n",
              "      <td>-45.914112</td>\n",
              "    </tr>\n",
              "    <tr>\n",
              "      <th>2821</th>\n",
              "      <td>producto_66</td>\n",
              "      <td>-77.171768</td>\n",
              "      <td>0.964738</td>\n",
              "      <td>-45.917168</td>\n",
              "    </tr>\n",
              "    <tr>\n",
              "      <th>2795</th>\n",
              "      <td>producto_242</td>\n",
              "      <td>-77.172981</td>\n",
              "      <td>0.954529</td>\n",
              "      <td>-45.921978</td>\n",
              "    </tr>\n",
              "    <tr>\n",
              "      <th>4170</th>\n",
              "      <td>producto_366</td>\n",
              "      <td>-77.172127</td>\n",
              "      <td>0.950576</td>\n",
              "      <td>-45.923046</td>\n",
              "    </tr>\n",
              "    <tr>\n",
              "      <th>2980</th>\n",
              "      <td>producto_171</td>\n",
              "      <td>-77.114502</td>\n",
              "      <td>0.863316</td>\n",
              "      <td>-45.923378</td>\n",
              "    </tr>\n",
              "  </tbody>\n",
              "</table>\n",
              "</div>\n",
              "    <div class=\"colab-df-buttons\">\n",
              "\n",
              "  <div class=\"colab-df-container\">\n",
              "    <button class=\"colab-df-convert\" onclick=\"convertToInteractive('df-c26bab28-6050-4302-9e37-749410f0c417')\"\n",
              "            title=\"Convert this dataframe to an interactive table.\"\n",
              "            style=\"display:none;\">\n",
              "\n",
              "  <svg xmlns=\"http://www.w3.org/2000/svg\" height=\"24px\" viewBox=\"0 -960 960 960\">\n",
              "    <path d=\"M120-120v-720h720v720H120Zm60-500h600v-160H180v160Zm220 220h160v-160H400v160Zm0 220h160v-160H400v160ZM180-400h160v-160H180v160Zm440 0h160v-160H620v160ZM180-180h160v-160H180v160Zm440 0h160v-160H620v160Z\"/>\n",
              "  </svg>\n",
              "    </button>\n",
              "\n",
              "  <style>\n",
              "    .colab-df-container {\n",
              "      display:flex;\n",
              "      gap: 12px;\n",
              "    }\n",
              "\n",
              "    .colab-df-convert {\n",
              "      background-color: #E8F0FE;\n",
              "      border: none;\n",
              "      border-radius: 50%;\n",
              "      cursor: pointer;\n",
              "      display: none;\n",
              "      fill: #1967D2;\n",
              "      height: 32px;\n",
              "      padding: 0 0 0 0;\n",
              "      width: 32px;\n",
              "    }\n",
              "\n",
              "    .colab-df-convert:hover {\n",
              "      background-color: #E2EBFA;\n",
              "      box-shadow: 0px 1px 2px rgba(60, 64, 67, 0.3), 0px 1px 3px 1px rgba(60, 64, 67, 0.15);\n",
              "      fill: #174EA6;\n",
              "    }\n",
              "\n",
              "    .colab-df-buttons div {\n",
              "      margin-bottom: 4px;\n",
              "    }\n",
              "\n",
              "    [theme=dark] .colab-df-convert {\n",
              "      background-color: #3B4455;\n",
              "      fill: #D2E3FC;\n",
              "    }\n",
              "\n",
              "    [theme=dark] .colab-df-convert:hover {\n",
              "      background-color: #434B5C;\n",
              "      box-shadow: 0px 1px 3px 1px rgba(0, 0, 0, 0.15);\n",
              "      filter: drop-shadow(0px 1px 2px rgba(0, 0, 0, 0.3));\n",
              "      fill: #FFFFFF;\n",
              "    }\n",
              "  </style>\n",
              "\n",
              "    <script>\n",
              "      const buttonEl =\n",
              "        document.querySelector('#df-c26bab28-6050-4302-9e37-749410f0c417 button.colab-df-convert');\n",
              "      buttonEl.style.display =\n",
              "        google.colab.kernel.accessAllowed ? 'block' : 'none';\n",
              "\n",
              "      async function convertToInteractive(key) {\n",
              "        const element = document.querySelector('#df-c26bab28-6050-4302-9e37-749410f0c417');\n",
              "        const dataTable =\n",
              "          await google.colab.kernel.invokeFunction('convertToInteractive',\n",
              "                                                    [key], {});\n",
              "        if (!dataTable) return;\n",
              "\n",
              "        const docLinkHtml = 'Like what you see? Visit the ' +\n",
              "          '<a target=\"_blank\" href=https://colab.research.google.com/notebooks/data_table.ipynb>data table notebook</a>'\n",
              "          + ' to learn more about interactive tables.';\n",
              "        element.innerHTML = '';\n",
              "        dataTable['output_type'] = 'display_data';\n",
              "        await google.colab.output.renderOutput(dataTable, element);\n",
              "        const docLink = document.createElement('div');\n",
              "        docLink.innerHTML = docLinkHtml;\n",
              "        element.appendChild(docLink);\n",
              "      }\n",
              "    </script>\n",
              "  </div>\n",
              "\n",
              "\n",
              "    <div id=\"df-5fd43fb1-8e3e-4640-8277-92c995034f26\">\n",
              "      <button class=\"colab-df-quickchart\" onclick=\"quickchart('df-5fd43fb1-8e3e-4640-8277-92c995034f26')\"\n",
              "                title=\"Suggest charts\"\n",
              "                style=\"display:none;\">\n",
              "\n",
              "<svg xmlns=\"http://www.w3.org/2000/svg\" height=\"24px\"viewBox=\"0 0 24 24\"\n",
              "     width=\"24px\">\n",
              "    <g>\n",
              "        <path d=\"M19 3H5c-1.1 0-2 .9-2 2v14c0 1.1.9 2 2 2h14c1.1 0 2-.9 2-2V5c0-1.1-.9-2-2-2zM9 17H7v-7h2v7zm4 0h-2V7h2v10zm4 0h-2v-4h2v4z\"/>\n",
              "    </g>\n",
              "</svg>\n",
              "      </button>\n",
              "\n",
              "<style>\n",
              "  .colab-df-quickchart {\n",
              "      --bg-color: #E8F0FE;\n",
              "      --fill-color: #1967D2;\n",
              "      --hover-bg-color: #E2EBFA;\n",
              "      --hover-fill-color: #174EA6;\n",
              "      --disabled-fill-color: #AAA;\n",
              "      --disabled-bg-color: #DDD;\n",
              "  }\n",
              "\n",
              "  [theme=dark] .colab-df-quickchart {\n",
              "      --bg-color: #3B4455;\n",
              "      --fill-color: #D2E3FC;\n",
              "      --hover-bg-color: #434B5C;\n",
              "      --hover-fill-color: #FFFFFF;\n",
              "      --disabled-bg-color: #3B4455;\n",
              "      --disabled-fill-color: #666;\n",
              "  }\n",
              "\n",
              "  .colab-df-quickchart {\n",
              "    background-color: var(--bg-color);\n",
              "    border: none;\n",
              "    border-radius: 50%;\n",
              "    cursor: pointer;\n",
              "    display: none;\n",
              "    fill: var(--fill-color);\n",
              "    height: 32px;\n",
              "    padding: 0;\n",
              "    width: 32px;\n",
              "  }\n",
              "\n",
              "  .colab-df-quickchart:hover {\n",
              "    background-color: var(--hover-bg-color);\n",
              "    box-shadow: 0 1px 2px rgba(60, 64, 67, 0.3), 0 1px 3px 1px rgba(60, 64, 67, 0.15);\n",
              "    fill: var(--button-hover-fill-color);\n",
              "  }\n",
              "\n",
              "  .colab-df-quickchart-complete:disabled,\n",
              "  .colab-df-quickchart-complete:disabled:hover {\n",
              "    background-color: var(--disabled-bg-color);\n",
              "    fill: var(--disabled-fill-color);\n",
              "    box-shadow: none;\n",
              "  }\n",
              "\n",
              "  .colab-df-spinner {\n",
              "    border: 2px solid var(--fill-color);\n",
              "    border-color: transparent;\n",
              "    border-bottom-color: var(--fill-color);\n",
              "    animation:\n",
              "      spin 1s steps(1) infinite;\n",
              "  }\n",
              "\n",
              "  @keyframes spin {\n",
              "    0% {\n",
              "      border-color: transparent;\n",
              "      border-bottom-color: var(--fill-color);\n",
              "      border-left-color: var(--fill-color);\n",
              "    }\n",
              "    20% {\n",
              "      border-color: transparent;\n",
              "      border-left-color: var(--fill-color);\n",
              "      border-top-color: var(--fill-color);\n",
              "    }\n",
              "    30% {\n",
              "      border-color: transparent;\n",
              "      border-left-color: var(--fill-color);\n",
              "      border-top-color: var(--fill-color);\n",
              "      border-right-color: var(--fill-color);\n",
              "    }\n",
              "    40% {\n",
              "      border-color: transparent;\n",
              "      border-right-color: var(--fill-color);\n",
              "      border-top-color: var(--fill-color);\n",
              "    }\n",
              "    60% {\n",
              "      border-color: transparent;\n",
              "      border-right-color: var(--fill-color);\n",
              "    }\n",
              "    80% {\n",
              "      border-color: transparent;\n",
              "      border-right-color: var(--fill-color);\n",
              "      border-bottom-color: var(--fill-color);\n",
              "    }\n",
              "    90% {\n",
              "      border-color: transparent;\n",
              "      border-bottom-color: var(--fill-color);\n",
              "    }\n",
              "  }\n",
              "</style>\n",
              "\n",
              "      <script>\n",
              "        async function quickchart(key) {\n",
              "          const quickchartButtonEl =\n",
              "            document.querySelector('#' + key + ' button');\n",
              "          quickchartButtonEl.disabled = true;  // To prevent multiple clicks.\n",
              "          quickchartButtonEl.classList.add('colab-df-spinner');\n",
              "          try {\n",
              "            const charts = await google.colab.kernel.invokeFunction(\n",
              "                'suggestCharts', [key], {});\n",
              "          } catch (error) {\n",
              "            console.error('Error during call to suggestCharts:', error);\n",
              "          }\n",
              "          quickchartButtonEl.classList.remove('colab-df-spinner');\n",
              "          quickchartButtonEl.classList.add('colab-df-quickchart-complete');\n",
              "        }\n",
              "        (() => {\n",
              "          let quickchartButtonEl =\n",
              "            document.querySelector('#df-5fd43fb1-8e3e-4640-8277-92c995034f26 button');\n",
              "          quickchartButtonEl.style.display =\n",
              "            google.colab.kernel.accessAllowed ? 'block' : 'none';\n",
              "        })();\n",
              "      </script>\n",
              "    </div>\n",
              "\n",
              "    </div>\n",
              "  </div>\n"
            ],
            "application/vnd.google.colaboratory.intrinsic+json": {
              "type": "dataframe",
              "summary": "{\n  \"name\": \"recomendar_hibrido(cliente_id=2, top_n=10, alpha=0\",\n  \"rows\": 10,\n  \"fields\": [\n    {\n      \"column\": \"producto\",\n      \"properties\": {\n        \"dtype\": \"string\",\n        \"num_unique_values\": 10,\n        \"samples\": [\n          \"producto_366\",\n          \"producto_49\",\n          \"producto_112\"\n        ],\n        \"semantic_type\": \"\",\n        \"description\": \"\"\n      }\n    },\n    {\n      \"column\": \"score_lfm\",\n      \"properties\": {\n        \"dtype\": \"float32\",\n        \"num_unique_values\": 10,\n        \"samples\": [\n          -77.17212677001953,\n          -76.97197723388672,\n          -77.17172241210938\n        ],\n        \"semantic_type\": \"\",\n        \"description\": \"\"\n      }\n    },\n    {\n      \"column\": \"score_xgb\",\n      \"properties\": {\n        \"dtype\": \"float32\",\n        \"num_unique_values\": 10,\n        \"samples\": [\n          0.9505762457847595,\n          0.9893242716789246,\n          0.9723074436187744\n        ],\n        \"semantic_type\": \"\",\n        \"description\": \"\"\n      }\n    },\n    {\n      \"column\": \"score_hibrido\",\n      \"properties\": {\n        \"dtype\": \"float32\",\n        \"num_unique_values\": 10,\n        \"samples\": [\n          -45.92304611206055,\n          -45.78746032714844,\n          -45.91411209106445\n        ],\n        \"semantic_type\": \"\",\n        \"description\": \"\"\n      }\n    }\n  ]\n}"
            }
          },
          "metadata": {},
          "execution_count": 23
        }
      ]
    },
    {
      "cell_type": "markdown",
      "source": [
        "## Comparación de Modelos"
      ],
      "metadata": {
        "id": "Z5SgcSVjGAbQ"
      },
      "id": "Z5SgcSVjGAbQ"
    },
    {
      "cell_type": "code",
      "source": [
        "def comparar_modelos(cliente_id, top_n=30, alpha=0.5, normalizar_lfm=True):\n",
        "    df_scores = recomendar_hibrido(cliente_id=cliente_id, top_n=top_n, alpha=alpha)\n",
        "\n",
        "    if isinstance(df_scores, str):\n",
        "        print(df_scores)\n",
        "        return\n",
        "\n",
        "    # --- Escalar LightFM si se requiere ---\n",
        "    if normalizar_lfm:\n",
        "        min_lfm, max_lfm = df_scores['score_lfm'].min(), df_scores['score_lfm'].max()\n",
        "        df_scores['score_lfm_norm'] = (df_scores['score_lfm'] - min_lfm) / (max_lfm - min_lfm)\n",
        "        df_scores['score_hibrido_norm'] = alpha * df_scores['score_lfm_norm'] + (1 - alpha) * df_scores['score_xgb']\n",
        "        cols_plot = ['score_lfm_norm', 'score_xgb', 'score_hibrido_norm']\n",
        "    else:\n",
        "        cols_plot = ['score_lfm', 'score_xgb', 'score_hibrido']\n",
        "\n",
        "    # --- Estadísticas ---\n",
        "    print(\"Estadísticas de scores:\")\n",
        "    for col in cols_plot:\n",
        "        print(f\"\\n{col}:\")\n",
        "        print(df_scores[col].describe())\n",
        "\n",
        "    # --- Gráfica mejorada ---\n",
        "    df_plot = df_scores.melt(id_vars='producto', value_vars=cols_plot,\n",
        "                             var_name='modelo', value_name='score')\n",
        "\n",
        "    plt.figure(figsize=(14, 6))\n",
        "    sns.barplot(data=df_plot, x='producto', y='score', hue='modelo', palette='Set2')\n",
        "    plt.xticks(rotation=45, ha='right')\n",
        "    plt.title(f\"Comparación de scores normalizados para Cliente {cliente_id}\" if normalizar_lfm else f\"Comparación de scores para Cliente {cliente_id}\")\n",
        "    plt.ylabel(\"Score\")\n",
        "    plt.xlabel(\"Producto\")\n",
        "    plt.legend(title='Modelo')\n",
        "    plt.tight_layout()\n",
        "    plt.show()\n",
        "\n",
        "    # --- Ranking comparado ---\n",
        "    df_scores['rank_lfm'] = df_scores['score_lfm'].rank(ascending=False)\n",
        "    df_scores['rank_xgb'] = df_scores['score_xgb'].rank(ascending=False)\n",
        "    df_scores['rank_diff'] = df_scores['rank_xgb'] - df_scores['rank_lfm']\n",
        "    print(\"\\nTop 5 mayores diferencias de ranking (XGBoost vs LightFM):\")\n",
        "    print(df_scores[['producto', 'rank_lfm', 'rank_xgb', 'rank_diff']].sort_values('rank_diff', key=abs, ascending=False).head())\n"
      ],
      "metadata": {
        "id": "uWobzmR6F9n0"
      },
      "id": "uWobzmR6F9n0",
      "execution_count": 24,
      "outputs": []
    },
    {
      "cell_type": "code",
      "source": [
        "comparar_modelos(cliente_id=2, top_n=15, alpha=0.6)\n"
      ],
      "metadata": {
        "colab": {
          "base_uri": "https://localhost:8080/",
          "height": 1000
        },
        "id": "CU5FleHwGEeg",
        "outputId": "013419b9-e730-4d1b-f777-01011d237412"
      },
      "id": "CU5FleHwGEeg",
      "execution_count": 25,
      "outputs": [
        {
          "output_type": "stream",
          "name": "stdout",
          "text": [
            "Estadísticas de scores:\n",
            "\n",
            "score_lfm_norm:\n",
            "count    15.000000\n",
            "mean      0.287155\n",
            "std       0.297615\n",
            "min       0.000000\n",
            "25%       0.124835\n",
            "50%       0.131705\n",
            "75%       0.327146\n",
            "max       1.000000\n",
            "Name: score_lfm_norm, dtype: float64\n",
            "\n",
            "score_xgb:\n",
            "count    15.000000\n",
            "mean      0.943668\n",
            "std       0.042443\n",
            "min       0.859942\n",
            "25%       0.930494\n",
            "50%       0.954529\n",
            "75%       0.973360\n",
            "max       0.989324\n",
            "Name: score_xgb, dtype: float64\n",
            "\n",
            "score_hibrido_norm:\n",
            "count    15.000000\n",
            "mean      0.549760\n",
            "std       0.177433\n",
            "min       0.378907\n",
            "25%       0.455872\n",
            "50%       0.467946\n",
            "75%       0.568429\n",
            "max       0.965541\n",
            "Name: score_hibrido_norm, dtype: float64\n"
          ]
        },
        {
          "output_type": "display_data",
          "data": {
            "text/plain": [
              "<Figure size 1400x600 with 1 Axes>"
            ],
            "image/png": "[encoded data removed]"
          },
          "metadata": {}
        },
        {
          "output_type": "stream",
          "name": "stdout",
          "text": [
            "\n",
            "Top 5 mayores diferencias de ranking (XGBoost vs LightFM):\n",
            "          producto  rank_lfm  rank_xgb  rank_diff\n",
            "495   producto_132       1.0      12.0       11.0\n",
            "2128   producto_19      13.0       2.0      -11.0\n",
            "6842   producto_72      15.0       5.0      -10.0\n",
            "6146  producto_130       7.0      15.0        8.0\n",
            "2980  producto_171       6.0      14.0        8.0\n"
          ]
        }
      ]
    },
    {
      "cell_type": "code",
      "source": [
        "import joblib\n",
        "import os\n",
        "\n",
        "# Crear carpeta si no existe\n",
        "os.makedirs(\"modelos\", exist_ok=True)\n",
        "\n",
        "# Guardar modelos B2C\n",
        "joblib.dump(modelo_xgb, 'modelos/b2c_model_xgb.pkl')\n",
        "joblib.dump(model, 'modelos/b2c_model_lfm.pkl')\n",
        "joblib.dump(dataset, 'modelos/b2c_dataset.pkl')\n",
        "joblib.dump(user_features, 'modelos/b2c_user_features.pkl')\n",
        "joblib.dump(item_features, 'modelos/b2c_item_features.pkl')\n",
        "\n",
        "\n",
        "print(\"Modelos y objetos B2C guardados correctamente.\")"
      ],
      "metadata": {
        "colab": {
          "base_uri": "https://localhost:8080/"
        },
        "id": "zUsCknyJ70Kt",
        "outputId": "d7378d22-7e0b-4dda-9fc1-838ca45e9076"
      },
      "id": "zUsCknyJ70Kt",
      "execution_count": 27,
      "outputs": [
        {
          "output_type": "stream",
          "name": "stdout",
          "text": [
            "Modelos y objetos B2C guardados correctamente.\n"
          ]
        }
      ]
    },
    {
      "cell_type": "code",
      "source": [
        "from google.colab import files\n",
        "files.download('modelos/b2c_model_xgb.pkl')\n",
        "files.download('modelos/b2c_model_lfm.pkl')\n",
        "files.download('modelos/b2c_dataset.pkl')\n",
        "files.download('modelos/b2c_user_features.pkl')\n",
        "files.download('modelos/b2c_item_features.pkl')"
      ],
      "metadata": {
        "colab": {
          "base_uri": "https://localhost:8080/",
          "height": 17
        },
        "id": "hKePz4iUGW49",
        "outputId": "957036b8-3775-4696-dee2-132c1c4a051c"
      },
      "id": "hKePz4iUGW49",
      "execution_count": 28,
      "outputs": [
        {
          "output_type": "display_data",
          "data": {
            "text/plain": [
              "<IPython.core.display.Javascript object>"
            ],
            "application/javascript": [
              "\n",
              "    async function download(id, filename, size) {\n",
              "      if (!google.colab.kernel.accessAllowed) {\n",
              "        return;\n",
              "      }\n",
              "      const div = document.createElement('div');\n",
              "      const label = document.createElement('label');\n",
              "      label.textContent = `Downloading \"${filename}\": `;\n",
              "      div.appendChild(label);\n",
              "      const progress = document.createElement('progress');\n",
              "      progress.max = size;\n",
              "      div.appendChild(progress);\n",
              "      document.body.appendChild(div);\n",
              "\n",
              "      const buffers = [];\n",
              "      let downloaded = 0;\n",
              "\n",
              "      const channel = await google.colab.kernel.comms.open(id);\n",
              "      // Send a message to notify the kernel that we're ready.\n",
              "      channel.send({})\n",
              "\n",
              "      for await (const message of channel.messages) {\n",
              "        // Send a message to notify the kernel that we're ready.\n",
              "        channel.send({})\n",
              "        if (message.buffers) {\n",
              "          for (const buffer of message.buffers) {\n",
              "            buffers.push(buffer);\n",
              "            downloaded += buffer.byteLength;\n",
              "            progress.value = downloaded;\n",
              "          }\n",
              "        }\n",
              "      }\n",
              "      const blob = new Blob(buffers, {type: 'application/binary'});\n",
              "      const a = document.createElement('a');\n",
              "      a.href = window.URL.createObjectURL(blob);\n",
              "      a.download = filename;\n",
              "      div.appendChild(a);\n",
              "      a.click();\n",
              "      div.remove();\n",
              "    }\n",
              "  "
            ]
          },
          "metadata": {}
        },
        {
          "output_type": "display_data",
          "data": {
            "text/plain": [
              "<IPython.core.display.Javascript object>"
            ],
            "application/javascript": [
              "download(\"download_1c220035-f36f-4a9b-b1ed-80bace34224c\", \"b2c_model_xgb.pkl\", 843042)"
            ]
          },
          "metadata": {}
        },
        {
          "output_type": "display_data",
          "data": {
            "text/plain": [
              "<IPython.core.display.Javascript object>"
            ],
            "application/javascript": [
              "\n",
              "    async function download(id, filename, size) {\n",
              "      if (!google.colab.kernel.accessAllowed) {\n",
              "        return;\n",
              "      }\n",
              "      const div = document.createElement('div');\n",
              "      const label = document.createElement('label');\n",
              "      label.textContent = `Downloading \"${filename}\": `;\n",
              "      div.appendChild(label);\n",
              "      const progress = document.createElement('progress');\n",
              "      progress.max = size;\n",
              "      div.appendChild(progress);\n",
              "      document.body.appendChild(div);\n",
              "\n",
              "      const buffers = [];\n",
              "      let downloaded = 0;\n",
              "\n",
              "      const channel = await google.colab.kernel.comms.open(id);\n",
              "      // Send a message to notify the kernel that we're ready.\n",
              "      channel.send({})\n",
              "\n",
              "      for await (const message of channel.messages) {\n",
              "        // Send a message to notify the kernel that we're ready.\n",
              "        channel.send({})\n",
              "        if (message.buffers) {\n",
              "          for (const buffer of message.buffers) {\n",
              "            buffers.push(buffer);\n",
              "            downloaded += buffer.byteLength;\n",
              "            progress.value = downloaded;\n",
              "          }\n",
              "        }\n",
              "      }\n",
              "      const blob = new Blob(buffers, {type: 'application/binary'});\n",
              "      const a = document.createElement('a');\n",
              "      a.href = window.URL.createObjectURL(blob);\n",
              "      a.download = filename;\n",
              "      div.appendChild(a);\n",
              "      a.click();\n",
              "      div.remove();\n",
              "    }\n",
              "  "
            ]
          },
          "metadata": {}
        },
        {
          "output_type": "display_data",
          "data": {
            "text/plain": [
              "<IPython.core.display.Javascript object>"
            ],
            "application/javascript": [
              "download(\"download_7caa4f4f-9b15-43cc-9011-cff717bcdaad\", \"b2c_model_lfm.pkl\", 87355823)"
            ]
          },
          "metadata": {}
        },
        {
          "output_type": "display_data",
          "data": {
            "text/plain": [
              "<IPython.core.display.Javascript object>"
            ],
            "application/javascript": [
              "\n",
              "    async function download(id, filename, size) {\n",
              "      if (!google.colab.kernel.accessAllowed) {\n",
              "        return;\n",
              "      }\n",
              "      const div = document.createElement('div');\n",
              "      const label = document.createElement('label');\n",
              "      label.textContent = `Downloading \"${filename}\": `;\n",
              "      div.appendChild(label);\n",
              "      const progress = document.createElement('progress');\n",
              "      progress.max = size;\n",
              "      div.appendChild(progress);\n",
              "      document.body.appendChild(div);\n",
              "\n",
              "      const buffers = [];\n",
              "      let downloaded = 0;\n",
              "\n",
              "      const channel = await google.colab.kernel.comms.open(id);\n",
              "      // Send a message to notify the kernel that we're ready.\n",
              "      channel.send({})\n",
              "\n",
              "      for await (const message of channel.messages) {\n",
              "        // Send a message to notify the kernel that we're ready.\n",
              "        channel.send({})\n",
              "        if (message.buffers) {\n",
              "          for (const buffer of message.buffers) {\n",
              "            buffers.push(buffer);\n",
              "            downloaded += buffer.byteLength;\n",
              "            progress.value = downloaded;\n",
              "          }\n",
              "        }\n",
              "      }\n",
              "      const blob = new Blob(buffers, {type: 'application/binary'});\n",
              "      const a = document.createElement('a');\n",
              "      a.href = window.URL.createObjectURL(blob);\n",
              "      a.download = filename;\n",
              "      div.appendChild(a);\n",
              "      a.click();\n",
              "      div.remove();\n",
              "    }\n",
              "  "
            ]
          },
          "metadata": {}
        },
        {
          "output_type": "display_data",
          "data": {
            "text/plain": [
              "<IPython.core.display.Javascript object>"
            ],
            "application/javascript": [
              "download(\"download_9498d7e6-f1e9-4212-b10d-c7529a945b12\", \"b2c_dataset.pkl\", 14233321)"
            ]
          },
          "metadata": {}
        },
        {
          "output_type": "display_data",
          "data": {
            "text/plain": [
              "<IPython.core.display.Javascript object>"
            ],
            "application/javascript": [
              "\n",
              "    async function download(id, filename, size) {\n",
              "      if (!google.colab.kernel.accessAllowed) {\n",
              "        return;\n",
              "      }\n",
              "      const div = document.createElement('div');\n",
              "      const label = document.createElement('label');\n",
              "      label.textContent = `Downloading \"${filename}\": `;\n",
              "      div.appendChild(label);\n",
              "      const progress = document.createElement('progress');\n",
              "      progress.max = size;\n",
              "      div.appendChild(progress);\n",
              "      document.body.appendChild(div);\n",
              "\n",
              "      const buffers = [];\n",
              "      let downloaded = 0;\n",
              "\n",
              "      const channel = await google.colab.kernel.comms.open(id);\n",
              "      // Send a message to notify the kernel that we're ready.\n",
              "      channel.send({})\n",
              "\n",
              "      for await (const message of channel.messages) {\n",
              "        // Send a message to notify the kernel that we're ready.\n",
              "        channel.send({})\n",
              "        if (message.buffers) {\n",
              "          for (const buffer of message.buffers) {\n",
              "            buffers.push(buffer);\n",
              "            downloaded += buffer.byteLength;\n",
              "            progress.value = downloaded;\n",
              "          }\n",
              "        }\n",
              "      }\n",
              "      const blob = new Blob(buffers, {type: 'application/binary'});\n",
              "      const a = document.createElement('a');\n",
              "      a.href = window.URL.createObjectURL(blob);\n",
              "      a.download = filename;\n",
              "      div.appendChild(a);\n",
              "      a.click();\n",
              "      div.remove();\n",
              "    }\n",
              "  "
            ]
          },
          "metadata": {}
        },
        {
          "output_type": "display_data",
          "data": {
            "text/plain": [
              "<IPython.core.display.Javascript object>"
            ],
            "application/javascript": [
              "download(\"download_fc3bdcb8-19d8-4200-9977-9bd900d480f3\", \"b2c_user_features.pkl\", 24382616)"
            ]
          },
          "metadata": {}
        },
        {
          "output_type": "display_data",
          "data": {
            "text/plain": [
              "<IPython.core.display.Javascript object>"
            ],
            "application/javascript": [
              "\n",
              "    async function download(id, filename, size) {\n",
              "      if (!google.colab.kernel.accessAllowed) {\n",
              "        return;\n",
              "      }\n",
              "      const div = document.createElement('div');\n",
              "      const label = document.createElement('label');\n",
              "      label.textContent = `Downloading \"${filename}\": `;\n",
              "      div.appendChild(label);\n",
              "      const progress = document.createElement('progress');\n",
              "      progress.max = size;\n",
              "      div.appendChild(progress);\n",
              "      document.body.appendChild(div);\n",
              "\n",
              "      const buffers = [];\n",
              "      let downloaded = 0;\n",
              "\n",
              "      const channel = await google.colab.kernel.comms.open(id);\n",
              "      // Send a message to notify the kernel that we're ready.\n",
              "      channel.send({})\n",
              "\n",
              "      for await (const message of channel.messages) {\n",
              "        // Send a message to notify the kernel that we're ready.\n",
              "        channel.send({})\n",
              "        if (message.buffers) {\n",
              "          for (const buffer of message.buffers) {\n",
              "            buffers.push(buffer);\n",
              "            downloaded += buffer.byteLength;\n",
              "            progress.value = downloaded;\n",
              "          }\n",
              "        }\n",
              "      }\n",
              "      const blob = new Blob(buffers, {type: 'application/binary'});\n",
              "      const a = document.createElement('a');\n",
              "      a.href = window.URL.createObjectURL(blob);\n",
              "      a.download = filename;\n",
              "      div.appendChild(a);\n",
              "      a.click();\n",
              "      div.remove();\n",
              "    }\n",
              "  "
            ]
          },
          "metadata": {}
        },
        {
          "output_type": "display_data",
          "data": {
            "text/plain": [
              "<IPython.core.display.Javascript object>"
            ],
            "application/javascript": [
              "download(\"download_8ccf9697-e8ab-4a11-8bd2-7b6c82bcd4ab\", \"b2c_item_features.pkl\", 262068)"
            ]
          },
          "metadata": {}
        }
      ]
    }
  ],
  "metadata": {
    "kernelspec": {
      "display_name": "Python 3",
      "language": "python",
      "name": "python3"
    },
    "language_info": {
      "codemirror_mode": {
        "name": "ipython",
        "version": 3
      },
      "file_extension": ".py",
      "mimetype": "text/x-python",
      "name": "python",
      "nbconvert_exporter": "python",
      "pygments_lexer": "ipython3",
      "version": "3.11.9"
    },
    "colab": {
      "provenance": [],
      "collapsed_sections": [
        "daad5505"
      ]
    }
  },
  "nbformat": 4,
  "nbformat_minor": 5
}