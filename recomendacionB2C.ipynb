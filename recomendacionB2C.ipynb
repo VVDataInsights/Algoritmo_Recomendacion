{
  "cells": [
    {
      "cell_type": "code",
      "execution_count": 1,
      "id": "046180c9",
      "metadata": {
        "colab": {
          "base_uri": "https://localhost:8080/"
        },
        "id": "046180c9",
        "outputId": "61910b93-19dc-4aa9-d743-16a98ce738d0"
      },
      "outputs": [
        {
          "name": "stdout",
          "output_type": "stream",
          "text": [
            "Requirement already satisfied: pandas in /Library/Frameworks/Python.framework/Versions/3.11/lib/python3.11/site-packages (2.2.2)\n",
            "Requirement already satisfied: numpy>=1.23.2 in /Library/Frameworks/Python.framework/Versions/3.11/lib/python3.11/site-packages (from pandas) (1.26.4)\n",
            "Requirement already satisfied: python-dateutil>=2.8.2 in /Library/Frameworks/Python.framework/Versions/3.11/lib/python3.11/site-packages (from pandas) (2.9.0.post0)\n",
            "Requirement already satisfied: pytz>=2020.1 in /Library/Frameworks/Python.framework/Versions/3.11/lib/python3.11/site-packages (from pandas) (2024.1)\n",
            "Requirement already satisfied: tzdata>=2022.7 in /Library/Frameworks/Python.framework/Versions/3.11/lib/python3.11/site-packages (from pandas) (2024.1)\n",
            "Requirement already satisfied: six>=1.5 in /Library/Frameworks/Python.framework/Versions/3.11/lib/python3.11/site-packages (from python-dateutil>=2.8.2->pandas) (1.16.0)\n",
            "\n",
            "\u001b[1m[\u001b[0m\u001b[34;49mnotice\u001b[0m\u001b[1;39;49m]\u001b[0m\u001b[39;49m A new release of pip is available: \u001b[0m\u001b[31;49m24.2\u001b[0m\u001b[39;49m -> \u001b[0m\u001b[32;49m25.1.1\u001b[0m\n",
            "\u001b[1m[\u001b[0m\u001b[34;49mnotice\u001b[0m\u001b[1;39;49m]\u001b[0m\u001b[39;49m To update, run: \u001b[0m\u001b[32;49mpip install --upgrade pip\u001b[0m\n"
          ]
        }
      ],
      "source": [
        "import sys\n",
        "!pip install pandas\n",
        "import pandas as pd\n",
        "import numpy as np\n",
        "import nltk\n",
        "\n",
        "\n",
        "import re\n",
        "import nltk\n",
        "from joblib import dump, load\n",
        "import matplotlib.pyplot as plt\n",
        "pd.options.display.max_colwidth=200\n",
        "%matplotlib inline\n",
        "from sklearn.model_selection import train_test_split\n",
        "from sklearn.linear_model import LinearRegression\n",
        "from sklearn.pipeline import Pipeline\n",
        "from sklearn.compose import ColumnTransformer\n",
        "from sklearn.preprocessing import StandardScaler\n",
        "from sklearn.preprocessing import PolynomialFeatures\n",
        "from sklearn.metrics import mean_absolute_error, mean_squared_error, r2_score\n",
        "from sklearn.model_selection import train_test_split\n",
        "from sklearn.linear_model import LinearRegression\n",
        "from sklearn.pipeline import Pipeline\n",
        "from sklearn.compose import ColumnTransformer\n",
        "from sklearn.preprocessing import StandardScaler\n",
        "from sklearn.preprocessing import PolynomialFeatures\n",
        "from sklearn.metrics import mean_absolute_error, mean_squared_error, r2_score\n",
        "from sklearn.preprocessing import StandardScaler  # Asegúrate de importar StandardScaler\n",
        "from sklearn.cluster import KMeans\n",
        "from sklearn.metrics import silhouette_samples, silhouette_score\n",
        "\n",
        "\n",
        "\n",
        "\n",
        "import scipy.stats as stats\n",
        "import seaborn as sns; sns.set()  # for plot styling\n",
        "\n",
        "from sklearn.preprocessing import StandardScaler\n",
        "from sklearn.cluster import KMeans\n",
        "from sklearn.metrics import silhouette_samples, silhouette_score\n",
        "from sklearn.preprocessing import MinMaxScaler\n",
        "\n",
        "from matplotlib import cm\n",
        "from mpl_toolkits.mplot3d import Axes3D # for 3D plots\n",
        "import matplotlib.pyplot as plt\n",
        "\n",
        "import numpy as np\n",
        "import pandas as pd\n",
        "from sklearn.model_selection import KFold, GridSearchCV, train_test_split\n",
        "from sklearn.preprocessing import OneHotEncoder, MinMaxScaler\n",
        "import matplotlib.pyplot as plt\n",
        "from sklearn.linear_model import LinearRegression\n",
        "import seaborn as sns\n",
        "from sklearn.metrics import mean_squared_error as mse, r2_score, mean_absolute_error as mae\n",
        "\n",
        "\n",
        "import pandas as pd\n",
        "import numpy as np\n",
        "import matplotlib.pyplot as plt\n",
        "import seaborn as sns\n",
        "\n",
        "from sklearn import tree\n",
        "\n",
        "\n",
        "from sklearn.tree import DecisionTreeClassifier\n",
        "from sklearn.preprocessing import LabelEncoder\n",
        "\n",
        "# Para búsqueda de hiperparámetros\n",
        "from sklearn.model_selection import GridSearchCV\n",
        "# Para la validación cruzada\n",
        "from sklearn.model_selection import KFold\n",
        "\n",
        "# Metricas\n",
        "from sklearn.metrics import confusion_matrix, classification_report, precision_score, recall_score, f1_score, accuracy_score\n",
        "from sklearn.metrics import ConfusionMatrixDisplay\n",
        "\n",
        "from sklearn.model_selection import GridSearchCV\n",
        "from sklearn.neighbors import KNeighborsClassifier\n",
        "\n",
        "# q-q plots\n",
        "import scipy.stats as stats"
      ]
    },
    {
      "cell_type": "code",
      "execution_count": 2,
      "id": "f4b385fe",
      "metadata": {
        "colab": {
          "base_uri": "https://localhost:8080/"
        },
        "id": "f4b385fe",
        "outputId": "bf69ee4e-b20f-4fbc-e8dc-e393da9cee05"
      },
      "outputs": [
        {
          "name": "stdout",
          "output_type": "stream",
          "text": [
            "Requirement already satisfied: LightFM in /Library/Frameworks/Python.framework/Versions/3.11/lib/python3.11/site-packages (1.17)\n",
            "Requirement already satisfied: numpy in /Library/Frameworks/Python.framework/Versions/3.11/lib/python3.11/site-packages (from LightFM) (1.26.4)\n",
            "Requirement already satisfied: scipy>=0.17.0 in /Library/Frameworks/Python.framework/Versions/3.11/lib/python3.11/site-packages (from LightFM) (1.14.0)\n",
            "Requirement already satisfied: requests in /Library/Frameworks/Python.framework/Versions/3.11/lib/python3.11/site-packages (from LightFM) (2.32.3)\n",
            "Requirement already satisfied: scikit-learn in /Library/Frameworks/Python.framework/Versions/3.11/lib/python3.11/site-packages (from LightFM) (1.5.1)\n",
            "Requirement already satisfied: charset-normalizer<4,>=2 in /Library/Frameworks/Python.framework/Versions/3.11/lib/python3.11/site-packages (from requests->LightFM) (3.3.2)\n",
            "Requirement already satisfied: idna<4,>=2.5 in /Library/Frameworks/Python.framework/Versions/3.11/lib/python3.11/site-packages (from requests->LightFM) (3.8)\n",
            "Requirement already satisfied: urllib3<3,>=1.21.1 in /Library/Frameworks/Python.framework/Versions/3.11/lib/python3.11/site-packages (from requests->LightFM) (2.2.2)\n",
            "Requirement already satisfied: certifi>=2017.4.17 in /Library/Frameworks/Python.framework/Versions/3.11/lib/python3.11/site-packages (from requests->LightFM) (2024.8.30)\n",
            "Requirement already satisfied: joblib>=1.2.0 in /Library/Frameworks/Python.framework/Versions/3.11/lib/python3.11/site-packages (from scikit-learn->LightFM) (1.4.2)\n",
            "Requirement already satisfied: threadpoolctl>=3.1.0 in /Library/Frameworks/Python.framework/Versions/3.11/lib/python3.11/site-packages (from scikit-learn->LightFM) (3.5.0)\n",
            "\n",
            "\u001b[1m[\u001b[0m\u001b[34;49mnotice\u001b[0m\u001b[1;39;49m]\u001b[0m\u001b[39;49m A new release of pip is available: \u001b[0m\u001b[31;49m24.2\u001b[0m\u001b[39;49m -> \u001b[0m\u001b[32;49m25.1.1\u001b[0m\n",
            "\u001b[1m[\u001b[0m\u001b[34;49mnotice\u001b[0m\u001b[1;39;49m]\u001b[0m\u001b[39;49m To update, run: \u001b[0m\u001b[32;49mpip install --upgrade pip\u001b[0m\n"
          ]
        },
        {
          "name": "stderr",
          "output_type": "stream",
          "text": [
            "/Library/Frameworks/Python.framework/Versions/3.11/lib/python3.11/site-packages/lightfm/_lightfm_fast.py:9: UserWarning: LightFM was compiled without OpenMP support. Only a single thread will be used.\n",
            "  warnings.warn(\n"
          ]
        }
      ],
      "source": [
        "!pip install LightFM\n",
        "from lightfm import LightFM\n",
        "from lightfm.data import Dataset"
      ]
    },
    {
      "cell_type": "markdown",
      "id": "9aca4f8c",
      "metadata": {
        "id": "9aca4f8c"
      },
      "source": [
        "## Carga de datos"
      ]
    },
    {
      "cell_type": "code",
      "execution_count": 3,
      "id": "qRm178zm6nKj",
      "metadata": {
        "colab": {
          "base_uri": "https://localhost:8080/"
        },
        "id": "qRm178zm6nKj",
        "outputId": "03b2b2be-59a0-4362-b47d-a4314c0d434a"
      },
      "outputs": [],
      "source": [
        "#from google.colab import drive\n",
        "#drive.mount('/content/drive')"
      ]
    },
    {
      "cell_type": "code",
      "execution_count": 4,
      "id": "61b4679f",
      "metadata": {
        "id": "61b4679f"
      },
      "outputs": [],
      "source": [
        "#pd2 = pd.read_csv('/content/drive/MyDrive/Corona/b2c_nuevo.csv' , sep=\",\", encoding=\"utf-8\")\n",
        "pd2 = pd.read_csv('./b2c_nuevo.csv' , sep=\",\", encoding=\"utf-8\")"
      ]
    },
    {
      "cell_type": "code",
      "execution_count": 5,
      "id": "09f3b486",
      "metadata": {
        "id": "09f3b486"
      },
      "outputs": [],
      "source": [
        "\n",
        "b2c = pd2.copy()"
      ]
    },
    {
      "cell_type": "markdown",
      "id": "a6328d14",
      "metadata": {
        "id": "a6328d14"
      },
      "source": [
        "## Implementación B2C"
      ]
    },
    {
      "cell_type": "code",
      "execution_count": 6,
      "id": "a42a8d45",
      "metadata": {
        "colab": {
          "base_uri": "https://localhost:8080/"
        },
        "id": "a42a8d45",
        "outputId": "238a6f24-d4f7-4156-af3f-a25bc8fbcc02"
      },
      "outputs": [
        {
          "data": {
            "text/plain": [
              "Index(['edad_promedio', 'ingreso_laboral_promedio', 'porcentaje_urbano',\n",
              "       'IPUG', 'GINI', 'num_pedidos', 'categorias_diferentes',\n",
              "       'Total de edificaciones en obra', 'pedido', 'id', 'edad', 'municipio',\n",
              "       'asesor', 'punto de venta', 'cluster', 'categoria_macro', 'categoria',\n",
              "       'subcategoria', 'producto', 'color', 'cantidad', 'precio', 'valor',\n",
              "       'alineación con portafolio estratégico', 'log_cantidad', 'log_precio',\n",
              "       'log_valor', 'ajustada_alineacion', 'total_productos', 'total_gasto',\n",
              "       'precio_promedio', 'ticket_promedio', 'cantidad_promedio',\n",
              "       'zona_AMAZONAS', 'zona_ANTIOQUIA', 'zona_ARAUCA', 'zona_ATLÁNTICO',\n",
              "       'zona_BOGOTÁ', 'zona_BOLÍVAR', 'zona_BOYACA', 'zona_CALDAS',\n",
              "       'zona_CAQUETA', 'zona_CASANARE', 'zona_CAUCA', 'zona_CESAR',\n",
              "       'zona_CHOCO', 'zona_CUNDINAMARCA', 'zona_CÓRDOBA', 'zona_GUAINIA',\n",
              "       'zona_GUAVIARE', 'zona_HUILA', 'zona_LA GUAJIRA', 'zona_MAGDALENA',\n",
              "       'zona_META', 'zona_NARIÑO', 'zona_NORTE SANTANDER', 'zona_PUTUMAYO',\n",
              "       'zona_QUINDIO', 'zona_RISARALDA', 'zona_SAN ANDRÉS', 'zona_SANTANDER',\n",
              "       'zona_SUCRE', 'zona_TOLIMA', 'zona_VALLE', 'zona_VAUPES',\n",
              "       'zona_VICHADA', 'año', 'mes', 'día', 'trimestre'],\n",
              "      dtype='object')"
            ]
          },
          "execution_count": 6,
          "metadata": {},
          "output_type": "execute_result"
        }
      ],
      "source": [
        "b2c.columns"
      ]
    },
    {
      "cell_type": "code",
      "execution_count": 7,
      "id": "bNlQCZWbjeAJ",
      "metadata": {
        "id": "bNlQCZWbjeAJ"
      },
      "outputs": [],
      "source": [
        "b2c = b2c.dropna(subset=['id', 'producto'])\n"
      ]
    },
    {
      "cell_type": "code",
      "execution_count": 8,
      "id": "b8xaJTQqutbU",
      "metadata": {
        "colab": {
          "base_uri": "https://localhost:8080/"
        },
        "id": "b8xaJTQqutbU",
        "outputId": "3f4ad096-a9ed-4744-877f-d90263921bbd"
      },
      "outputs": [
        {
          "name": "stdout",
          "output_type": "stream",
          "text": [
            "0               2\n",
            "1               3\n",
            "2               3\n",
            "3               3\n",
            "4               3\n",
            "            ...  \n",
            "2553800    368060\n",
            "2553801     78489\n",
            "2553802    415279\n",
            "2553803    419226\n",
            "2553804    419226\n",
            "Name: id, Length: 2553805, dtype: int64\n"
          ]
        }
      ],
      "source": [
        "print(b2c['id'][:])"
      ]
    },
    {
      "cell_type": "markdown",
      "id": "daad5505",
      "metadata": {
        "id": "daad5505"
      },
      "source": [
        "## Pipeline LightFM"
      ]
    },
    {
      "cell_type": "code",
      "execution_count": 9,
      "id": "ed07f418",
      "metadata": {
        "id": "ed07f418"
      },
      "outputs": [],
      "source": [
        "# from lightfm.data import Dataset\n",
        "\n",
        "# dataset = Dataset()\n",
        "\n",
        "# # USER features\n",
        "# user_features = (\n",
        "#     [f\"cluster:{x}\" for x in b2c['cluster'].astype(str).unique()] +\n",
        "#     [f\"municipio:{x}\" for x in b2c['municipio'].astype(str).unique()] +\n",
        "#     [f\"asesor:{x}\" for x in b2c['asesor'].astype(str).unique()] +\n",
        "#     [f\"punto:{x}\" for x in b2c['punto de venta'].astype(str).unique()] +\n",
        "#     b2c.columns[b2c.columns.str.startswith(\"zona_\")].tolist()\n",
        "# )\n",
        "\n",
        "# # ITEM features\n",
        "# item_features = (\n",
        "#     [f\"categoria_macro:{x}\" for x in b2c['categoria_macro'].astype(str).unique()] +\n",
        "#     [f\"subcategoria:{x}\" for x in b2c['subcategoria'].astype(str).unique()] +\n",
        "#     [f\"color:{x}\" for x in b2c['color'].astype(str).unique()]\n",
        "# )\n",
        "\n",
        "# dataset.fit(\n",
        "#     users=b2c['id'].unique(),\n",
        "#     items=b2c['producto'].unique(),\n",
        "#     user_features=user_features,\n",
        "#     item_features=item_features\n",
        "# )\n"
      ]
    },
    {
      "cell_type": "code",
      "execution_count": 10,
      "id": "84ba9f28",
      "metadata": {
        "id": "84ba9f28"
      },
      "outputs": [],
      "source": [
        "\n",
        "# interactions, _ = dataset.build_interactions([\n",
        "#     (row['id'], row['producto']) for _, row in b2c.iterrows()\n",
        "# ])\n"
      ]
    },
    {
      "cell_type": "markdown",
      "id": "d26a7e2b",
      "metadata": {
        "id": "d26a7e2b"
      },
      "source": [
        "Ahora establecemos como se realiza la caracterización de los clientes y de los porductos"
      ]
    },
    {
      "cell_type": "code",
      "execution_count": 11,
      "id": "5681fa92",
      "metadata": {
        "id": "5681fa92"
      },
      "outputs": [],
      "source": [
        "# def construir_features_usuario(df):\n",
        "#     features = []\n",
        "#     for _, row in df.iterrows():\n",
        "#         f = [\n",
        "#             f\"cluster:{row['cluster']}\",\n",
        "#             f\"municipio:{row['municipio']}\",\n",
        "#             f\"asesor:{row['asesor']}\",\n",
        "#             f\"punto:{row['punto de venta']}\"\n",
        "#         ]\n",
        "#         for zona in df.columns[df.columns.str.startswith(\"zona_\")]:\n",
        "#             if row[zona] == 1:\n",
        "#                 f.append(zona)\n",
        "#         features.append((row['id'], f))\n",
        "#     return features\n",
        "\n",
        "\n",
        "# def construir_features_producto(df):\n",
        "#     features = []\n",
        "#     for _, row in df.iterrows():\n",
        "#         f = [\n",
        "#             f\"categoria_macro:{row['categoria_macro']}\",\n",
        "#             f\"subcategoria:{row['subcategoria']}\",\n",
        "#             f\"color:{row['color']}\"\n",
        "#         ]\n",
        "#         features.append((row['producto'], f))\n",
        "#     return features\n",
        "\n",
        "\n",
        "# user_features = dataset.build_user_features(construir_features_usuario(b2c))\n",
        "# item_features = dataset.build_item_features(construir_features_producto(b2c))\n"
      ]
    },
    {
      "cell_type": "code",
      "execution_count": 12,
      "id": "6f118b80",
      "metadata": {
        "id": "6f118b80"
      },
      "outputs": [],
      "source": [
        "# model = LightFM(loss='warp-kos', no_components=16)\n",
        "# model.fit(interactions, user_features=user_features, item_features=item_features, epochs=15, num_threads=2)\n"
      ]
    },
    {
      "cell_type": "code",
      "execution_count": 13,
      "id": "FbHCeAH3oLTH",
      "metadata": {
        "id": "FbHCeAH3oLTH"
      },
      "outputs": [],
      "source": [
        "# b2c['id'].dropna().unique()[:10]\n"
      ]
    },
    {
      "cell_type": "code",
      "execution_count": 14,
      "id": "d3377f9c",
      "metadata": {
        "id": "d3377f9c"
      },
      "outputs": [],
      "source": [
        "# usuario_interno = dataset.mapping()[0][11]\n",
        "# scores = model.predict(usuario_interno, np.arange(len(dataset.mapping()[2])), user_features=user_features, item_features=item_features)\n",
        "# # Normalizar scores entre 0 y 1\n",
        "# min_score = scores.min()\n",
        "# max_score = scores.max()\n",
        "\n",
        "# # Evitar división por cero\n",
        "# if max_score > min_score:\n",
        "#     scores_normalizados = (scores - min_score) / (max_score - min_score)\n",
        "# else:\n",
        "#     scores_normalizados = np.zeros_like(scores)\n",
        "\n",
        "# top_items = np.argsort(-scores)[:10]\n",
        "# productos = list(dataset.mapping()[2].keys())\n",
        "# print(\"Recomendaciones:\", [productos[i] for i in top_items])\n"
      ]
    },
    {
      "cell_type": "code",
      "execution_count": 15,
      "id": "zDkUSbBZJc24",
      "metadata": {
        "id": "zDkUSbBZJc24"
      },
      "outputs": [],
      "source": [
        "# from lightfm.evaluation import precision_at_k, recall_at_k, auc_score\n",
        "\n",
        "# # Calcular métricas usando el conjunto completo de interacciones\n",
        "# precision_lfm = precision_at_k(model, interactions, user_features=user_features, item_features=item_features, k=5).mean()\n",
        "# recall_lfm = recall_at_k(model, interactions, user_features=user_features, item_features=item_features, k=5).mean()\n",
        "# auc_lfm = auc_score(model, interactions, user_features=user_features, item_features=item_features).mean()\n",
        "\n",
        "# # Crear diccionario con métricas\n",
        "# metricas_lfm_b2c = {\n",
        "#     \"Precision\": round(precision_lfm, 4),\n",
        "#     \"Recall\": round(recall_lfm, 4),\n",
        "#     \"AUC\": round(auc_lfm, 4)\n",
        "# }\n",
        "\n",
        "# # Mostrar resultados\n",
        "# print(\"Métricas LightFM B2C:\")\n",
        "# for k, v in metricas_lfm_b2c.items():\n",
        "#     print(f\"- {k}: {v}\")\n"
      ]
    },
    {
      "cell_type": "code",
      "execution_count": 16,
      "id": "E0DG8nMbCCzz",
      "metadata": {
        "id": "E0DG8nMbCCzz"
      },
      "outputs": [],
      "source": [
        "from lightfm.data import Dataset\n",
        "from lightfm import LightFM\n",
        "from lightfm.cross_validation import random_train_test_split\n",
        "from lightfm.evaluation import precision_at_k, recall_at_k, auc_score\n",
        "import pandas as pd\n",
        "import numpy as np\n",
        "\n",
        "# -------------------------\n",
        "# PREPARAR DATOS\n",
        "# -------------------------\n",
        "\n",
        "top_municipios = b2c['municipio'].value_counts().nlargest(50).index\n",
        "b2c['municipio'] = b2c['municipio'].where(b2c['municipio'].isin(top_municipios), 'otros')\n",
        "\n",
        "top_asesores = b2c['asesor'].value_counts().nlargest(50).index\n",
        "b2c['asesor'] = b2c['asesor'].where(b2c['asesor'].isin(top_asesores), 'otros')\n",
        "\n",
        "top_puntos = b2c['punto de venta'].value_counts().nlargest(50).index\n",
        "b2c['punto de venta'] = b2c['punto de venta'].where(b2c['punto de venta'].isin(top_puntos), 'otros')\n",
        "\n",
        "# Inicializar dataset\n",
        "dataset = Dataset()\n",
        "\n",
        "# USER features\n",
        "user_features_list = (\n",
        "    [f\"cluster:{x}\" for x in b2c['cluster'].astype(str).unique()] +\n",
        "    [f\"municipio:{x}\" for x in b2c['municipio'].astype(str).unique()] +\n",
        "    [f\"asesor:{x}\" for x in b2c['asesor'].astype(str).unique()] +\n",
        "    [f\"punto:{x}\" for x in b2c['punto de venta'].astype(str).unique()] +\n",
        "    b2c.columns[b2c.columns.str.startswith(\"zona_\")].tolist()\n",
        ")\n",
        "\n",
        "# ITEM features\n",
        "item_features_list = (\n",
        "    [f\"categoria_macro:{x}\" for x in b2c['categoria_macro'].astype(str).unique()] +\n",
        "    [f\"subcategoria:{x}\" for x in b2c['subcategoria'].astype(str).unique()] +\n",
        "    [f\"color:{x}\" for x in b2c['color'].astype(str).unique()]\n",
        ")\n",
        "\n",
        "# Fit mappings\n",
        "dataset.fit(\n",
        "    users=b2c['id'].unique(),\n",
        "    items=b2c['producto'].unique(),\n",
        "    user_features=user_features_list,\n",
        "    item_features=item_features_list\n",
        ")\n",
        "\n",
        "# Interacciones implícitas (puedes usar .value o .cantidad como peso si quieres ponderar)\n",
        "interactions, _ = dataset.build_interactions([\n",
        "    (row['id'], row['producto']) for _, row in b2c.iterrows()\n",
        "])\n"
      ]
    },
    {
      "cell_type": "code",
      "execution_count": 17,
      "id": "md2QfIfD-wJw",
      "metadata": {
        "id": "md2QfIfD-wJw"
      },
      "outputs": [],
      "source": [
        "\n",
        "# -------------------------\n",
        "# CONSTRUIR FEATURES\n",
        "# -------------------------\n",
        "\n",
        "def construir_features_usuario(df):\n",
        "    features = []\n",
        "    for _, row in df.iterrows():\n",
        "        f = [\n",
        "            f\"cluster:{row['cluster']}\",\n",
        "            f\"municipio:{row['municipio']}\",\n",
        "            f\"asesor:{row['asesor']}\",\n",
        "            f\"punto:{row['punto de venta']}\"\n",
        "        ]\n",
        "        for zona in df.columns[df.columns.str.startswith(\"zona_\")]:\n",
        "            if row[zona] == 1:\n",
        "                f.append(zona)\n",
        "        features.append((row['id'], f))\n",
        "    return features\n",
        "\n",
        "def construir_features_producto(df):\n",
        "    features = []\n",
        "    for _, row in df.iterrows():\n",
        "        f = [\n",
        "            f\"categoria_macro:{row['categoria_macro']}\",\n",
        "            f\"subcategoria:{row['subcategoria']}\",\n",
        "            f\"color:{row['color']}\"\n",
        "        ]\n",
        "        features.append((row['producto'], f))\n",
        "    return features\n",
        "\n",
        "user_features = dataset.build_user_features(construir_features_usuario(b2c))\n",
        "item_features = dataset.build_item_features(construir_features_producto(b2c))\n",
        "\n"
      ]
    },
    {
      "cell_type": "code",
      "execution_count": 18,
      "id": "5pyDjKzkCFss",
      "metadata": {
        "colab": {
          "base_uri": "https://localhost:8080/"
        },
        "id": "5pyDjKzkCFss",
        "outputId": "bcaf08e2-d405-4867-8016-40ca34864704"
      },
      "outputs": [
        {
          "data": {
            "text/plain": [
              "<lightfm.lightfm.LightFM at 0x168013990>"
            ]
          },
          "execution_count": 18,
          "metadata": {},
          "output_type": "execute_result"
        }
      ],
      "source": [
        "# -------------------------\n",
        "# ENTRENAMIENTO Y EVALUACIÓN\n",
        "# -------------------------\n",
        "\n",
        "# Quitar duplicados de (id, producto) antes de construir interacciones\n",
        "b2c_interacciones = b2c[['id', 'producto']].drop_duplicates()\n",
        "\n",
        "interactions, _ = dataset.build_interactions([\n",
        "    (row['id'], row['producto']) for _, row in b2c_interacciones.iterrows()\n",
        "])\n",
        "\n",
        "# Dividir en train y test\n",
        "train, test = random_train_test_split(interactions, test_percentage=0.2, random_state=42)\n",
        "\n",
        "# Entrenar modelo\n",
        "model = LightFM(loss='warp-kos', no_components=16, random_state=20)\n",
        "model.fit(train, user_features=user_features, item_features=item_features, epochs=15, num_threads=4)\n",
        "\n",
        "\n"
      ]
    },
    {
      "cell_type": "code",
      "execution_count": 19,
      "id": "ZGfVAU4VKfT2",
      "metadata": {
        "colab": {
          "base_uri": "https://localhost:8080/"
        },
        "id": "ZGfVAU4VKfT2",
        "outputId": "3c5fb776-73d9-462b-ee3d-713859b2fcdf"
      },
      "outputs": [
        {
          "name": "stdout",
          "output_type": "stream",
          "text": [
            "Métricas LightFM B2C:\n",
            "- Precision: 0.011900000274181366\n",
            "- Recall: 0.0657\n",
            "- AUC: 0.9365000128746033\n"
          ]
        }
      ],
      "source": [
        "# Evaluar\n",
        "precision = precision_at_k(\n",
        "    model, test, train_interactions=train,\n",
        "    user_features=user_features, item_features=item_features, k=10\n",
        ").mean()\n",
        "\n",
        "recall = recall_at_k(\n",
        "    model, test, train_interactions=train,\n",
        "    user_features=user_features, item_features=item_features, k=10\n",
        ").mean()\n",
        "\n",
        "auc = auc_score(\n",
        "    model, test, train_interactions=train,\n",
        "    user_features=user_features, item_features=item_features\n",
        ").mean()\n",
        "\n",
        "metricas_lfm_b2c = {\n",
        "    \"Precision\": round(precision, 4),\n",
        "    \"Recall\": round(recall, 4),\n",
        "    \"AUC\": round(auc, 4)\n",
        "}\n",
        "\n",
        "# Mostrar resultados\n",
        "print(\"Métricas LightFM B2C:\")\n",
        "for k, v in metricas_lfm_b2c.items():\n",
        "    print(f\"- {k}: {v}\")"
      ]
    },
    {
      "cell_type": "markdown",
      "id": "ec3495eb",
      "metadata": {},
      "source": [
        "## Guardar el modelo"
      ]
    },
    {
      "cell_type": "code",
      "execution_count": 20,
      "id": "bdb1bf0a",
      "metadata": {},
      "outputs": [
        {
          "name": "stdout",
          "output_type": "stream",
          "text": [
            "Model saved successfully to ./modelos/lightfm_model_b2c.pkl\n",
            "Dataset saved successfully to ./modelos/lightfm_dataset_b2c.pkl\n"
          ]
        }
      ],
      "source": [
        "# Define the path to save the model\n",
        "model_path = './modelos/lightfm_model_b2c.pkl'\n",
        "\n",
        "# Save the trained LightFM model\n",
        "dump(model, model_path)\n",
        "\n",
        "print(f\"Model saved successfully to {model_path}\")\n",
        "\n",
        "# Optional: Save the dataset object and mappings as well if needed for loading\n",
        "dataset_path = './modelos/lightfm_dataset_b2c.pkl'\n",
        "dump(dataset, dataset_path)\n",
        "print(f\"Dataset saved successfully to {dataset_path}\")"
      ]
    },
    {
      "cell_type": "markdown",
      "id": "be2b2e16",
      "metadata": {
        "id": "be2b2e16"
      },
      "source": [
        "## Modelo Tabular"
      ]
    },
    {
      "cell_type": "code",
      "execution_count": 21,
      "id": "e7n86gtPptih",
      "metadata": {
        "id": "e7n86gtPptih"
      },
      "outputs": [],
      "source": [
        "positivos = b2c[['id', 'producto']].drop_duplicates().copy()\n",
        "positivos['interaccion'] = 1\n"
      ]
    },
    {
      "cell_type": "code",
      "execution_count": 22,
      "id": "toRXrCsgy7Pw",
      "metadata": {
        "colab": {
          "base_uri": "https://localhost:8080/"
        },
        "id": "toRXrCsgy7Pw",
        "outputId": "e02a9207-7aba-47ec-f68f-096373a7c3a7"
      },
      "outputs": [
        {
          "name": "stderr",
          "output_type": "stream",
          "text": [
            "100%|██████████| 419221/419221 [10:00<00:00, 698.32it/s]\n"
          ]
        }
      ],
      "source": [
        "from tqdm import tqdm  # barra de progreso\n",
        "\n",
        "usuarios = b2c['id'].unique()\n",
        "productos = b2c['producto'].unique()\n",
        "compras = b2c.groupby('id')['producto'].apply(set).to_dict()\n",
        "\n",
        "negativos = []\n",
        "rng = np.random.default_rng(seed=42)\n",
        "\n",
        "# Número de negativos por usuario\n",
        "k_negativos = 5\n",
        "\n",
        "for u in tqdm(usuarios):\n",
        "    comprados = compras.get(u, set())\n",
        "    candidatos = list(set(productos) - comprados)\n",
        "\n",
        "    if len(candidatos) == 0:\n",
        "        continue  # este usuario ya compró todo\n",
        "\n",
        "    muestra = rng.choice(candidatos, size=min(k_negativos, len(candidatos)), replace=False)\n",
        "    negativos.extend([(u, p, 0) for p in muestra])\n",
        "\n",
        "# Convertir a DataFrame\n",
        "negativos = pd.DataFrame(negativos, columns=['id', 'producto', 'interaccion'])\n",
        "\n",
        "# Positivos\n",
        "positivos = b2c[['id', 'producto']].drop_duplicates().copy()\n",
        "positivos['interaccion'] = 1\n",
        "\n",
        "# Unir todo\n",
        "df_tabular = pd.concat([positivos, negativos], axis=0, ignore_index=True)\n"
      ]
    },
    {
      "cell_type": "code",
      "execution_count": 23,
      "id": "GwE9dDT0qCX3",
      "metadata": {
        "id": "GwE9dDT0qCX3"
      },
      "outputs": [],
      "source": [
        "features_usuario = b2c.drop_duplicates('id').set_index('id')[\n",
        "    ['edad', 'edad_promedio',\n",
        "       'ingreso_laboral_promedio', 'GINI', 'IPUG',\n",
        "       'cluster']\n",
        "]\n",
        "\n",
        "features_producto = b2c.drop_duplicates('producto').set_index('producto')[\n",
        "    ['categoria_macro', 'subcategoria', 'color', 'precio', 'alineación con portafolio estratégico']\n",
        "]\n",
        "\n",
        "df_tabular = df_tabular.merge(features_usuario, on='id', how='left')\n",
        "df_tabular = df_tabular.merge(features_producto, on='producto', how='left')\n"
      ]
    },
    {
      "cell_type": "code",
      "execution_count": 24,
      "id": "iJzwBEaF6fbO",
      "metadata": {
        "colab": {
          "base_uri": "https://localhost:8080/"
        },
        "id": "iJzwBEaF6fbO",
        "outputId": "ced79475-1096-44b8-fa27-02c5eb03b945"
      },
      "outputs": [
        {
          "name": "stderr",
          "output_type": "stream",
          "text": [
            "/Library/Frameworks/Python.framework/Versions/3.11/lib/python3.11/site-packages/xgboost/core.py:158: UserWarning: [18:39:22] WARNING: /Users/runner/work/xgboost/xgboost/src/learner.cc:740: \n",
            "Parameters: { \"use_label_encoder\" } are not used.\n",
            "\n",
            "  warnings.warn(smsg, UserWarning)\n"
          ]
        },
        {
          "name": "stdout",
          "output_type": "stream",
          "text": [
            "AUC: 0.9146\n",
            "              precision    recall  f1-score   support\n",
            "\n",
            "           0       0.84      0.86      0.85    419221\n",
            "           1       0.83      0.81      0.82    356427\n",
            "\n",
            "    accuracy                           0.84    775648\n",
            "   macro avg       0.84      0.83      0.84    775648\n",
            "weighted avg       0.84      0.84      0.84    775648\n",
            "\n"
          ]
        }
      ],
      "source": [
        "from xgboost import XGBClassifier\n",
        "from sklearn.model_selection import train_test_split\n",
        "from sklearn.metrics import roc_auc_score, classification_report\n",
        "\n",
        "# --- 1. Selección de columnas útiles (excluye id, producto, interaccion) ---\n",
        "X = df_tabular.drop(columns=['id', 'producto', 'interaccion'])\n",
        "y = df_tabular['interaccion']\n",
        "\n",
        "# --- 2. Tratar nulos y reducir cardinalidad ---\n",
        "X.fillna(\"desconocido\", inplace=True)\n",
        "\n",
        "# Reducir cardinalidad de 'color' si tiene muchos valores\n",
        "if X['color'].nunique() > 20:\n",
        "    top_colores = X['color'].value_counts().nlargest(20).index\n",
        "    X['color'] = X['color'].where(X['color'].isin(top_colores), 'otros')\n",
        "\n",
        "# --- 3. Convertir categóricas a tipo 'category' ---\n",
        "categoricas = ['cluster', 'categoria_macro', 'subcategoria', 'color']\n",
        "for col in categoricas:\n",
        "    X[col] = X[col].astype('category')\n",
        "\n",
        "# --- 4. Split y entrenamiento ---\n",
        "X_train, X_test, y_train, y_test = train_test_split(\n",
        "    X, y, stratify=y, test_size=0.2, random_state=42\n",
        ")\n",
        "\n",
        "modelo_xgb = XGBClassifier(\n",
        "    tree_method='hist',\n",
        "    enable_categorical=True,\n",
        "    use_label_encoder=False,\n",
        "    eval_metric='logloss',\n",
        "    n_estimators=100,\n",
        "    learning_rate=0.1,\n",
        "    max_depth=6,\n",
        "    random_state=42\n",
        ")\n",
        "\n",
        "modelo_xgb.fit(X_train, y_train)\n",
        "\n",
        "# --- 5. Evaluación ---\n",
        "probs = modelo_xgb.predict_proba(X_test)[:, 1]\n",
        "preds = modelo_xgb.predict(X_test)\n",
        "\n",
        "print(\"AUC:\", round(roc_auc_score(y_test, probs), 4))\n",
        "print(classification_report(y_test, preds))\n"
      ]
    },
    {
      "cell_type": "markdown",
      "id": "4bbef49e",
      "metadata": {},
      "source": [
        "## Guardar el modelo tabular"
      ]
    },
    {
      "cell_type": "code",
      "execution_count": 72,
      "id": "1b21e6ae",
      "metadata": {},
      "outputs": [
        {
          "name": "stdout",
          "output_type": "stream",
          "text": [
            "XGBoost model saved successfully to ./modelos/xgb_model_b2c.pkl\n",
            "✅ Features de usuario y producto guardados exitosamente.\n"
          ]
        }
      ],
      "source": [
        "# Define the path to save the XGBoost model\n",
        "model_xgb_path = './modelos/xgb_model_b2c.pkl'\n",
        "\n",
        "# Save the trained XGBoost model\n",
        "dump(modelo_xgb, model_xgb_path)\n",
        "\n",
        "print(f\"XGBoost model saved successfully to {model_xgb_path}\")\n",
        "\n",
        "# Guardar features para uso en el recomendador\n",
        "dump(features_usuario.reset_index(), './modelos/b2c_user_features_df.pkl')\n",
        "dump(features_producto.reset_index(), './modelos/b2c_item_features_df.pkl')\n",
        "\n",
        "print(\"✅ Features de usuario y producto guardados exitosamente.\")\n"
      ]
    },
    {
      "cell_type": "code",
      "execution_count": null,
      "id": "e6d6b859",
      "metadata": {},
      "outputs": [],
      "source": [
        "import pandas as pd\n",
        "from joblib import dump\n",
        "\n",
        "# Cargar base B2C\n",
        "b2c = pd.read_csv('./b2c_nuevo.csv')\n",
        "\n",
        "# --- USER FEATURES ---\n",
        "user_columns = ['id', 'zona', 'cluster']\n",
        "xgb_user_feats = b2c[user_columns].drop_duplicates(subset='id').set_index('id')\n",
        "xgb_user_feats = xgb_user_feats.reset_index()\n",
        "\n",
        "# --- ITEM FEATURES ---\n",
        "item_columns = ['producto', 'categoria_macro', 'subcategoria', 'color']\n",
        "xgb_item_feats = b2c[item_columns].drop_duplicates(subset='producto').set_index('producto')\n",
        "xgb_item_feats = xgb_item_feats.reset_index()\n",
        "\n",
        "# Guardar como .pkl\n",
        "dump(xgb_user_feats, './modelos/b2c_user_features_df.pkl')\n",
        "dump(xgb_item_feats, './modelos/b2c_item_features_df.pkl')\n",
        "\n",
        "print(\"✅ Archivos guardados: b2c_user_features_df.pkl y b2c_item_features_df.pkl\")\n"
      ]
    },
    {
      "cell_type": "markdown",
      "id": "pi1wQ1UIA4qK",
      "metadata": {
        "id": "pi1wQ1UIA4qK"
      },
      "source": [
        "## Comparación XGBoost sin datos enriquecidos"
      ]
    },
    {
      "cell_type": "code",
      "execution_count": 26,
      "id": "oK5KS9xaA2zK",
      "metadata": {
        "colab": {
          "base_uri": "https://localhost:8080/"
        },
        "id": "oK5KS9xaA2zK",
        "outputId": "1e1d4a78-73b4-4766-8d69-230f73281cd2"
      },
      "outputs": [
        {
          "name": "stderr",
          "output_type": "stream",
          "text": [
            "/Library/Frameworks/Python.framework/Versions/3.11/lib/python3.11/site-packages/xgboost/core.py:158: UserWarning: [18:39:41] WARNING: /Users/runner/work/xgboost/xgboost/src/learner.cc:740: \n",
            "Parameters: { \"use_label_encoder\" } are not used.\n",
            "\n",
            "  warnings.warn(smsg, UserWarning)\n"
          ]
        },
        {
          "name": "stdout",
          "output_type": "stream",
          "text": [
            "Métricas del modelo SIN GINI e IPUG:\n",
            "- Accuracy: 0.8359\n",
            "- Precision: 0.8308\n",
            "- Recall: 0.8074\n",
            "- F1-score: 0.8189\n",
            "- AUC: 0.9135\n"
          ]
        }
      ],
      "source": [
        "# sin GINI e IPUG ---\n",
        "features_usuario_sin_enriquecer = b2c.drop_duplicates('id').set_index('id')[[\n",
        "    'edad', 'edad_promedio', 'ingreso_laboral_promedio', 'cluster'\n",
        "]]\n",
        "\n",
        "features_producto = b2c.drop_duplicates('producto').set_index('producto')[[\n",
        "    'categoria_macro', 'subcategoria', 'color', 'precio', 'alineación con portafolio estratégico'\n",
        "]]\n",
        "\n",
        "\n",
        "df_tabular_simple = df_tabular[['id', 'producto', 'interaccion']].copy()  # columnas clave\n",
        "df_tabular_simple = df_tabular_simple.merge(features_usuario_sin_enriquecer, on='id', how='left')\n",
        "df_tabular_simple = df_tabular_simple.merge(features_producto, on='producto', how='left')\n",
        "\n",
        "# Preparación\n",
        "X_simple = df_tabular_simple.drop(columns=['id', 'producto', 'interaccion'])\n",
        "y_simple = df_tabular_simple['interaccion']\n",
        "X_simple.fillna(\"desconocido\", inplace=True)\n",
        "\n",
        "# Reducción cardinalidad\n",
        "if X_simple['color'].nunique() > 20:\n",
        "    top_colores = X_simple['color'].value_counts().nlargest(20).index\n",
        "    X_simple['color'] = X_simple['color'].where(X_simple['color'].isin(top_colores), 'otros')\n",
        "\n",
        "for col in ['cluster', 'categoria_macro', 'subcategoria', 'color']:\n",
        "    X_simple[col] = X_simple[col].astype('category')\n",
        "\n",
        "#Train-test split y entrenamiento\n",
        "from sklearn.model_selection import train_test_split\n",
        "from xgboost import XGBClassifier\n",
        "from sklearn.metrics import accuracy_score, precision_score, recall_score, f1_score, roc_auc_score\n",
        "\n",
        "X_train_s, X_test_s, y_train_s, y_test_s = train_test_split(\n",
        "    X_simple, y_simple, stratify=y_simple, test_size=0.2, random_state=42\n",
        ")\n",
        "\n",
        "modelo_xgb_simple = XGBClassifier(\n",
        "    tree_method='hist',\n",
        "    enable_categorical=True,\n",
        "    use_label_encoder=False,\n",
        "    eval_metric='logloss',\n",
        "    n_estimators=100,\n",
        "    learning_rate=0.1,\n",
        "    max_depth=6,\n",
        "    random_state=42\n",
        ")\n",
        "\n",
        "modelo_xgb_simple.fit(X_train_s, y_train_s)\n",
        "\n",
        "# --- 8. Evaluación del modelo SIN enriquecer ---\n",
        "probs_s = modelo_xgb_simple.predict_proba(X_test_s)[:, 1]\n",
        "preds_s = modelo_xgb_simple.predict(X_test_s)\n",
        "\n",
        "metricas_xgb_sin_enriquecer = {\n",
        "    \"Accuracy\": round(accuracy_score(y_test_s, preds_s), 4),\n",
        "    \"Precision\": round(precision_score(y_test_s, preds_s), 4),\n",
        "    \"Recall\": round(recall_score(y_test_s, preds_s), 4),\n",
        "    \"F1-score\": round(f1_score(y_test_s, preds_s), 4),\n",
        "    \"AUC\": round(roc_auc_score(y_test_s, probs_s), 4)\n",
        "}\n",
        "\n",
        "print(\"Métricas del modelo SIN GINI e IPUG:\")\n",
        "for k, v in metricas_xgb_sin_enriquecer.items():\n",
        "    print(f\"- {k}: {v}\")\n"
      ]
    },
    {
      "cell_type": "code",
      "execution_count": 27,
      "id": "d_q4C4beIsGN",
      "metadata": {
        "id": "d_q4C4beIsGN"
      },
      "outputs": [],
      "source": [
        "from sklearn.metrics import accuracy_score, precision_score, recall_score, f1_score\n",
        "\n",
        "# --- Diccionario de métricas del modelo XGBoost B2C ---\n",
        "metricas_xgb_b2c = {\n",
        "    \"Accuracy\": round(accuracy_score(y_test, preds), 4),\n",
        "    \"Precision\": round(precision_score(y_test, preds), 4),\n",
        "    \"Recall\": round(recall_score(y_test, preds), 4),\n",
        "    \"F1-score\": round(f1_score(y_test, preds), 4),\n",
        "    \"AUC\": round(roc_auc_score(y_test, probs), 4)\n",
        "}\n",
        "\n",
        "\n"
      ]
    },
    {
      "cell_type": "code",
      "execution_count": 28,
      "id": "xh8QZrlTqhnB",
      "metadata": {
        "colab": {
          "base_uri": "https://localhost:8080/",
          "height": 498
        },
        "id": "xh8QZrlTqhnB",
        "outputId": "5212f53e-6220-4fc1-b2de-af4b10b13dde"
      },
      "outputs": [
        {
          "data": {
            "text/plain": [
              "<Figure size 1000x600 with 0 Axes>"
            ]
          },
          "metadata": {},
          "output_type": "display_data"
        },
        {
          "data": {
            "image/png": "[encoded data removed]",
            "text/plain": [
              "<Figure size 640x480 with 1 Axes>"
            ]
          },
          "metadata": {},
          "output_type": "display_data"
        }
      ],
      "source": [
        "import matplotlib.pyplot as plt\n",
        "from xgboost import plot_importance\n",
        "\n",
        "plt.figure(figsize=(10, 6))\n",
        "plot_importance(modelo_xgb, max_num_features=15, importance_type='gain')\n",
        "plt.title(\"Top 15 Features más importantes\")\n",
        "plt.show()\n"
      ]
    },
    {
      "cell_type": "code",
      "execution_count": 29,
      "id": "RhkMFZKxDCrj",
      "metadata": {
        "id": "RhkMFZKxDCrj"
      },
      "outputs": [],
      "source": [
        "def recomendar_con_xgboost(cliente_id, top_n=10):\n",
        "    # Productos ya comprados por el cliente\n",
        "    productos_comprados = set(b2c[b2c['id'] == cliente_id]['producto'].unique())\n",
        "\n",
        "    # Productos candidatos (no comprados)\n",
        "    todos_productos = b2c['producto'].unique()\n",
        "    productos_candidatos = list(set(todos_productos) - productos_comprados)\n",
        "\n",
        "    if not productos_candidatos:\n",
        "        return f\"Cliente {cliente_id} ya ha comprado todos los productos.\"\n",
        "\n",
        "    # Crear dataset de predicción\n",
        "    df_pred = pd.DataFrame({'id': cliente_id, 'producto': productos_candidatos})\n",
        "\n",
        "    # Merge con features del usuario\n",
        "    df_pred = df_pred.merge(features_usuario, on='id', how='left')\n",
        "\n",
        "    # Merge con features del producto\n",
        "    df_pred = df_pred.merge(features_producto, on='producto', how='left')\n",
        "\n",
        "    # Tratar nulos\n",
        "    df_pred.fillna(\"desconocido\", inplace=True)\n",
        "\n",
        "    # Reducir cardinalidad de color si es necesario\n",
        "    if 'color' in df_pred.columns and df_pred['color'].nunique() > 20:\n",
        "        top_colores = features_producto['color'].value_counts().nlargest(20).index\n",
        "        df_pred['color'] = df_pred['color'].where(df_pred['color'].isin(top_colores), 'otros')\n",
        "\n",
        "    # Convertir variables categóricas\n",
        "    for col in ['cluster', 'categoria_macro', 'subcategoria', 'color']:\n",
        "        if col in df_pred.columns:\n",
        "            df_pred[col] = df_pred[col].astype('category')\n",
        "\n",
        "    # Eliminar columnas no usadas durante el entrenamiento\n",
        "    X_pred = df_pred.drop(columns=['id', 'producto'])\n",
        "\n",
        "    # Predecir probabilidad de compra\n",
        "    probs = modelo_xgb.predict_proba(X_pred)[:, 1]\n",
        "\n",
        "    # Construir ranking\n",
        "    df_pred['score'] = probs\n",
        "    top_recomendaciones = df_pred.sort_values('score', ascending=False).head(top_n)\n",
        "\n",
        "    return top_recomendaciones[['producto', 'score']]\n"
      ]
    },
    {
      "cell_type": "code",
      "execution_count": 30,
      "id": "hiDm-5r5DJc2",
      "metadata": {
        "colab": {
          "base_uri": "https://localhost:8080/",
          "height": 363
        },
        "id": "hiDm-5r5DJc2",
        "outputId": "467b9ce5-d818-4722-d5a9-877e7eab16f4"
      },
      "outputs": [
        {
          "data": {
            "text/html": [
              "<div>\n",
              "<style scoped>\n",
              "    .dataframe tbody tr th:only-of-type {\n",
              "        vertical-align: middle;\n",
              "    }\n",
              "\n",
              "    .dataframe tbody tr th {\n",
              "        vertical-align: top;\n",
              "    }\n",
              "\n",
              "    .dataframe thead th {\n",
              "        text-align: right;\n",
              "    }\n",
              "</style>\n",
              "<table border=\"1\" class=\"dataframe\">\n",
              "  <thead>\n",
              "    <tr style=\"text-align: right;\">\n",
              "      <th></th>\n",
              "      <th>producto</th>\n",
              "      <th>score</th>\n",
              "    </tr>\n",
              "  </thead>\n",
              "  <tbody>\n",
              "    <tr>\n",
              "      <th>7238</th>\n",
              "      <td>producto_19</td>\n",
              "      <td>0.986930</td>\n",
              "    </tr>\n",
              "    <tr>\n",
              "      <th>4960</th>\n",
              "      <td>producto_49</td>\n",
              "      <td>0.984224</td>\n",
              "    </tr>\n",
              "    <tr>\n",
              "      <th>7121</th>\n",
              "      <td>producto_72</td>\n",
              "      <td>0.982433</td>\n",
              "    </tr>\n",
              "    <tr>\n",
              "      <th>787</th>\n",
              "      <td>producto_28</td>\n",
              "      <td>0.979594</td>\n",
              "    </tr>\n",
              "    <tr>\n",
              "      <th>6713</th>\n",
              "      <td>producto_27</td>\n",
              "      <td>0.976954</td>\n",
              "    </tr>\n",
              "    <tr>\n",
              "      <th>4104</th>\n",
              "      <td>producto_3</td>\n",
              "      <td>0.976453</td>\n",
              "    </tr>\n",
              "    <tr>\n",
              "      <th>5308</th>\n",
              "      <td>producto_112</td>\n",
              "      <td>0.973738</td>\n",
              "    </tr>\n",
              "    <tr>\n",
              "      <th>5568</th>\n",
              "      <td>producto_143</td>\n",
              "      <td>0.971046</td>\n",
              "    </tr>\n",
              "    <tr>\n",
              "      <th>1876</th>\n",
              "      <td>producto_40</td>\n",
              "      <td>0.971046</td>\n",
              "    </tr>\n",
              "    <tr>\n",
              "      <th>2216</th>\n",
              "      <td>producto_119</td>\n",
              "      <td>0.969817</td>\n",
              "    </tr>\n",
              "  </tbody>\n",
              "</table>\n",
              "</div>"
            ],
            "text/plain": [
              "          producto     score\n",
              "7238   producto_19  0.986930\n",
              "4960   producto_49  0.984224\n",
              "7121   producto_72  0.982433\n",
              "787    producto_28  0.979594\n",
              "6713   producto_27  0.976954\n",
              "4104    producto_3  0.976453\n",
              "5308  producto_112  0.973738\n",
              "5568  producto_143  0.971046\n",
              "1876   producto_40  0.971046\n",
              "2216  producto_119  0.969817"
            ]
          },
          "execution_count": 30,
          "metadata": {},
          "output_type": "execute_result"
        }
      ],
      "source": [
        "recomendar_con_xgboost(cliente_id=11, top_n=10)\n"
      ]
    },
    {
      "cell_type": "markdown",
      "id": "07cc7641",
      "metadata": {
        "id": "07cc7641"
      },
      "source": [
        "## Recomendador HIBRIDO"
      ]
    },
    {
      "cell_type": "code",
      "execution_count": 36,
      "id": "7dca8926",
      "metadata": {},
      "outputs": [],
      "source": [
        "pd_precios = pd.read_csv('./df_precios.csv' , sep=\",\", encoding=\"utf-8\")\n",
        "precios = pd_precios.copy()"
      ]
    },
    {
      "cell_type": "code",
      "execution_count": 37,
      "id": "aU-SAGDxEkWV",
      "metadata": {
        "id": "aU-SAGDxEkWV"
      },
      "outputs": [],
      "source": [
        "def recomendar_hibrido(cliente_id, top_n=10, alpha=0.5):\n",
        "    # Validar que cliente exista en el mapping de LightFM\n",
        "    if cliente_id not in dataset.mapping()[0]:\n",
        "        return f\"Cliente {cliente_id} no está en el dataset de LightFM.\"\n",
        "\n",
        "    # Productos ya comprados\n",
        "    productos_comprados = set(b2c[b2c['id'] == cliente_id]['producto'].unique())\n",
        "    productos_totales = b2c['producto'].unique()\n",
        "    productos_candidatos = list(set(productos_totales) - productos_comprados)\n",
        "\n",
        "    if not productos_candidatos:\n",
        "        return f\"Cliente {cliente_id} ya ha comprado todos los productos.\"\n",
        "\n",
        "    # --- LightFM: obtener scores ---\n",
        "    usuario_interno = dataset.mapping()[0][cliente_id]\n",
        "    productos_idx = [dataset.mapping()[2][p] for p in productos_candidatos if p in dataset.mapping()[2]]\n",
        "    scores_lfm = model.predict(usuario_interno, productos_idx, user_features=user_features, item_features=item_features)\n",
        "\n",
        "    # Mapear scores a productos\n",
        "    lfm_scores = pd.DataFrame({'producto': [p for p in productos_candidatos if p in dataset.mapping()[2]],\n",
        "                               'score_lfm': scores_lfm})\n",
        "\n",
        "    # --- XGBoost: obtener scores ---\n",
        "    df_pred = pd.DataFrame({'id': cliente_id, 'producto': lfm_scores['producto']})\n",
        "    df_pred = df_pred.merge(features_usuario, on='id', how='left')\n",
        "    df_pred = df_pred.merge(features_producto, on='producto', how='left')\n",
        "    df_pred.fillna(\"desconocido\", inplace=True)\n",
        "\n",
        "    if 'color' in df_pred.columns and df_pred['color'].nunique() > 20:\n",
        "        top_colores = features_producto['color'].value_counts().nlargest(20).index\n",
        "        df_pred['color'] = df_pred['color'].where(df_pred['color'].isin(top_colores), 'otros')\n",
        "\n",
        "    for col in ['cluster', 'categoria_macro', 'subcategoria', 'color']:\n",
        "        if col in df_pred.columns:\n",
        "            df_pred[col] = df_pred[col].astype('category')\n",
        "\n",
        "    X_pred = df_pred.drop(columns=['id', 'producto'])\n",
        "    scores_xgb = modelo_xgb.predict_proba(X_pred)[:, 1]\n",
        "\n",
        "    # Combinar scores\n",
        "    if lfm_scores['score_lfm'].nunique() > 1:\n",
        "        min_lfm = lfm_scores['score_lfm'].min()\n",
        "        max_lfm = lfm_scores['score_lfm'].max()\n",
        "        lfm_scores['score_lfm_norm'] = (lfm_scores['score_lfm'] - min_lfm) / (max_lfm - min_lfm)\n",
        "    else:\n",
        "        lfm_scores['score_lfm_norm'] = 0.5  \n",
        "\n",
        "    lfm_scores['score_xgb'] = scores_xgb\n",
        "    lfm_scores['score_hibrido'] = alpha * lfm_scores['score_lfm_norm'] + (1 - alpha) * lfm_scores['score_xgb']\n",
        "\n",
        "    # --- Alineación estratégica ---\n",
        "    alineacion_dict = b2c.drop_duplicates('producto').set_index('producto')['alineación con portafolio estratégico'].to_dict()\n",
        "    lfm_scores['alineación estratégica'] = lfm_scores['producto'].map(alineacion_dict)\n",
        "\n",
        "    # --- Precio ---\n",
        "    precios_dict = precios.set_index('producto')['precio'].to_dict()\n",
        "    lfm_scores['precio'] = lfm_scores['producto'].map(precios_dict)\n",
        "    lfm_scores = lfm_scores[lfm_scores['precio'].notna()]\n",
        "\n",
        "    # --- Valor esperado ---\n",
        "    lfm_scores['valor_esperado'] = lfm_scores['score_hibrido'] * lfm_scores['precio']\n",
        "\n",
        "    # Ordenar y devolver top N\n",
        "    top_recomendaciones = lfm_scores.sort_values('score_hibrido', ascending=False).head(top_n)\n",
        "\n",
        "    return top_recomendaciones[['producto', 'score_lfm_norm', 'score_xgb', 'score_hibrido',\n",
        "                                 'alineación estratégica', 'precio', 'valor_esperado']]\n"
      ]
    },
    {
      "cell_type": "code",
      "execution_count": 38,
      "id": "t1HGqDOkFEiY",
      "metadata": {
        "colab": {
          "base_uri": "https://localhost:8080/",
          "height": 363
        },
        "id": "t1HGqDOkFEiY",
        "outputId": "eb4b0bf3-8d78-431f-84c7-cb0f7a2a77d8"
      },
      "outputs": [
        {
          "data": {
            "text/html": [
              "<div>\n",
              "<style scoped>\n",
              "    .dataframe tbody tr th:only-of-type {\n",
              "        vertical-align: middle;\n",
              "    }\n",
              "\n",
              "    .dataframe tbody tr th {\n",
              "        vertical-align: top;\n",
              "    }\n",
              "\n",
              "    .dataframe thead th {\n",
              "        text-align: right;\n",
              "    }\n",
              "</style>\n",
              "<table border=\"1\" class=\"dataframe\">\n",
              "  <thead>\n",
              "    <tr style=\"text-align: right;\">\n",
              "      <th></th>\n",
              "      <th>producto</th>\n",
              "      <th>score_lfm_norm</th>\n",
              "      <th>score_xgb</th>\n",
              "      <th>score_hibrido</th>\n",
              "      <th>alineación estratégica</th>\n",
              "      <th>precio</th>\n",
              "      <th>valor_esperado</th>\n",
              "    </tr>\n",
              "  </thead>\n",
              "  <tbody>\n",
              "    <tr>\n",
              "      <th>784</th>\n",
              "      <td>producto_28</td>\n",
              "      <td>0.985625</td>\n",
              "      <td>0.974872</td>\n",
              "      <td>0.981324</td>\n",
              "      <td>0.038016</td>\n",
              "      <td>0.346619</td>\n",
              "      <td>0.340146</td>\n",
              "    </tr>\n",
              "    <tr>\n",
              "      <th>6702</th>\n",
              "      <td>producto_27</td>\n",
              "      <td>0.985631</td>\n",
              "      <td>0.972189</td>\n",
              "      <td>0.980254</td>\n",
              "      <td>0.041472</td>\n",
              "      <td>0.368714</td>\n",
              "      <td>0.361434</td>\n",
              "    </tr>\n",
              "    <tr>\n",
              "      <th>1617</th>\n",
              "      <td>producto_277</td>\n",
              "      <td>0.985637</td>\n",
              "      <td>0.950663</td>\n",
              "      <td>0.971647</td>\n",
              "      <td>0.200448</td>\n",
              "      <td>1.698571</td>\n",
              "      <td>1.650412</td>\n",
              "    </tr>\n",
              "    <tr>\n",
              "      <th>4947</th>\n",
              "      <td>producto_1227</td>\n",
              "      <td>0.974117</td>\n",
              "      <td>0.892908</td>\n",
              "      <td>0.941633</td>\n",
              "      <td>0.110592</td>\n",
              "      <td>0.441214</td>\n",
              "      <td>0.415462</td>\n",
              "    </tr>\n",
              "    <tr>\n",
              "      <th>3287</th>\n",
              "      <td>producto_101</td>\n",
              "      <td>0.985428</td>\n",
              "      <td>0.867990</td>\n",
              "      <td>0.938453</td>\n",
              "      <td>0.210816</td>\n",
              "      <td>1.640572</td>\n",
              "      <td>1.539599</td>\n",
              "    </tr>\n",
              "    <tr>\n",
              "      <th>2926</th>\n",
              "      <td>producto_115</td>\n",
              "      <td>0.985406</td>\n",
              "      <td>0.867990</td>\n",
              "      <td>0.938440</td>\n",
              "      <td>0.210816</td>\n",
              "      <td>1.657143</td>\n",
              "      <td>1.555129</td>\n",
              "    </tr>\n",
              "    <tr>\n",
              "      <th>467</th>\n",
              "      <td>producto_648</td>\n",
              "      <td>0.961773</td>\n",
              "      <td>0.874970</td>\n",
              "      <td>0.927052</td>\n",
              "      <td>0.411264</td>\n",
              "      <td>3.287357</td>\n",
              "      <td>3.047549</td>\n",
              "    </tr>\n",
              "    <tr>\n",
              "      <th>6583</th>\n",
              "      <td>producto_30</td>\n",
              "      <td>0.950757</td>\n",
              "      <td>0.862492</td>\n",
              "      <td>0.915451</td>\n",
              "      <td>0.186624</td>\n",
              "      <td>1.684762</td>\n",
              "      <td>1.542318</td>\n",
              "    </tr>\n",
              "    <tr>\n",
              "      <th>908</th>\n",
              "      <td>producto_609</td>\n",
              "      <td>0.938504</td>\n",
              "      <td>0.870861</td>\n",
              "      <td>0.911447</td>\n",
              "      <td>0.273024</td>\n",
              "      <td>3.219000</td>\n",
              "      <td>2.933946</td>\n",
              "    </tr>\n",
              "    <tr>\n",
              "      <th>6564</th>\n",
              "      <td>producto_258</td>\n",
              "      <td>0.960956</td>\n",
              "      <td>0.823758</td>\n",
              "      <td>0.906077</td>\n",
              "      <td>0.400896</td>\n",
              "      <td>4.747714</td>\n",
              "      <td>4.301794</td>\n",
              "    </tr>\n",
              "  </tbody>\n",
              "</table>\n",
              "</div>"
            ],
            "text/plain": [
              "           producto  score_lfm_norm  score_xgb  score_hibrido  \\\n",
              "784     producto_28        0.985625   0.974872       0.981324   \n",
              "6702    producto_27        0.985631   0.972189       0.980254   \n",
              "1617   producto_277        0.985637   0.950663       0.971647   \n",
              "4947  producto_1227        0.974117   0.892908       0.941633   \n",
              "3287   producto_101        0.985428   0.867990       0.938453   \n",
              "2926   producto_115        0.985406   0.867990       0.938440   \n",
              "467    producto_648        0.961773   0.874970       0.927052   \n",
              "6583    producto_30        0.950757   0.862492       0.915451   \n",
              "908    producto_609        0.938504   0.870861       0.911447   \n",
              "6564   producto_258        0.960956   0.823758       0.906077   \n",
              "\n",
              "      alineación estratégica    precio  valor_esperado  \n",
              "784                 0.038016  0.346619        0.340146  \n",
              "6702                0.041472  0.368714        0.361434  \n",
              "1617                0.200448  1.698571        1.650412  \n",
              "4947                0.110592  0.441214        0.415462  \n",
              "3287                0.210816  1.640572        1.539599  \n",
              "2926                0.210816  1.657143        1.555129  \n",
              "467                 0.411264  3.287357        3.047549  \n",
              "6583                0.186624  1.684762        1.542318  \n",
              "908                 0.273024  3.219000        2.933946  \n",
              "6564                0.400896  4.747714        4.301794  "
            ]
          },
          "execution_count": 38,
          "metadata": {},
          "output_type": "execute_result"
        }
      ],
      "source": [
        "recomendar_hibrido(cliente_id=2, top_n=10, alpha=0.6)\n"
      ]
    },
    {
      "cell_type": "markdown",
      "id": "Z5SgcSVjGAbQ",
      "metadata": {
        "id": "Z5SgcSVjGAbQ"
      },
      "source": [
        "## Comparación de Modelos"
      ]
    },
    {
      "cell_type": "code",
      "execution_count": 46,
      "id": "uWobzmR6F9n0",
      "metadata": {
        "id": "uWobzmR6F9n0"
      },
      "outputs": [],
      "source": [
        "def comparar_modelos(cliente_id, top_n=30, alpha=0.5, normalizar_lfm=True):\n",
        "    df_scores = recomendar_hibrido(cliente_id=cliente_id, top_n=top_n, alpha=alpha)\n",
        "\n",
        "    if isinstance(df_scores, str):\n",
        "        print(df_scores)\n",
        "        return\n",
        "\n",
        "\n",
        "    # --- Escalar LightFM si se requiere ---\n",
        "    cols_plot = ['score_lfm_norm', 'score_xgb', 'score_hibrido']\n",
        "\n",
        "    # --- Estadísticas ---\n",
        "    print(\"Estadísticas de scores:\")\n",
        "    for col in cols_plot:\n",
        "        print(f\"\\n{col}:\")\n",
        "        print(df_scores[col].describe())\n",
        "\n",
        "    # --- Gráfica mejorada ---\n",
        "    df_plot = df_scores.melt(id_vars='producto', value_vars=cols_plot,\n",
        "                             var_name='modelo', value_name='score')\n",
        "\n",
        "    plt.figure(figsize=(14, 6))\n",
        "    sns.barplot(data=df_plot, x='producto', y='score', hue='modelo', palette='Set2')\n",
        "    plt.xticks(rotation=45, ha='right')\n",
        "    plt.title(f\"Comparación de scores normalizados para Cliente {cliente_id}\" if normalizar_lfm else f\"Comparación de scores para Cliente {cliente_id}\")\n",
        "    plt.ylabel(\"Score\")\n",
        "    plt.xlabel(\"Producto\")\n",
        "    plt.legend(title='Modelo')\n",
        "    plt.tight_layout()\n",
        "    plt.show()\n",
        "\n",
        "    # --- Ranking comparado ---\n",
        "    df_scores['rank_lfm'] = df_scores['score_lfm_norm'].rank(ascending=False)\n",
        "    df_scores['rank_xgb'] = df_scores['score_xgb'].rank(ascending=False)\n",
        "    df_scores['rank_diff'] = df_scores['rank_xgb'] - df_scores['rank_lfm']\n",
        "    print(\"\\nTop 5 mayores diferencias de ranking (XGBoost vs LightFM):\")\n",
        "    print(df_scores[['producto', 'rank_lfm', 'rank_xgb', 'rank_diff']].sort_values('rank_diff', key=abs, ascending=False).head())\n"
      ]
    },
    {
      "cell_type": "code",
      "execution_count": 47,
      "id": "CU5FleHwGEeg",
      "metadata": {
        "colab": {
          "base_uri": "https://localhost:8080/",
          "height": 1000
        },
        "id": "CU5FleHwGEeg",
        "outputId": "9ce58eca-e917-49a2-f4b8-22e82340e17b"
      },
      "outputs": [
        {
          "name": "stdout",
          "output_type": "stream",
          "text": [
            "Estadísticas de scores:\n",
            "\n",
            "score_lfm_norm:\n",
            "count    15.000000\n",
            "mean      0.966431\n",
            "std       0.016282\n",
            "min       0.938504\n",
            "25%       0.958603\n",
            "50%       0.961747\n",
            "75%       0.985417\n",
            "max       0.985637\n",
            "Name: score_lfm_norm, dtype: float64\n",
            "\n",
            "score_xgb:\n",
            "count    15.000000\n",
            "mean      0.867275\n",
            "std       0.060339\n",
            "min       0.784847\n",
            "25%       0.822550\n",
            "50%       0.867990\n",
            "75%       0.883939\n",
            "max       0.974872\n",
            "Name: score_xgb, dtype: float64\n",
            "\n",
            "score_hibrido:\n",
            "count    15.000000\n",
            "mean      0.926768\n",
            "std       0.030955\n",
            "min       0.890987\n",
            "25%       0.903301\n",
            "50%       0.915451\n",
            "75%       0.940043\n",
            "max       0.981324\n",
            "Name: score_hibrido, dtype: float64\n"
          ]
        },
        {
          "data": {
            "image/png": "[encoded data removed]",
            "text/plain": [
              "<Figure size 1400x600 with 1 Axes>"
            ]
          },
          "metadata": {},
          "output_type": "display_data"
        },
        {
          "name": "stdout",
          "output_type": "stream",
          "text": [
            "\n",
            "Top 5 mayores diferencias de ranking (XGBoost vs LightFM):\n",
            "          producto  rank_lfm  rank_xgb  rank_diff\n",
            "908   producto_609      15.0       6.0       -9.0\n",
            "6026  producto_647       8.0      15.0        7.0\n",
            "6583   producto_30      13.0       9.0       -4.0\n",
            "4503  producto_279      14.0      10.0       -4.0\n",
            "2274  producto_208       9.0      13.0        4.0\n"
          ]
        }
      ],
      "source": [
        "comparar_modelos(cliente_id=2, top_n=15, alpha=0.6)\n"
      ]
    },
    {
      "cell_type": "code",
      "execution_count": 48,
      "id": "zUsCknyJ70Kt",
      "metadata": {
        "id": "zUsCknyJ70Kt"
      },
      "outputs": [
        {
          "data": {
            "text/plain": [
              "['modelos/b2c_item_features.pkl']"
            ]
          },
          "execution_count": 48,
          "metadata": {},
          "output_type": "execute_result"
        }
      ],
      "source": [
        "import joblib\n",
        "import os\n",
        "\n",
        " # Crear carpeta si no existe\n",
        "os.makedirs(\"modelos\", exist_ok=True)\n",
        "\n",
        "# # Guardar modelos B2C\n",
        "# joblib.dump(modelo_xgb, 'modelos/b2c_model_xgb.pkl')\n",
        "# joblib.dump(model, 'modelos/b2c_model_lfm.pkl')\n",
        "# joblib.dump(dataset, 'modelos/b2c_dataset.pkl')\n",
        "joblib.dump(user_features, 'modelos/b2c_user_features.pkl')\n",
        "joblib.dump(item_features, 'modelos/b2c_item_features.pkl')\n",
        "\n",
        "\n",
        "# print(\"Modelos y objetos B2C guardados correctamente.\")"
      ]
    },
    {
      "cell_type": "code",
      "execution_count": 49,
      "id": "BBESoncjH3MP",
      "metadata": {
        "colab": {
          "base_uri": "https://localhost:8080/"
        },
        "id": "BBESoncjH3MP",
        "outputId": "811a3680-738d-485f-bf71-2d90e07ccbcb"
      },
      "outputs": [
        {
          "name": "stdout",
          "output_type": "stream",
          "text": [
            "Métricas del modelo híbrido B2C:\n",
            "- Media score híbrido: 0.906000018119812\n",
            "- Máximo score híbrido: 0.9807999730110168\n",
            "- Mínimo score híbrido: 0.8748000264167786\n",
            "- Desviación estándar: 0.03449999913573265\n"
          ]
        }
      ],
      "source": [
        "# Obtener recomendaciones híbridas para un cliente B2C\n",
        "df_hibrido_b2c = recomendar_hibrido(cliente_id=11, top_n=20, alpha=0.5)\n",
        "\n",
        "# Validar si se obtuvo un DataFrame o un mensaje de error\n",
        "if isinstance(df_hibrido_b2c, pd.DataFrame):\n",
        "    # Crear diccionario con métricas estadísticas del modelo híbrido\n",
        "    metricas_hibrido_b2c = {\n",
        "        \"Media score híbrido\": round(df_hibrido_b2c[\"score_hibrido\"].mean(), 4),\n",
        "        \"Máximo score híbrido\": round(df_hibrido_b2c[\"score_hibrido\"].max(), 4),\n",
        "        \"Mínimo score híbrido\": round(df_hibrido_b2c[\"score_hibrido\"].min(), 4),\n",
        "        \"Desviación estándar\": round(df_hibrido_b2c[\"score_hibrido\"].std(), 4)\n",
        "    }\n",
        "\n",
        "    print(\"Métricas del modelo híbrido B2C:\")\n",
        "    for k, v in metricas_hibrido_b2c.items():\n",
        "        print(f\"- {k}: {v}\")\n",
        "else:\n",
        "    print(f\"Error: {df_hibrido_b2c}\")\n"
      ]
    },
    {
      "cell_type": "code",
      "execution_count": 50,
      "id": "24G_Isgd4n_8",
      "metadata": {
        "id": "24G_Isgd4n_8"
      },
      "outputs": [],
      "source": [
        "import ipywidgets as widgets\n",
        "from IPython.display import display, clear_output\n",
        "import matplotlib.pyplot as plt\n"
      ]
    },
    {
      "cell_type": "code",
      "execution_count": 51,
      "id": "Y7-WFN7ecVvC",
      "metadata": {
        "colab": {
          "base_uri": "https://localhost:8080/",
          "height": 145,
          "referenced_widgets": [
            "5fedfe2c8f4645f590863f409163a51c",
            "dbe6fc0becc841eeaa91090fdbba85b9",
            "737d8f74792f47bead2af57e78329820",
            "8d8750f25ec04ec6a48103a46d74a3c2",
            "2371d5ad5f3643ec969b711c929dae32",
            "9665f090a8724e89a45bae2d91e08026",
            "924b3c4886104f0dbedea225ac01c12a",
            "b61511f40ba943c0931570347c19ff8e",
            "2c62fb93655e4f0cbf45a6071f5fd301",
            "2d73f277de89496fbd318edcd320177f",
            "e977fcc1b64d4b5b8f53b8df97afadf0",
            "98c88df033cf4296a4a1104372e5e1fb",
            "45576278b8f8451ebe7c7b08ac7485ca",
            "00d8529f16ec439b9f06c857ddc5cea5",
            "509c54bf30734b929683eaa3bd7ff35a",
            "04b2f61419db4d60815f455a867eee72"
          ]
        },
        "id": "Y7-WFN7ecVvC",
        "outputId": "5c5a89a4-8e84-4d18-c836-59422ddc048e"
      },
      "outputs": [
        {
          "data": {
            "application/vnd.jupyter.widget-view+json": {
              "model_id": "617e500cb27e4722a9ca11cef3035ed0",
              "version_major": 2,
              "version_minor": 0
            },
            "text/plain": [
              "VBox(children=(Text(value='11', description='Cliente ID:', placeholder='ID del cliente'), IntSlider(value=10, …"
            ]
          },
          "metadata": {},
          "output_type": "display_data"
        }
      ],
      "source": [
        "# Librerías\n",
        "import ipywidgets as widgets\n",
        "from IPython.display import display, clear_output\n",
        "import matplotlib.pyplot as plt\n",
        "import seaborn as sns\n",
        "import pandas as pd\n",
        "from sklearn.metrics import accuracy_score, precision_score, recall_score, f1_score, roc_auc_score\n",
        "\n",
        "# Inputs\n",
        "id_input = widgets.Text(\n",
        "    value='11',\n",
        "    placeholder='ID del cliente',\n",
        "    description='Cliente ID:',\n",
        "    disabled=False\n",
        ")\n",
        "\n",
        "topn_slider = widgets.IntSlider(\n",
        "    value=10,\n",
        "    min=1,\n",
        "    max=30,\n",
        "    step=1,\n",
        "    description='Top-N:',\n",
        "    continuous_update=False\n",
        ")\n",
        "\n",
        "alpha_slider = widgets.FloatSlider(\n",
        "    value=0.5,\n",
        "    min=0.0,\n",
        "    max=1.0,\n",
        "    step=0.05,\n",
        "    description='Peso LFM (α):',\n",
        "    continuous_update=False\n",
        ")\n",
        "\n",
        "btn = widgets.Button(description=\"Comparar Modelos\")\n",
        "output = widgets.Output()\n",
        "\n",
        "# Lógica\n",
        "def on_click(b):\n",
        "    output.clear_output()\n",
        "    with output:\n",
        "        try:\n",
        "            cliente_id = int(id_input.value)\n",
        "            topn = topn_slider.value\n",
        "            alpha = alpha_slider.value\n",
        "\n",
        "            df_scores = recomendar_hibrido(cliente_id=cliente_id, top_n=topn, alpha=alpha)\n",
        "\n",
        "            if isinstance(df_scores, str):\n",
        "                print(df_scores)\n",
        "                return\n",
        "\n",
        "            # --- Normalizar LightFM ---\n",
        "            min_lfm, max_lfm = df_scores['score_lfm'].min(), df_scores['score_lfm'].max()\n",
        "            df_scores['score_lfm_norm'] = (df_scores['score_lfm'] - min_lfm) / (max_lfm - min_lfm)\n",
        "            df_scores['score_hibrido_norm'] = alpha * df_scores['score_lfm_norm'] + (1 - alpha) * df_scores['score_xgb']\n",
        "\n",
        "            # --- Gráfico de scores ---\n",
        "            df_plot = df_scores.melt(\n",
        "                id_vars='producto',\n",
        "                value_vars=['score_lfm_norm', 'score_xgb', 'score_hibrido_norm'],\n",
        "                var_name='modelo', value_name='score'\n",
        "            )\n",
        "\n",
        "            plt.figure(figsize=(14, 6))\n",
        "            sns.barplot(data=df_plot, x='producto', y='score', hue='modelo', palette='Blues')\n",
        "            plt.title(f\"Comparación de scores normalizados para Cliente {cliente_id}\")\n",
        "            plt.xticks(rotation=45, ha='right')\n",
        "            plt.tight_layout()\n",
        "            plt.show()\n",
        "\n",
        "            # --- Añadir columna de alineación estratégica ---\n",
        "            alineacion_dict = b2c.drop_duplicates('producto').set_index('producto')['alineación con portafolio estratégico'].to_dict()\n",
        "            df_scores['alineación estratégica'] = df_scores['producto'].map(alineacion_dict)\n",
        "\n",
        "\n",
        "            # --- Tabla con scores promedio ---\n",
        "\n",
        "            df_scores['score_promedio'] = df_scores[['score_lfm_norm', 'score_xgb']].mean(axis=1)\n",
        "            tabla = df_scores[['producto', 'score_lfm_norm', 'score_xgb', 'score_promedio', 'alineación estratégica']].sort_values(\n",
        "                'score_promedio', ascending=False).reset_index(drop=True)\n",
        "\n",
        "            display(tabla)\n",
        "\n",
        "            # Imprimir métricas de cada modelo por separado\n",
        "            print(\"\\nMétricas del modelo XGBoost:\")\n",
        "            for k, v in metricas_xgb_b2c.items():\n",
        "                print(f\"{k}: {v:.4f}\")\n",
        "\n",
        "            print(\"\\nMétricas del modelo LightFM:\")\n",
        "            for k, v in metricas_lfm_b2c.items():\n",
        "                print(f\"{k}: {v:.4f}\")\n",
        "\n",
        "            print(\"\\nMétricas del modelo Híbrido:\")\n",
        "            for k, v in metricas_hibrido_b2c.items():\n",
        "                print(f\"{k}: {v:.4f}\")\n",
        "\n",
        "        except Exception as e:\n",
        "            print(f\"Error: {e}\")\n",
        "\n",
        "btn.on_click(on_click)\n",
        "\n",
        "# Mostrar interfaz\n",
        "display(widgets.VBox([\n",
        "    id_input,\n",
        "    topn_slider,\n",
        "    alpha_slider,\n",
        "    btn,\n",
        "    output\n",
        "]))\n"
      ]
    },
    {
      "cell_type": "markdown",
      "id": "-rpuKLGUWFEK",
      "metadata": {
        "id": "-rpuKLGUWFEK"
      },
      "source": [
        "#Validación"
      ]
    },
    {
      "cell_type": "code",
      "execution_count": 53,
      "id": "fsVzG9x_WEpG",
      "metadata": {
        "id": "fsVzG9x_WEpG"
      },
      "outputs": [],
      "source": [
        "pd_validacion = pd.read_csv('./df_validacion.csv' , sep=\",\", encoding=\"utf-8\")"
      ]
    },
    {
      "cell_type": "code",
      "execution_count": 54,
      "id": "b4WD5i6pWTyW",
      "metadata": {
        "id": "b4WD5i6pWTyW"
      },
      "outputs": [],
      "source": [
        "val = pd_validacion.copy()"
      ]
    },
    {
      "cell_type": "markdown",
      "id": "KoxYXQ8VcOPR",
      "metadata": {
        "id": "KoxYXQ8VcOPR"
      },
      "source": [
        "Modificaciones df de validación"
      ]
    },
    {
      "cell_type": "code",
      "execution_count": 55,
      "id": "qdmW6Cgob3mk",
      "metadata": {
        "id": "qdmW6Cgob3mk"
      },
      "outputs": [],
      "source": [
        "val = val.drop_duplicates(subset='id').reset_index(drop=True)\n",
        "\n",
        "val['precio'] = None\n"
      ]
    },
    {
      "cell_type": "code",
      "execution_count": 56,
      "id": "oDJEyn3zYOo9",
      "metadata": {
        "colab": {
          "base_uri": "https://localhost:8080/"
        },
        "id": "oDJEyn3zYOo9",
        "outputId": "36e1f11d-d4cd-4d42-aecc-f03c25281159"
      },
      "outputs": [
        {
          "name": "stderr",
          "output_type": "stream",
          "text": [
            "/var/folders/lb/6vdrbbsj6mjgyd4k3jj3x65w0000gn/T/ipykernel_1737/2626476324.py:18: FutureWarning: Setting an item of incompatible dtype is deprecated and will raise an error in a future version of pandas. Value 'producto_28' has dtype incompatible with float64, please explicitly cast to a compatible dtype first.\n",
            "  val.at[i, 'producto_recomendado'] = recomendado\n"
          ]
        }
      ],
      "source": [
        "for i, row in val.iterrows():\n",
        "    cliente_id = row['id']\n",
        "\n",
        "    df_scores = recomendar_hibrido(cliente_id=cliente_id, top_n=1, alpha=0.3)\n",
        "\n",
        "    if isinstance(df_scores, str) or df_scores.empty:\n",
        "        continue\n",
        "\n",
        "    # Top 1\n",
        "    top_1 = df_scores.iloc[0]\n",
        "    recomendado = top_1['producto']\n",
        "\n",
        "    # Escoger el score más alto entre los tres\n",
        "    score = max(top_1.get('score_lfm_norm', 0), top_1.get('score_xgb', 0), top_1.get('score_hibrido_norm', 0))\n",
        "\n",
        "\n",
        "    # Asignar al DataFrame\n",
        "    val.at[i, 'producto_recomendado'] = recomendado\n",
        "    val.at[i, 'score'] = score\n"
      ]
    },
    {
      "cell_type": "code",
      "execution_count": 57,
      "id": "Y89OAFCqbll9",
      "metadata": {
        "colab": {
          "base_uri": "https://localhost:8080/",
          "height": 363
        },
        "id": "Y89OAFCqbll9",
        "outputId": "b0c00462-5a2f-4d26-ccf9-e64a73de8b36"
      },
      "outputs": [
        {
          "data": {
            "text/html": [
              "<div>\n",
              "<style scoped>\n",
              "    .dataframe tbody tr th:only-of-type {\n",
              "        vertical-align: middle;\n",
              "    }\n",
              "\n",
              "    .dataframe tbody tr th {\n",
              "        vertical-align: top;\n",
              "    }\n",
              "\n",
              "    .dataframe thead th {\n",
              "        text-align: right;\n",
              "    }\n",
              "</style>\n",
              "<table border=\"1\" class=\"dataframe\">\n",
              "  <thead>\n",
              "    <tr style=\"text-align: right;\">\n",
              "      <th></th>\n",
              "      <th>id</th>\n",
              "      <th>producto_recomendado</th>\n",
              "      <th>score</th>\n",
              "      <th>alineación estratégica</th>\n",
              "      <th>producto_comprado</th>\n",
              "      <th>producto_fallido</th>\n",
              "      <th>precio</th>\n",
              "    </tr>\n",
              "  </thead>\n",
              "  <tbody>\n",
              "    <tr>\n",
              "      <th>0</th>\n",
              "      <td>360448</td>\n",
              "      <td>producto_28</td>\n",
              "      <td>0.993155</td>\n",
              "      <td>NaN</td>\n",
              "      <td>producto_553</td>\n",
              "      <td>producto_1135</td>\n",
              "      <td>None</td>\n",
              "    </tr>\n",
              "    <tr>\n",
              "      <th>1</th>\n",
              "      <td>245762</td>\n",
              "      <td>producto_28</td>\n",
              "      <td>0.973629</td>\n",
              "      <td>NaN</td>\n",
              "      <td>producto_2809</td>\n",
              "      <td>producto_65</td>\n",
              "      <td>None</td>\n",
              "    </tr>\n",
              "    <tr>\n",
              "      <th>2</th>\n",
              "      <td>40963</td>\n",
              "      <td>producto_28</td>\n",
              "      <td>0.986279</td>\n",
              "      <td>NaN</td>\n",
              "      <td>producto_30</td>\n",
              "      <td>producto_2331</td>\n",
              "      <td>None</td>\n",
              "    </tr>\n",
              "    <tr>\n",
              "      <th>3</th>\n",
              "      <td>385027</td>\n",
              "      <td>producto_28</td>\n",
              "      <td>0.984726</td>\n",
              "      <td>NaN</td>\n",
              "      <td>producto_41</td>\n",
              "      <td>producto_804</td>\n",
              "      <td>None</td>\n",
              "    </tr>\n",
              "    <tr>\n",
              "      <th>4</th>\n",
              "      <td>131083</td>\n",
              "      <td>producto_28</td>\n",
              "      <td>0.983399</td>\n",
              "      <td>NaN</td>\n",
              "      <td>producto_1247</td>\n",
              "      <td>producto_279</td>\n",
              "      <td>None</td>\n",
              "    </tr>\n",
              "    <tr>\n",
              "      <th>5</th>\n",
              "      <td>327692</td>\n",
              "      <td>producto_28</td>\n",
              "      <td>0.985205</td>\n",
              "      <td>NaN</td>\n",
              "      <td>producto_65</td>\n",
              "      <td>producto_1038</td>\n",
              "      <td>None</td>\n",
              "    </tr>\n",
              "    <tr>\n",
              "      <th>6</th>\n",
              "      <td>245773</td>\n",
              "      <td>producto_27</td>\n",
              "      <td>0.983128</td>\n",
              "      <td>NaN</td>\n",
              "      <td>producto_849</td>\n",
              "      <td>producto_1516</td>\n",
              "      <td>None</td>\n",
              "    </tr>\n",
              "    <tr>\n",
              "      <th>7</th>\n",
              "      <td>245774</td>\n",
              "      <td>producto_28</td>\n",
              "      <td>0.978932</td>\n",
              "      <td>NaN</td>\n",
              "      <td>producto_486</td>\n",
              "      <td>producto_513</td>\n",
              "      <td>None</td>\n",
              "    </tr>\n",
              "    <tr>\n",
              "      <th>8</th>\n",
              "      <td>122893</td>\n",
              "      <td>producto_28</td>\n",
              "      <td>0.985010</td>\n",
              "      <td>NaN</td>\n",
              "      <td>producto_816</td>\n",
              "      <td>producto_2052</td>\n",
              "      <td>None</td>\n",
              "    </tr>\n",
              "    <tr>\n",
              "      <th>9</th>\n",
              "      <td>385040</td>\n",
              "      <td>producto_28</td>\n",
              "      <td>0.990115</td>\n",
              "      <td>NaN</td>\n",
              "      <td>producto_1195</td>\n",
              "      <td>producto_126</td>\n",
              "      <td>None</td>\n",
              "    </tr>\n",
              "  </tbody>\n",
              "</table>\n",
              "</div>"
            ],
            "text/plain": [
              "       id producto_recomendado     score  alineación estratégica  \\\n",
              "0  360448          producto_28  0.993155                     NaN   \n",
              "1  245762          producto_28  0.973629                     NaN   \n",
              "2   40963          producto_28  0.986279                     NaN   \n",
              "3  385027          producto_28  0.984726                     NaN   \n",
              "4  131083          producto_28  0.983399                     NaN   \n",
              "5  327692          producto_28  0.985205                     NaN   \n",
              "6  245773          producto_27  0.983128                     NaN   \n",
              "7  245774          producto_28  0.978932                     NaN   \n",
              "8  122893          producto_28  0.985010                     NaN   \n",
              "9  385040          producto_28  0.990115                     NaN   \n",
              "\n",
              "  producto_comprado producto_fallido precio  \n",
              "0      producto_553    producto_1135   None  \n",
              "1     producto_2809      producto_65   None  \n",
              "2       producto_30    producto_2331   None  \n",
              "3       producto_41     producto_804   None  \n",
              "4     producto_1247     producto_279   None  \n",
              "5       producto_65    producto_1038   None  \n",
              "6      producto_849    producto_1516   None  \n",
              "7      producto_486     producto_513   None  \n",
              "8      producto_816    producto_2052   None  \n",
              "9     producto_1195     producto_126   None  "
            ]
          },
          "execution_count": 57,
          "metadata": {},
          "output_type": "execute_result"
        }
      ],
      "source": [
        "val.head(10)"
      ]
    },
    {
      "cell_type": "markdown",
      "id": "PyRJcQAPdgRk",
      "metadata": {
        "id": "PyRJcQAPdgRk"
      },
      "source": [
        "### Asignación de precio"
      ]
    },
    {
      "cell_type": "code",
      "execution_count": 58,
      "id": "DHpal1JQdizC",
      "metadata": {
        "id": "DHpal1JQdizC"
      },
      "outputs": [],
      "source": [
        "pd_precios = pd.read_csv('./df_precios.csv' , sep=\",\", encoding=\"utf-8\")"
      ]
    },
    {
      "cell_type": "code",
      "execution_count": 59,
      "id": "RlTNkIqodtaO",
      "metadata": {
        "id": "RlTNkIqodtaO"
      },
      "outputs": [],
      "source": [
        "precios = pd_precios.copy()"
      ]
    },
    {
      "cell_type": "code",
      "execution_count": 60,
      "id": "IPlNkRiT9Fch",
      "metadata": {
        "colab": {
          "base_uri": "https://localhost:8080/"
        },
        "id": "IPlNkRiT9Fch",
        "outputId": "af00ad0e-2245-4eb8-d7eb-71a09bc1524a"
      },
      "outputs": [
        {
          "name": "stdout",
          "output_type": "stream",
          "text": [
            "['producto', 'precio']\n"
          ]
        }
      ],
      "source": [
        "print(precios.columns.tolist())\n"
      ]
    },
    {
      "cell_type": "code",
      "execution_count": 61,
      "id": "LBfpDDZqeCCg",
      "metadata": {
        "id": "LBfpDDZqeCCg"
      },
      "outputs": [],
      "source": [
        "precios_dict = precios.set_index('producto')['precio'].to_dict()\n",
        "\n",
        "\n",
        "val['precio'] = val['producto_recomendado'].map(precios_dict)\n"
      ]
    },
    {
      "cell_type": "markdown",
      "id": "GckLd-qMeGpV",
      "metadata": {
        "id": "GckLd-qMeGpV"
      },
      "source": [
        "### Asignación Alineación con Portafolio estratégico"
      ]
    },
    {
      "cell_type": "code",
      "execution_count": 62,
      "id": "JgPdVPfneN91",
      "metadata": {
        "id": "JgPdVPfneN91"
      },
      "outputs": [],
      "source": [
        "alineacion_dict = b2c.drop_duplicates('producto').set_index('producto')['alineación con portafolio estratégico'].to_dict()\n",
        "\n",
        "val['alineación estratégica'] = val['producto_recomendado'].map(alineacion_dict)\n"
      ]
    },
    {
      "cell_type": "code",
      "execution_count": 63,
      "id": "a85vHUgojcUT",
      "metadata": {
        "colab": {
          "base_uri": "https://localhost:8080/",
          "height": 206
        },
        "id": "a85vHUgojcUT",
        "outputId": "3ede7f27-5490-4d5f-c4e5-481bc7749164"
      },
      "outputs": [
        {
          "data": {
            "text/html": [
              "<div>\n",
              "<style scoped>\n",
              "    .dataframe tbody tr th:only-of-type {\n",
              "        vertical-align: middle;\n",
              "    }\n",
              "\n",
              "    .dataframe tbody tr th {\n",
              "        vertical-align: top;\n",
              "    }\n",
              "\n",
              "    .dataframe thead th {\n",
              "        text-align: right;\n",
              "    }\n",
              "</style>\n",
              "<table border=\"1\" class=\"dataframe\">\n",
              "  <thead>\n",
              "    <tr style=\"text-align: right;\">\n",
              "      <th></th>\n",
              "      <th>id</th>\n",
              "      <th>producto_recomendado</th>\n",
              "      <th>score</th>\n",
              "      <th>alineación estratégica</th>\n",
              "      <th>producto_comprado</th>\n",
              "      <th>producto_fallido</th>\n",
              "      <th>precio</th>\n",
              "    </tr>\n",
              "  </thead>\n",
              "  <tbody>\n",
              "    <tr>\n",
              "      <th>1083</th>\n",
              "      <td>125787</td>\n",
              "      <td>producto_27</td>\n",
              "      <td>0.981047</td>\n",
              "      <td>0.041472</td>\n",
              "      <td>producto_28</td>\n",
              "      <td>producto_4675</td>\n",
              "      <td>0.368714</td>\n",
              "    </tr>\n",
              "    <tr>\n",
              "      <th>3079</th>\n",
              "      <td>81619</td>\n",
              "      <td>producto_28</td>\n",
              "      <td>0.991907</td>\n",
              "      <td>0.038016</td>\n",
              "      <td>producto_1202</td>\n",
              "      <td>producto_115</td>\n",
              "      <td>0.346619</td>\n",
              "    </tr>\n",
              "    <tr>\n",
              "      <th>3075</th>\n",
              "      <td>138946</td>\n",
              "      <td>producto_28</td>\n",
              "      <td>0.990162</td>\n",
              "      <td>0.038016</td>\n",
              "      <td>producto_3284</td>\n",
              "      <td>producto_847</td>\n",
              "      <td>0.346619</td>\n",
              "    </tr>\n",
              "    <tr>\n",
              "      <th>2499</th>\n",
              "      <td>194788</td>\n",
              "      <td>producto_28</td>\n",
              "      <td>0.989225</td>\n",
              "      <td>0.038016</td>\n",
              "      <td>producto_1773</td>\n",
              "      <td>producto_1839</td>\n",
              "      <td>0.346619</td>\n",
              "    </tr>\n",
              "    <tr>\n",
              "      <th>3157</th>\n",
              "      <td>106419</td>\n",
              "      <td>producto_28</td>\n",
              "      <td>0.975263</td>\n",
              "      <td>0.038016</td>\n",
              "      <td>producto_1933</td>\n",
              "      <td>producto_3843</td>\n",
              "      <td>0.346619</td>\n",
              "    </tr>\n",
              "  </tbody>\n",
              "</table>\n",
              "</div>"
            ],
            "text/plain": [
              "          id producto_recomendado     score  alineación estratégica  \\\n",
              "1083  125787          producto_27  0.981047                0.041472   \n",
              "3079   81619          producto_28  0.991907                0.038016   \n",
              "3075  138946          producto_28  0.990162                0.038016   \n",
              "2499  194788          producto_28  0.989225                0.038016   \n",
              "3157  106419          producto_28  0.975263                0.038016   \n",
              "\n",
              "     producto_comprado producto_fallido    precio  \n",
              "1083       producto_28    producto_4675  0.368714  \n",
              "3079     producto_1202     producto_115  0.346619  \n",
              "3075     producto_3284     producto_847  0.346619  \n",
              "2499     producto_1773    producto_1839  0.346619  \n",
              "3157     producto_1933    producto_3843  0.346619  "
            ]
          },
          "execution_count": 63,
          "metadata": {},
          "output_type": "execute_result"
        }
      ],
      "source": [
        "val.sample(5)"
      ]
    },
    {
      "cell_type": "code",
      "execution_count": 64,
      "id": "6kFPDsUVo8Jq",
      "metadata": {
        "colab": {
          "base_uri": "https://localhost:8080/"
        },
        "id": "6kFPDsUVo8Jq",
        "outputId": "9f69e1fe-5781-4ff0-cab3-82cee30cb299"
      },
      "outputs": [
        {
          "name": "stdout",
          "output_type": "stream",
          "text": [
            "Productos sin precio: set()\n"
          ]
        }
      ],
      "source": [
        "productos_faltantes = set(val['producto_recomendado']) - set(precios['producto'])\n",
        "print(\"Productos sin precio:\", productos_faltantes)\n"
      ]
    },
    {
      "cell_type": "code",
      "execution_count": 65,
      "id": "AiLtQosEpDe1",
      "metadata": {
        "id": "AiLtQosEpDe1"
      },
      "outputs": [],
      "source": [
        "val = val[val['precio'].notna()]\n"
      ]
    },
    {
      "cell_type": "markdown",
      "id": "FShN9-R7eui9",
      "metadata": {
        "id": "FShN9-R7eui9"
      },
      "source": [
        "## Cálculo Valor Esperado Ingresos"
      ]
    },
    {
      "cell_type": "code",
      "execution_count": 66,
      "id": "41BGovwuexds",
      "metadata": {
        "id": "41BGovwuexds"
      },
      "outputs": [
        {
          "name": "stdout",
          "output_type": "stream",
          "text": [
            "Valor esperado total: 1289.41\n"
          ]
        }
      ],
      "source": [
        "# Filtrar solo scores positivos\n",
        "val_positivos = val[val['score'] > 0].copy()\n",
        "\n",
        "# Calcular el valor esperado como SumaProducto\n",
        "valor_esperado = (val_positivos['score'] * val_positivos['precio']).sum()\n",
        "\n",
        "print(f\"Valor esperado total: {valor_esperado:.2f}\")\n"
      ]
    },
    {
      "cell_type": "markdown",
      "id": "gSaDMNsZfhvC",
      "metadata": {
        "id": "gSaDMNsZfhvC"
      },
      "source": [
        "## Tasa de alineación estratégica"
      ]
    },
    {
      "cell_type": "code",
      "execution_count": 67,
      "id": "2lIj9iJNflAa",
      "metadata": {
        "id": "2lIj9iJNflAa"
      },
      "outputs": [
        {
          "name": "stdout",
          "output_type": "stream",
          "text": [
            " % de recomendaciones con alta alineación estratégica: 0.00%\n"
          ]
        }
      ],
      "source": [
        "tasa_alta = (val['alineación estratégica'].astype(float) > 0.7).mean()\n",
        "print(f\" % de recomendaciones con alta alineación estratégica: {tasa_alta:.2%}\")\n",
        "\n"
      ]
    },
    {
      "cell_type": "markdown",
      "id": "1oOjT9awq19s",
      "metadata": {
        "id": "1oOjT9awq19s"
      },
      "source": [
        "## Mejora con respecto a la Alineación Estratégica"
      ]
    },
    {
      "cell_type": "code",
      "execution_count": 68,
      "id": "0MvmhFmbq7DK",
      "metadata": {
        "id": "0MvmhFmbq7DK"
      },
      "outputs": [
        {
          "name": "stdout",
          "output_type": "stream",
          "text": [
            "% de recomendaciones con mayor alineación estratégica que el producto fallido: 1.78%\n"
          ]
        }
      ],
      "source": [
        "# Crear diccionario de alineación estratégica por producto\n",
        "alineacion_dict = b2c.drop_duplicates('producto').set_index('producto')['alineación con portafolio estratégico'].to_dict()\n",
        "\n",
        "# Comparar alineación recomendada vs fallida\n",
        "val['alineacion_fallido'] = val['producto_fallido'].map(alineacion_dict)\n",
        "val['mejora_estrategica'] = val['alineación estratégica'].astype(float) > val['alineacion_fallido'].astype(float)\n",
        "\n",
        "tasa_mejora = val['mejora_estrategica'].mean()\n",
        "print(f\"% de recomendaciones con mayor alineación estratégica que el producto fallido: {tasa_mejora:.2%}\")\n"
      ]
    },
    {
      "cell_type": "markdown",
      "id": "d70JUeLtftud",
      "metadata": {
        "id": "d70JUeLtftud"
      },
      "source": [
        "## Valor Esperado por Usuario"
      ]
    },
    {
      "cell_type": "code",
      "execution_count": 69,
      "id": "oP7hJogyfq1l",
      "metadata": {
        "id": "oP7hJogyfq1l"
      },
      "outputs": [
        {
          "name": "stdout",
          "output_type": "stream",
          "text": [
            "Valor esperado promedio por usuario: $0.40\n"
          ]
        }
      ],
      "source": [
        "val['valor_esperado'] = val['score'] * val['precio']\n",
        "promedio_valor = val['valor_esperado'].mean()\n",
        "print(f\"Valor esperado promedio por usuario: ${promedio_valor:,.2f}\")\n",
        "\n"
      ]
    },
    {
      "cell_type": "markdown",
      "id": "kjeaW-urqUU6",
      "metadata": {
        "id": "kjeaW-urqUU6"
      },
      "source": [
        "##Distribución recomendaciones"
      ]
    },
    {
      "cell_type": "code",
      "execution_count": 70,
      "id": "-RHBh9hMp_l_",
      "metadata": {
        "id": "-RHBh9hMp_l_"
      },
      "outputs": [
        {
          "data": {
            "image/png": "[encoded data removed]",
            "text/plain": [
              "<Figure size 640x480 with 1 Axes>"
            ]
          },
          "metadata": {},
          "output_type": "display_data"
        }
      ],
      "source": [
        "sns.histplot(val['score'], bins=20, kde=True)\n",
        "plt.title(\"Distribución de score de recomendación\")\n",
        "plt.xlabel(\"Score\")\n",
        "plt.ylabel(\"Cantidad de recomendaciones\")\n",
        "plt.show()\n"
      ]
    },
    {
      "cell_type": "markdown",
      "id": "74gn8rcVqcG8",
      "metadata": {
        "id": "74gn8rcVqcG8"
      },
      "source": [
        "##Top productos más recomendados"
      ]
    },
    {
      "cell_type": "code",
      "execution_count": 71,
      "id": "2BgUcuClqZZl",
      "metadata": {
        "id": "2BgUcuClqZZl"
      },
      "outputs": [
        {
          "name": "stdout",
          "output_type": "stream",
          "text": [
            "Top 5 productos más recomendados:\n",
            "producto_recomendado\n",
            "producto_28      2816\n",
            "producto_27       235\n",
            "producto_277      120\n",
            "producto_1227      14\n",
            "producto_648       10\n",
            "Name: count, dtype: int64\n"
          ]
        }
      ],
      "source": [
        "top_productos = val['producto_recomendado'].value_counts().head(5)\n",
        "print(\"Top 5 productos más recomendados:\")\n",
        "print(top_productos)\n"
      ]
    }
  ],
  "metadata": {
    "colab": {
      "collapsed_sections": [
        "daad5505"
      ],
      "provenance": []
    },
    "kernelspec": {
      "display_name": "Python 3",
      "language": "python",
      "name": "python3"
    },
    "language_info": {
      "codemirror_mode": {
        "name": "ipython",
        "version": 3
      },
      "file_extension": ".py",
      "mimetype": "text/x-python",
      "name": "python",
      "nbconvert_exporter": "python",
      "pygments_lexer": "ipython3",
      "version": "3.11.9"
    },
    "widgets": {
      "application/vnd.jupyter.widget-state+json": {
        "00d8529f16ec439b9f06c857ddc5cea5": {
          "model_module": "@jupyter-widgets/base",
          "model_module_version": "1.2.0",
          "model_name": "LayoutModel",
          "state": {
            "_model_module": "@jupyter-widgets/base",
            "_model_module_version": "1.2.0",
            "_model_name": "LayoutModel",
            "_view_count": null,
            "_view_module": "@jupyter-widgets/base",
            "_view_module_version": "1.2.0",
            "_view_name": "LayoutView",
            "align_content": null,
            "align_items": null,
            "align_self": null,
            "border": null,
            "bottom": null,
            "display": null,
            "flex": null,
            "flex_flow": null,
            "grid_area": null,
            "grid_auto_columns": null,
            "grid_auto_flow": null,
            "grid_auto_rows": null,
            "grid_column": null,
            "grid_gap": null,
            "grid_row": null,
            "grid_template_areas": null,
            "grid_template_columns": null,
            "grid_template_rows": null,
            "height": null,
            "justify_content": null,
            "justify_items": null,
            "left": null,
            "margin": null,
            "max_height": null,
            "max_width": null,
            "min_height": null,
            "min_width": null,
            "object_fit": null,
            "object_position": null,
            "order": null,
            "overflow": null,
            "overflow_x": null,
            "overflow_y": null,
            "padding": null,
            "right": null,
            "top": null,
            "visibility": null,
            "width": null
          }
        },
        "04b2f61419db4d60815f455a867eee72": {
          "model_module": "@jupyter-widgets/base",
          "model_module_version": "1.2.0",
          "model_name": "LayoutModel",
          "state": {
            "_model_module": "@jupyter-widgets/base",
            "_model_module_version": "1.2.0",
            "_model_name": "LayoutModel",
            "_view_count": null,
            "_view_module": "@jupyter-widgets/base",
            "_view_module_version": "1.2.0",
            "_view_name": "LayoutView",
            "align_content": null,
            "align_items": null,
            "align_self": null,
            "border": null,
            "bottom": null,
            "display": null,
            "flex": null,
            "flex_flow": null,
            "grid_area": null,
            "grid_auto_columns": null,
            "grid_auto_flow": null,
            "grid_auto_rows": null,
            "grid_column": null,
            "grid_gap": null,
            "grid_row": null,
            "grid_template_areas": null,
            "grid_template_columns": null,
            "grid_template_rows": null,
            "height": null,
            "justify_content": null,
            "justify_items": null,
            "left": null,
            "margin": null,
            "max_height": null,
            "max_width": null,
            "min_height": null,
            "min_width": null,
            "object_fit": null,
            "object_position": null,
            "order": null,
            "overflow": null,
            "overflow_x": null,
            "overflow_y": null,
            "padding": null,
            "right": null,
            "top": null,
            "visibility": null,
            "width": null
          }
        },
        "2371d5ad5f3643ec969b711c929dae32": {
          "model_module": "@jupyter-widgets/controls",
          "model_module_version": "1.5.0",
          "model_name": "ButtonModel",
          "state": {
            "_dom_classes": [],
            "_model_module": "@jupyter-widgets/controls",
            "_model_module_version": "1.5.0",
            "_model_name": "ButtonModel",
            "_view_count": null,
            "_view_module": "@jupyter-widgets/controls",
            "_view_module_version": "1.5.0",
            "_view_name": "ButtonView",
            "button_style": "",
            "description": "Comparar Modelos",
            "disabled": false,
            "icon": "",
            "layout": "IPY_MODEL_00d8529f16ec439b9f06c857ddc5cea5",
            "style": "IPY_MODEL_509c54bf30734b929683eaa3bd7ff35a",
            "tooltip": ""
          }
        },
        "2c62fb93655e4f0cbf45a6071f5fd301": {
          "model_module": "@jupyter-widgets/controls",
          "model_module_version": "1.5.0",
          "model_name": "DescriptionStyleModel",
          "state": {
            "_model_module": "@jupyter-widgets/controls",
            "_model_module_version": "1.5.0",
            "_model_name": "DescriptionStyleModel",
            "_view_count": null,
            "_view_module": "@jupyter-widgets/base",
            "_view_module_version": "1.2.0",
            "_view_name": "StyleView",
            "description_width": ""
          }
        },
        "2d73f277de89496fbd318edcd320177f": {
          "model_module": "@jupyter-widgets/base",
          "model_module_version": "1.2.0",
          "model_name": "LayoutModel",
          "state": {
            "_model_module": "@jupyter-widgets/base",
            "_model_module_version": "1.2.0",
            "_model_name": "LayoutModel",
            "_view_count": null,
            "_view_module": "@jupyter-widgets/base",
            "_view_module_version": "1.2.0",
            "_view_name": "LayoutView",
            "align_content": null,
            "align_items": null,
            "align_self": null,
            "border": null,
            "bottom": null,
            "display": null,
            "flex": null,
            "flex_flow": null,
            "grid_area": null,
            "grid_auto_columns": null,
            "grid_auto_flow": null,
            "grid_auto_rows": null,
            "grid_column": null,
            "grid_gap": null,
            "grid_row": null,
            "grid_template_areas": null,
            "grid_template_columns": null,
            "grid_template_rows": null,
            "height": null,
            "justify_content": null,
            "justify_items": null,
            "left": null,
            "margin": null,
            "max_height": null,
            "max_width": null,
            "min_height": null,
            "min_width": null,
            "object_fit": null,
            "object_position": null,
            "order": null,
            "overflow": null,
            "overflow_x": null,
            "overflow_y": null,
            "padding": null,
            "right": null,
            "top": null,
            "visibility": null,
            "width": null
          }
        },
        "45576278b8f8451ebe7c7b08ac7485ca": {
          "model_module": "@jupyter-widgets/controls",
          "model_module_version": "1.5.0",
          "model_name": "SliderStyleModel",
          "state": {
            "_model_module": "@jupyter-widgets/controls",
            "_model_module_version": "1.5.0",
            "_model_name": "SliderStyleModel",
            "_view_count": null,
            "_view_module": "@jupyter-widgets/base",
            "_view_module_version": "1.2.0",
            "_view_name": "StyleView",
            "description_width": "",
            "handle_color": null
          }
        },
        "509c54bf30734b929683eaa3bd7ff35a": {
          "model_module": "@jupyter-widgets/controls",
          "model_module_version": "1.5.0",
          "model_name": "ButtonStyleModel",
          "state": {
            "_model_module": "@jupyter-widgets/controls",
            "_model_module_version": "1.5.0",
            "_model_name": "ButtonStyleModel",
            "_view_count": null,
            "_view_module": "@jupyter-widgets/base",
            "_view_module_version": "1.2.0",
            "_view_name": "StyleView",
            "button_color": null,
            "font_weight": ""
          }
        },
        "5fedfe2c8f4645f590863f409163a51c": {
          "model_module": "@jupyter-widgets/controls",
          "model_module_version": "1.5.0",
          "model_name": "VBoxModel",
          "state": {
            "_dom_classes": [],
            "_model_module": "@jupyter-widgets/controls",
            "_model_module_version": "1.5.0",
            "_model_name": "VBoxModel",
            "_view_count": null,
            "_view_module": "@jupyter-widgets/controls",
            "_view_module_version": "1.5.0",
            "_view_name": "VBoxView",
            "box_style": "",
            "children": [
              "IPY_MODEL_dbe6fc0becc841eeaa91090fdbba85b9",
              "IPY_MODEL_737d8f74792f47bead2af57e78329820",
              "IPY_MODEL_8d8750f25ec04ec6a48103a46d74a3c2",
              "IPY_MODEL_2371d5ad5f3643ec969b711c929dae32",
              "IPY_MODEL_9665f090a8724e89a45bae2d91e08026"
            ],
            "layout": "IPY_MODEL_924b3c4886104f0dbedea225ac01c12a"
          }
        },
        "737d8f74792f47bead2af57e78329820": {
          "model_module": "@jupyter-widgets/controls",
          "model_module_version": "1.5.0",
          "model_name": "IntSliderModel",
          "state": {
            "_dom_classes": [],
            "_model_module": "@jupyter-widgets/controls",
            "_model_module_version": "1.5.0",
            "_model_name": "IntSliderModel",
            "_view_count": null,
            "_view_module": "@jupyter-widgets/controls",
            "_view_module_version": "1.5.0",
            "_view_name": "IntSliderView",
            "continuous_update": false,
            "description": "Top-N:",
            "description_tooltip": null,
            "disabled": false,
            "layout": "IPY_MODEL_2d73f277de89496fbd318edcd320177f",
            "max": 30,
            "min": 1,
            "orientation": "horizontal",
            "readout": true,
            "readout_format": "d",
            "step": 1,
            "style": "IPY_MODEL_e977fcc1b64d4b5b8f53b8df97afadf0",
            "value": 10
          }
        },
        "8d8750f25ec04ec6a48103a46d74a3c2": {
          "model_module": "@jupyter-widgets/controls",
          "model_module_version": "1.5.0",
          "model_name": "FloatSliderModel",
          "state": {
            "_dom_classes": [],
            "_model_module": "@jupyter-widgets/controls",
            "_model_module_version": "1.5.0",
            "_model_name": "FloatSliderModel",
            "_view_count": null,
            "_view_module": "@jupyter-widgets/controls",
            "_view_module_version": "1.5.0",
            "_view_name": "FloatSliderView",
            "continuous_update": false,
            "description": "Peso LFM (α):",
            "description_tooltip": null,
            "disabled": false,
            "layout": "IPY_MODEL_98c88df033cf4296a4a1104372e5e1fb",
            "max": 1,
            "min": 0,
            "orientation": "horizontal",
            "readout": true,
            "readout_format": ".2f",
            "step": 0.05,
            "style": "IPY_MODEL_45576278b8f8451ebe7c7b08ac7485ca",
            "value": 0.5
          }
        },
        "924b3c4886104f0dbedea225ac01c12a": {
          "model_module": "@jupyter-widgets/base",
          "model_module_version": "1.2.0",
          "model_name": "LayoutModel",
          "state": {
            "_model_module": "@jupyter-widgets/base",
            "_model_module_version": "1.2.0",
            "_model_name": "LayoutModel",
            "_view_count": null,
            "_view_module": "@jupyter-widgets/base",
            "_view_module_version": "1.2.0",
            "_view_name": "LayoutView",
            "align_content": null,
            "align_items": null,
            "align_self": null,
            "border": null,
            "bottom": null,
            "display": null,
            "flex": null,
            "flex_flow": null,
            "grid_area": null,
            "grid_auto_columns": null,
            "grid_auto_flow": null,
            "grid_auto_rows": null,
            "grid_column": null,
            "grid_gap": null,
            "grid_row": null,
            "grid_template_areas": null,
            "grid_template_columns": null,
            "grid_template_rows": null,
            "height": null,
            "justify_content": null,
            "justify_items": null,
            "left": null,
            "margin": null,
            "max_height": null,
            "max_width": null,
            "min_height": null,
            "min_width": null,
            "object_fit": null,
            "object_position": null,
            "order": null,
            "overflow": null,
            "overflow_x": null,
            "overflow_y": null,
            "padding": null,
            "right": null,
            "top": null,
            "visibility": null,
            "width": null
          }
        },
        "9665f090a8724e89a45bae2d91e08026": {
          "model_module": "@jupyter-widgets/output",
          "model_module_version": "1.0.0",
          "model_name": "OutputModel",
          "state": {
            "_dom_classes": [],
            "_model_module": "@jupyter-widgets/output",
            "_model_module_version": "1.0.0",
            "_model_name": "OutputModel",
            "_view_count": null,
            "_view_module": "@jupyter-widgets/output",
            "_view_module_version": "1.0.0",
            "_view_name": "OutputView",
            "layout": "IPY_MODEL_04b2f61419db4d60815f455a867eee72",
            "msg_id": "",
            "outputs": []
          }
        },
        "98c88df033cf4296a4a1104372e5e1fb": {
          "model_module": "@jupyter-widgets/base",
          "model_module_version": "1.2.0",
          "model_name": "LayoutModel",
          "state": {
            "_model_module": "@jupyter-widgets/base",
            "_model_module_version": "1.2.0",
            "_model_name": "LayoutModel",
            "_view_count": null,
            "_view_module": "@jupyter-widgets/base",
            "_view_module_version": "1.2.0",
            "_view_name": "LayoutView",
            "align_content": null,
            "align_items": null,
            "align_self": null,
            "border": null,
            "bottom": null,
            "display": null,
            "flex": null,
            "flex_flow": null,
            "grid_area": null,
            "grid_auto_columns": null,
            "grid_auto_flow": null,
            "grid_auto_rows": null,
            "grid_column": null,
            "grid_gap": null,
            "grid_row": null,
            "grid_template_areas": null,
            "grid_template_columns": null,
            "grid_template_rows": null,
            "height": null,
            "justify_content": null,
            "justify_items": null,
            "left": null,
            "margin": null,
            "max_height": null,
            "max_width": null,
            "min_height": null,
            "min_width": null,
            "object_fit": null,
            "object_position": null,
            "order": null,
            "overflow": null,
            "overflow_x": null,
            "overflow_y": null,
            "padding": null,
            "right": null,
            "top": null,
            "visibility": null,
            "width": null
          }
        },
        "b61511f40ba943c0931570347c19ff8e": {
          "model_module": "@jupyter-widgets/base",
          "model_module_version": "1.2.0",
          "model_name": "LayoutModel",
          "state": {
            "_model_module": "@jupyter-widgets/base",
            "_model_module_version": "1.2.0",
            "_model_name": "LayoutModel",
            "_view_count": null,
            "_view_module": "@jupyter-widgets/base",
            "_view_module_version": "1.2.0",
            "_view_name": "LayoutView",
            "align_content": null,
            "align_items": null,
            "align_self": null,
            "border": null,
            "bottom": null,
            "display": null,
            "flex": null,
            "flex_flow": null,
            "grid_area": null,
            "grid_auto_columns": null,
            "grid_auto_flow": null,
            "grid_auto_rows": null,
            "grid_column": null,
            "grid_gap": null,
            "grid_row": null,
            "grid_template_areas": null,
            "grid_template_columns": null,
            "grid_template_rows": null,
            "height": null,
            "justify_content": null,
            "justify_items": null,
            "left": null,
            "margin": null,
            "max_height": null,
            "max_width": null,
            "min_height": null,
            "min_width": null,
            "object_fit": null,
            "object_position": null,
            "order": null,
            "overflow": null,
            "overflow_x": null,
            "overflow_y": null,
            "padding": null,
            "right": null,
            "top": null,
            "visibility": null,
            "width": null
          }
        },
        "dbe6fc0becc841eeaa91090fdbba85b9": {
          "model_module": "@jupyter-widgets/controls",
          "model_module_version": "1.5.0",
          "model_name": "TextModel",
          "state": {
            "_dom_classes": [],
            "_model_module": "@jupyter-widgets/controls",
            "_model_module_version": "1.5.0",
            "_model_name": "TextModel",
            "_view_count": null,
            "_view_module": "@jupyter-widgets/controls",
            "_view_module_version": "1.5.0",
            "_view_name": "TextView",
            "continuous_update": true,
            "description": "Cliente ID:",
            "description_tooltip": null,
            "disabled": false,
            "layout": "IPY_MODEL_b61511f40ba943c0931570347c19ff8e",
            "placeholder": "ID del cliente",
            "style": "IPY_MODEL_2c62fb93655e4f0cbf45a6071f5fd301",
            "value": "11"
          }
        },
        "e977fcc1b64d4b5b8f53b8df97afadf0": {
          "model_module": "@jupyter-widgets/controls",
          "model_module_version": "1.5.0",
          "model_name": "SliderStyleModel",
          "state": {
            "_model_module": "@jupyter-widgets/controls",
            "_model_module_version": "1.5.0",
            "_model_name": "SliderStyleModel",
            "_view_count": null,
            "_view_module": "@jupyter-widgets/base",
            "_view_module_version": "1.2.0",
            "_view_name": "StyleView",
            "description_width": "",
            "handle_color": null
          }
        }
      }
    }
  },
  "nbformat": 4,
  "nbformat_minor": 5
}
