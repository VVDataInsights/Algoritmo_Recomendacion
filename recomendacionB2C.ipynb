{
  "cells": [
    {
      "cell_type": "code",
      "execution_count": 1,
      "id": "046180c9",
      "metadata": {
        "colab": {
          "base_uri": "https://localhost:8080/"
        },
        "id": "046180c9",
        "outputId": "9a403ba3-d338-4498-d5b5-5f3c9a8fce45"
      },
      "outputs": [
        {
          "name": "stdout",
          "output_type": "stream",
          "text": [
            "Requirement already satisfied: pandas in /usr/local/lib/python3.11/dist-packages (2.2.2)\n",
            "Requirement already satisfied: numpy>=1.23.2 in /usr/local/lib/python3.11/dist-packages (from pandas) (2.0.2)\n",
            "Requirement already satisfied: python-dateutil>=2.8.2 in /usr/local/lib/python3.11/dist-packages (from pandas) (2.9.0.post0)\n",
            "Requirement already satisfied: pytz>=2020.1 in /usr/local/lib/python3.11/dist-packages (from pandas) (2025.2)\n",
            "Requirement already satisfied: tzdata>=2022.7 in /usr/local/lib/python3.11/dist-packages (from pandas) (2025.2)\n",
            "Requirement already satisfied: six>=1.5 in /usr/local/lib/python3.11/dist-packages (from python-dateutil>=2.8.2->pandas) (1.17.0)\n"
          ]
        }
      ],
      "source": [
        "import sys\n",
        "!pip install pandas\n",
        "import pandas as pd\n",
        "import numpy as np\n",
        "import nltk\n",
        "\n",
        "\n",
        "import re\n",
        "import nltk\n",
        "from joblib import dump, load\n",
        "import matplotlib.pyplot as plt\n",
        "pd.options.display.max_colwidth=200\n",
        "%matplotlib inline\n",
        "from sklearn.model_selection import train_test_split\n",
        "from sklearn.linear_model import LinearRegression\n",
        "from sklearn.pipeline import Pipeline\n",
        "from sklearn.compose import ColumnTransformer\n",
        "from sklearn.preprocessing import StandardScaler\n",
        "from sklearn.preprocessing import PolynomialFeatures\n",
        "from sklearn.metrics import mean_absolute_error, mean_squared_error, r2_score\n",
        "from sklearn.model_selection import train_test_split\n",
        "from sklearn.linear_model import LinearRegression\n",
        "from sklearn.pipeline import Pipeline\n",
        "from sklearn.compose import ColumnTransformer\n",
        "from sklearn.preprocessing import StandardScaler\n",
        "from sklearn.preprocessing import PolynomialFeatures\n",
        "from sklearn.metrics import mean_absolute_error, mean_squared_error, r2_score\n",
        "from sklearn.preprocessing import StandardScaler  # Asegúrate de importar StandardScaler\n",
        "from sklearn.cluster import KMeans\n",
        "from sklearn.metrics import silhouette_samples, silhouette_score\n",
        "\n",
        "\n",
        "\n",
        "\n",
        "import scipy.stats as stats\n",
        "import seaborn as sns; sns.set()  # for plot styling\n",
        "\n",
        "from sklearn.preprocessing import StandardScaler\n",
        "from sklearn.cluster import KMeans\n",
        "from sklearn.metrics import silhouette_samples, silhouette_score\n",
        "from sklearn.preprocessing import MinMaxScaler\n",
        "\n",
        "from matplotlib import cm\n",
        "from mpl_toolkits.mplot3d import Axes3D # for 3D plots\n",
        "import matplotlib.pyplot as plt\n",
        "\n",
        "import numpy as np\n",
        "import pandas as pd\n",
        "from sklearn.model_selection import KFold, GridSearchCV, train_test_split\n",
        "from sklearn.preprocessing import OneHotEncoder, MinMaxScaler\n",
        "import matplotlib.pyplot as plt\n",
        "from sklearn.linear_model import LinearRegression\n",
        "import seaborn as sns\n",
        "from sklearn.metrics import mean_squared_error as mse, r2_score, mean_absolute_error as mae\n",
        "\n",
        "\n",
        "import pandas as pd\n",
        "import numpy as np\n",
        "import matplotlib.pyplot as plt\n",
        "import seaborn as sns\n",
        "\n",
        "from sklearn import tree\n",
        "\n",
        "\n",
        "from sklearn.tree import DecisionTreeClassifier\n",
        "from sklearn.preprocessing import LabelEncoder\n",
        "\n",
        "# Para búsqueda de hiperparámetros\n",
        "from sklearn.model_selection import GridSearchCV\n",
        "# Para la validación cruzada\n",
        "from sklearn.model_selection import KFold\n",
        "\n",
        "# Metricas\n",
        "from sklearn.metrics import confusion_matrix, classification_report, precision_score, recall_score, f1_score, accuracy_score\n",
        "from sklearn.metrics import ConfusionMatrixDisplay\n",
        "\n",
        "from sklearn.model_selection import GridSearchCV\n",
        "from sklearn.neighbors import KNeighborsClassifier\n",
        "\n",
        "# q-q plots\n",
        "import scipy.stats as stats"
      ]
    },
    {
      "cell_type": "code",
      "execution_count": 2,
      "id": "f4b385fe",
      "metadata": {
        "colab": {
          "base_uri": "https://localhost:8080/"
        },
        "id": "f4b385fe",
        "outputId": "49078a20-1447-460f-bd3e-e7144dcc7f86"
      },
      "outputs": [
        {
          "name": "stdout",
          "output_type": "stream",
          "text": [
            "Requirement already satisfied: LightFM in /usr/local/lib/python3.11/dist-packages (1.17)\n",
            "Requirement already satisfied: numpy in /usr/local/lib/python3.11/dist-packages (from LightFM) (2.0.2)\n",
            "Requirement already satisfied: scipy>=0.17.0 in /usr/local/lib/python3.11/dist-packages (from LightFM) (1.15.2)\n",
            "Requirement already satisfied: requests in /usr/local/lib/python3.11/dist-packages (from LightFM) (2.32.3)\n",
            "Requirement already satisfied: scikit-learn in /usr/local/lib/python3.11/dist-packages (from LightFM) (1.6.1)\n",
            "Requirement already satisfied: charset-normalizer<4,>=2 in /usr/local/lib/python3.11/dist-packages (from requests->LightFM) (3.4.1)\n",
            "Requirement already satisfied: idna<4,>=2.5 in /usr/local/lib/python3.11/dist-packages (from requests->LightFM) (3.10)\n",
            "Requirement already satisfied: urllib3<3,>=1.21.1 in /usr/local/lib/python3.11/dist-packages (from requests->LightFM) (2.4.0)\n",
            "Requirement already satisfied: certifi>=2017.4.17 in /usr/local/lib/python3.11/dist-packages (from requests->LightFM) (2025.4.26)\n",
            "Requirement already satisfied: joblib>=1.2.0 in /usr/local/lib/python3.11/dist-packages (from scikit-learn->LightFM) (1.4.2)\n",
            "Requirement already satisfied: threadpoolctl>=3.1.0 in /usr/local/lib/python3.11/dist-packages (from scikit-learn->LightFM) (3.6.0)\n"
          ]
        }
      ],
      "source": [
        "!pip install LightFM\n",
        "from lightfm import LightFM\n",
        "from lightfm.data import Dataset"
      ]
    },
    {
      "cell_type": "markdown",
      "id": "9aca4f8c",
      "metadata": {
        "id": "9aca4f8c"
      },
      "source": [
        "## Carga de datos"
      ]
    },
    {
      "cell_type": "code",
      "execution_count": 3,
      "id": "qRm178zm6nKj",
      "metadata": {
        "colab": {
          "base_uri": "https://localhost:8080/"
        },
        "id": "qRm178zm6nKj",
        "outputId": "34455159-ff11-473d-c725-abe62fa597f9"
      },
      "outputs": [
        {
          "name": "stdout",
          "output_type": "stream",
          "text": [
            "Drive already mounted at /content/drive; to attempt to forcibly remount, call drive.mount(\"/content/drive\", force_remount=True).\n"
          ]
        }
      ],
      "source": [
        "from google.colab import drive\n",
        "drive.mount('/content/drive')"
      ]
    },
    {
      "cell_type": "code",
      "execution_count": 4,
      "id": "61b4679f",
      "metadata": {
        "id": "61b4679f"
      },
      "outputs": [],
      "source": [
        "pd2 = pd.read_csv('/content/drive/MyDrive/Corona/b2c_nuevo.csv' , sep=\",\", encoding=\"utf-8\")"
      ]
    },
    {
      "cell_type": "code",
      "execution_count": 5,
      "id": "09f3b486",
      "metadata": {
        "id": "09f3b486"
      },
      "outputs": [],
      "source": [
        "\n",
        "b2c = pd2.copy()"
      ]
    },
    {
      "cell_type": "markdown",
      "id": "a6328d14",
      "metadata": {
        "id": "a6328d14"
      },
      "source": [
        "## Implementación B2C"
      ]
    },
    {
      "cell_type": "code",
      "execution_count": 6,
      "id": "a42a8d45",
      "metadata": {
        "colab": {
          "base_uri": "https://localhost:8080/"
        },
        "id": "a42a8d45",
        "outputId": "94dede3b-87fc-4f07-b315-acbdfe5ba326"
      },
      "outputs": [
        {
          "data": {
            "text/plain": [
              "Index(['edad_promedio', 'ingreso_laboral_promedio', 'porcentaje_urbano',\n",
              "       'IPUG', 'GINI', 'num_pedidos', 'categorias_diferentes',\n",
              "       'Total de edificaciones en obra', 'pedido', 'id', 'edad', 'municipio',\n",
              "       'asesor', 'punto de venta', 'cluster', 'categoria_macro', 'categoria',\n",
              "       'subcategoria', 'producto', 'color', 'cantidad', 'precio', 'valor',\n",
              "       'alineación con portafolio estratégico', 'log_cantidad', 'log_precio',\n",
              "       'log_valor', 'ajustada_alineacion', 'total_productos', 'total_gasto',\n",
              "       'precio_promedio', 'ticket_promedio', 'cantidad_promedio',\n",
              "       'zona_AMAZONAS', 'zona_ANTIOQUIA', 'zona_ARAUCA', 'zona_ATLÁNTICO',\n",
              "       'zona_BOGOTÁ', 'zona_BOLÍVAR', 'zona_BOYACA', 'zona_CALDAS',\n",
              "       'zona_CAQUETA', 'zona_CASANARE', 'zona_CAUCA', 'zona_CESAR',\n",
              "       'zona_CHOCO', 'zona_CUNDINAMARCA', 'zona_CÓRDOBA', 'zona_GUAINIA',\n",
              "       'zona_GUAVIARE', 'zona_HUILA', 'zona_LA GUAJIRA', 'zona_MAGDALENA',\n",
              "       'zona_META', 'zona_NARIÑO', 'zona_NORTE SANTANDER', 'zona_PUTUMAYO',\n",
              "       'zona_QUINDIO', 'zona_RISARALDA', 'zona_SAN ANDRÉS', 'zona_SANTANDER',\n",
              "       'zona_SUCRE', 'zona_TOLIMA', 'zona_VALLE', 'zona_VAUPES',\n",
              "       'zona_VICHADA', 'año', 'mes', 'día', 'trimestre'],\n",
              "      dtype='object')"
            ]
          },
          "execution_count": 6,
          "metadata": {},
          "output_type": "execute_result"
        }
      ],
      "source": [
        "b2c.columns"
      ]
    },
    {
      "cell_type": "code",
      "execution_count": null,
      "id": "bNlQCZWbjeAJ",
      "metadata": {
        "id": "bNlQCZWbjeAJ"
      },
      "outputs": [],
      "source": [
        "b2c = b2c.dropna(subset=['id', 'producto'])  \n"
      ]
    },
    {
      "cell_type": "markdown",
      "id": "daad5505",
      "metadata": {
        "id": "daad5505"
      },
      "source": [
        "## Pipeline LightFM"
      ]
    },
    {
      "cell_type": "code",
      "execution_count": 8,
      "id": "ed07f418",
      "metadata": {
        "id": "ed07f418"
      },
      "outputs": [],
      "source": [
        "from lightfm.data import Dataset\n",
        "\n",
        "dataset = Dataset()\n",
        "\n",
        "# USER features\n",
        "user_features = (\n",
        "    [f\"cluster:{x}\" for x in b2c['cluster'].astype(str).unique()] +\n",
        "    [f\"municipio:{x}\" for x in b2c['municipio'].astype(str).unique()] +\n",
        "    [f\"asesor:{x}\" for x in b2c['asesor'].astype(str).unique()] +\n",
        "    [f\"punto:{x}\" for x in b2c['punto de venta'].astype(str).unique()] +\n",
        "    b2c.columns[b2c.columns.str.startswith(\"zona_\")].tolist()\n",
        ")\n",
        "\n",
        "# ITEM features\n",
        "item_features = (\n",
        "    [f\"categoria_macro:{x}\" for x in b2c['categoria_macro'].astype(str).unique()] +\n",
        "    [f\"subcategoria:{x}\" for x in b2c['subcategoria'].astype(str).unique()] +\n",
        "    [f\"color:{x}\" for x in b2c['color'].astype(str).unique()]\n",
        ")\n",
        "\n",
        "dataset.fit(\n",
        "    users=b2c['id'].unique(),\n",
        "    items=b2c['producto'].unique(),\n",
        "    user_features=user_features,\n",
        "    item_features=item_features\n",
        ")\n"
      ]
    },
    {
      "cell_type": "code",
      "execution_count": 9,
      "id": "84ba9f28",
      "metadata": {
        "id": "84ba9f28"
      },
      "outputs": [],
      "source": [
        "\n",
        "interactions, _ = dataset.build_interactions([\n",
        "    (row['id'], row['producto']) for _, row in b2c.iterrows()\n",
        "])\n"
      ]
    },
    {
      "cell_type": "markdown",
      "id": "d26a7e2b",
      "metadata": {
        "id": "d26a7e2b"
      },
      "source": [
        "Ahora establecemos como se realiza la caracterización de los clientes y de los porductos"
      ]
    },
    {
      "cell_type": "code",
      "execution_count": 10,
      "id": "5681fa92",
      "metadata": {
        "id": "5681fa92"
      },
      "outputs": [],
      "source": [
        "def construir_features_usuario(df):\n",
        "    features = []\n",
        "    for _, row in df.iterrows():\n",
        "        f = [\n",
        "            f\"cluster:{row['cluster']}\",\n",
        "            f\"municipio:{row['municipio']}\",\n",
        "            f\"asesor:{row['asesor']}\",\n",
        "            f\"punto:{row['punto de venta']}\"\n",
        "        ]\n",
        "        for zona in df.columns[df.columns.str.startswith(\"zona_\")]:\n",
        "            if row[zona] == 1:\n",
        "                f.append(zona)\n",
        "        features.append((row['id'], f))\n",
        "    return features\n",
        "\n",
        "\n",
        "def construir_features_producto(df):\n",
        "    features = []\n",
        "    for _, row in df.iterrows():\n",
        "        f = [\n",
        "            f\"categoria_macro:{row['categoria_macro']}\",\n",
        "            f\"subcategoria:{row['subcategoria']}\",\n",
        "            f\"color:{row['color']}\"\n",
        "        ]\n",
        "        features.append((row['producto'], f))\n",
        "    return features\n",
        "\n",
        "\n",
        "user_features = dataset.build_user_features(construir_features_usuario(b2c))\n",
        "item_features = dataset.build_item_features(construir_features_producto(b2c))\n"
      ]
    },
    {
      "cell_type": "code",
      "execution_count": 11,
      "id": "6f118b80",
      "metadata": {
        "colab": {
          "base_uri": "https://localhost:8080/"
        },
        "id": "6f118b80",
        "outputId": "bf778a3a-c18e-407e-b1a2-c3a6a06f63e4"
      },
      "outputs": [
        {
          "data": {
            "text/plain": [
              "<lightfm.lightfm.LightFM at 0x7b776a014a90>"
            ]
          },
          "execution_count": 11,
          "metadata": {},
          "output_type": "execute_result"
        }
      ],
      "source": [
        "model = LightFM(loss='warp', no_components=16)\n",
        "model.fit(interactions, user_features=user_features, item_features=item_features, epochs=5, num_threads=1)\n"
      ]
    },
    {
      "cell_type": "code",
      "execution_count": null,
      "id": "FbHCeAH3oLTH",
      "metadata": {
        "colab": {
          "base_uri": "https://localhost:8080/"
        },
        "id": "FbHCeAH3oLTH",
        "outputId": "c3654bd6-6dad-4721-99c3-f1dbe37013c0"
      },
      "outputs": [
        {
          "data": {
            "text/plain": [
              "array([ 2,  3,  4,  5,  6,  7,  8,  9, 10, 11])"
            ]
          },
          "execution_count": 12,
          "metadata": {},
          "output_type": "execute_result"
        }
      ],
      "source": [
        "#Primeros 10 id de clientes\n",
        "b2c['id'].dropna().unique()[:10]\n"
      ]
    },
    {
      "cell_type": "code",
      "execution_count": 13,
      "id": "d3377f9c",
      "metadata": {
        "colab": {
          "base_uri": "https://localhost:8080/"
        },
        "id": "d3377f9c",
        "outputId": "fcef4021-53d0-4eb3-d37c-eb0967787b16"
      },
      "outputs": [
        {
          "name": "stdout",
          "output_type": "stream",
          "text": [
            "Recomendaciones: ['producto_59', 'producto_171', 'producto_130', 'producto_831', 'producto_681', 'producto_1116', 'producto_1508', 'producto_3', 'producto_119', 'producto_830']\n"
          ]
        }
      ],
      "source": [
        "usuario_interno = dataset.mapping()[0][11]\n",
        "scores = model.predict(usuario_interno, np.arange(len(dataset.mapping()[2])), user_features=user_features, item_features=item_features)\n",
        "top_items = np.argsort(-scores)[:10]\n",
        "productos = list(dataset.mapping()[2].keys())\n",
        "print(\"Recomendaciones:\", [productos[i] for i in top_items])\n"
      ]
    },
    {
      "cell_type": "code",
      "execution_count": 39,
      "id": "zDkUSbBZJc24",
      "metadata": {
        "colab": {
          "base_uri": "https://localhost:8080/"
        },
        "id": "zDkUSbBZJc24",
        "outputId": "341b7e6d-9122-4587-9de8-f38f9cbad7c6"
      },
      "outputs": [
        {
          "name": "stdout",
          "output_type": "stream",
          "text": [
            "Métricas LightFM B2C:\n",
            "- Precision: 0.03220000118017197\n",
            "- Recall: 0.031\n",
            "- AUC: 0.928600013256073\n"
          ]
        }
      ],
      "source": [
        "from lightfm.evaluation import precision_at_k, recall_at_k, auc_score\n",
        "\n",
        "# Calcular métricas usando el conjunto completo de interacciones\n",
        "precision_lfm = precision_at_k(model, interactions, user_features=user_features, item_features=item_features, k=5).mean()\n",
        "recall_lfm = recall_at_k(model, interactions, user_features=user_features, item_features=item_features, k=5).mean()\n",
        "auc_lfm = auc_score(model, interactions, user_features=user_features, item_features=item_features).mean()\n",
        "\n",
        "# Crear diccionario con métricas\n",
        "metricas_lfm_b2c = {\n",
        "    \"Precision\": round(precision_lfm, 4),\n",
        "    \"Recall\": round(recall_lfm, 4),\n",
        "    \"AUC\": round(auc_lfm, 4)\n",
        "}\n",
        "\n",
        "# Mostrar resultados\n",
        "print(\"Métricas LightFM B2C:\")\n",
        "for k, v in metricas_lfm_b2c.items():\n",
        "    print(f\"- {k}: {v}\")\n"
      ]
    },
    {
      "cell_type": "markdown",
      "id": "be2b2e16",
      "metadata": {
        "id": "be2b2e16"
      },
      "source": [
        "## Modelo Tabular - XGBoost"
      ]
    },
    {
      "cell_type": "code",
      "execution_count": 14,
      "id": "e7n86gtPptih",
      "metadata": {
        "id": "e7n86gtPptih"
      },
      "outputs": [],
      "source": [
        "positivos = b2c[['id', 'producto']].drop_duplicates().copy()\n",
        "positivos['interaccion'] = 1\n"
      ]
    },
    {
      "cell_type": "code",
      "execution_count": null,
      "id": "toRXrCsgy7Pw",
      "metadata": {
        "colab": {
          "base_uri": "https://localhost:8080/"
        },
        "id": "toRXrCsgy7Pw",
        "outputId": "e8c7db96-d31c-40a6-98da-e524bb6c6ac0"
      },
      "outputs": [
        {
          "name": "stderr",
          "output_type": "stream",
          "text": [
            "100%|██████████| 419221/419221 [24:41<00:00, 283.05it/s]\n"
          ]
        }
      ],
      "source": [
        "import pandas as pd\n",
        "import numpy as np\n",
        "from tqdm import tqdm  \n",
        "\n",
        "usuarios = b2c['id'].unique()\n",
        "productos = b2c['producto'].unique()\n",
        "compras = b2c.groupby('id')['producto'].apply(set).to_dict()\n",
        "\n",
        "negativos = []\n",
        "rng = np.random.default_rng(seed=42)\n",
        "\n",
        "# Número de negativos por usuario \n",
        "k_negativos = 5\n",
        "\n",
        "for u in tqdm(usuarios):\n",
        "    comprados = compras.get(u, set())\n",
        "    candidatos = list(set(productos) - comprados)\n",
        "\n",
        "    if len(candidatos) == 0:\n",
        "        continue  \n",
        "\n",
        "    muestra = rng.choice(candidatos, size=min(k_negativos, len(candidatos)), replace=False)\n",
        "    negativos.extend([(u, p, 0) for p in muestra])\n",
        "\n",
        "# Convertir a DataFrame\n",
        "negativos = pd.DataFrame(negativos, columns=['id', 'producto', 'interaccion'])\n",
        "\n",
        "# Positivos\n",
        "positivos = b2c[['id', 'producto']].drop_duplicates().copy()\n",
        "positivos['interaccion'] = 1\n",
        "\n",
        "# Unir todo\n",
        "df_tabular = pd.concat([positivos, negativos], axis=0, ignore_index=True)\n"
      ]
    },
    {
      "cell_type": "code",
      "execution_count": 16,
      "id": "GwE9dDT0qCX3",
      "metadata": {
        "id": "GwE9dDT0qCX3"
      },
      "outputs": [],
      "source": [
        "features_usuario = b2c.drop_duplicates('id').set_index('id')[\n",
        "    ['edad', 'edad_promedio', 'ingreso_laboral_promedio', 'GINI', 'IPUG', 'cluster']\n",
        "]\n",
        "\n",
        "features_producto = b2c.drop_duplicates('producto').set_index('producto')[\n",
        "    ['categoria_macro', 'subcategoria', 'color', 'precio', 'alineación con portafolio estratégico']\n",
        "]\n",
        "\n",
        "df_tabular = df_tabular.merge(features_usuario, on='id', how='left')\n",
        "df_tabular = df_tabular.merge(features_producto, on='producto', how='left')\n"
      ]
    },
    {
      "cell_type": "code",
      "execution_count": null,
      "id": "iJzwBEaF6fbO",
      "metadata": {
        "colab": {
          "base_uri": "https://localhost:8080/"
        },
        "id": "iJzwBEaF6fbO",
        "outputId": "f8c8055e-d31c-4c6e-8633-efb981fb20b3"
      },
      "outputs": [
        {
          "name": "stderr",
          "output_type": "stream",
          "text": [
            "/usr/local/lib/python3.11/dist-packages/xgboost/core.py:158: UserWarning: [19:56:12] WARNING: /workspace/src/learner.cc:740: \n",
            "Parameters: { \"use_label_encoder\" } are not used.\n",
            "\n",
            "  warnings.warn(smsg, UserWarning)\n"
          ]
        },
        {
          "name": "stdout",
          "output_type": "stream",
          "text": [
            "AUC: 0.9133\n",
            "              precision    recall  f1-score   support\n",
            "\n",
            "           0       0.84      0.86      0.85    419221\n",
            "           1       0.83      0.81      0.82    356427\n",
            "\n",
            "    accuracy                           0.84    775648\n",
            "   macro avg       0.84      0.83      0.83    775648\n",
            "weighted avg       0.84      0.84      0.84    775648\n",
            "\n"
          ]
        }
      ],
      "source": [
        "from xgboost import XGBClassifier\n",
        "from sklearn.model_selection import train_test_split\n",
        "from sklearn.metrics import roc_auc_score, classification_report\n",
        "import pandas as pd\n",
        "\n",
        "# \n",
        "X = df_tabular.drop(columns=['id', 'producto', 'interaccion'])\n",
        "y = df_tabular['interaccion']\n",
        "\n",
        "# Tratar nulos y reducir cardinalidad\n",
        "X.fillna(\"desconocido\", inplace=True)\n",
        "\n",
        "# Reducir cardinalidad de 'color' \n",
        "if X['color'].nunique() > 20:\n",
        "    top_colores = X['color'].value_counts().nlargest(20).index\n",
        "    X['color'] = X['color'].where(X['color'].isin(top_colores), 'otros')\n",
        "\n",
        "# Convertir categóricas a tipo 'category'\n",
        "categoricas = ['cluster', 'categoria_macro', 'subcategoria', 'color']\n",
        "for col in categoricas:\n",
        "    X[col] = X[col].astype('category')\n",
        "\n",
        "# Split y entrenamiento \n",
        "X_train, X_test, y_train, y_test = train_test_split(\n",
        "    X, y, stratify=y, test_size=0.2, random_state=42\n",
        ")\n",
        "\n",
        "modelo_xgb = XGBClassifier(\n",
        "    tree_method='hist',\n",
        "    enable_categorical=True,\n",
        "    use_label_encoder=False,\n",
        "    eval_metric='logloss',\n",
        "    n_estimators=100,\n",
        "    learning_rate=0.1,\n",
        "    max_depth=6,\n",
        "    random_state=42\n",
        ")\n",
        "\n",
        "modelo_xgb.fit(X_train, y_train)\n",
        "\n",
        "#Metricas\n",
        "probs = modelo_xgb.predict_proba(X_test)[:, 1]\n",
        "preds = modelo_xgb.predict(X_test)\n",
        "\n",
        "print(\"AUC:\", round(roc_auc_score(y_test, probs), 4))\n",
        "print(classification_report(y_test, preds))\n"
      ]
    },
    {
      "cell_type": "code",
      "execution_count": null,
      "id": "d_q4C4beIsGN",
      "metadata": {
        "id": "d_q4C4beIsGN"
      },
      "outputs": [],
      "source": [
        "from sklearn.metrics import accuracy_score, precision_score, recall_score, f1_score\n",
        "\n",
        "# Diccionario de métricas XGBoost-\n",
        "metricas_xgb_b2c = {\n",
        "    \"Accuracy\": round(accuracy_score(y_test, preds), 4),\n",
        "    \"Precision\": round(precision_score(y_test, preds), 4),\n",
        "    \"Recall\": round(recall_score(y_test, preds), 4),\n",
        "    \"F1-score\": round(f1_score(y_test, preds), 4),\n",
        "    \"AUC\": round(roc_auc_score(y_test, probs), 4)\n",
        "}\n",
        "\n",
        "\n"
      ]
    },
    {
      "cell_type": "code",
      "execution_count": null,
      "id": "xh8QZrlTqhnB",
      "metadata": {
        "colab": {
          "base_uri": "https://localhost:8080/",
          "height": 460
        },
        "id": "xh8QZrlTqhnB",
        "outputId": "7bdb4168-25f3-4b0f-9a01-705188b44c07"
      },
      "outputs": [
        {
          "data": {
            "text/plain": [
              "<Figure size 1000x600 with 0 Axes>"
            ]
          },
          "metadata": {},
          "output_type": "display_data"
        },
        {
          "data": {
            "image/png": "[encoded data removed]",
            "text/plain": [
              "<Figure size 640x480 with 1 Axes>"
            ]
          },
          "metadata": {},
          "output_type": "display_data"
        }
      ],
      "source": [
        "#Análisis impacto de las variables usadas en el modelo\n",
        "import matplotlib.pyplot as plt\n",
        "from xgboost import plot_importance\n",
        "\n",
        "plt.figure(figsize=(10, 6))\n",
        "plot_importance(modelo_xgb, max_num_features=15, importance_type='gain')\n",
        "plt.title(\"Top 15 Features más importantes\")\n",
        "plt.show()\n"
      ]
    },
    {
      "cell_type": "code",
      "execution_count": null,
      "id": "RhkMFZKxDCrj",
      "metadata": {
        "id": "RhkMFZKxDCrj"
      },
      "outputs": [],
      "source": [
        "def recomendar_con_xgboost(cliente_id, top_n=10):\n",
        "    # Productos ya comprados por el cliente\n",
        "    productos_comprados = set(b2c[b2c['id'] == cliente_id]['producto'].unique())\n",
        "\n",
        "    # Productos candidatos (no comprados)\n",
        "    todos_productos = b2c['producto'].unique()\n",
        "    productos_candidatos = list(set(todos_productos) - productos_comprados)\n",
        "\n",
        "    if not productos_candidatos:\n",
        "        return f\"Cliente {cliente_id} ya ha comprado todos los productos.\"\n",
        "\n",
        "    df_pred = pd.DataFrame({'id': cliente_id, 'producto': productos_candidatos})\n",
        "\n",
        "    # Merge con features del usuario\n",
        "    df_pred = df_pred.merge(features_usuario, on='id', how='left')\n",
        "\n",
        "    # Merge con features del producto\n",
        "    df_pred = df_pred.merge(features_producto, on='producto', how='left')\n",
        "\n",
        "    # Tratar nulos\n",
        "    df_pred.fillna(\"desconocido\", inplace=True)\n",
        "\n",
        "    # Reducir cardinalidad de color \n",
        "    if 'color' in df_pred.columns and df_pred['color'].nunique() > 20:\n",
        "        top_colores = features_producto['color'].value_counts().nlargest(20).index\n",
        "        df_pred['color'] = df_pred['color'].where(df_pred['color'].isin(top_colores), 'otros')\n",
        "\n",
        "    # Convertir variables categóricas\n",
        "    for col in ['cluster', 'categoria_macro', 'subcategoria', 'color']:\n",
        "        if col in df_pred.columns:\n",
        "            df_pred[col] = df_pred[col].astype('category')\n",
        "\n",
        "    # Eliminar columnas no usadas durante el entrenamiento\n",
        "    X_pred = df_pred.drop(columns=['id', 'producto'])  \n",
        "\n",
        "    # Predecir probabilidad de compra\n",
        "    probs = modelo_xgb.predict_proba(X_pred)[:, 1]\n",
        "\n",
        "    # Construir ranking\n",
        "    df_pred['score'] = probs\n",
        "    top_recomendaciones = df_pred.sort_values('score', ascending=False).head(top_n)\n",
        "\n",
        "    return top_recomendaciones[['producto', 'score']]\n"
      ]
    },
    {
      "cell_type": "code",
      "execution_count": null,
      "id": "hiDm-5r5DJc2",
      "metadata": {
        "colab": {
          "base_uri": "https://localhost:8080/",
          "height": 363
        },
        "id": "hiDm-5r5DJc2",
        "outputId": "1dab363d-9c0e-4342-f3cc-75cf80224b73"
      },
      "outputs": [
        {
          "data": {
            "application/vnd.google.colaboratory.intrinsic+json": {
              "summary": "{\n  \"name\": \"recomendar_con_xgboost(cliente_id=11, top_n=10)\",\n  \"rows\": 10,\n  \"fields\": [\n    {\n      \"column\": \"producto\",\n      \"properties\": {\n        \"dtype\": \"string\",\n        \"num_unique_values\": 10,\n        \"samples\": [\n          \"producto_119\",\n          \"producto_19\",\n          \"producto_112\"\n        ],\n        \"semantic_type\": \"\",\n        \"description\": \"\"\n      }\n    },\n    {\n      \"column\": \"score\",\n      \"properties\": {\n        \"dtype\": \"float32\",\n        \"num_unique_values\": 10,\n        \"samples\": [\n          0.9663695693016052,\n          0.9835392236709595,\n          0.9731542468070984\n        ],\n        \"semantic_type\": \"\",\n        \"description\": \"\"\n      }\n    }\n  ]\n}",
              "type": "dataframe"
            },
            "text/html": [
              "\n",
              "  <div id=\"df-45395bb4-e662-40ef-9aa0-7e7ce7d53e25\" class=\"colab-df-container\">\n",
              "    <div>\n",
              "<style scoped>\n",
              "    .dataframe tbody tr th:only-of-type {\n",
              "        vertical-align: middle;\n",
              "    }\n",
              "\n",
              "    .dataframe tbody tr th {\n",
              "        vertical-align: top;\n",
              "    }\n",
              "\n",
              "    .dataframe thead th {\n",
              "        text-align: right;\n",
              "    }\n",
              "</style>\n",
              "<table border=\"1\" class=\"dataframe\">\n",
              "  <thead>\n",
              "    <tr style=\"text-align: right;\">\n",
              "      <th></th>\n",
              "      <th>producto</th>\n",
              "      <th>score</th>\n",
              "    </tr>\n",
              "  </thead>\n",
              "  <tbody>\n",
              "    <tr>\n",
              "      <th>5538</th>\n",
              "      <td>producto_49</td>\n",
              "      <td>0.984358</td>\n",
              "    </tr>\n",
              "    <tr>\n",
              "      <th>5932</th>\n",
              "      <td>producto_19</td>\n",
              "      <td>0.983539</td>\n",
              "    </tr>\n",
              "    <tr>\n",
              "      <th>4530</th>\n",
              "      <td>producto_3</td>\n",
              "      <td>0.974469</td>\n",
              "    </tr>\n",
              "    <tr>\n",
              "      <th>7137</th>\n",
              "      <td>producto_28</td>\n",
              "      <td>0.973825</td>\n",
              "    </tr>\n",
              "    <tr>\n",
              "      <th>1748</th>\n",
              "      <td>producto_72</td>\n",
              "      <td>0.973797</td>\n",
              "    </tr>\n",
              "    <tr>\n",
              "      <th>6134</th>\n",
              "      <td>producto_112</td>\n",
              "      <td>0.973154</td>\n",
              "    </tr>\n",
              "    <tr>\n",
              "      <th>2275</th>\n",
              "      <td>producto_27</td>\n",
              "      <td>0.971467</td>\n",
              "    </tr>\n",
              "    <tr>\n",
              "      <th>400</th>\n",
              "      <td>producto_74</td>\n",
              "      <td>0.971260</td>\n",
              "    </tr>\n",
              "    <tr>\n",
              "      <th>666</th>\n",
              "      <td>producto_119</td>\n",
              "      <td>0.966370</td>\n",
              "    </tr>\n",
              "    <tr>\n",
              "      <th>1177</th>\n",
              "      <td>producto_66</td>\n",
              "      <td>0.962967</td>\n",
              "    </tr>\n",
              "  </tbody>\n",
              "</table>\n",
              "</div>\n",
              "    <div class=\"colab-df-buttons\">\n",
              "\n",
              "  <div class=\"colab-df-container\">\n",
              "    <button class=\"colab-df-convert\" onclick=\"convertToInteractive('df-45395bb4-e662-40ef-9aa0-7e7ce7d53e25')\"\n",
              "            title=\"Convert this dataframe to an interactive table.\"\n",
              "            style=\"display:none;\">\n",
              "\n",
              "  <svg xmlns=\"http://www.w3.org/2000/svg\" height=\"24px\" viewBox=\"0 -960 960 960\">\n",
              "    <path d=\"M120-120v-720h720v720H120Zm60-500h600v-160H180v160Zm220 220h160v-160H400v160Zm0 220h160v-160H400v160ZM180-400h160v-160H180v160Zm440 0h160v-160H620v160ZM180-180h160v-160H180v160Zm440 0h160v-160H620v160Z\"/>\n",
              "  </svg>\n",
              "    </button>\n",
              "\n",
              "  <style>\n",
              "    .colab-df-container {\n",
              "      display:flex;\n",
              "      gap: 12px;\n",
              "    }\n",
              "\n",
              "    .colab-df-convert {\n",
              "      background-color: #E8F0FE;\n",
              "      border: none;\n",
              "      border-radius: 50%;\n",
              "      cursor: pointer;\n",
              "      display: none;\n",
              "      fill: #1967D2;\n",
              "      height: 32px;\n",
              "      padding: 0 0 0 0;\n",
              "      width: 32px;\n",
              "    }\n",
              "\n",
              "    .colab-df-convert:hover {\n",
              "      background-color: #E2EBFA;\n",
              "      box-shadow: 0px 1px 2px rgba(60, 64, 67, 0.3), 0px 1px 3px 1px rgba(60, 64, 67, 0.15);\n",
              "      fill: #174EA6;\n",
              "    }\n",
              "\n",
              "    .colab-df-buttons div {\n",
              "      margin-bottom: 4px;\n",
              "    }\n",
              "\n",
              "    [theme=dark] .colab-df-convert {\n",
              "      background-color: #3B4455;\n",
              "      fill: #D2E3FC;\n",
              "    }\n",
              "\n",
              "    [theme=dark] .colab-df-convert:hover {\n",
              "      background-color: #434B5C;\n",
              "      box-shadow: 0px 1px 3px 1px rgba(0, 0, 0, 0.15);\n",
              "      filter: drop-shadow(0px 1px 2px rgba(0, 0, 0, 0.3));\n",
              "      fill: #FFFFFF;\n",
              "    }\n",
              "  </style>\n",
              "\n",
              "    <script>\n",
              "      const buttonEl =\n",
              "        document.querySelector('#df-45395bb4-e662-40ef-9aa0-7e7ce7d53e25 button.colab-df-convert');\n",
              "      buttonEl.style.display =\n",
              "        google.colab.kernel.accessAllowed ? 'block' : 'none';\n",
              "\n",
              "      async function convertToInteractive(key) {\n",
              "        const element = document.querySelector('#df-45395bb4-e662-40ef-9aa0-7e7ce7d53e25');\n",
              "        const dataTable =\n",
              "          await google.colab.kernel.invokeFunction('convertToInteractive',\n",
              "                                                    [key], {});\n",
              "        if (!dataTable) return;\n",
              "\n",
              "        const docLinkHtml = 'Like what you see? Visit the ' +\n",
              "          '<a target=\"_blank\" href=https://colab.research.google.com/notebooks/data_table.ipynb>data table notebook</a>'\n",
              "          + ' to learn more about interactive tables.';\n",
              "        element.innerHTML = '';\n",
              "        dataTable['output_type'] = 'display_data';\n",
              "        await google.colab.output.renderOutput(dataTable, element);\n",
              "        const docLink = document.createElement('div');\n",
              "        docLink.innerHTML = docLinkHtml;\n",
              "        element.appendChild(docLink);\n",
              "      }\n",
              "    </script>\n",
              "  </div>\n",
              "\n",
              "\n",
              "    <div id=\"df-61351d23-6b9b-4009-9773-3964867b7730\">\n",
              "      <button class=\"colab-df-quickchart\" onclick=\"quickchart('df-61351d23-6b9b-4009-9773-3964867b7730')\"\n",
              "                title=\"Suggest charts\"\n",
              "                style=\"display:none;\">\n",
              "\n",
              "<svg xmlns=\"http://www.w3.org/2000/svg\" height=\"24px\"viewBox=\"0 0 24 24\"\n",
              "     width=\"24px\">\n",
              "    <g>\n",
              "        <path d=\"M19 3H5c-1.1 0-2 .9-2 2v14c0 1.1.9 2 2 2h14c1.1 0 2-.9 2-2V5c0-1.1-.9-2-2-2zM9 17H7v-7h2v7zm4 0h-2V7h2v10zm4 0h-2v-4h2v4z\"/>\n",
              "    </g>\n",
              "</svg>\n",
              "      </button>\n",
              "\n",
              "<style>\n",
              "  .colab-df-quickchart {\n",
              "      --bg-color: #E8F0FE;\n",
              "      --fill-color: #1967D2;\n",
              "      --hover-bg-color: #E2EBFA;\n",
              "      --hover-fill-color: #174EA6;\n",
              "      --disabled-fill-color: #AAA;\n",
              "      --disabled-bg-color: #DDD;\n",
              "  }\n",
              "\n",
              "  [theme=dark] .colab-df-quickchart {\n",
              "      --bg-color: #3B4455;\n",
              "      --fill-color: #D2E3FC;\n",
              "      --hover-bg-color: #434B5C;\n",
              "      --hover-fill-color: #FFFFFF;\n",
              "      --disabled-bg-color: #3B4455;\n",
              "      --disabled-fill-color: #666;\n",
              "  }\n",
              "\n",
              "  .colab-df-quickchart {\n",
              "    background-color: var(--bg-color);\n",
              "    border: none;\n",
              "    border-radius: 50%;\n",
              "    cursor: pointer;\n",
              "    display: none;\n",
              "    fill: var(--fill-color);\n",
              "    height: 32px;\n",
              "    padding: 0;\n",
              "    width: 32px;\n",
              "  }\n",
              "\n",
              "  .colab-df-quickchart:hover {\n",
              "    background-color: var(--hover-bg-color);\n",
              "    box-shadow: 0 1px 2px rgba(60, 64, 67, 0.3), 0 1px 3px 1px rgba(60, 64, 67, 0.15);\n",
              "    fill: var(--button-hover-fill-color);\n",
              "  }\n",
              "\n",
              "  .colab-df-quickchart-complete:disabled,\n",
              "  .colab-df-quickchart-complete:disabled:hover {\n",
              "    background-color: var(--disabled-bg-color);\n",
              "    fill: var(--disabled-fill-color);\n",
              "    box-shadow: none;\n",
              "  }\n",
              "\n",
              "  .colab-df-spinner {\n",
              "    border: 2px solid var(--fill-color);\n",
              "    border-color: transparent;\n",
              "    border-bottom-color: var(--fill-color);\n",
              "    animation:\n",
              "      spin 1s steps(1) infinite;\n",
              "  }\n",
              "\n",
              "  @keyframes spin {\n",
              "    0% {\n",
              "      border-color: transparent;\n",
              "      border-bottom-color: var(--fill-color);\n",
              "      border-left-color: var(--fill-color);\n",
              "    }\n",
              "    20% {\n",
              "      border-color: transparent;\n",
              "      border-left-color: var(--fill-color);\n",
              "      border-top-color: var(--fill-color);\n",
              "    }\n",
              "    30% {\n",
              "      border-color: transparent;\n",
              "      border-left-color: var(--fill-color);\n",
              "      border-top-color: var(--fill-color);\n",
              "      border-right-color: var(--fill-color);\n",
              "    }\n",
              "    40% {\n",
              "      border-color: transparent;\n",
              "      border-right-color: var(--fill-color);\n",
              "      border-top-color: var(--fill-color);\n",
              "    }\n",
              "    60% {\n",
              "      border-color: transparent;\n",
              "      border-right-color: var(--fill-color);\n",
              "    }\n",
              "    80% {\n",
              "      border-color: transparent;\n",
              "      border-right-color: var(--fill-color);\n",
              "      border-bottom-color: var(--fill-color);\n",
              "    }\n",
              "    90% {\n",
              "      border-color: transparent;\n",
              "      border-bottom-color: var(--fill-color);\n",
              "    }\n",
              "  }\n",
              "</style>\n",
              "\n",
              "      <script>\n",
              "        async function quickchart(key) {\n",
              "          const quickchartButtonEl =\n",
              "            document.querySelector('#' + key + ' button');\n",
              "          quickchartButtonEl.disabled = true;  // To prevent multiple clicks.\n",
              "          quickchartButtonEl.classList.add('colab-df-spinner');\n",
              "          try {\n",
              "            const charts = await google.colab.kernel.invokeFunction(\n",
              "                'suggestCharts', [key], {});\n",
              "          } catch (error) {\n",
              "            console.error('Error during call to suggestCharts:', error);\n",
              "          }\n",
              "          quickchartButtonEl.classList.remove('colab-df-spinner');\n",
              "          quickchartButtonEl.classList.add('colab-df-quickchart-complete');\n",
              "        }\n",
              "        (() => {\n",
              "          let quickchartButtonEl =\n",
              "            document.querySelector('#df-61351d23-6b9b-4009-9773-3964867b7730 button');\n",
              "          quickchartButtonEl.style.display =\n",
              "            google.colab.kernel.accessAllowed ? 'block' : 'none';\n",
              "        })();\n",
              "      </script>\n",
              "    </div>\n",
              "\n",
              "    </div>\n",
              "  </div>\n"
            ],
            "text/plain": [
              "          producto     score\n",
              "5538   producto_49  0.984358\n",
              "5932   producto_19  0.983539\n",
              "4530    producto_3  0.974469\n",
              "7137   producto_28  0.973825\n",
              "1748   producto_72  0.973797\n",
              "6134  producto_112  0.973154\n",
              "2275   producto_27  0.971467\n",
              "400    producto_74  0.971260\n",
              "666   producto_119  0.966370\n",
              "1177   producto_66  0.962967"
            ]
          },
          "execution_count": 20,
          "metadata": {},
          "output_type": "execute_result"
        }
      ],
      "source": [
        "#Ejemplo recomendacion con xgboost\n",
        "recomendar_con_xgboost(cliente_id=11, top_n=10)\n"
      ]
    },
    {
      "cell_type": "markdown",
      "id": "07cc7641",
      "metadata": {
        "id": "07cc7641"
      },
      "source": [
        "## Recomendador HIBRIDO"
      ]
    },
    {
      "cell_type": "code",
      "execution_count": null,
      "id": "aU-SAGDxEkWV",
      "metadata": {
        "id": "aU-SAGDxEkWV"
      },
      "outputs": [],
      "source": [
        "\n",
        "def recomendar_hibrido(cliente_id, top_n=10, alpha=0.5):\n",
        "    # Validar que cliente exista en el mapping de LightFM\n",
        "    if cliente_id not in dataset.mapping()[0]:\n",
        "        return f\"Cliente {cliente_id} no está en el dataset de LightFM.\"\n",
        "\n",
        "    # Productos ya comprados\n",
        "    productos_comprados = set(b2c[b2c['id'] == cliente_id]['producto'].unique())\n",
        "    productos_totales = b2c['producto'].unique()\n",
        "    productos_candidatos = list(set(productos_totales) - productos_comprados)\n",
        "\n",
        "    if not productos_candidatos:\n",
        "        return f\"Cliente {cliente_id} ya ha comprado todos los productos.\"\n",
        "\n",
        "    # LightFM scores\n",
        "    usuario_interno = dataset.mapping()[0][cliente_id]\n",
        "    productos_idx = [dataset.mapping()[2][p] for p in productos_candidatos if p in dataset.mapping()[2]]\n",
        "    scores_lfm = model.predict(usuario_interno, productos_idx, user_features=user_features, item_features=item_features)\n",
        "\n",
        "    # Mapear scores a productos\n",
        "    lfm_scores = pd.DataFrame({'producto': [p for p in productos_candidatos if p in dataset.mapping()[2]],\n",
        "                               'score_lfm': scores_lfm})\n",
        "\n",
        "    # XGBoost scores\n",
        "    df_pred = pd.DataFrame({'id': cliente_id, 'producto': lfm_scores['producto']})\n",
        "    df_pred = df_pred.merge(features_usuario, on='id', how='left')\n",
        "    df_pred = df_pred.merge(features_producto, on='producto', how='left')\n",
        "    df_pred.fillna(\"desconocido\", inplace=True)\n",
        "\n",
        "    if 'color' in df_pred.columns and df_pred['color'].nunique() > 20:\n",
        "        top_colores = features_producto['color'].value_counts().nlargest(20).index\n",
        "        df_pred['color'] = df_pred['color'].where(df_pred['color'].isin(top_colores), 'otros')\n",
        "\n",
        "    for col in ['cluster', 'categoria_macro', 'subcategoria', 'color']:\n",
        "        if col in df_pred.columns:\n",
        "            df_pred[col] = df_pred[col].astype('category')\n",
        "\n",
        "    X_pred = df_pred.drop(columns=['id', 'producto'])\n",
        "    scores_xgb = modelo_xgb.predict_proba(X_pred)[:, 1]\n",
        "\n",
        "    # Combinar scores\n",
        "    lfm_scores['score_xgb'] = scores_xgb\n",
        "    lfm_scores['score_hibrido'] = alpha * lfm_scores['score_lfm'] + (1 - alpha) * lfm_scores['score_xgb']\n",
        "\n",
        "    # Ordenar y devolver top N\n",
        "    top_recomendaciones = lfm_scores.sort_values('score_hibrido', ascending=False).head(top_n)\n",
        "    return top_recomendaciones[['producto', 'score_lfm', 'score_xgb', 'score_hibrido']]\n"
      ]
    },
    {
      "cell_type": "code",
      "execution_count": 36,
      "id": "BBESoncjH3MP",
      "metadata": {
        "colab": {
          "base_uri": "https://localhost:8080/"
        },
        "id": "BBESoncjH3MP",
        "outputId": "60cd7364-e1c2-49f1-c28f-79d77fd9095c"
      },
      "outputs": [
        {
          "name": "stdout",
          "output_type": "stream",
          "text": [
            "Métricas del modelo híbrido B2C:\n",
            "- Media score híbrido: -40.71770095825195\n",
            "- Máximo score híbrido: -40.6524\n",
            "- Mínimo score híbrido: -40.7647\n",
            "- Desviación estándar: 0.0347\n"
          ]
        }
      ],
      "source": [
        "# Obtener recomendaciones híbridas para un cliente B2C\n",
        "df_hibrido_b2c = recomendar_hibrido(cliente_id=11, top_n=20, alpha=0.5)\n",
        "\n",
        "# Validar si se obtuvo un DataFrame o un mensaje de error\n",
        "if isinstance(df_hibrido_b2c, pd.DataFrame):\n",
        "    # Crear diccionario con métricas estadísticas del modelo híbrido\n",
        "    metricas_hibrido_b2c = {\n",
        "        \"Media score híbrido\": round(df_hibrido_b2c[\"score_hibrido\"].mean(), 4),\n",
        "        \"Máximo score híbrido\": round(df_hibrido_b2c[\"score_hibrido\"].max(), 4),\n",
        "        \"Mínimo score híbrido\": round(df_hibrido_b2c[\"score_hibrido\"].min(), 4),\n",
        "        \"Desviación estándar\": round(df_hibrido_b2c[\"score_hibrido\"].std(), 4)\n",
        "    }\n",
        "\n",
        "    print(\"Métricas del modelo híbrido B2C:\")\n",
        "    for k, v in metricas_hibrido_b2c.items():\n",
        "        print(f\"- {k}: {v}\")\n",
        "else:\n",
        "    print(f\"Error: {df_hibrido_b2c}\")\n"
      ]
    },
    {
      "cell_type": "code",
      "execution_count": null,
      "id": "t1HGqDOkFEiY",
      "metadata": {
        "colab": {
          "base_uri": "https://localhost:8080/",
          "height": 363
        },
        "id": "t1HGqDOkFEiY",
        "outputId": "42f2adc3-44b5-4af7-8586-ef6e70869d99"
      },
      "outputs": [
        {
          "data": {
            "application/vnd.google.colaboratory.intrinsic+json": {
              "summary": "{\n  \"name\": \"recomendar_hibrido(cliente_id=2, top_n=10, alpha=0\",\n  \"rows\": 10,\n  \"fields\": [\n    {\n      \"column\": \"producto\",\n      \"properties\": {\n        \"dtype\": \"string\",\n        \"num_unique_values\": 10,\n        \"samples\": [\n          \"producto_355\",\n          \"producto_49\",\n          \"producto_66\"\n        ],\n        \"semantic_type\": \"\",\n        \"description\": \"\"\n      }\n    },\n    {\n      \"column\": \"score_lfm\",\n      \"properties\": {\n        \"dtype\": \"float32\",\n        \"num_unique_values\": 10,\n        \"samples\": [\n          -77.47947692871094,\n          -77.3075942993164,\n          -77.47594451904297\n        ],\n        \"semantic_type\": \"\",\n        \"description\": \"\"\n      }\n    },\n    {\n      \"column\": \"score_xgb\",\n      \"properties\": {\n        \"dtype\": \"float32\",\n        \"num_unique_values\": 9,\n        \"samples\": [\n          0.9496170282363892,\n          0.9868416786193848,\n          0.962580144405365\n        ],\n        \"semantic_type\": \"\",\n        \"description\": \"\"\n      }\n    },\n    {\n      \"column\": \"score_hibrido\",\n      \"properties\": {\n        \"dtype\": \"float32\",\n        \"num_unique_values\": 10,\n        \"samples\": [\n          -46.1069221496582,\n          -45.98982238769531,\n          -46.10053634643555\n        ],\n        \"semantic_type\": \"\",\n        \"description\": \"\"\n      }\n    }\n  ]\n}",
              "type": "dataframe"
            },
            "text/html": [
              "\n",
              "  <div id=\"df-2463c738-2315-439e-b70a-9c9dfbef25fb\" class=\"colab-df-container\">\n",
              "    <div>\n",
              "<style scoped>\n",
              "    .dataframe tbody tr th:only-of-type {\n",
              "        vertical-align: middle;\n",
              "    }\n",
              "\n",
              "    .dataframe tbody tr th {\n",
              "        vertical-align: top;\n",
              "    }\n",
              "\n",
              "    .dataframe thead th {\n",
              "        text-align: right;\n",
              "    }\n",
              "</style>\n",
              "<table border=\"1\" class=\"dataframe\">\n",
              "  <thead>\n",
              "    <tr style=\"text-align: right;\">\n",
              "      <th></th>\n",
              "      <th>producto</th>\n",
              "      <th>score_lfm</th>\n",
              "      <th>score_xgb</th>\n",
              "      <th>score_hibrido</th>\n",
              "    </tr>\n",
              "  </thead>\n",
              "  <tbody>\n",
              "    <tr>\n",
              "      <th>5683</th>\n",
              "      <td>producto_132</td>\n",
              "      <td>-77.240265</td>\n",
              "      <td>0.919974</td>\n",
              "      <td>-45.976173</td>\n",
              "    </tr>\n",
              "    <tr>\n",
              "      <th>5528</th>\n",
              "      <td>producto_49</td>\n",
              "      <td>-77.307594</td>\n",
              "      <td>0.986842</td>\n",
              "      <td>-45.989822</td>\n",
              "    </tr>\n",
              "    <tr>\n",
              "      <th>398</th>\n",
              "      <td>producto_74</td>\n",
              "      <td>-77.308426</td>\n",
              "      <td>0.975772</td>\n",
              "      <td>-45.994747</td>\n",
              "    </tr>\n",
              "    <tr>\n",
              "      <th>4521</th>\n",
              "      <td>producto_3</td>\n",
              "      <td>-77.387726</td>\n",
              "      <td>0.970659</td>\n",
              "      <td>-46.044373</td>\n",
              "    </tr>\n",
              "    <tr>\n",
              "      <th>6123</th>\n",
              "      <td>producto_112</td>\n",
              "      <td>-77.475906</td>\n",
              "      <td>0.969773</td>\n",
              "      <td>-46.097637</td>\n",
              "    </tr>\n",
              "    <tr>\n",
              "      <th>1172</th>\n",
              "      <td>producto_66</td>\n",
              "      <td>-77.475945</td>\n",
              "      <td>0.962580</td>\n",
              "      <td>-46.100536</td>\n",
              "    </tr>\n",
              "    <tr>\n",
              "      <th>5241</th>\n",
              "      <td>producto_366</td>\n",
              "      <td>-77.476303</td>\n",
              "      <td>0.951914</td>\n",
              "      <td>-46.105019</td>\n",
              "    </tr>\n",
              "    <tr>\n",
              "      <th>6051</th>\n",
              "      <td>producto_242</td>\n",
              "      <td>-77.477173</td>\n",
              "      <td>0.949617</td>\n",
              "      <td>-46.106457</td>\n",
              "    </tr>\n",
              "    <tr>\n",
              "      <th>1083</th>\n",
              "      <td>producto_355</td>\n",
              "      <td>-77.479477</td>\n",
              "      <td>0.951914</td>\n",
              "      <td>-46.106922</td>\n",
              "    </tr>\n",
              "    <tr>\n",
              "      <th>1098</th>\n",
              "      <td>producto_59</td>\n",
              "      <td>-77.441803</td>\n",
              "      <td>0.891578</td>\n",
              "      <td>-46.108452</td>\n",
              "    </tr>\n",
              "  </tbody>\n",
              "</table>\n",
              "</div>\n",
              "    <div class=\"colab-df-buttons\">\n",
              "\n",
              "  <div class=\"colab-df-container\">\n",
              "    <button class=\"colab-df-convert\" onclick=\"convertToInteractive('df-2463c738-2315-439e-b70a-9c9dfbef25fb')\"\n",
              "            title=\"Convert this dataframe to an interactive table.\"\n",
              "            style=\"display:none;\">\n",
              "\n",
              "  <svg xmlns=\"http://www.w3.org/2000/svg\" height=\"24px\" viewBox=\"0 -960 960 960\">\n",
              "    <path d=\"M120-120v-720h720v720H120Zm60-500h600v-160H180v160Zm220 220h160v-160H400v160Zm0 220h160v-160H400v160ZM180-400h160v-160H180v160Zm440 0h160v-160H620v160ZM180-180h160v-160H180v160Zm440 0h160v-160H620v160Z\"/>\n",
              "  </svg>\n",
              "    </button>\n",
              "\n",
              "  <style>\n",
              "    .colab-df-container {\n",
              "      display:flex;\n",
              "      gap: 12px;\n",
              "    }\n",
              "\n",
              "    .colab-df-convert {\n",
              "      background-color: #E8F0FE;\n",
              "      border: none;\n",
              "      border-radius: 50%;\n",
              "      cursor: pointer;\n",
              "      display: none;\n",
              "      fill: #1967D2;\n",
              "      height: 32px;\n",
              "      padding: 0 0 0 0;\n",
              "      width: 32px;\n",
              "    }\n",
              "\n",
              "    .colab-df-convert:hover {\n",
              "      background-color: #E2EBFA;\n",
              "      box-shadow: 0px 1px 2px rgba(60, 64, 67, 0.3), 0px 1px 3px 1px rgba(60, 64, 67, 0.15);\n",
              "      fill: #174EA6;\n",
              "    }\n",
              "\n",
              "    .colab-df-buttons div {\n",
              "      margin-bottom: 4px;\n",
              "    }\n",
              "\n",
              "    [theme=dark] .colab-df-convert {\n",
              "      background-color: #3B4455;\n",
              "      fill: #D2E3FC;\n",
              "    }\n",
              "\n",
              "    [theme=dark] .colab-df-convert:hover {\n",
              "      background-color: #434B5C;\n",
              "      box-shadow: 0px 1px 3px 1px rgba(0, 0, 0, 0.15);\n",
              "      filter: drop-shadow(0px 1px 2px rgba(0, 0, 0, 0.3));\n",
              "      fill: #FFFFFF;\n",
              "    }\n",
              "  </style>\n",
              "\n",
              "    <script>\n",
              "      const buttonEl =\n",
              "        document.querySelector('#df-2463c738-2315-439e-b70a-9c9dfbef25fb button.colab-df-convert');\n",
              "      buttonEl.style.display =\n",
              "        google.colab.kernel.accessAllowed ? 'block' : 'none';\n",
              "\n",
              "      async function convertToInteractive(key) {\n",
              "        const element = document.querySelector('#df-2463c738-2315-439e-b70a-9c9dfbef25fb');\n",
              "        const dataTable =\n",
              "          await google.colab.kernel.invokeFunction('convertToInteractive',\n",
              "                                                    [key], {});\n",
              "        if (!dataTable) return;\n",
              "\n",
              "        const docLinkHtml = 'Like what you see? Visit the ' +\n",
              "          '<a target=\"_blank\" href=https://colab.research.google.com/notebooks/data_table.ipynb>data table notebook</a>'\n",
              "          + ' to learn more about interactive tables.';\n",
              "        element.innerHTML = '';\n",
              "        dataTable['output_type'] = 'display_data';\n",
              "        await google.colab.output.renderOutput(dataTable, element);\n",
              "        const docLink = document.createElement('div');\n",
              "        docLink.innerHTML = docLinkHtml;\n",
              "        element.appendChild(docLink);\n",
              "      }\n",
              "    </script>\n",
              "  </div>\n",
              "\n",
              "\n",
              "    <div id=\"df-9af28a6a-32b9-4bdf-b2a5-d1cd8d188476\">\n",
              "      <button class=\"colab-df-quickchart\" onclick=\"quickchart('df-9af28a6a-32b9-4bdf-b2a5-d1cd8d188476')\"\n",
              "                title=\"Suggest charts\"\n",
              "                style=\"display:none;\">\n",
              "\n",
              "<svg xmlns=\"http://www.w3.org/2000/svg\" height=\"24px\"viewBox=\"0 0 24 24\"\n",
              "     width=\"24px\">\n",
              "    <g>\n",
              "        <path d=\"M19 3H5c-1.1 0-2 .9-2 2v14c0 1.1.9 2 2 2h14c1.1 0 2-.9 2-2V5c0-1.1-.9-2-2-2zM9 17H7v-7h2v7zm4 0h-2V7h2v10zm4 0h-2v-4h2v4z\"/>\n",
              "    </g>\n",
              "</svg>\n",
              "      </button>\n",
              "\n",
              "<style>\n",
              "  .colab-df-quickchart {\n",
              "      --bg-color: #E8F0FE;\n",
              "      --fill-color: #1967D2;\n",
              "      --hover-bg-color: #E2EBFA;\n",
              "      --hover-fill-color: #174EA6;\n",
              "      --disabled-fill-color: #AAA;\n",
              "      --disabled-bg-color: #DDD;\n",
              "  }\n",
              "\n",
              "  [theme=dark] .colab-df-quickchart {\n",
              "      --bg-color: #3B4455;\n",
              "      --fill-color: #D2E3FC;\n",
              "      --hover-bg-color: #434B5C;\n",
              "      --hover-fill-color: #FFFFFF;\n",
              "      --disabled-bg-color: #3B4455;\n",
              "      --disabled-fill-color: #666;\n",
              "  }\n",
              "\n",
              "  .colab-df-quickchart {\n",
              "    background-color: var(--bg-color);\n",
              "    border: none;\n",
              "    border-radius: 50%;\n",
              "    cursor: pointer;\n",
              "    display: none;\n",
              "    fill: var(--fill-color);\n",
              "    height: 32px;\n",
              "    padding: 0;\n",
              "    width: 32px;\n",
              "  }\n",
              "\n",
              "  .colab-df-quickchart:hover {\n",
              "    background-color: var(--hover-bg-color);\n",
              "    box-shadow: 0 1px 2px rgba(60, 64, 67, 0.3), 0 1px 3px 1px rgba(60, 64, 67, 0.15);\n",
              "    fill: var(--button-hover-fill-color);\n",
              "  }\n",
              "\n",
              "  .colab-df-quickchart-complete:disabled,\n",
              "  .colab-df-quickchart-complete:disabled:hover {\n",
              "    background-color: var(--disabled-bg-color);\n",
              "    fill: var(--disabled-fill-color);\n",
              "    box-shadow: none;\n",
              "  }\n",
              "\n",
              "  .colab-df-spinner {\n",
              "    border: 2px solid var(--fill-color);\n",
              "    border-color: transparent;\n",
              "    border-bottom-color: var(--fill-color);\n",
              "    animation:\n",
              "      spin 1s steps(1) infinite;\n",
              "  }\n",
              "\n",
              "  @keyframes spin {\n",
              "    0% {\n",
              "      border-color: transparent;\n",
              "      border-bottom-color: var(--fill-color);\n",
              "      border-left-color: var(--fill-color);\n",
              "    }\n",
              "    20% {\n",
              "      border-color: transparent;\n",
              "      border-left-color: var(--fill-color);\n",
              "      border-top-color: var(--fill-color);\n",
              "    }\n",
              "    30% {\n",
              "      border-color: transparent;\n",
              "      border-left-color: var(--fill-color);\n",
              "      border-top-color: var(--fill-color);\n",
              "      border-right-color: var(--fill-color);\n",
              "    }\n",
              "    40% {\n",
              "      border-color: transparent;\n",
              "      border-right-color: var(--fill-color);\n",
              "      border-top-color: var(--fill-color);\n",
              "    }\n",
              "    60% {\n",
              "      border-color: transparent;\n",
              "      border-right-color: var(--fill-color);\n",
              "    }\n",
              "    80% {\n",
              "      border-color: transparent;\n",
              "      border-right-color: var(--fill-color);\n",
              "      border-bottom-color: var(--fill-color);\n",
              "    }\n",
              "    90% {\n",
              "      border-color: transparent;\n",
              "      border-bottom-color: var(--fill-color);\n",
              "    }\n",
              "  }\n",
              "</style>\n",
              "\n",
              "      <script>\n",
              "        async function quickchart(key) {\n",
              "          const quickchartButtonEl =\n",
              "            document.querySelector('#' + key + ' button');\n",
              "          quickchartButtonEl.disabled = true;  // To prevent multiple clicks.\n",
              "          quickchartButtonEl.classList.add('colab-df-spinner');\n",
              "          try {\n",
              "            const charts = await google.colab.kernel.invokeFunction(\n",
              "                'suggestCharts', [key], {});\n",
              "          } catch (error) {\n",
              "            console.error('Error during call to suggestCharts:', error);\n",
              "          }\n",
              "          quickchartButtonEl.classList.remove('colab-df-spinner');\n",
              "          quickchartButtonEl.classList.add('colab-df-quickchart-complete');\n",
              "        }\n",
              "        (() => {\n",
              "          let quickchartButtonEl =\n",
              "            document.querySelector('#df-9af28a6a-32b9-4bdf-b2a5-d1cd8d188476 button');\n",
              "          quickchartButtonEl.style.display =\n",
              "            google.colab.kernel.accessAllowed ? 'block' : 'none';\n",
              "        })();\n",
              "      </script>\n",
              "    </div>\n",
              "\n",
              "    </div>\n",
              "  </div>\n"
            ],
            "text/plain": [
              "          producto  score_lfm  score_xgb  score_hibrido\n",
              "5683  producto_132 -77.240265   0.919974     -45.976173\n",
              "5528   producto_49 -77.307594   0.986842     -45.989822\n",
              "398    producto_74 -77.308426   0.975772     -45.994747\n",
              "4521    producto_3 -77.387726   0.970659     -46.044373\n",
              "6123  producto_112 -77.475906   0.969773     -46.097637\n",
              "1172   producto_66 -77.475945   0.962580     -46.100536\n",
              "5241  producto_366 -77.476303   0.951914     -46.105019\n",
              "6051  producto_242 -77.477173   0.949617     -46.106457\n",
              "1083  producto_355 -77.479477   0.951914     -46.106922\n",
              "1098   producto_59 -77.441803   0.891578     -46.108452"
            ]
          },
          "execution_count": 22,
          "metadata": {},
          "output_type": "execute_result"
        }
      ],
      "source": [
        "#Ejemplo recomendacion hibrida\n",
        "recomendar_hibrido(cliente_id=2, top_n=10, alpha=0.6)\n"
      ]
    },
    {
      "cell_type": "markdown",
      "id": "Z5SgcSVjGAbQ",
      "metadata": {
        "id": "Z5SgcSVjGAbQ"
      },
      "source": [
        "## Comparación de Modelos"
      ]
    },
    {
      "cell_type": "code",
      "execution_count": null,
      "id": "uWobzmR6F9n0",
      "metadata": {
        "id": "uWobzmR6F9n0"
      },
      "outputs": [],
      "source": [
        "def comparar_modelos(cliente_id, top_n=30, alpha=0.5, normalizar_lfm=True):\n",
        "    df_scores = recomendar_hibrido(cliente_id=cliente_id, top_n=top_n, alpha=alpha)\n",
        "\n",
        "    if isinstance(df_scores, str):\n",
        "        print(df_scores)\n",
        "        return\n",
        "\n",
        "    # Escalar LightFM \n",
        "    if normalizar_lfm:\n",
        "        min_lfm, max_lfm = df_scores['score_lfm'].min(), df_scores['score_lfm'].max()\n",
        "        df_scores['score_lfm_norm'] = (df_scores['score_lfm'] - min_lfm) / (max_lfm - min_lfm)\n",
        "        df_scores['score_hibrido_norm'] = alpha * df_scores['score_lfm_norm'] + (1 - alpha) * df_scores['score_xgb']\n",
        "        cols_plot = ['score_lfm_norm', 'score_xgb', 'score_hibrido_norm']\n",
        "    else:\n",
        "        cols_plot = ['score_lfm', 'score_xgb', 'score_hibrido']\n",
        "\n",
        "    # Estadísticas\n",
        "    print(\"Estadísticas de scores:\")\n",
        "    for col in cols_plot:\n",
        "        print(f\"\\n{col}:\")\n",
        "        print(df_scores[col].describe())\n",
        "\n",
        "    # Grafica\n",
        "    df_plot = df_scores.melt(id_vars='producto', value_vars=cols_plot,\n",
        "                             var_name='modelo', value_name='score')\n",
        "\n",
        "    plt.figure(figsize=(14, 6))\n",
        "    sns.barplot(data=df_plot, x='producto', y='score', hue='modelo', palette='Set2')\n",
        "    plt.xticks(rotation=45, ha='right')\n",
        "    plt.title(f\"Comparación de scores normalizados para Cliente {cliente_id}\" if normalizar_lfm else f\"Comparación de scores para Cliente {cliente_id}\")\n",
        "    plt.ylabel(\"Score\")\n",
        "    plt.xlabel(\"Producto\")\n",
        "    plt.legend(title='Modelo')\n",
        "    plt.tight_layout()\n",
        "    plt.show()\n",
        "\n",
        "    # Ranking\n",
        "    df_scores['rank_lfm'] = df_scores['score_lfm'].rank(ascending=False)\n",
        "    df_scores['rank_xgb'] = df_scores['score_xgb'].rank(ascending=False)\n",
        "    df_scores['rank_diff'] = df_scores['rank_xgb'] - df_scores['rank_lfm']\n",
        "    print(\"\\nTop 5 mayores diferencias de ranking (XGBoost vs LightFM):\")\n",
        "    print(df_scores[['producto', 'rank_lfm', 'rank_xgb', 'rank_diff']].sort_values('rank_diff', key=abs, ascending=False).head())\n"
      ]
    },
    {
      "cell_type": "code",
      "execution_count": 24,
      "id": "CU5FleHwGEeg",
      "metadata": {
        "colab": {
          "base_uri": "https://localhost:8080/",
          "height": 1000
        },
        "id": "CU5FleHwGEeg",
        "outputId": "6c2455da-55dc-493f-f3fc-ef8411f5b970"
      },
      "outputs": [
        {
          "name": "stdout",
          "output_type": "stream",
          "text": [
            "Estadísticas de scores:\n",
            "\n",
            "score_lfm_norm:\n",
            "count    15.000000\n",
            "mean      0.274392\n",
            "std       0.318589\n",
            "min       0.000000\n",
            "25%       0.060048\n",
            "50%       0.132397\n",
            "75%       0.357618\n",
            "max       1.000000\n",
            "Name: score_lfm_norm, dtype: float64\n",
            "\n",
            "score_xgb:\n",
            "count    15.000000\n",
            "mean      0.946889\n",
            "std       0.039666\n",
            "min       0.836422\n",
            "25%       0.939305\n",
            "50%       0.951914\n",
            "75%       0.973216\n",
            "max       0.986842\n",
            "Name: score_xgb, dtype: float64\n",
            "\n",
            "score_hibrido_norm:\n",
            "count    15.000000\n",
            "mean      0.543391\n",
            "std       0.191805\n",
            "min       0.373743\n",
            "25%       0.422679\n",
            "50%       0.464470\n",
            "75%       0.587018\n",
            "max       0.967990\n",
            "Name: score_hibrido_norm, dtype: float64\n"
          ]
        },
        {
          "data": {
            "image/png": "[encoded data removed]",
            "text/plain": [
              "<Figure size 1400x600 with 1 Axes>"
            ]
          },
          "metadata": {},
          "output_type": "display_data"
        },
        {
          "name": "stdout",
          "output_type": "stream",
          "text": [
            "\n",
            "Top 5 mayores diferencias de ranking (XGBoost vs LightFM):\n",
            "          producto  rank_lfm  rank_xgb  rank_diff\n",
            "5683  producto_132       1.0      13.0       12.0\n",
            "1742   producto_72      14.0       3.0      -11.0\n",
            "5921   producto_19      12.0       2.0      -10.0\n",
            "1098   producto_59       5.0      14.0        9.0\n",
            "2734  producto_130       6.0      15.0        9.0\n"
          ]
        }
      ],
      "source": [
        "comparar_modelos(cliente_id=2, top_n=15, alpha=0.6)\n"
      ]
    },
    {
      "cell_type": "markdown",
      "id": "77839d5a",
      "metadata": {},
      "source": [
        "### Exportación del modelo"
      ]
    },
    {
      "cell_type": "markdown",
      "id": "751300a3",
      "metadata": {},
      "source": [
        "Para la implementación de la interfaz"
      ]
    },
    {
      "cell_type": "code",
      "execution_count": 25,
      "id": "zUsCknyJ70Kt",
      "metadata": {
        "colab": {
          "base_uri": "https://localhost:8080/"
        },
        "id": "zUsCknyJ70Kt",
        "outputId": "98eae221-edac-456c-f8a4-2be2bc2e2126"
      },
      "outputs": [
        {
          "name": "stdout",
          "output_type": "stream",
          "text": [
            "Modelos y objetos B2C guardados correctamente.\n"
          ]
        }
      ],
      "source": [
        "# import joblib\n",
        "# import os\n",
        "\n",
        "# # Crear carpeta si no existe\n",
        "# os.makedirs(\"modelos\", exist_ok=True)\n",
        "\n",
        "# # Guardar modelos B2C\n",
        "# joblib.dump(modelo_xgb, 'modelos/b2c_model_xgb.pkl')\n",
        "# joblib.dump(model, 'modelos/b2c_model_lfm.pkl')\n",
        "# joblib.dump(dataset, 'modelos/b2c_dataset.pkl')\n",
        "# joblib.dump(user_features, 'modelos/b2c_user_features.pkl')\n",
        "# joblib.dump(item_features, 'modelos/b2c_item_features.pkl')\n",
        "\n",
        "\n",
        "# print(\"Modelos y objetos B2C guardados correctamente.\")"
      ]
    },
    {
      "cell_type": "code",
      "execution_count": 26,
      "id": "hKePz4iUGW49",
      "metadata": {
        "colab": {
          "base_uri": "https://localhost:8080/",
          "height": 17
        },
        "id": "hKePz4iUGW49",
        "outputId": "709f2317-886f-4df2-dde5-cfc085353fea"
      },
      "outputs": [
        {
          "data": {
            "application/javascript": "\n    async function download(id, filename, size) {\n      if (!google.colab.kernel.accessAllowed) {\n        return;\n      }\n      const div = document.createElement('div');\n      const label = document.createElement('label');\n      label.textContent = `Downloading \"${filename}\": `;\n      div.appendChild(label);\n      const progress = document.createElement('progress');\n      progress.max = size;\n      div.appendChild(progress);\n      document.body.appendChild(div);\n\n      const buffers = [];\n      let downloaded = 0;\n\n      const channel = await google.colab.kernel.comms.open(id);\n      // Send a message to notify the kernel that we're ready.\n      channel.send({})\n\n      for await (const message of channel.messages) {\n        // Send a message to notify the kernel that we're ready.\n        channel.send({})\n        if (message.buffers) {\n          for (const buffer of message.buffers) {\n            buffers.push(buffer);\n            downloaded += buffer.byteLength;\n            progress.value = downloaded;\n          }\n        }\n      }\n      const blob = new Blob(buffers, {type: 'application/binary'});\n      const a = document.createElement('a');\n      a.href = window.URL.createObjectURL(blob);\n      a.download = filename;\n      div.appendChild(a);\n      a.click();\n      div.remove();\n    }\n  ",
            "text/plain": [
              "<IPython.core.display.Javascript object>"
            ]
          },
          "metadata": {},
          "output_type": "display_data"
        },
        {
          "data": {
            "application/javascript": "download(\"download_e0e4b988-b621-4c71-b60a-a9e8958d961c\", \"b2c_model_xgb.pkl\", 831474)",
            "text/plain": [
              "<IPython.core.display.Javascript object>"
            ]
          },
          "metadata": {},
          "output_type": "display_data"
        },
        {
          "data": {
            "application/javascript": "\n    async function download(id, filename, size) {\n      if (!google.colab.kernel.accessAllowed) {\n        return;\n      }\n      const div = document.createElement('div');\n      const label = document.createElement('label');\n      label.textContent = `Downloading \"${filename}\": `;\n      div.appendChild(label);\n      const progress = document.createElement('progress');\n      progress.max = size;\n      div.appendChild(progress);\n      document.body.appendChild(div);\n\n      const buffers = [];\n      let downloaded = 0;\n\n      const channel = await google.colab.kernel.comms.open(id);\n      // Send a message to notify the kernel that we're ready.\n      channel.send({})\n\n      for await (const message of channel.messages) {\n        // Send a message to notify the kernel that we're ready.\n        channel.send({})\n        if (message.buffers) {\n          for (const buffer of message.buffers) {\n            buffers.push(buffer);\n            downloaded += buffer.byteLength;\n            progress.value = downloaded;\n          }\n        }\n      }\n      const blob = new Blob(buffers, {type: 'application/binary'});\n      const a = document.createElement('a');\n      a.href = window.URL.createObjectURL(blob);\n      a.download = filename;\n      div.appendChild(a);\n      a.click();\n      div.remove();\n    }\n  ",
            "text/plain": [
              "<IPython.core.display.Javascript object>"
            ]
          },
          "metadata": {},
          "output_type": "display_data"
        },
        {
          "data": {
            "application/javascript": "download(\"download_c96946b6-3824-4af9-8569-082660e71705\", \"b2c_model_lfm.pkl\", 87355823)",
            "text/plain": [
              "<IPython.core.display.Javascript object>"
            ]
          },
          "metadata": {},
          "output_type": "display_data"
        },
        {
          "data": {
            "application/javascript": "\n    async function download(id, filename, size) {\n      if (!google.colab.kernel.accessAllowed) {\n        return;\n      }\n      const div = document.createElement('div');\n      const label = document.createElement('label');\n      label.textContent = `Downloading \"${filename}\": `;\n      div.appendChild(label);\n      const progress = document.createElement('progress');\n      progress.max = size;\n      div.appendChild(progress);\n      document.body.appendChild(div);\n\n      const buffers = [];\n      let downloaded = 0;\n\n      const channel = await google.colab.kernel.comms.open(id);\n      // Send a message to notify the kernel that we're ready.\n      channel.send({})\n\n      for await (const message of channel.messages) {\n        // Send a message to notify the kernel that we're ready.\n        channel.send({})\n        if (message.buffers) {\n          for (const buffer of message.buffers) {\n            buffers.push(buffer);\n            downloaded += buffer.byteLength;\n            progress.value = downloaded;\n          }\n        }\n      }\n      const blob = new Blob(buffers, {type: 'application/binary'});\n      const a = document.createElement('a');\n      a.href = window.URL.createObjectURL(blob);\n      a.download = filename;\n      div.appendChild(a);\n      a.click();\n      div.remove();\n    }\n  ",
            "text/plain": [
              "<IPython.core.display.Javascript object>"
            ]
          },
          "metadata": {},
          "output_type": "display_data"
        },
        {
          "data": {
            "application/javascript": "download(\"download_255dd6f2-6fd6-40ff-9ae1-c6e53d7ede33\", \"b2c_dataset.pkl\", 14233321)",
            "text/plain": [
              "<IPython.core.display.Javascript object>"
            ]
          },
          "metadata": {},
          "output_type": "display_data"
        },
        {
          "data": {
            "application/javascript": "\n    async function download(id, filename, size) {\n      if (!google.colab.kernel.accessAllowed) {\n        return;\n      }\n      const div = document.createElement('div');\n      const label = document.createElement('label');\n      label.textContent = `Downloading \"${filename}\": `;\n      div.appendChild(label);\n      const progress = document.createElement('progress');\n      progress.max = size;\n      div.appendChild(progress);\n      document.body.appendChild(div);\n\n      const buffers = [];\n      let downloaded = 0;\n\n      const channel = await google.colab.kernel.comms.open(id);\n      // Send a message to notify the kernel that we're ready.\n      channel.send({})\n\n      for await (const message of channel.messages) {\n        // Send a message to notify the kernel that we're ready.\n        channel.send({})\n        if (message.buffers) {\n          for (const buffer of message.buffers) {\n            buffers.push(buffer);\n            downloaded += buffer.byteLength;\n            progress.value = downloaded;\n          }\n        }\n      }\n      const blob = new Blob(buffers, {type: 'application/binary'});\n      const a = document.createElement('a');\n      a.href = window.URL.createObjectURL(blob);\n      a.download = filename;\n      div.appendChild(a);\n      a.click();\n      div.remove();\n    }\n  ",
            "text/plain": [
              "<IPython.core.display.Javascript object>"
            ]
          },
          "metadata": {},
          "output_type": "display_data"
        },
        {
          "data": {
            "application/javascript": "download(\"download_4c1b8d01-6ad9-4156-92e9-49f3f3a44f04\", \"b2c_user_features.pkl\", 24382616)",
            "text/plain": [
              "<IPython.core.display.Javascript object>"
            ]
          },
          "metadata": {},
          "output_type": "display_data"
        },
        {
          "data": {
            "application/javascript": "\n    async function download(id, filename, size) {\n      if (!google.colab.kernel.accessAllowed) {\n        return;\n      }\n      const div = document.createElement('div');\n      const label = document.createElement('label');\n      label.textContent = `Downloading \"${filename}\": `;\n      div.appendChild(label);\n      const progress = document.createElement('progress');\n      progress.max = size;\n      div.appendChild(progress);\n      document.body.appendChild(div);\n\n      const buffers = [];\n      let downloaded = 0;\n\n      const channel = await google.colab.kernel.comms.open(id);\n      // Send a message to notify the kernel that we're ready.\n      channel.send({})\n\n      for await (const message of channel.messages) {\n        // Send a message to notify the kernel that we're ready.\n        channel.send({})\n        if (message.buffers) {\n          for (const buffer of message.buffers) {\n            buffers.push(buffer);\n            downloaded += buffer.byteLength;\n            progress.value = downloaded;\n          }\n        }\n      }\n      const blob = new Blob(buffers, {type: 'application/binary'});\n      const a = document.createElement('a');\n      a.href = window.URL.createObjectURL(blob);\n      a.download = filename;\n      div.appendChild(a);\n      a.click();\n      div.remove();\n    }\n  ",
            "text/plain": [
              "<IPython.core.display.Javascript object>"
            ]
          },
          "metadata": {},
          "output_type": "display_data"
        },
        {
          "data": {
            "application/javascript": "download(\"download_9ac33a62-9734-4e75-94b8-8110d114fb80\", \"b2c_item_features.pkl\", 262068)",
            "text/plain": [
              "<IPython.core.display.Javascript object>"
            ]
          },
          "metadata": {},
          "output_type": "display_data"
        }
      ],
      "source": [
        "# from google.colab import files\n",
        "# files.download('modelos/b2c_model_xgb.pkl')\n",
        "# files.download('modelos/b2c_model_lfm.pkl')\n",
        "# files.download('modelos/b2c_dataset.pkl')\n",
        "# files.download('modelos/b2c_user_features.pkl')\n",
        "# files.download('modelos/b2c_item_features.pkl')"
      ]
    },
    {
      "cell_type": "code",
      "execution_count": 28,
      "id": "24G_Isgd4n_8",
      "metadata": {
        "id": "24G_Isgd4n_8"
      },
      "outputs": [],
      "source": [
        "import ipywidgets as widgets\n",
        "from IPython.display import display, clear_output\n",
        "import matplotlib.pyplot as plt\n"
      ]
    },
    {
      "cell_type": "code",
      "execution_count": 40,
      "id": "Y7-WFN7ecVvC",
      "metadata": {
        "colab": {
          "base_uri": "https://localhost:8080/",
          "height": 1000,
          "referenced_widgets": [
            "5358c023229b4045abf92ae8ac0cbc4f",
            "7588f1bedeeb4d23a302dc2b431f8480",
            "6f906af71b45461c8604efb22a7685bb",
            "2108aac2858d435f8e605ea0bd10552e",
            "d4cf860a8a3e46dd8bbea7f58a6fdbc1",
            "3d241093b6194ad99af553f01f02669b",
            "75b4f66c48924fb29ccefd6ca9c7000f",
            "a062e5e232ba4354be9fab9d5f00cba9",
            "2c3a03f1266848bb80fd3762938a7aeb",
            "157cac4f221c4f43a57c8bb13ee70815",
            "f2c9cd7512774f71bc1a85c6506eb763",
            "e63966848c284f37841e641db659da39",
            "23382781d9874b04a75caeaf4e7db5c6",
            "a9e528548f9d4c58a8dcfe385a5602d6",
            "36866b9254794e3d9dbc38ee7a0dda77",
            "2e206ee78f0047a18ebe7c6ea212aa7c"
          ]
        },
        "id": "Y7-WFN7ecVvC",
        "outputId": "42fd51fc-ee83-4346-d1f5-dcbd3c4dd0d1"
      },
      "outputs": [
        {
          "data": {
            "application/vnd.jupyter.widget-view+json": {
              "model_id": "5358c023229b4045abf92ae8ac0cbc4f",
              "version_major": 2,
              "version_minor": 0
            },
            "text/plain": [
              "VBox(children=(Text(value='11', description='Cliente ID:', placeholder='ID del cliente'), IntSlider(value=10, …"
            ]
          },
          "metadata": {},
          "output_type": "display_data"
        }
      ],
      "source": [
        "# Librerías\n",
        "import ipywidgets as widgets\n",
        "from IPython.display import display, clear_output\n",
        "import matplotlib.pyplot as plt\n",
        "import seaborn as sns\n",
        "import pandas as pd\n",
        "from sklearn.metrics import accuracy_score, precision_score, recall_score, f1_score, roc_auc_score\n",
        "\n",
        "# Inputs\n",
        "id_input = widgets.Text(\n",
        "    value='11',\n",
        "    placeholder='ID del cliente',\n",
        "    description='Cliente ID:',\n",
        "    disabled=False\n",
        ")\n",
        "\n",
        "topn_slider = widgets.IntSlider(\n",
        "    value=10,\n",
        "    min=1,\n",
        "    max=30,\n",
        "    step=1,\n",
        "    description='Top-N:',\n",
        "    continuous_update=False\n",
        ")\n",
        "\n",
        "alpha_slider = widgets.FloatSlider(\n",
        "    value=0.5,\n",
        "    min=0.0,\n",
        "    max=1.0,\n",
        "    step=0.05,\n",
        "    description='Peso LFM (α):',\n",
        "    continuous_update=False\n",
        ")\n",
        "\n",
        "btn = widgets.Button(description=\"Comparar Modelos\")\n",
        "output = widgets.Output()\n",
        "\n",
        "# Lógica\n",
        "def on_click(b):\n",
        "    output.clear_output()\n",
        "    with output:\n",
        "        try:\n",
        "            cliente_id = int(id_input.value)\n",
        "            topn = topn_slider.value\n",
        "            alpha = alpha_slider.value\n",
        "\n",
        "            df_scores = recomendar_hibrido(cliente_id=cliente_id, top_n=topn, alpha=alpha)\n",
        "\n",
        "            if isinstance(df_scores, str):\n",
        "                print(df_scores)\n",
        "                return\n",
        "\n",
        "            # --- Normalizar LightFM ---\n",
        "            min_lfm, max_lfm = df_scores['score_lfm'].min(), df_scores['score_lfm'].max()\n",
        "            df_scores['score_lfm_norm'] = (df_scores['score_lfm'] - min_lfm) / (max_lfm - min_lfm)\n",
        "            df_scores['score_hibrido_norm'] = alpha * df_scores['score_lfm_norm'] + (1 - alpha) * df_scores['score_xgb']\n",
        "\n",
        "            # --- Gráfico de scores ---\n",
        "            df_plot = df_scores.melt(\n",
        "                id_vars='producto',\n",
        "                value_vars=['score_lfm_norm', 'score_xgb', 'score_hibrido_norm'],\n",
        "                var_name='modelo', value_name='score'\n",
        "            )\n",
        "\n",
        "            plt.figure(figsize=(14, 6))\n",
        "            sns.barplot(data=df_plot, x='producto', y='score', hue='modelo', palette='Blues')\n",
        "            plt.title(f\"Comparación de scores normalizados para Cliente {cliente_id}\")\n",
        "            plt.xticks(rotation=45, ha='right')\n",
        "            plt.tight_layout()\n",
        "            plt.show()\n",
        "\n",
        "            # --- Tabla con scores promedio ---\n",
        "            df_scores['score_promedio'] = df_scores[['score_lfm', 'score_xgb']].mean(axis=1)\n",
        "            tabla = df_scores[['producto', 'score_lfm', 'score_xgb', 'score_promedio']].sort_values(\n",
        "                'score_promedio', ascending=False).reset_index(drop=True)\n",
        "\n",
        "            display(tabla)\n",
        "\n",
        "            # Imprimir métricas de cada modelo por separado\n",
        "            print(\"\\nMétricas del modelo XGBoost:\")\n",
        "            for k, v in metricas_xgb_b2c.items():\n",
        "                print(f\"{k}: {v:.4f}\")\n",
        "\n",
        "            print(\"\\nMétricas del modelo LightFM:\")\n",
        "            for k, v in metricas_lfm_b2c.items():\n",
        "                print(f\"{k}: {v:.4f}\")\n",
        "\n",
        "            print(\"\\nMétricas del modelo Híbrido:\")\n",
        "            for k, v in metricas_hibrido_b2c.items():\n",
        "                print(f\"{k}: {v:.4f}\")\n",
        "\n",
        "        except Exception as e:\n",
        "            print(f\"Error: {e}\")\n",
        "\n",
        "btn.on_click(on_click)\n",
        "\n",
        "# Mostrar interfaz\n",
        "display(widgets.VBox([\n",
        "    id_input,\n",
        "    topn_slider,\n",
        "    alpha_slider,\n",
        "    btn,\n",
        "    output\n",
        "]))\n"
      ]
    }
  ],
  "metadata": {
    "colab": {
      "collapsed_sections": [
        "daad5505"
      ],
      "provenance": [],
      "toc_visible": true
    },
    "kernelspec": {
      "display_name": "Python 3",
      "language": "python",
      "name": "python3"
    },
    "language_info": {
      "codemirror_mode": {
        "name": "ipython",
        "version": 3
      },
      "file_extension": ".py",
      "mimetype": "text/x-python",
      "name": "python",
      "nbconvert_exporter": "python",
      "pygments_lexer": "ipython3",
      "version": "3.11.9"
    },
    "widgets": {
      "application/vnd.jupyter.widget-state+json": {
        "157cac4f221c4f43a57c8bb13ee70815": {
          "model_module": "@jupyter-widgets/base",
          "model_module_version": "1.2.0",
          "model_name": "LayoutModel",
          "state": {
            "_model_module": "@jupyter-widgets/base",
            "_model_module_version": "1.2.0",
            "_model_name": "LayoutModel",
            "_view_count": null,
            "_view_module": "@jupyter-widgets/base",
            "_view_module_version": "1.2.0",
            "_view_name": "LayoutView",
            "align_content": null,
            "align_items": null,
            "align_self": null,
            "border": null,
            "bottom": null,
            "display": null,
            "flex": null,
            "flex_flow": null,
            "grid_area": null,
            "grid_auto_columns": null,
            "grid_auto_flow": null,
            "grid_auto_rows": null,
            "grid_column": null,
            "grid_gap": null,
            "grid_row": null,
            "grid_template_areas": null,
            "grid_template_columns": null,
            "grid_template_rows": null,
            "height": null,
            "justify_content": null,
            "justify_items": null,
            "left": null,
            "margin": null,
            "max_height": null,
            "max_width": null,
            "min_height": null,
            "min_width": null,
            "object_fit": null,
            "object_position": null,
            "order": null,
            "overflow": null,
            "overflow_x": null,
            "overflow_y": null,
            "padding": null,
            "right": null,
            "top": null,
            "visibility": null,
            "width": null
          }
        },
        "2108aac2858d435f8e605ea0bd10552e": {
          "model_module": "@jupyter-widgets/controls",
          "model_module_version": "1.5.0",
          "model_name": "FloatSliderModel",
          "state": {
            "_dom_classes": [],
            "_model_module": "@jupyter-widgets/controls",
            "_model_module_version": "1.5.0",
            "_model_name": "FloatSliderModel",
            "_view_count": null,
            "_view_module": "@jupyter-widgets/controls",
            "_view_module_version": "1.5.0",
            "_view_name": "FloatSliderView",
            "continuous_update": false,
            "description": "Peso LFM (α):",
            "description_tooltip": null,
            "disabled": false,
            "layout": "IPY_MODEL_e63966848c284f37841e641db659da39",
            "max": 1,
            "min": 0,
            "orientation": "horizontal",
            "readout": true,
            "readout_format": ".2f",
            "step": 0.05,
            "style": "IPY_MODEL_23382781d9874b04a75caeaf4e7db5c6",
            "value": 0.5
          }
        },
        "23382781d9874b04a75caeaf4e7db5c6": {
          "model_module": "@jupyter-widgets/controls",
          "model_module_version": "1.5.0",
          "model_name": "SliderStyleModel",
          "state": {
            "_model_module": "@jupyter-widgets/controls",
            "_model_module_version": "1.5.0",
            "_model_name": "SliderStyleModel",
            "_view_count": null,
            "_view_module": "@jupyter-widgets/base",
            "_view_module_version": "1.2.0",
            "_view_name": "StyleView",
            "description_width": "",
            "handle_color": null
          }
        },
        "2c3a03f1266848bb80fd3762938a7aeb": {
          "model_module": "@jupyter-widgets/controls",
          "model_module_version": "1.5.0",
          "model_name": "DescriptionStyleModel",
          "state": {
            "_model_module": "@jupyter-widgets/controls",
            "_model_module_version": "1.5.0",
            "_model_name": "DescriptionStyleModel",
            "_view_count": null,
            "_view_module": "@jupyter-widgets/base",
            "_view_module_version": "1.2.0",
            "_view_name": "StyleView",
            "description_width": ""
          }
        },
        "2e206ee78f0047a18ebe7c6ea212aa7c": {
          "model_module": "@jupyter-widgets/base",
          "model_module_version": "1.2.0",
          "model_name": "LayoutModel",
          "state": {
            "_model_module": "@jupyter-widgets/base",
            "_model_module_version": "1.2.0",
            "_model_name": "LayoutModel",
            "_view_count": null,
            "_view_module": "@jupyter-widgets/base",
            "_view_module_version": "1.2.0",
            "_view_name": "LayoutView",
            "align_content": null,
            "align_items": null,
            "align_self": null,
            "border": null,
            "bottom": null,
            "display": null,
            "flex": null,
            "flex_flow": null,
            "grid_area": null,
            "grid_auto_columns": null,
            "grid_auto_flow": null,
            "grid_auto_rows": null,
            "grid_column": null,
            "grid_gap": null,
            "grid_row": null,
            "grid_template_areas": null,
            "grid_template_columns": null,
            "grid_template_rows": null,
            "height": null,
            "justify_content": null,
            "justify_items": null,
            "left": null,
            "margin": null,
            "max_height": null,
            "max_width": null,
            "min_height": null,
            "min_width": null,
            "object_fit": null,
            "object_position": null,
            "order": null,
            "overflow": null,
            "overflow_x": null,
            "overflow_y": null,
            "padding": null,
            "right": null,
            "top": null,
            "visibility": null,
            "width": null
          }
        },
        "36866b9254794e3d9dbc38ee7a0dda77": {
          "model_module": "@jupyter-widgets/controls",
          "model_module_version": "1.5.0",
          "model_name": "ButtonStyleModel",
          "state": {
            "_model_module": "@jupyter-widgets/controls",
            "_model_module_version": "1.5.0",
            "_model_name": "ButtonStyleModel",
            "_view_count": null,
            "_view_module": "@jupyter-widgets/base",
            "_view_module_version": "1.2.0",
            "_view_name": "StyleView",
            "button_color": null,
            "font_weight": ""
          }
        },
        "3d241093b6194ad99af553f01f02669b": {
          "model_module": "@jupyter-widgets/output",
          "model_module_version": "1.0.0",
          "model_name": "OutputModel",
          "state": {
            "_dom_classes": [],
            "_model_module": "@jupyter-widgets/output",
            "_model_module_version": "1.0.0",
            "_model_name": "OutputModel",
            "_view_count": null,
            "_view_module": "@jupyter-widgets/output",
            "_view_module_version": "1.0.0",
            "_view_name": "OutputView",
            "layout": "IPY_MODEL_2e206ee78f0047a18ebe7c6ea212aa7c",
            "msg_id": "",
            "outputs": [
              {
                "data": {
                  "image/png": "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\n",
                  "text/plain": "<Figure size 1400x600 with 1 Axes>"
                },
                "metadata": {},
                "output_type": "display_data"
              },
              {
                "data": {
                  "application/vnd.google.colaboratory.intrinsic+json": {
                    "summary": "{\n  \"name\": \"]))\",\n  \"rows\": 10,\n  \"fields\": [\n    {\n      \"column\": \"producto\",\n      \"properties\": {\n        \"dtype\": \"string\",\n        \"num_unique_values\": 10,\n        \"samples\": [\n          \"producto_19\",\n          \"producto_3\",\n          \"producto_366\"\n        ],\n        \"semantic_type\": \"\",\n        \"description\": \"\"\n      }\n    },\n    {\n      \"column\": \"score_lfm\",\n      \"properties\": {\n        \"dtype\": \"float32\",\n        \"num_unique_values\": 10,\n        \"samples\": [\n          -49.67420196533203,\n          -49.519996643066406,\n          -49.62004852294922\n        ],\n        \"semantic_type\": \"\",\n        \"description\": \"\"\n      }\n    },\n    {\n      \"column\": \"score_xgb\",\n      \"properties\": {\n        \"dtype\": \"float32\",\n        \"num_unique_values\": 9,\n        \"samples\": [\n          0.9778441190719604,\n          0.9720041751861572,\n          0.956122875213623\n        ],\n        \"semantic_type\": \"\",\n        \"description\": \"\"\n      }\n    },\n    {\n      \"column\": \"score_promedio\",\n      \"properties\": {\n        \"dtype\": \"float32\",\n        \"num_unique_values\": 10,\n        \"samples\": [\n          -24.34817886352539,\n          -24.273996353149414,\n          -24.33196258544922\n        ],\n        \"semantic_type\": \"\",\n        \"description\": \"\"\n      }\n    }\n  ]\n}",
                    "type": "dataframe"
                  },
                  "text/html": "\n  <div id=\"df-9a8ec8c5-27ca-4a55-8f69-2230f800c7fb\" class=\"colab-df-container\">\n    <div>\n<style scoped>\n    .dataframe tbody tr th:only-of-type {\n        vertical-align: middle;\n    }\n\n    .dataframe tbody tr th {\n        vertical-align: top;\n    }\n\n    .dataframe thead th {\n        text-align: right;\n    }\n</style>\n<table border=\"1\" class=\"dataframe\">\n  <thead>\n    <tr style=\"text-align: right;\">\n      <th></th>\n      <th>producto</th>\n      <th>score_lfm</th>\n      <th>score_xgb</th>\n      <th>score_promedio</th>\n    </tr>\n  </thead>\n  <tbody>\n    <tr>\n      <th>0</th>\n      <td>producto_74</td>\n      <td>-49.470379</td>\n      <td>0.974337</td>\n      <td>-24.248020</td>\n    </tr>\n    <tr>\n      <th>1</th>\n      <td>producto_3</td>\n      <td>-49.519997</td>\n      <td>0.972004</td>\n      <td>-24.273996</td>\n    </tr>\n    <tr>\n      <th>2</th>\n      <td>producto_119</td>\n      <td>-49.520023</td>\n      <td>0.963676</td>\n      <td>-24.278173</td>\n    </tr>\n    <tr>\n      <th>3</th>\n      <td>producto_132</td>\n      <td>-49.472736</td>\n      <td>0.886194</td>\n      <td>-24.293272</td>\n    </tr>\n    <tr>\n      <th>4</th>\n      <td>producto_66</td>\n      <td>-49.619785</td>\n      <td>0.965889</td>\n      <td>-24.326948</td>\n    </tr>\n    <tr>\n      <th>5</th>\n      <td>producto_366</td>\n      <td>-49.620049</td>\n      <td>0.956123</td>\n      <td>-24.331963</td>\n    </tr>\n    <tr>\n      <th>6</th>\n      <td>producto_355</td>\n      <td>-49.622604</td>\n      <td>0.956123</td>\n      <td>-24.333241</td>\n    </tr>\n    <tr>\n      <th>7</th>\n      <td>producto_242</td>\n      <td>-49.620770</td>\n      <td>0.954017</td>\n      <td>-24.333376</td>\n    </tr>\n    <tr>\n      <th>8</th>\n      <td>producto_19</td>\n      <td>-49.674202</td>\n      <td>0.977844</td>\n      <td>-24.348179</td>\n    </tr>\n    <tr>\n      <th>9</th>\n      <td>producto_72</td>\n      <td>-49.674301</td>\n      <td>0.977351</td>\n      <td>-24.348475</td>\n    </tr>\n  </tbody>\n</table>\n</div>\n    <div class=\"colab-df-buttons\">\n\n  <div class=\"colab-df-container\">\n    <button class=\"colab-df-convert\" onclick=\"convertToInteractive('df-9a8ec8c5-27ca-4a55-8f69-2230f800c7fb')\"\n            title=\"Convert this dataframe to an interactive table.\"\n            style=\"display:none;\">\n\n  <svg xmlns=\"http://www.w3.org/2000/svg\" height=\"24px\" viewBox=\"0 -960 960 960\">\n    <path d=\"M120-120v-720h720v720H120Zm60-500h600v-160H180v160Zm220 220h160v-160H400v160Zm0 220h160v-160H400v160ZM180-400h160v-160H180v160Zm440 0h160v-160H620v160ZM180-180h160v-160H180v160Zm440 0h160v-160H620v160Z\"/>\n  </svg>\n    </button>\n\n  <style>\n    .colab-df-container {\n      display:flex;\n      gap: 12px;\n    }\n\n    .colab-df-convert {\n      background-color: #E8F0FE;\n      border: none;\n      border-radius: 50%;\n      cursor: pointer;\n      display: none;\n      fill: #1967D2;\n      height: 32px;\n      padding: 0 0 0 0;\n      width: 32px;\n    }\n\n    .colab-df-convert:hover {\n      background-color: #E2EBFA;\n      box-shadow: 0px 1px 2px rgba(60, 64, 67, 0.3), 0px 1px 3px 1px rgba(60, 64, 67, 0.15);\n      fill: #174EA6;\n    }\n\n    .colab-df-buttons div {\n      margin-bottom: 4px;\n    }\n\n    [theme=dark] .colab-df-convert {\n      background-color: #3B4455;\n      fill: #D2E3FC;\n    }\n\n    [theme=dark] .colab-df-convert:hover {\n      background-color: #434B5C;\n      box-shadow: 0px 1px 3px 1px rgba(0, 0, 0, 0.15);\n      filter: drop-shadow(0px 1px 2px rgba(0, 0, 0, 0.3));\n      fill: #FFFFFF;\n    }\n  </style>\n\n    <script>\n      const buttonEl =\n        document.querySelector('#df-9a8ec8c5-27ca-4a55-8f69-2230f800c7fb button.colab-df-convert');\n      buttonEl.style.display =\n        google.colab.kernel.accessAllowed ? 'block' : 'none';\n\n      async function convertToInteractive(key) {\n        const element = document.querySelector('#df-9a8ec8c5-27ca-4a55-8f69-2230f800c7fb');\n        const dataTable =\n          await google.colab.kernel.invokeFunction('convertToInteractive',\n                                                    [key], {});\n        if (!dataTable) return;\n\n        const docLinkHtml = 'Like what you see? Visit the ' +\n          '<a target=\"_blank\" href=https://colab.research.google.com/notebooks/data_table.ipynb>data table notebook</a>'\n          + ' to learn more about interactive tables.';\n        element.innerHTML = '';\n        dataTable['output_type'] = 'display_data';\n        await google.colab.output.renderOutput(dataTable, element);\n        const docLink = document.createElement('div');\n        docLink.innerHTML = docLinkHtml;\n        element.appendChild(docLink);\n      }\n    </script>\n  </div>\n\n\n    <div id=\"df-4be7a7b8-0c4a-4c2d-8780-a34d603b17ff\">\n      <button class=\"colab-df-quickchart\" onclick=\"quickchart('df-4be7a7b8-0c4a-4c2d-8780-a34d603b17ff')\"\n                title=\"Suggest charts\"\n                style=\"display:none;\">\n\n<svg xmlns=\"http://www.w3.org/2000/svg\" height=\"24px\"viewBox=\"0 0 24 24\"\n     width=\"24px\">\n    <g>\n        <path d=\"M19 3H5c-1.1 0-2 .9-2 2v14c0 1.1.9 2 2 2h14c1.1 0 2-.9 2-2V5c0-1.1-.9-2-2-2zM9 17H7v-7h2v7zm4 0h-2V7h2v10zm4 0h-2v-4h2v4z\"/>\n    </g>\n</svg>\n      </button>\n\n<style>\n  .colab-df-quickchart {\n      --bg-color: #E8F0FE;\n      --fill-color: #1967D2;\n      --hover-bg-color: #E2EBFA;\n      --hover-fill-color: #174EA6;\n      --disabled-fill-color: #AAA;\n      --disabled-bg-color: #DDD;\n  }\n\n  [theme=dark] .colab-df-quickchart {\n      --bg-color: #3B4455;\n      --fill-color: #D2E3FC;\n      --hover-bg-color: #434B5C;\n      --hover-fill-color: #FFFFFF;\n      --disabled-bg-color: #3B4455;\n      --disabled-fill-color: #666;\n  }\n\n  .colab-df-quickchart {\n    background-color: var(--bg-color);\n    border: none;\n    border-radius: 50%;\n    cursor: pointer;\n    display: none;\n    fill: var(--fill-color);\n    height: 32px;\n    padding: 0;\n    width: 32px;\n  }\n\n  .colab-df-quickchart:hover {\n    background-color: var(--hover-bg-color);\n    box-shadow: 0 1px 2px rgba(60, 64, 67, 0.3), 0 1px 3px 1px rgba(60, 64, 67, 0.15);\n    fill: var(--button-hover-fill-color);\n  }\n\n  .colab-df-quickchart-complete:disabled,\n  .colab-df-quickchart-complete:disabled:hover {\n    background-color: var(--disabled-bg-color);\n    fill: var(--disabled-fill-color);\n    box-shadow: none;\n  }\n\n  .colab-df-spinner {\n    border: 2px solid var(--fill-color);\n    border-color: transparent;\n    border-bottom-color: var(--fill-color);\n    animation:\n      spin 1s steps(1) infinite;\n  }\n\n  @keyframes spin {\n    0% {\n      border-color: transparent;\n      border-bottom-color: var(--fill-color);\n      border-left-color: var(--fill-color);\n    }\n    20% {\n      border-color: transparent;\n      border-left-color: var(--fill-color);\n      border-top-color: var(--fill-color);\n    }\n    30% {\n      border-color: transparent;\n      border-left-color: var(--fill-color);\n      border-top-color: var(--fill-color);\n      border-right-color: var(--fill-color);\n    }\n    40% {\n      border-color: transparent;\n      border-right-color: var(--fill-color);\n      border-top-color: var(--fill-color);\n    }\n    60% {\n      border-color: transparent;\n      border-right-color: var(--fill-color);\n    }\n    80% {\n      border-color: transparent;\n      border-right-color: var(--fill-color);\n      border-bottom-color: var(--fill-color);\n    }\n    90% {\n      border-color: transparent;\n      border-bottom-color: var(--fill-color);\n    }\n  }\n</style>\n\n      <script>\n        async function quickchart(key) {\n          const quickchartButtonEl =\n            document.querySelector('#' + key + ' button');\n          quickchartButtonEl.disabled = true;  // To prevent multiple clicks.\n          quickchartButtonEl.classList.add('colab-df-spinner');\n          try {\n            const charts = await google.colab.kernel.invokeFunction(\n                'suggestCharts', [key], {});\n          } catch (error) {\n            console.error('Error during call to suggestCharts:', error);\n          }\n          quickchartButtonEl.classList.remove('colab-df-spinner');\n          quickchartButtonEl.classList.add('colab-df-quickchart-complete');\n        }\n        (() => {\n          let quickchartButtonEl =\n            document.querySelector('#df-4be7a7b8-0c4a-4c2d-8780-a34d603b17ff button');\n          quickchartButtonEl.style.display =\n            google.colab.kernel.accessAllowed ? 'block' : 'none';\n        })();\n      </script>\n    </div>\n\n    </div>\n  </div>\n",
                  "text/plain": "       producto  score_lfm  score_xgb  score_promedio\n0   producto_74 -49.470379   0.974337      -24.248020\n1    producto_3 -49.519997   0.972004      -24.273996\n2  producto_119 -49.520023   0.963676      -24.278173\n3  producto_132 -49.472736   0.886194      -24.293272\n4   producto_66 -49.619785   0.965889      -24.326948\n5  producto_366 -49.620049   0.956123      -24.331963\n6  producto_355 -49.622604   0.956123      -24.333241\n7  producto_242 -49.620770   0.954017      -24.333376\n8   producto_19 -49.674202   0.977844      -24.348179\n9   producto_72 -49.674301   0.977351      -24.348475"
                },
                "metadata": {},
                "output_type": "display_data"
              },
              {
                "name": "stdout",
                "output_type": "stream",
                "text": [
                  "\n",
                  "Métricas del modelo XGBoost:\n",
                  "Accuracy: 0.8360\n",
                  "Precision: 0.8302\n",
                  "Recall: 0.8084\n",
                  "F1-score: 0.8191\n",
                  "AUC: 0.9133\n",
                  "\n",
                  "Métricas del modelo LightFM:\n",
                  "Precision: 0.0322\n",
                  "Recall: 0.0310\n",
                  "AUC: 0.9286\n",
                  "\n",
                  "Métricas del modelo Híbrido:\n",
                  "Media score híbrido: -40.7177\n",
                  "Máximo score híbrido: -40.6524\n",
                  "Mínimo score híbrido: -40.7647\n",
                  "Desviación estándar: 0.0347\n"
                ]
              }
            ]
          }
        },
        "5358c023229b4045abf92ae8ac0cbc4f": {
          "model_module": "@jupyter-widgets/controls",
          "model_module_version": "1.5.0",
          "model_name": "VBoxModel",
          "state": {
            "_dom_classes": [],
            "_model_module": "@jupyter-widgets/controls",
            "_model_module_version": "1.5.0",
            "_model_name": "VBoxModel",
            "_view_count": null,
            "_view_module": "@jupyter-widgets/controls",
            "_view_module_version": "1.5.0",
            "_view_name": "VBoxView",
            "box_style": "",
            "children": [
              "IPY_MODEL_7588f1bedeeb4d23a302dc2b431f8480",
              "IPY_MODEL_6f906af71b45461c8604efb22a7685bb",
              "IPY_MODEL_2108aac2858d435f8e605ea0bd10552e",
              "IPY_MODEL_d4cf860a8a3e46dd8bbea7f58a6fdbc1",
              "IPY_MODEL_3d241093b6194ad99af553f01f02669b"
            ],
            "layout": "IPY_MODEL_75b4f66c48924fb29ccefd6ca9c7000f"
          }
        },
        "6f906af71b45461c8604efb22a7685bb": {
          "model_module": "@jupyter-widgets/controls",
          "model_module_version": "1.5.0",
          "model_name": "IntSliderModel",
          "state": {
            "_dom_classes": [],
            "_model_module": "@jupyter-widgets/controls",
            "_model_module_version": "1.5.0",
            "_model_name": "IntSliderModel",
            "_view_count": null,
            "_view_module": "@jupyter-widgets/controls",
            "_view_module_version": "1.5.0",
            "_view_name": "IntSliderView",
            "continuous_update": false,
            "description": "Top-N:",
            "description_tooltip": null,
            "disabled": false,
            "layout": "IPY_MODEL_157cac4f221c4f43a57c8bb13ee70815",
            "max": 30,
            "min": 1,
            "orientation": "horizontal",
            "readout": true,
            "readout_format": "d",
            "step": 1,
            "style": "IPY_MODEL_f2c9cd7512774f71bc1a85c6506eb763",
            "value": 10
          }
        },
        "7588f1bedeeb4d23a302dc2b431f8480": {
          "model_module": "@jupyter-widgets/controls",
          "model_module_version": "1.5.0",
          "model_name": "TextModel",
          "state": {
            "_dom_classes": [],
            "_model_module": "@jupyter-widgets/controls",
            "_model_module_version": "1.5.0",
            "_model_name": "TextModel",
            "_view_count": null,
            "_view_module": "@jupyter-widgets/controls",
            "_view_module_version": "1.5.0",
            "_view_name": "TextView",
            "continuous_update": true,
            "description": "Cliente ID:",
            "description_tooltip": null,
            "disabled": false,
            "layout": "IPY_MODEL_a062e5e232ba4354be9fab9d5f00cba9",
            "placeholder": "ID del cliente",
            "style": "IPY_MODEL_2c3a03f1266848bb80fd3762938a7aeb",
            "value": "10"
          }
        },
        "75b4f66c48924fb29ccefd6ca9c7000f": {
          "model_module": "@jupyter-widgets/base",
          "model_module_version": "1.2.0",
          "model_name": "LayoutModel",
          "state": {
            "_model_module": "@jupyter-widgets/base",
            "_model_module_version": "1.2.0",
            "_model_name": "LayoutModel",
            "_view_count": null,
            "_view_module": "@jupyter-widgets/base",
            "_view_module_version": "1.2.0",
            "_view_name": "LayoutView",
            "align_content": null,
            "align_items": null,
            "align_self": null,
            "border": null,
            "bottom": null,
            "display": null,
            "flex": null,
            "flex_flow": null,
            "grid_area": null,
            "grid_auto_columns": null,
            "grid_auto_flow": null,
            "grid_auto_rows": null,
            "grid_column": null,
            "grid_gap": null,
            "grid_row": null,
            "grid_template_areas": null,
            "grid_template_columns": null,
            "grid_template_rows": null,
            "height": null,
            "justify_content": null,
            "justify_items": null,
            "left": null,
            "margin": null,
            "max_height": null,
            "max_width": null,
            "min_height": null,
            "min_width": null,
            "object_fit": null,
            "object_position": null,
            "order": null,
            "overflow": null,
            "overflow_x": null,
            "overflow_y": null,
            "padding": null,
            "right": null,
            "top": null,
            "visibility": null,
            "width": null
          }
        },
        "a062e5e232ba4354be9fab9d5f00cba9": {
          "model_module": "@jupyter-widgets/base",
          "model_module_version": "1.2.0",
          "model_name": "LayoutModel",
          "state": {
            "_model_module": "@jupyter-widgets/base",
            "_model_module_version": "1.2.0",
            "_model_name": "LayoutModel",
            "_view_count": null,
            "_view_module": "@jupyter-widgets/base",
            "_view_module_version": "1.2.0",
            "_view_name": "LayoutView",
            "align_content": null,
            "align_items": null,
            "align_self": null,
            "border": null,
            "bottom": null,
            "display": null,
            "flex": null,
            "flex_flow": null,
            "grid_area": null,
            "grid_auto_columns": null,
            "grid_auto_flow": null,
            "grid_auto_rows": null,
            "grid_column": null,
            "grid_gap": null,
            "grid_row": null,
            "grid_template_areas": null,
            "grid_template_columns": null,
            "grid_template_rows": null,
            "height": null,
            "justify_content": null,
            "justify_items": null,
            "left": null,
            "margin": null,
            "max_height": null,
            "max_width": null,
            "min_height": null,
            "min_width": null,
            "object_fit": null,
            "object_position": null,
            "order": null,
            "overflow": null,
            "overflow_x": null,
            "overflow_y": null,
            "padding": null,
            "right": null,
            "top": null,
            "visibility": null,
            "width": null
          }
        },
        "a9e528548f9d4c58a8dcfe385a5602d6": {
          "model_module": "@jupyter-widgets/base",
          "model_module_version": "1.2.0",
          "model_name": "LayoutModel",
          "state": {
            "_model_module": "@jupyter-widgets/base",
            "_model_module_version": "1.2.0",
            "_model_name": "LayoutModel",
            "_view_count": null,
            "_view_module": "@jupyter-widgets/base",
            "_view_module_version": "1.2.0",
            "_view_name": "LayoutView",
            "align_content": null,
            "align_items": null,
            "align_self": null,
            "border": null,
            "bottom": null,
            "display": null,
            "flex": null,
            "flex_flow": null,
            "grid_area": null,
            "grid_auto_columns": null,
            "grid_auto_flow": null,
            "grid_auto_rows": null,
            "grid_column": null,
            "grid_gap": null,
            "grid_row": null,
            "grid_template_areas": null,
            "grid_template_columns": null,
            "grid_template_rows": null,
            "height": null,
            "justify_content": null,
            "justify_items": null,
            "left": null,
            "margin": null,
            "max_height": null,
            "max_width": null,
            "min_height": null,
            "min_width": null,
            "object_fit": null,
            "object_position": null,
            "order": null,
            "overflow": null,
            "overflow_x": null,
            "overflow_y": null,
            "padding": null,
            "right": null,
            "top": null,
            "visibility": null,
            "width": null
          }
        },
        "d4cf860a8a3e46dd8bbea7f58a6fdbc1": {
          "model_module": "@jupyter-widgets/controls",
          "model_module_version": "1.5.0",
          "model_name": "ButtonModel",
          "state": {
            "_dom_classes": [],
            "_model_module": "@jupyter-widgets/controls",
            "_model_module_version": "1.5.0",
            "_model_name": "ButtonModel",
            "_view_count": null,
            "_view_module": "@jupyter-widgets/controls",
            "_view_module_version": "1.5.0",
            "_view_name": "ButtonView",
            "button_style": "",
            "description": "Comparar Modelos",
            "disabled": false,
            "icon": "",
            "layout": "IPY_MODEL_a9e528548f9d4c58a8dcfe385a5602d6",
            "style": "IPY_MODEL_36866b9254794e3d9dbc38ee7a0dda77",
            "tooltip": ""
          }
        },
        "e63966848c284f37841e641db659da39": {
          "model_module": "@jupyter-widgets/base",
          "model_module_version": "1.2.0",
          "model_name": "LayoutModel",
          "state": {
            "_model_module": "@jupyter-widgets/base",
            "_model_module_version": "1.2.0",
            "_model_name": "LayoutModel",
            "_view_count": null,
            "_view_module": "@jupyter-widgets/base",
            "_view_module_version": "1.2.0",
            "_view_name": "LayoutView",
            "align_content": null,
            "align_items": null,
            "align_self": null,
            "border": null,
            "bottom": null,
            "display": null,
            "flex": null,
            "flex_flow": null,
            "grid_area": null,
            "grid_auto_columns": null,
            "grid_auto_flow": null,
            "grid_auto_rows": null,
            "grid_column": null,
            "grid_gap": null,
            "grid_row": null,
            "grid_template_areas": null,
            "grid_template_columns": null,
            "grid_template_rows": null,
            "height": null,
            "justify_content": null,
            "justify_items": null,
            "left": null,
            "margin": null,
            "max_height": null,
            "max_width": null,
            "min_height": null,
            "min_width": null,
            "object_fit": null,
            "object_position": null,
            "order": null,
            "overflow": null,
            "overflow_x": null,
            "overflow_y": null,
            "padding": null,
            "right": null,
            "top": null,
            "visibility": null,
            "width": null
          }
        },
        "f2c9cd7512774f71bc1a85c6506eb763": {
          "model_module": "@jupyter-widgets/controls",
          "model_module_version": "1.5.0",
          "model_name": "SliderStyleModel",
          "state": {
            "_model_module": "@jupyter-widgets/controls",
            "_model_module_version": "1.5.0",
            "_model_name": "SliderStyleModel",
            "_view_count": null,
            "_view_module": "@jupyter-widgets/base",
            "_view_module_version": "1.2.0",
            "_view_name": "StyleView",
            "description_width": "",
            "handle_color": null
          }
        }
      }
    }
  },
  "nbformat": 4,
  "nbformat_minor": 5
}
