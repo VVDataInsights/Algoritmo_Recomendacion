{
  "cells": [
    {
      "cell_type": "code",
      "execution_count": 1,
      "id": "046180c9",
      "metadata": {
        "colab": {
          "base_uri": "https://localhost:8080/"
        },
        "id": "046180c9",
        "outputId": "32198e22-46df-49f4-bf63-8048d85cfab6"
      },
      "outputs": [
        {
          "name": "stdout",
          "output_type": "stream",
          "text": [
            "Requirement already satisfied: pandas in /Library/Frameworks/Python.framework/Versions/3.11/lib/python3.11/site-packages (2.2.2)\n",
            "Requirement already satisfied: numpy>=1.23.2 in /Library/Frameworks/Python.framework/Versions/3.11/lib/python3.11/site-packages (from pandas) (1.26.4)\n",
            "Requirement already satisfied: python-dateutil>=2.8.2 in /Library/Frameworks/Python.framework/Versions/3.11/lib/python3.11/site-packages (from pandas) (2.9.0.post0)\n",
            "Requirement already satisfied: pytz>=2020.1 in /Library/Frameworks/Python.framework/Versions/3.11/lib/python3.11/site-packages (from pandas) (2024.1)\n",
            "Requirement already satisfied: tzdata>=2022.7 in /Library/Frameworks/Python.framework/Versions/3.11/lib/python3.11/site-packages (from pandas) (2024.1)\n",
            "Requirement already satisfied: six>=1.5 in /Library/Frameworks/Python.framework/Versions/3.11/lib/python3.11/site-packages (from python-dateutil>=2.8.2->pandas) (1.16.0)\n",
            "\n",
            "\u001b[1m[\u001b[0m\u001b[34;49mnotice\u001b[0m\u001b[1;39;49m]\u001b[0m\u001b[39;49m A new release of pip is available: \u001b[0m\u001b[31;49m24.2\u001b[0m\u001b[39;49m -> \u001b[0m\u001b[32;49m25.1.1\u001b[0m\n",
            "\u001b[1m[\u001b[0m\u001b[34;49mnotice\u001b[0m\u001b[1;39;49m]\u001b[0m\u001b[39;49m To update, run: \u001b[0m\u001b[32;49mpip install --upgrade pip\u001b[0m\n"
          ]
        }
      ],
      "source": [
        "import sys\n",
        "!pip install pandas\n",
        "import pandas as pd\n",
        "import numpy as np\n",
        "import nltk\n",
        "\n",
        "\n",
        "import re\n",
        "import nltk\n",
        "from joblib import dump, load\n",
        "import matplotlib.pyplot as plt\n",
        "pd.options.display.max_colwidth=200\n",
        "%matplotlib inline\n",
        "from sklearn.model_selection import train_test_split\n",
        "from sklearn.linear_model import LinearRegression\n",
        "from sklearn.pipeline import Pipeline\n",
        "from sklearn.compose import ColumnTransformer\n",
        "from sklearn.preprocessing import StandardScaler\n",
        "from sklearn.preprocessing import PolynomialFeatures\n",
        "from sklearn.metrics import mean_absolute_error, mean_squared_error, r2_score\n",
        "from sklearn.model_selection import train_test_split\n",
        "from sklearn.linear_model import LinearRegression\n",
        "from sklearn.pipeline import Pipeline\n",
        "from sklearn.compose import ColumnTransformer\n",
        "from sklearn.preprocessing import StandardScaler\n",
        "from sklearn.preprocessing import PolynomialFeatures\n",
        "from sklearn.metrics import mean_absolute_error, mean_squared_error, r2_score\n",
        "from sklearn.preprocessing import StandardScaler  # Asegúrate de importar StandardScaler\n",
        "from sklearn.cluster import KMeans\n",
        "from sklearn.metrics import silhouette_samples, silhouette_score\n",
        "\n",
        "\n",
        "\n",
        "\n",
        "import scipy.stats as stats\n",
        "import seaborn as sns; sns.set()  # for plot styling\n",
        "\n",
        "from sklearn.preprocessing import StandardScaler\n",
        "from sklearn.cluster import KMeans\n",
        "from sklearn.metrics import silhouette_samples, silhouette_score\n",
        "from sklearn.preprocessing import MinMaxScaler\n",
        "\n",
        "from matplotlib import cm\n",
        "from mpl_toolkits.mplot3d import Axes3D # for 3D plots\n",
        "import matplotlib.pyplot as plt\n",
        "\n",
        "import numpy as np\n",
        "import pandas as pd\n",
        "from sklearn.model_selection import KFold, GridSearchCV, train_test_split\n",
        "from sklearn.preprocessing import OneHotEncoder, MinMaxScaler\n",
        "import matplotlib.pyplot as plt\n",
        "from sklearn.linear_model import LinearRegression\n",
        "import seaborn as sns\n",
        "from sklearn.metrics import mean_squared_error as mse, r2_score, mean_absolute_error as mae\n",
        "\n",
        "\n",
        "import pandas as pd\n",
        "import numpy as np\n",
        "import matplotlib.pyplot as plt\n",
        "import seaborn as sns\n",
        "\n",
        "from sklearn import tree\n",
        "\n",
        "\n",
        "from sklearn.tree import DecisionTreeClassifier\n",
        "from sklearn.preprocessing import LabelEncoder\n",
        "\n",
        "# Para búsqueda de hiperparámetros\n",
        "from sklearn.model_selection import GridSearchCV\n",
        "# Para la validación cruzada\n",
        "from sklearn.model_selection import KFold\n",
        "\n",
        "# Metricas\n",
        "from sklearn.metrics import confusion_matrix, classification_report, precision_score, recall_score, f1_score, accuracy_score\n",
        "from sklearn.metrics import ConfusionMatrixDisplay\n",
        "\n",
        "from sklearn.model_selection import GridSearchCV\n",
        "from sklearn.neighbors import KNeighborsClassifier\n",
        "\n",
        "# q-q plots\n",
        "import scipy.stats as stats"
      ]
    },
    {
      "cell_type": "code",
      "execution_count": 2,
      "id": "f4b385fe",
      "metadata": {
        "colab": {
          "base_uri": "https://localhost:8080/"
        },
        "id": "f4b385fe",
        "outputId": "0c450298-558b-4ea1-8406-0f5fbca24037"
      },
      "outputs": [
        {
          "name": "stdout",
          "output_type": "stream",
          "text": [
            "Requirement already satisfied: LightFM in /Library/Frameworks/Python.framework/Versions/3.11/lib/python3.11/site-packages (1.17)\n",
            "Requirement already satisfied: numpy in /Library/Frameworks/Python.framework/Versions/3.11/lib/python3.11/site-packages (from LightFM) (1.26.4)\n",
            "Requirement already satisfied: scipy>=0.17.0 in /Library/Frameworks/Python.framework/Versions/3.11/lib/python3.11/site-packages (from LightFM) (1.14.0)\n",
            "Requirement already satisfied: requests in /Library/Frameworks/Python.framework/Versions/3.11/lib/python3.11/site-packages (from LightFM) (2.32.3)\n",
            "Requirement already satisfied: scikit-learn in /Library/Frameworks/Python.framework/Versions/3.11/lib/python3.11/site-packages (from LightFM) (1.5.1)\n",
            "Requirement already satisfied: charset-normalizer<4,>=2 in /Library/Frameworks/Python.framework/Versions/3.11/lib/python3.11/site-packages (from requests->LightFM) (3.3.2)\n",
            "Requirement already satisfied: idna<4,>=2.5 in /Library/Frameworks/Python.framework/Versions/3.11/lib/python3.11/site-packages (from requests->LightFM) (3.8)\n",
            "Requirement already satisfied: urllib3<3,>=1.21.1 in /Library/Frameworks/Python.framework/Versions/3.11/lib/python3.11/site-packages (from requests->LightFM) (2.2.2)\n",
            "Requirement already satisfied: certifi>=2017.4.17 in /Library/Frameworks/Python.framework/Versions/3.11/lib/python3.11/site-packages (from requests->LightFM) (2024.8.30)\n",
            "Requirement already satisfied: joblib>=1.2.0 in /Library/Frameworks/Python.framework/Versions/3.11/lib/python3.11/site-packages (from scikit-learn->LightFM) (1.4.2)\n",
            "Requirement already satisfied: threadpoolctl>=3.1.0 in /Library/Frameworks/Python.framework/Versions/3.11/lib/python3.11/site-packages (from scikit-learn->LightFM) (3.5.0)\n",
            "\n",
            "\u001b[1m[\u001b[0m\u001b[34;49mnotice\u001b[0m\u001b[1;39;49m]\u001b[0m\u001b[39;49m A new release of pip is available: \u001b[0m\u001b[31;49m24.2\u001b[0m\u001b[39;49m -> \u001b[0m\u001b[32;49m25.1.1\u001b[0m\n",
            "\u001b[1m[\u001b[0m\u001b[34;49mnotice\u001b[0m\u001b[1;39;49m]\u001b[0m\u001b[39;49m To update, run: \u001b[0m\u001b[32;49mpip install --upgrade pip\u001b[0m\n"
          ]
        },
        {
          "name": "stderr",
          "output_type": "stream",
          "text": [
            "/Library/Frameworks/Python.framework/Versions/3.11/lib/python3.11/site-packages/lightfm/_lightfm_fast.py:9: UserWarning: LightFM was compiled without OpenMP support. Only a single thread will be used.\n",
            "  warnings.warn(\n"
          ]
        }
      ],
      "source": [
        "!pip install LightFM\n",
        "from lightfm import LightFM\n",
        "from lightfm.data import Dataset"
      ]
    },
    {
      "cell_type": "markdown",
      "id": "9aca4f8c",
      "metadata": {
        "id": "9aca4f8c"
      },
      "source": [
        "## Carga de datos"
      ]
    },
    {
      "cell_type": "code",
      "execution_count": 3,
      "id": "glkfdmxwa4OO",
      "metadata": {
        "colab": {
          "base_uri": "https://localhost:8080/"
        },
        "id": "glkfdmxwa4OO",
        "outputId": "2fa73658-2dff-48ad-888e-89b07b084b96"
      },
      "outputs": [],
      "source": [
        "#from google.colab import drive\n",
        "#drive.mount('/content/drive')"
      ]
    },
    {
      "cell_type": "code",
      "execution_count": 48,
      "id": "61b4679f",
      "metadata": {
        "id": "61b4679f"
      },
      "outputs": [],
      "source": [
        "#pd2 = pd.read_csv('/content/drive/MyDrive/Corona/b2b_nuevo.csv' , sep=\",\", encoding=\"utf-8\")\n",
        "pd2 = pd.read_csv('./b2b_nuevo.csv' , sep=\",\", encoding=\"utf-8\")"
      ]
    },
    {
      "cell_type": "code",
      "execution_count": 5,
      "id": "09f3b486",
      "metadata": {
        "id": "09f3b486"
      },
      "outputs": [],
      "source": [
        "\n",
        "b2b = pd2.copy()"
      ]
    },
    {
      "cell_type": "markdown",
      "id": "a6328d14",
      "metadata": {
        "id": "a6328d14"
      },
      "source": [
        "## Implementación B2B"
      ]
    },
    {
      "cell_type": "code",
      "execution_count": 6,
      "id": "a42a8d45",
      "metadata": {
        "colab": {
          "base_uri": "https://localhost:8080/"
        },
        "id": "a42a8d45",
        "outputId": "d93f3f08-af66-46ce-de94-947373c88c52"
      },
      "outputs": [
        {
          "name": "stdout",
          "output_type": "stream",
          "text": [
            "['fecha_factura', 'id_b2b', 'municipio', 'zona', 'categoria_b2b_macro', 'categoria_b2b', 'subcategoria_b2b', 'producto', 'valor_total', 'alineación con portafolio estratégico b2b', 'Total de unidades', 'Total de edificaciones en obra']\n"
          ]
        }
      ],
      "source": [
        "print(b2b.columns.tolist())"
      ]
    },
    {
      "cell_type": "code",
      "execution_count": 7,
      "id": "Yk25oNZ9ftt9",
      "metadata": {
        "colab": {
          "base_uri": "https://localhost:8080/"
        },
        "id": "Yk25oNZ9ftt9",
        "outputId": "fd59459f-16d9-4d37-a084-931be0cc88b3"
      },
      "outputs": [
        {
          "name": "stdout",
          "output_type": "stream",
          "text": [
            "Index(['fecha_factura', 'id_b2b', 'municipio', 'zona', 'categoria_b2b_macro',\n",
            "       'categoria_b2b', 'subcategoria_b2b', 'producto'],\n",
            "      dtype='object')\n"
          ]
        }
      ],
      "source": [
        "categorical_cols = b2b.select_dtypes(include=['object', 'category']).columns\n",
        "print(categorical_cols)"
      ]
    },
    {
      "cell_type": "code",
      "execution_count": 8,
      "id": "_lvmOl0psWEZ",
      "metadata": {
        "colab": {
          "base_uri": "https://localhost:8080/",
          "height": 565
        },
        "id": "_lvmOl0psWEZ",
        "outputId": "4ec6dc54-5528-4b57-f24e-60d242cde09e"
      },
      "outputs": [
        {
          "data": {
            "text/html": [
              "<div>\n",
              "<style scoped>\n",
              "    .dataframe tbody tr th:only-of-type {\n",
              "        vertical-align: middle;\n",
              "    }\n",
              "\n",
              "    .dataframe tbody tr th {\n",
              "        vertical-align: top;\n",
              "    }\n",
              "\n",
              "    .dataframe thead th {\n",
              "        text-align: right;\n",
              "    }\n",
              "</style>\n",
              "<table border=\"1\" class=\"dataframe\">\n",
              "  <thead>\n",
              "    <tr style=\"text-align: right;\">\n",
              "      <th></th>\n",
              "      <th>fecha_factura</th>\n",
              "      <th>id_b2b</th>\n",
              "      <th>municipio</th>\n",
              "      <th>zona</th>\n",
              "      <th>categoria_b2b_macro</th>\n",
              "      <th>categoria_b2b</th>\n",
              "      <th>subcategoria_b2b</th>\n",
              "      <th>producto</th>\n",
              "      <th>valor_total</th>\n",
              "      <th>alineación con portafolio estratégico b2b</th>\n",
              "    </tr>\n",
              "  </thead>\n",
              "  <tbody>\n",
              "    <tr>\n",
              "      <th>0</th>\n",
              "      <td>2007-01-03</td>\n",
              "      <td>B2B_01</td>\n",
              "      <td>MADRID</td>\n",
              "      <td>CUNDINAMARCA</td>\n",
              "      <td>cat_b2b_macro_1</td>\n",
              "      <td>cat_b2b_1</td>\n",
              "      <td>sub_b2b_1</td>\n",
              "      <td>Producto_1</td>\n",
              "      <td>1819.931192</td>\n",
              "      <td>0.000216</td>\n",
              "    </tr>\n",
              "    <tr>\n",
              "      <th>1</th>\n",
              "      <td>2007-01-03</td>\n",
              "      <td>B2B_01</td>\n",
              "      <td>MADRID</td>\n",
              "      <td>CUNDINAMARCA</td>\n",
              "      <td>cat_b2b_macro_1</td>\n",
              "      <td>cat_b2b_1</td>\n",
              "      <td>sub_b2b_1</td>\n",
              "      <td>Producto_2</td>\n",
              "      <td>1713.359382</td>\n",
              "      <td>0.000077</td>\n",
              "    </tr>\n",
              "    <tr>\n",
              "      <th>2</th>\n",
              "      <td>2007-01-04</td>\n",
              "      <td>B2B_02</td>\n",
              "      <td>VILLA DE LEYVA</td>\n",
              "      <td>BOYACA</td>\n",
              "      <td>cat_b2b_macro_2</td>\n",
              "      <td>cat_b2b_3</td>\n",
              "      <td>sub_b2b_3</td>\n",
              "      <td>Producto_4</td>\n",
              "      <td>208.510406</td>\n",
              "      <td>0.000069</td>\n",
              "    </tr>\n",
              "    <tr>\n",
              "      <th>3</th>\n",
              "      <td>2007-01-04</td>\n",
              "      <td>B2B_02</td>\n",
              "      <td>VILLA DE LEYVA</td>\n",
              "      <td>BOYACA</td>\n",
              "      <td>cat_b2b_macro_1</td>\n",
              "      <td>cat_b2b_1</td>\n",
              "      <td>sub_b2b_11</td>\n",
              "      <td>Producto_13</td>\n",
              "      <td>3319.449852</td>\n",
              "      <td>0.000308</td>\n",
              "    </tr>\n",
              "    <tr>\n",
              "      <th>4</th>\n",
              "      <td>2007-01-04</td>\n",
              "      <td>B2B_02</td>\n",
              "      <td>VILLA DE LEYVA</td>\n",
              "      <td>BOYACA</td>\n",
              "      <td>cat_b2b_macro_1</td>\n",
              "      <td>cat_b2b_1</td>\n",
              "      <td>sub_b2b_12</td>\n",
              "      <td>Producto_14</td>\n",
              "      <td>4945.685288</td>\n",
              "      <td>0.000110</td>\n",
              "    </tr>\n",
              "    <tr>\n",
              "      <th>...</th>\n",
              "      <td>...</td>\n",
              "      <td>...</td>\n",
              "      <td>...</td>\n",
              "      <td>...</td>\n",
              "      <td>...</td>\n",
              "      <td>...</td>\n",
              "      <td>...</td>\n",
              "      <td>...</td>\n",
              "      <td>...</td>\n",
              "      <td>...</td>\n",
              "    </tr>\n",
              "    <tr>\n",
              "      <th>25861</th>\n",
              "      <td>2010-02-18</td>\n",
              "      <td>B2B_05</td>\n",
              "      <td>FUSAGASUGA</td>\n",
              "      <td>CUNDINAMARCA</td>\n",
              "      <td>cat_b2b_macro_11</td>\n",
              "      <td>cat_b2b_14</td>\n",
              "      <td>sub_b2b_23</td>\n",
              "      <td>Producto_66</td>\n",
              "      <td>303.853648</td>\n",
              "      <td>0.000654</td>\n",
              "    </tr>\n",
              "    <tr>\n",
              "      <th>25862</th>\n",
              "      <td>2010-02-18</td>\n",
              "      <td>B2B_05</td>\n",
              "      <td>FUSAGASUGA</td>\n",
              "      <td>CUNDINAMARCA</td>\n",
              "      <td>cat_b2b_macro_14</td>\n",
              "      <td>cat_b2b_14</td>\n",
              "      <td>sub_b2b_23</td>\n",
              "      <td>Producto_809</td>\n",
              "      <td>85.641002</td>\n",
              "      <td>0.000654</td>\n",
              "    </tr>\n",
              "    <tr>\n",
              "      <th>25863</th>\n",
              "      <td>2010-02-18</td>\n",
              "      <td>B2B_05</td>\n",
              "      <td>FUSAGASUGA</td>\n",
              "      <td>CUNDINAMARCA</td>\n",
              "      <td>cat_b2b_macro_15</td>\n",
              "      <td>cat_b2b_15</td>\n",
              "      <td>sub_b2b_24</td>\n",
              "      <td>Producto_1049</td>\n",
              "      <td>75.615354</td>\n",
              "      <td>0.000654</td>\n",
              "    </tr>\n",
              "    <tr>\n",
              "      <th>25864</th>\n",
              "      <td>2010-02-18</td>\n",
              "      <td>B2B_06</td>\n",
              "      <td>TUNJA</td>\n",
              "      <td>BOYACA</td>\n",
              "      <td>cat_b2b_macro_1</td>\n",
              "      <td>cat_b2b_1</td>\n",
              "      <td>sub_b2b_43</td>\n",
              "      <td>Producto_1255</td>\n",
              "      <td>2640.812674</td>\n",
              "      <td>0.000654</td>\n",
              "    </tr>\n",
              "    <tr>\n",
              "      <th>25865</th>\n",
              "      <td>2010-02-18</td>\n",
              "      <td>B2B_06</td>\n",
              "      <td>TUNJA</td>\n",
              "      <td>BOYACA</td>\n",
              "      <td>cat_b2b_macro_1</td>\n",
              "      <td>cat_b2b_1</td>\n",
              "      <td>sub_b2b_43</td>\n",
              "      <td>Producto_1870</td>\n",
              "      <td>2640.812674</td>\n",
              "      <td>0.000654</td>\n",
              "    </tr>\n",
              "  </tbody>\n",
              "</table>\n",
              "<p>25866 rows × 10 columns</p>\n",
              "</div>"
            ],
            "text/plain": [
              "      fecha_factura  id_b2b       municipio          zona categoria_b2b_macro  \\\n",
              "0        2007-01-03  B2B_01          MADRID  CUNDINAMARCA     cat_b2b_macro_1   \n",
              "1        2007-01-03  B2B_01          MADRID  CUNDINAMARCA     cat_b2b_macro_1   \n",
              "2        2007-01-04  B2B_02  VILLA DE LEYVA        BOYACA     cat_b2b_macro_2   \n",
              "3        2007-01-04  B2B_02  VILLA DE LEYVA        BOYACA     cat_b2b_macro_1   \n",
              "4        2007-01-04  B2B_02  VILLA DE LEYVA        BOYACA     cat_b2b_macro_1   \n",
              "...             ...     ...             ...           ...                 ...   \n",
              "25861    2010-02-18  B2B_05      FUSAGASUGA  CUNDINAMARCA    cat_b2b_macro_11   \n",
              "25862    2010-02-18  B2B_05      FUSAGASUGA  CUNDINAMARCA    cat_b2b_macro_14   \n",
              "25863    2010-02-18  B2B_05      FUSAGASUGA  CUNDINAMARCA    cat_b2b_macro_15   \n",
              "25864    2010-02-18  B2B_06           TUNJA        BOYACA     cat_b2b_macro_1   \n",
              "25865    2010-02-18  B2B_06           TUNJA        BOYACA     cat_b2b_macro_1   \n",
              "\n",
              "      categoria_b2b subcategoria_b2b       producto  valor_total  \\\n",
              "0         cat_b2b_1        sub_b2b_1     Producto_1  1819.931192   \n",
              "1         cat_b2b_1        sub_b2b_1     Producto_2  1713.359382   \n",
              "2         cat_b2b_3        sub_b2b_3     Producto_4   208.510406   \n",
              "3         cat_b2b_1       sub_b2b_11    Producto_13  3319.449852   \n",
              "4         cat_b2b_1       sub_b2b_12    Producto_14  4945.685288   \n",
              "...             ...              ...            ...          ...   \n",
              "25861    cat_b2b_14       sub_b2b_23    Producto_66   303.853648   \n",
              "25862    cat_b2b_14       sub_b2b_23   Producto_809    85.641002   \n",
              "25863    cat_b2b_15       sub_b2b_24  Producto_1049    75.615354   \n",
              "25864     cat_b2b_1       sub_b2b_43  Producto_1255  2640.812674   \n",
              "25865     cat_b2b_1       sub_b2b_43  Producto_1870  2640.812674   \n",
              "\n",
              "       alineación con portafolio estratégico b2b  \n",
              "0                                       0.000216  \n",
              "1                                       0.000077  \n",
              "2                                       0.000069  \n",
              "3                                       0.000308  \n",
              "4                                       0.000110  \n",
              "...                                          ...  \n",
              "25861                                   0.000654  \n",
              "25862                                   0.000654  \n",
              "25863                                   0.000654  \n",
              "25864                                   0.000654  \n",
              "25865                                   0.000654  \n",
              "\n",
              "[25866 rows x 10 columns]"
            ]
          },
          "execution_count": 8,
          "metadata": {},
          "output_type": "execute_result"
        }
      ],
      "source": [
        "desired_columns = ['fecha_factura', 'id_b2b', 'municipio', 'zona', 'categoria_b2b_macro', 'categoria_b2b', 'subcategoria_b2b', 'producto', 'valor_total', 'alineación con portafolio estratégico b2b']\n",
        "b2b_small = b2b[desired_columns].copy()\n",
        "b2b_small"
      ]
    },
    {
      "cell_type": "markdown",
      "id": "w1l6vEEwfUAm",
      "metadata": {
        "id": "w1l6vEEwfUAm"
      },
      "source": [
        "### Manejo Categóricas"
      ]
    },
    {
      "cell_type": "markdown",
      "id": "pGr2MJ0lfW9g",
      "metadata": {
        "id": "pGr2MJ0lfW9g"
      },
      "source": [
        "Fue necesario darle un manejo distinto a las variables categóricas, ya que al tener tantas categorías perjudican e imposibilitan la elaboración del modelo de recomendación"
      ]
    },
    {
      "cell_type": "code",
      "execution_count": 9,
      "id": "G74FPYacfjao",
      "metadata": {
        "id": "G74FPYacfjao"
      },
      "outputs": [],
      "source": [
        "cat_cols = ['id_b2b', 'municipio', 'zona', 'categoria_b2b_macro',\n",
        "       'categoria_b2b', 'subcategoria_b2b', 'producto']"
      ]
    },
    {
      "cell_type": "markdown",
      "id": "-d-4ProbgHqX",
      "metadata": {
        "id": "-d-4ProbgHqX"
      },
      "source": [
        "Se utiliza la técnica de Label Encoder"
      ]
    },
    {
      "cell_type": "code",
      "execution_count": 10,
      "id": "fG_dZGhdgBuw",
      "metadata": {
        "id": "fG_dZGhdgBuw"
      },
      "outputs": [],
      "source": [
        "label_encoders = {}\n",
        "\n",
        "for col in cat_cols:\n",
        "    le = LabelEncoder()\n",
        "    b2b[f'{col}_enc'] = le.fit_transform(b2b[col].astype(str))\n",
        "    b2b_small[f'{col}_enc'] = le.transform(b2b_small[col].astype(str))\n",
        "    label_encoders[col] = le\n"
      ]
    },
    {
      "cell_type": "markdown",
      "id": "daad5505",
      "metadata": {
        "id": "daad5505"
      },
      "source": [
        "## Pipeline LightFM"
      ]
    },
    {
      "cell_type": "code",
      "execution_count": 11,
      "id": "ed07f418",
      "metadata": {
        "colab": {
          "base_uri": "https://localhost:8080/"
        },
        "id": "ed07f418",
        "outputId": "b353ca50-d7e5-4980-97c0-f1f52edbe0d6"
      },
      "outputs": [
        {
          "name": "stdout",
          "output_type": "stream",
          "text": [
            "Precision: 1.0000\n",
            "Recall: 0.0048\n",
            "AUC: 0.8779\n"
          ]
        }
      ],
      "source": [
        "from lightfm import LightFM\n",
        "from lightfm.data import Dataset\n",
        "from lightfm.evaluation import precision_at_k, recall_at_k, auc_score\n",
        "import numpy as np\n",
        "\n",
        "b2b[cat_cols] = b2b[cat_cols].astype(str)\n",
        "\n",
        "# Inicialización\n",
        "dataset = Dataset()\n",
        "dataset.fit(\n",
        "    users=b2b['id_b2b'].unique(),\n",
        "    items=b2b['producto'].unique()\n",
        ")\n",
        "\n",
        "\n",
        "dataset.fit_partial(\n",
        "    users=b2b['id_b2b'],\n",
        "    items=b2b['producto'],\n",
        "    user_features=np.unique([\n",
        "        *(\"municipio:\" + b2b['municipio']),\n",
        "        *(\"zona:\" + b2b['zona']),\n",
        "        *(\"unidades:\" + b2b['Total de unidades'].astype(str)),\n",
        "        *(\"edificaciones:\" + b2b['Total de edificaciones en obra'].astype(str))\n",
        "    ]),\n",
        "    item_features=np.unique([\n",
        "        *(\"cat_macro:\" + b2b['categoria_b2b_macro']),\n",
        "        *(\"cat:\" + b2b['categoria_b2b']),\n",
        "        *(\"subcat:\" + b2b['subcategoria_b2b'])\n",
        "    ])\n",
        ")\n",
        "\n",
        "\n",
        "# Interacciones\n",
        "(interactions, _) = dataset.build_interactions(\n",
        "    ((row['id_b2b'], row['producto'], row['valor_total']) for _, row in b2b.iterrows())\n",
        ")\n",
        "\n",
        "# User features\n",
        "user_features = dataset.build_user_features(\n",
        "    ((row['id_b2b'], [\n",
        "        f\"municipio:{row['municipio']}\",\n",
        "        f\"zona:{row['zona']}\",\n",
        "        f\"unidades:{row['Total de unidades']}\",\n",
        "        f\"edificaciones:{row['Total de edificaciones en obra']}\"\n",
        "    ]) for _, row in b2b.iterrows())\n",
        ")\n",
        "\n",
        "# Item features\n",
        "item_features = dataset.build_item_features(\n",
        "    ((row['producto'], [\n",
        "        f\"cat_macro:{row['categoria_b2b_macro']}\",\n",
        "        f\"cat:{row['categoria_b2b']}\",\n",
        "        f\"subcat:{row['subcategoria_b2b']}\"\n",
        "    ]) for _, row in b2b.iterrows())\n",
        ")\n",
        "\n",
        "# Entrenamiento\n",
        "model_lfm = LightFM(loss='warp')\n",
        "model_lfm.fit(interactions,\n",
        "          user_features=user_features,\n",
        "          item_features=item_features,\n",
        "          epochs=10,\n",
        "          num_threads=4)\n",
        "\n",
        "# Evaluación\n",
        "precision = precision_at_k(model_lfm, interactions, user_features=user_features,\n",
        "                           item_features=item_features, k=5).mean()\n",
        "recall = recall_at_k(model_lfm, interactions, user_features=user_features,\n",
        "                     item_features=item_features, k=5).mean()\n",
        "auc = auc_score(model_lfm, interactions, user_features=user_features,\n",
        "                item_features=item_features).mean()\n",
        "\n",
        "print(f\"Precision: {precision:.4f}\")\n",
        "print(f\"Recall: {recall:.4f}\")\n",
        "print(f\"AUC: {auc:.4f}\")\n"
      ]
    },
    {
      "cell_type": "code",
      "execution_count": 12,
      "id": "aOvTBibCBbjp",
      "metadata": {
        "id": "aOvTBibCBbjp"
      },
      "outputs": [],
      "source": [
        "from sklearn.metrics import accuracy_score, precision_score, recall_score, f1_score, roc_auc_score\n",
        "\n",
        "metricas_lfm_b2b = {\n",
        "    \"Precision\": round(precision, 4),\n",
        "    \"Recall\": round(recall, 4),\n",
        "    \"AUC\": round(auc, 4)\n",
        "}"
      ]
    },
    {
      "cell_type": "code",
      "execution_count": 13,
      "id": "d3377f9c",
      "metadata": {
        "colab": {
          "base_uri": "https://localhost:8080/"
        },
        "id": "d3377f9c",
        "outputId": "87d207b6-dbab-4575-a696-70e678f9def7"
      },
      "outputs": [
        {
          "name": "stdout",
          "output_type": "stream",
          "text": [
            "Recomendaciones para usuario B2B_03:\n",
            " ['Producto_1139', 'Producto_1053', 'Producto_1054', 'Producto_552', 'Producto_553', 'Producto_1411', 'Producto_831', 'Producto_1361', 'Producto_1154', 'Producto_1388']\n"
          ]
        }
      ],
      "source": [
        "\n",
        "user_id_map, user_feature_map, item_id_map, item_feature_map = dataset.mapping()\n",
        "\n",
        "\n",
        "usuario = list(user_id_map.keys())[2]\n",
        "usuario_idx = user_id_map[usuario]\n",
        "\n",
        "\n",
        "n_items = len(item_id_map)\n",
        "\n",
        "\n",
        "scores = model_lfm.predict(\n",
        "    usuario_idx,\n",
        "    np.arange(n_items),\n",
        "    user_features=user_features,\n",
        "    item_features=item_features\n",
        ")\n",
        "\n",
        "\n",
        "top_items_idx = np.argsort(-scores)\n",
        "\n",
        "\n",
        "reverse_item_map = {v: k for k, v in item_id_map.items()}\n",
        "top_productos = [reverse_item_map[i] for i in top_items_idx[:10]]\n",
        "\n",
        "print(f\"Recomendaciones para usuario {usuario}:\\n\", top_productos)\n"
      ]
    },
    {
      "cell_type": "code",
      "execution_count": 14,
      "id": "vZeJKSiez1Np",
      "metadata": {
        "colab": {
          "base_uri": "https://localhost:8080/"
        },
        "id": "vZeJKSiez1Np",
        "outputId": "7cede67a-a44e-4ac5-af38-e9cfa00bdb1c"
      },
      "outputs": [
        {
          "name": "stdout",
          "output_type": "stream",
          "text": [
            "Model saved successfully to ./modelos/lightfm_model_b2b.pkl\n",
            "Dataset saved successfully to ./modelos/lightfm_dataset_b2b.pkl\n"
          ]
        }
      ],
      "source": [
        "# Define the path to save the model\n",
        "model_path = './modelos/lightfm_model_b2b.pkl'\n",
        "\n",
        "# Save the trained LightFM model\n",
        "dump(model_lfm, model_path)\n",
        "\n",
        "print(f\"Model saved successfully to {model_path}\")\n",
        "\n",
        "# Optional: Save the dataset object and mappings as well if needed for loading\n",
        "dataset_path = './modelos/lightfm_dataset_b2b.pkl'\n",
        "dump(dataset, dataset_path)\n",
        "print(f\"Dataset saved successfully to {dataset_path}\")"
      ]
    },
    {
      "cell_type": "markdown",
      "id": "zseMWZLqVb8O",
      "metadata": {
        "id": "zseMWZLqVb8O"
      },
      "source": [
        "### Modelo LightFM sin Extras"
      ]
    },
    {
      "cell_type": "code",
      "execution_count": 15,
      "id": "8YYlAzNQVjk0",
      "metadata": {
        "colab": {
          "base_uri": "https://localhost:8080/"
        },
        "id": "8YYlAzNQVjk0",
        "outputId": "a3705675-d88c-46d4-adbd-8213ca36cc37"
      },
      "outputs": [
        {
          "name": "stdout",
          "output_type": "stream",
          "text": [
            "Precision: 0.8667\n",
            "Recall: 0.0034\n",
            "AUC: 0.8549\n"
          ]
        }
      ],
      "source": [
        "from lightfm import LightFM\n",
        "from lightfm.data import Dataset\n",
        "from lightfm.evaluation import precision_at_k, recall_at_k, auc_score\n",
        "import numpy as np\n",
        "\n",
        "b2b_small[cat_cols] = b2b_small[cat_cols].astype(str)\n",
        "\n",
        "# Inicialización\n",
        "dataset = Dataset()\n",
        "dataset.fit(\n",
        "    users=b2b_small['id_b2b'].unique(),\n",
        "    items=b2b_small['producto'].unique()\n",
        ")\n",
        "\n",
        "\n",
        "dataset.fit_partial(\n",
        "    users=b2b_small['id_b2b'],\n",
        "    items=b2b_small['producto'],\n",
        "    user_features=np.unique([\n",
        "        *(\"municipio:\" + b2b_small['municipio']),\n",
        "        *(\"zona:\" + b2b_small['zona'])\n",
        "    ]),\n",
        "    item_features=np.unique([\n",
        "        *(\"cat_macro:\" + b2b_small['categoria_b2b_macro']),\n",
        "        *(\"cat:\" + b2b_small['categoria_b2b']),\n",
        "        *(\"subcat:\" + b2b_small['subcategoria_b2b'])\n",
        "    ])\n",
        ")\n",
        "\n",
        "\n",
        "# Interacciones\n",
        "(interactions, _) = dataset.build_interactions(\n",
        "    ((row['id_b2b'], row['producto'], row['valor_total']) for _, row in b2b_small.iterrows())\n",
        ")\n",
        "\n",
        "# User features\n",
        "user_features2 = dataset.build_user_features(\n",
        "    ((row['id_b2b'], [\n",
        "        f\"municipio:{row['municipio']}\",\n",
        "        f\"zona:{row['zona']}\"\n",
        "    ]) for _, row in b2b_small.iterrows())\n",
        ")\n",
        "\n",
        "# Item features\n",
        "item_features2 = dataset.build_item_features(\n",
        "    ((row['producto'], [\n",
        "        f\"cat_macro:{row['categoria_b2b_macro']}\",\n",
        "        f\"cat:{row['categoria_b2b']}\",\n",
        "        f\"subcat:{row['subcategoria_b2b']}\"\n",
        "    ]) for _, row in b2b_small.iterrows())\n",
        ")\n",
        "\n",
        "# Entrenamiento\n",
        "model_lfm2 = LightFM(loss='warp')\n",
        "model_lfm2.fit(interactions,\n",
        "          user_features=user_features2,\n",
        "          item_features=item_features2,\n",
        "          epochs=10,\n",
        "          num_threads=4)\n",
        "\n",
        "# Evaluación\n",
        "precision = precision_at_k(model_lfm2, interactions, user_features=user_features2,\n",
        "                           item_features=item_features2, k=5).mean()\n",
        "recall = recall_at_k(model_lfm2, interactions, user_features=user_features2,\n",
        "                     item_features=item_features2, k=5).mean()\n",
        "auc = auc_score(model_lfm2, interactions, user_features=user_features2,\n",
        "                item_features=item_features2).mean()\n",
        "\n",
        "print(f\"Precision: {precision:.4f}\")\n",
        "print(f\"Recall: {recall:.4f}\")\n",
        "print(f\"AUC: {auc:.4f}\")\n",
        "\n"
      ]
    },
    {
      "cell_type": "markdown",
      "id": "be2b2e16",
      "metadata": {
        "id": "be2b2e16"
      },
      "source": [
        "## Modelo Tabular"
      ]
    },
    {
      "cell_type": "code",
      "execution_count": 16,
      "id": "toRXrCsgy7Pw",
      "metadata": {
        "colab": {
          "base_uri": "https://localhost:8080/"
        },
        "id": "toRXrCsgy7Pw",
        "outputId": "5074dfde-dfcf-438c-aa3f-eeab56e5e4d5"
      },
      "outputs": [
        {
          "name": "stdout",
          "output_type": "stream",
          "text": [
            "\n",
            "AUC promedio (5-fold CV): 0.8733\n",
            "AUC por fold: [0.8721 0.8812 0.8768 0.8682 0.868 ]\n",
            "\n",
            "Reporte de Clasificación (holdout):\n",
            "               precision    recall  f1-score   support\n",
            "\n",
            "         0.0       0.78      0.81      0.79       977\n",
            "         1.0       0.80      0.77      0.78       977\n",
            "\n",
            "    accuracy                           0.79      1954\n",
            "   macro avg       0.79      0.79      0.79      1954\n",
            "weighted avg       0.79      0.79      0.79      1954\n",
            "\n",
            "AUC (holdout): 0.8733658170678942\n"
          ]
        }
      ],
      "source": [
        "from tqdm import tqdm\n",
        "from sklearn.model_selection import train_test_split, StratifiedKFold, cross_val_score\n",
        "from sklearn.preprocessing import LabelEncoder\n",
        "import xgboost as xgb\n",
        "from sklearn.metrics import classification_report, roc_auc_score\n",
        "import numpy as np\n",
        "import pandas as pd\n",
        "import itertools\n",
        "\n",
        "# --- Preprocesamiento ---\n",
        "b2b[cat_cols] = b2b[cat_cols].astype(str)\n",
        "b2b['comprado'] = 1\n",
        "\n",
        "# --- Construcción de universo completo cliente-producto ---\n",
        "clientes = b2b['id_b2b'].unique()\n",
        "productos = b2b['producto'].unique()\n",
        "\n",
        "combinaciones = pd.DataFrame(list(itertools.product(clientes, productos)), columns=['id_b2b', 'producto'])\n",
        "\n",
        "# Marcar los comprados reales\n",
        "comprados = b2b[['id_b2b', 'producto']].drop_duplicates()\n",
        "comprados['comprado'] = 1\n",
        "\n",
        "# Merge para crear dataset con comprados y no comprados\n",
        "df_all = combinaciones.merge(comprados, on=['id_b2b', 'producto'], how='left')\n",
        "df_all['comprado'] = df_all['comprado'].fillna(0)\n",
        "\n",
        "# Filtrar: muestreamos mismos positivos y mismos negativos para balancear\n",
        "positivos_df = df_all[df_all['comprado'] == 1]\n",
        "negativos_df = df_all[df_all['comprado'] == 0].sample(n=len(positivos_df), random_state=42)\n",
        "df_final = pd.concat([positivos_df, negativos_df], ignore_index=True)\n",
        "\n",
        "# --- Enriquecer con info de cliente y producto ---\n",
        "cliente_info = b2b.drop_duplicates('id_b2b').set_index('id_b2b')[[\n",
        "    'municipio', 'zona', 'valor_total', 'Total de unidades', 'Total de edificaciones en obra'\n",
        "]]\n",
        "producto_info = b2b.drop_duplicates('producto').set_index('producto')[[\n",
        "    'categoria_b2b_macro', 'categoria_b2b', 'subcategoria_b2b'\n",
        "]]\n",
        "\n",
        "df_final = df_final.join(cliente_info, on='id_b2b')\n",
        "df_final = df_final.join(producto_info, on='producto')\n",
        "\n",
        "# --- Codificación ---\n",
        "encoders = {}\n",
        "for col in cat_cols:\n",
        "    le = LabelEncoder()\n",
        "    df_final[col] = le.fit_transform(df_final[col])\n",
        "    encoders[col] = le\n",
        "\n",
        "# --- Split en entrenamiento y holdout balanceado ---\n",
        "positivos_df = df_final[df_final['comprado'] == 1]\n",
        "negativos_df = df_final[df_final['comprado'] == 0]\n",
        "\n",
        "train_pos, test_pos = train_test_split(positivos_df, test_size=0.2, random_state=42)\n",
        "train_neg, test_neg = train_test_split(negativos_df, test_size=0.2, random_state=42)\n",
        "\n",
        "train_df = pd.concat([train_pos, train_neg]).sample(frac=1, random_state=42).reset_index(drop=True)\n",
        "test_df = pd.concat([test_pos, test_neg]).sample(frac=1, random_state=42).reset_index(drop=True)\n",
        "\n",
        "X_train = train_df.drop(columns=['comprado'])\n",
        "y_train = train_df['comprado']\n",
        "X_test = test_df.drop(columns=['comprado'])\n",
        "y_test = test_df['comprado']\n",
        "\n",
        "# --- Modelo con regularización ---\n",
        "model = xgb.XGBClassifier(\n",
        "    objective='binary:logistic',\n",
        "    eval_metric='auc',\n",
        "    max_depth=4,\n",
        "    learning_rate=0.05,\n",
        "    n_estimators=300,\n",
        "    subsample=0.7,\n",
        "    colsample_bytree=0.7,\n",
        "    reg_alpha=5,\n",
        "    reg_lambda=10,\n",
        "    random_state=42\n",
        ")\n",
        "\n",
        "# --- Validación cruzada ---\n",
        "cv = StratifiedKFold(n_splits=5, shuffle=True, random_state=42)\n",
        "scores = cross_val_score(model, X_train, y_train, cv=cv, scoring='roc_auc', n_jobs=-1)\n",
        "\n",
        "print(f\"\\nAUC promedio (5-fold CV): {scores.mean():.4f}\")\n",
        "print(f\"AUC por fold: {np.round(scores, 4)}\")\n",
        "\n",
        "# --- Evaluación final con holdout ---\n",
        "model.fit(X_train, y_train)\n",
        "y_pred = model.predict(X_test)\n",
        "y_prob = model.predict_proba(X_test)[:, 1]\n",
        "\n",
        "print(\"\\nReporte de Clasificación (holdout):\\n\", classification_report(y_test, y_pred))\n",
        "print(\"AUC (holdout):\", roc_auc_score(y_test, y_prob))\n"
      ]
    },
    {
      "cell_type": "code",
      "execution_count": 17,
      "id": "AlflZsT3BP2d",
      "metadata": {
        "id": "AlflZsT3BP2d"
      },
      "outputs": [],
      "source": [
        "from sklearn.metrics import accuracy_score, precision_score, recall_score, f1_score\n",
        "\n",
        "metricas_xgb_b2b = {\n",
        "    \"Accuracy\": accuracy_score(y_test, y_pred),\n",
        "    \"Precision\": precision_score(y_test, y_pred),\n",
        "    \"Recall\": recall_score(y_test, y_pred),\n",
        "    \"F1-score\": f1_score(y_test, y_pred),\n",
        "    \"AUC (holdout)\": roc_auc_score(y_test, y_prob),\n",
        "    \"AUC (5-fold CV)\": scores.mean()\n",
        "}\n"
      ]
    },
    {
      "cell_type": "code",
      "execution_count": 18,
      "id": "RhkMFZKxDCrj",
      "metadata": {
        "id": "RhkMFZKxDCrj"
      },
      "outputs": [],
      "source": [
        "def recomendar_productos(id_b2b, modelo, df_original, df_codificado, encoders, top_n=5):\n",
        "    # Filtrar productos ya comprados por el cliente\n",
        "    productos_comprados = df_original[df_original['id_b2b'] == id_b2b]['producto'].unique()\n",
        "    todos_los_productos = df_original['producto'].unique()\n",
        "    productos_no_comprados = [p for p in todos_los_productos if p not in productos_comprados]\n",
        "\n",
        "    if not productos_no_comprados:\n",
        "        return f\"Cliente {id_b2b} ya ha comprado todos los productos.\"\n",
        "\n",
        "    # Tomar una muestra representativa del cliente\n",
        "    cliente_info = df_original[df_original['id_b2b'] == id_b2b].iloc[0]\n",
        "\n",
        "    # Generar filas nuevas combinando cliente con cada producto no comprado\n",
        "    nuevas_filas = []\n",
        "    for producto in productos_no_comprados:\n",
        "        fila = cliente_info.copy()\n",
        "        fila['producto'] = producto\n",
        "        nuevas_filas.append(fila)\n",
        "\n",
        "    pred_df = pd.DataFrame(nuevas_filas)\n",
        "\n",
        "    # Eliminar columnas de producto si ya existen antes del join\n",
        "    columnas_producto = ['categoria_b2b_macro', 'categoria_b2b', 'subcategoria_b2b']\n",
        "    pred_df = pred_df.drop(columns=[col for col in columnas_producto if col in pred_df.columns], errors='ignore')\n",
        "\n",
        "    # Agregar info del producto\n",
        "    producto_info = df_original.drop_duplicates('producto').set_index('producto')[columnas_producto]\n",
        "    pred_df = pred_df.set_index('producto').join(producto_info, on='producto').reset_index()\n",
        "\n",
        "    # Codificar\n",
        "    for col in encoders:\n",
        "        if col in pred_df.columns:\n",
        "            pred_df[col] = encoders[col].transform(pred_df[col])\n",
        "\n",
        "    # Predecir\n",
        "    X_pred = pred_df[modelo.get_booster().feature_names]\n",
        "    proba = modelo.predict_proba(X_pred)[:, 1]\n",
        "    pred_df['probabilidad'] = proba\n",
        "\n",
        "    # Decodificar producto\n",
        "    producto_le = encoders['producto']\n",
        "    pred_df['producto_nombre'] = producto_le.inverse_transform(pred_df['producto'])\n",
        "\n",
        "    return pred_df[['producto_nombre', 'probabilidad']].sort_values(by='probabilidad', ascending=False).head(top_n)\n"
      ]
    },
    {
      "cell_type": "code",
      "execution_count": 19,
      "id": "I2dE-hfVn8Te",
      "metadata": {
        "colab": {
          "base_uri": "https://localhost:8080/"
        },
        "id": "I2dE-hfVn8Te",
        "outputId": "9bf1379a-2aba-44d5-ecba-77024503502e"
      },
      "outputs": [
        {
          "name": "stdout",
          "output_type": "stream",
          "text": [
            "['B2B_01' 'B2B_02' 'B2B_03' 'B2B_04' 'B2B_05' 'B2B_06']\n"
          ]
        }
      ],
      "source": [
        "print(b2b['id_b2b'].unique())\n"
      ]
    },
    {
      "cell_type": "code",
      "execution_count": 20,
      "id": "hiDm-5r5DJc2",
      "metadata": {
        "colab": {
          "base_uri": "https://localhost:8080/",
          "height": 363
        },
        "id": "hiDm-5r5DJc2",
        "outputId": "e2d9c2d7-4df0-45d2-9892-72860ade4cfd"
      },
      "outputs": [
        {
          "data": {
            "text/html": [
              "<div>\n",
              "<style scoped>\n",
              "    .dataframe tbody tr th:only-of-type {\n",
              "        vertical-align: middle;\n",
              "    }\n",
              "\n",
              "    .dataframe tbody tr th {\n",
              "        vertical-align: top;\n",
              "    }\n",
              "\n",
              "    .dataframe thead th {\n",
              "        text-align: right;\n",
              "    }\n",
              "</style>\n",
              "<table border=\"1\" class=\"dataframe\">\n",
              "  <thead>\n",
              "    <tr style=\"text-align: right;\">\n",
              "      <th></th>\n",
              "      <th>producto_nombre</th>\n",
              "      <th>probabilidad</th>\n",
              "    </tr>\n",
              "  </thead>\n",
              "  <tbody>\n",
              "    <tr>\n",
              "      <th>66</th>\n",
              "      <td>Producto_317</td>\n",
              "      <td>0.791509</td>\n",
              "    </tr>\n",
              "    <tr>\n",
              "      <th>65</th>\n",
              "      <td>Producto_316</td>\n",
              "      <td>0.787013</td>\n",
              "    </tr>\n",
              "    <tr>\n",
              "      <th>61</th>\n",
              "      <td>Producto_310</td>\n",
              "      <td>0.752695</td>\n",
              "    </tr>\n",
              "    <tr>\n",
              "      <th>1016</th>\n",
              "      <td>Producto_1566</td>\n",
              "      <td>0.751147</td>\n",
              "    </tr>\n",
              "    <tr>\n",
              "      <th>984</th>\n",
              "      <td>Producto_1509</td>\n",
              "      <td>0.747104</td>\n",
              "    </tr>\n",
              "    <tr>\n",
              "      <th>975</th>\n",
              "      <td>Producto_1498</td>\n",
              "      <td>0.747104</td>\n",
              "    </tr>\n",
              "    <tr>\n",
              "      <th>1037</th>\n",
              "      <td>Producto_1595</td>\n",
              "      <td>0.746347</td>\n",
              "    </tr>\n",
              "    <tr>\n",
              "      <th>1006</th>\n",
              "      <td>Producto_1542</td>\n",
              "      <td>0.745137</td>\n",
              "    </tr>\n",
              "    <tr>\n",
              "      <th>1103</th>\n",
              "      <td>Producto_1694</td>\n",
              "      <td>0.744455</td>\n",
              "    </tr>\n",
              "    <tr>\n",
              "      <th>68</th>\n",
              "      <td>Producto_323</td>\n",
              "      <td>0.740334</td>\n",
              "    </tr>\n",
              "  </tbody>\n",
              "</table>\n",
              "</div>"
            ],
            "text/plain": [
              "     producto_nombre  probabilidad\n",
              "66      Producto_317      0.791509\n",
              "65      Producto_316      0.787013\n",
              "61      Producto_310      0.752695\n",
              "1016   Producto_1566      0.751147\n",
              "984    Producto_1509      0.747104\n",
              "975    Producto_1498      0.747104\n",
              "1037   Producto_1595      0.746347\n",
              "1006   Producto_1542      0.745137\n",
              "1103   Producto_1694      0.744455\n",
              "68      Producto_323      0.740334"
            ]
          },
          "execution_count": 20,
          "metadata": {},
          "output_type": "execute_result"
        }
      ],
      "source": [
        "recomendar_productos('B2B_01', model, b2b, df_final, encoders, top_n=10)\n"
      ]
    },
    {
      "cell_type": "code",
      "execution_count": null,
      "id": "2xX4uYmG0Jf-",
      "metadata": {
        "colab": {
          "base_uri": "https://localhost:8080/"
        },
        "id": "2xX4uYmG0Jf-",
        "outputId": "80604071-efdf-4e06-8684-a555590cd069"
      },
      "outputs": [
        {
          "name": "stdout",
          "output_type": "stream",
          "text": [
            "XGBoost model saved successfully to ./modelos//xgb_model_b2b.pkl\n"
          ]
        }
      ],
      "source": [
        "# Define the path to save the XGBoost model\n",
        "model_xgb_path = './modelos/xgb_model_b2b.pkl'\n",
        "\n",
        "# Save the trained XGBoost model\n",
        "dump(model, model_xgb_path)\n",
        "\n",
        "print(f\"XGBoost model saved successfully to {model_xgb_path}\")\n",
        "\n"
      ]
    },
    {
      "cell_type": "markdown",
      "id": "4KnVk1R10yX2",
      "metadata": {
        "id": "4KnVk1R10yX2"
      },
      "source": [
        "## XGBOOST sin extras"
      ]
    },
    {
      "cell_type": "code",
      "execution_count": 23,
      "id": "tw69uNR705yU",
      "metadata": {
        "colab": {
          "base_uri": "https://localhost:8080/"
        },
        "id": "tw69uNR705yU",
        "outputId": "7131ea59-fa44-431b-fc0f-a4cd45be2ebb"
      },
      "outputs": [
        {
          "name": "stdout",
          "output_type": "stream",
          "text": [
            "\n",
            "AUC promedio (5-fold CV): 0.8698\n",
            "AUC por fold: [0.8689 0.8799 0.874  0.8652 0.861 ]\n",
            "\n",
            "Reporte de Clasificación (holdout):\n",
            "               precision    recall  f1-score   support\n",
            "\n",
            "         0.0       0.77      0.81      0.79       977\n",
            "         1.0       0.80      0.76      0.78       977\n",
            "\n",
            "    accuracy                           0.79      1954\n",
            "   macro avg       0.79      0.79      0.78      1954\n",
            "weighted avg       0.79      0.79      0.78      1954\n",
            "\n",
            "AUC (holdout): 0.870226048658553\n"
          ]
        }
      ],
      "source": [
        "from tqdm import tqdm\n",
        "from sklearn.model_selection import train_test_split, StratifiedKFold, cross_val_score\n",
        "from sklearn.preprocessing import LabelEncoder\n",
        "import xgboost as xgb\n",
        "from sklearn.metrics import classification_report, roc_auc_score\n",
        "import numpy as np\n",
        "import pandas as pd\n",
        "import itertools\n",
        "\n",
        "# --- Preprocesamiento ---\n",
        "b2b_small[cat_cols] = b2b_small[cat_cols].astype(str)\n",
        "b2b_small['comprado'] = 1\n",
        "\n",
        "# --- Construcción de universo completo cliente-producto ---\n",
        "clientes = b2b_small['id_b2b'].unique()\n",
        "productos = b2b_small['producto'].unique()\n",
        "\n",
        "combinaciones = pd.DataFrame(list(itertools.product(clientes, productos)), columns=['id_b2b', 'producto'])\n",
        "\n",
        "# Marcar los comprados reales\n",
        "comprados = b2b_small[['id_b2b', 'producto']].drop_duplicates()\n",
        "comprados['comprado'] = 1\n",
        "\n",
        "# Merge para crear dataset con comprados y no comprados\n",
        "df_all = combinaciones.merge(comprados, on=['id_b2b', 'producto'], how='left')\n",
        "df_all['comprado'] = df_all['comprado'].fillna(0)\n",
        "\n",
        "# Filtrar: muestreamos mismos positivos y mismos negativos para balancear\n",
        "positivos_df = df_all[df_all['comprado'] == 1]\n",
        "negativos_df = df_all[df_all['comprado'] == 0].sample(n=len(positivos_df), random_state=42)\n",
        "df_final = pd.concat([positivos_df, negativos_df], ignore_index=True)\n",
        "\n",
        "# --- Enriquecer con info de cliente y producto ---\n",
        "cliente_info = b2b_small.drop_duplicates('id_b2b').set_index('id_b2b')[[\n",
        "    'municipio', 'zona', 'valor_total'\n",
        "]]\n",
        "producto_info = b2b_small.drop_duplicates('producto').set_index('producto')[[\n",
        "    'categoria_b2b_macro', 'categoria_b2b', 'subcategoria_b2b'\n",
        "]]\n",
        "\n",
        "df_final = df_final.join(cliente_info, on='id_b2b')\n",
        "df_final = df_final.join(producto_info, on='producto')\n",
        "\n",
        "# --- Codificación ---\n",
        "encoders = {}\n",
        "for col in cat_cols:\n",
        "    le = LabelEncoder()\n",
        "    df_final[col] = le.fit_transform(df_final[col])\n",
        "    encoders[col] = le\n",
        "\n",
        "# --- Split en entrenamiento y holdout balanceado ---\n",
        "positivos_df = df_final[df_final['comprado'] == 1]\n",
        "negativos_df = df_final[df_final['comprado'] == 0]\n",
        "\n",
        "train_pos, test_pos = train_test_split(positivos_df, test_size=0.2, random_state=42)\n",
        "train_neg, test_neg = train_test_split(negativos_df, test_size=0.2, random_state=42)\n",
        "\n",
        "train_df = pd.concat([train_pos, train_neg]).sample(frac=1, random_state=42).reset_index(drop=True)\n",
        "test_df = pd.concat([test_pos, test_neg]).sample(frac=1, random_state=42).reset_index(drop=True)\n",
        "\n",
        "X_train = train_df.drop(columns=['comprado'])\n",
        "y_train = train_df['comprado']\n",
        "X_test = test_df.drop(columns=['comprado'])\n",
        "y_test = test_df['comprado']\n",
        "\n",
        "# --- Modelo con regularización ---\n",
        "model2 = xgb.XGBClassifier(\n",
        "    objective='binary:logistic',\n",
        "    eval_metric='auc',\n",
        "    max_depth=4,\n",
        "    learning_rate=0.05,\n",
        "    n_estimators=300,\n",
        "    subsample=0.7,\n",
        "    colsample_bytree=0.7,\n",
        "    reg_alpha=5,\n",
        "    reg_lambda=10,\n",
        "    random_state=42\n",
        ")\n",
        "\n",
        "# --- Validación cruzada ---\n",
        "cv2 = StratifiedKFold(n_splits=5, shuffle=True, random_state=42)\n",
        "scores2 = cross_val_score(model2, X_train, y_train, cv=cv2, scoring='roc_auc', n_jobs=-1)\n",
        "\n",
        "print(f\"\\nAUC promedio (5-fold CV): {scores2.mean():.4f}\")\n",
        "print(f\"AUC por fold: {np.round(scores2, 4)}\")\n",
        "\n",
        "# --- Evaluación final con holdout ---\n",
        "model2.fit(X_train, y_train)\n",
        "y_pred = model2.predict(X_test)\n",
        "y_prob = model2.predict_proba(X_test)[:, 1]\n",
        "\n",
        "print(\"\\nReporte de Clasificación (holdout):\\n\", classification_report(y_test, y_pred))\n",
        "print(\"AUC (holdout):\", roc_auc_score(y_test, y_prob))\n",
        "\n"
      ]
    },
    {
      "cell_type": "markdown",
      "id": "07cc7641",
      "metadata": {
        "id": "07cc7641"
      },
      "source": [
        "## Recomendador HIBRIDO"
      ]
    },
    {
      "cell_type": "code",
      "execution_count": 24,
      "id": "aU-SAGDxEkWV",
      "metadata": {
        "id": "aU-SAGDxEkWV"
      },
      "outputs": [],
      "source": [
        "def recomendar_hibrido_b2b(cliente_id, top_n=10, alpha=0.5):\n",
        "    # Validar existencia del cliente\n",
        "    if cliente_id not in dataset.mapping()[0]:\n",
        "        return f\"Cliente {cliente_id} no está en el dataset de LightFM.\"\n",
        "\n",
        "    # Productos ya comprados\n",
        "    productos_comprados = set(b2b[b2b['id_b2b'] == cliente_id]['producto'].unique())\n",
        "    productos_totales = b2b['producto'].unique()\n",
        "    productos_candidatos = list(set(productos_totales) - productos_comprados)\n",
        "\n",
        "    if not productos_candidatos:\n",
        "        return f\"Cliente {cliente_id} ya ha comprado todos los productos.\"\n",
        "\n",
        "    # --- LightFM ---\n",
        "    usuario_interno = dataset.mapping()[0][cliente_id]\n",
        "    productos_idx = [dataset.mapping()[2][p] for p in productos_candidatos if p in dataset.mapping()[2]]\n",
        "    scores_lfm = model_lfm.predict(\n",
        "        user_ids=np.repeat(usuario_interno, len(productos_idx)),\n",
        "        item_ids=productos_idx,\n",
        "        user_features=user_features,\n",
        "        item_features=item_features\n",
        "    )\n",
        "\n",
        "    df_lfm = pd.DataFrame({\n",
        "        'producto': [p for p in productos_candidatos if p in dataset.mapping()[2]],\n",
        "        'score_lfm': scores_lfm\n",
        "    })\n",
        "\n",
        "    # --- XGBoost ---\n",
        "    cliente_info = b2b[b2b['id_b2b'] == cliente_id].iloc[0]\n",
        "    nuevas_filas = []\n",
        "\n",
        "    for producto in df_lfm['producto']:\n",
        "        fila = cliente_info.copy()\n",
        "        fila['producto'] = producto\n",
        "        nuevas_filas.append(fila)\n",
        "\n",
        "    pred_df = pd.DataFrame(nuevas_filas)\n",
        "\n",
        "    # Codificar con los mismos encoders usados en XGBoost\n",
        "    for col in encoders:\n",
        "        pred_df[col] = encoders[col].transform(pred_df[col])\n",
        "\n",
        "\n",
        "    X_pred = pred_df[model.get_booster().feature_names]\n",
        "    scores_xgb = model.predict_proba(X_pred)[:, 1]\n",
        "\n",
        "    # Combinar scores\n",
        "    # Normalizar LFM si hay más de un score y no son todos iguales\n",
        "    if df_lfm['score_lfm'].nunique() > 1:\n",
        "        min_lfm = df_lfm['score_lfm'].min()\n",
        "        max_lfm = df_lfm['score_lfm'].max()\n",
        "        df_lfm['score_lfm_norm'] = (df_lfm['score_lfm'] - min_lfm) / (max_lfm - min_lfm)\n",
        "    else:\n",
        "        df_lfm['score_lfm_norm'] = 0.5\n",
        "\n",
        "    # Unir scores\n",
        "    df_lfm['score_xgb'] = scores_xgb\n",
        "    df_lfm['score_hibrido'] = alpha * df_lfm['score_lfm_norm'] + (1 - alpha) * df_lfm['score_xgb']\n",
        "\n",
        "    return df_lfm.sort_values('score_hibrido', ascending=False).head(top_n)[['producto', 'score_lfm', 'score_xgb', 'score_hibrido']]\n"
      ]
    },
    {
      "cell_type": "code",
      "execution_count": 25,
      "id": "t1HGqDOkFEiY",
      "metadata": {
        "colab": {
          "base_uri": "https://localhost:8080/",
          "height": 363
        },
        "id": "t1HGqDOkFEiY",
        "outputId": "51036a56-a83e-4a54-91df-15f9779dcae7"
      },
      "outputs": [
        {
          "data": {
            "text/html": [
              "<div>\n",
              "<style scoped>\n",
              "    .dataframe tbody tr th:only-of-type {\n",
              "        vertical-align: middle;\n",
              "    }\n",
              "\n",
              "    .dataframe tbody tr th {\n",
              "        vertical-align: top;\n",
              "    }\n",
              "\n",
              "    .dataframe thead th {\n",
              "        text-align: right;\n",
              "    }\n",
              "</style>\n",
              "<table border=\"1\" class=\"dataframe\">\n",
              "  <thead>\n",
              "    <tr style=\"text-align: right;\">\n",
              "      <th></th>\n",
              "      <th>producto</th>\n",
              "      <th>score_lfm</th>\n",
              "      <th>score_xgb</th>\n",
              "      <th>score_hibrido</th>\n",
              "    </tr>\n",
              "  </thead>\n",
              "  <tbody>\n",
              "    <tr>\n",
              "      <th>844</th>\n",
              "      <td>Producto_394</td>\n",
              "      <td>-8.309866</td>\n",
              "      <td>0.723069</td>\n",
              "      <td>0.820339</td>\n",
              "    </tr>\n",
              "    <tr>\n",
              "      <th>1677</th>\n",
              "      <td>Producto_275</td>\n",
              "      <td>-8.493364</td>\n",
              "      <td>0.732829</td>\n",
              "      <td>0.805643</td>\n",
              "    </tr>\n",
              "    <tr>\n",
              "      <th>365</th>\n",
              "      <td>Producto_424</td>\n",
              "      <td>-8.303635</td>\n",
              "      <td>0.680121</td>\n",
              "      <td>0.803791</td>\n",
              "    </tr>\n",
              "    <tr>\n",
              "      <th>602</th>\n",
              "      <td>Producto_286</td>\n",
              "      <td>-8.546731</td>\n",
              "      <td>0.735104</td>\n",
              "      <td>0.801144</td>\n",
              "    </tr>\n",
              "    <tr>\n",
              "      <th>1036</th>\n",
              "      <td>Producto_385</td>\n",
              "      <td>-8.710986</td>\n",
              "      <td>0.735455</td>\n",
              "      <td>0.784635</td>\n",
              "    </tr>\n",
              "    <tr>\n",
              "      <th>1836</th>\n",
              "      <td>Producto_303</td>\n",
              "      <td>-8.982517</td>\n",
              "      <td>0.735104</td>\n",
              "      <td>0.756973</td>\n",
              "    </tr>\n",
              "    <tr>\n",
              "      <th>953</th>\n",
              "      <td>Producto_316</td>\n",
              "      <td>-9.027579</td>\n",
              "      <td>0.735104</td>\n",
              "      <td>0.752405</td>\n",
              "    </tr>\n",
              "    <tr>\n",
              "      <th>1834</th>\n",
              "      <td>Producto_310</td>\n",
              "      <td>-9.078135</td>\n",
              "      <td>0.735104</td>\n",
              "      <td>0.747281</td>\n",
              "    </tr>\n",
              "    <tr>\n",
              "      <th>428</th>\n",
              "      <td>Producto_391</td>\n",
              "      <td>-9.039178</td>\n",
              "      <td>0.723069</td>\n",
              "      <td>0.746415</td>\n",
              "    </tr>\n",
              "    <tr>\n",
              "      <th>1216</th>\n",
              "      <td>Producto_326</td>\n",
              "      <td>-9.127340</td>\n",
              "      <td>0.742954</td>\n",
              "      <td>0.745433</td>\n",
              "    </tr>\n",
              "  </tbody>\n",
              "</table>\n",
              "</div>"
            ],
            "text/plain": [
              "          producto  score_lfm  score_xgb  score_hibrido\n",
              "844   Producto_394  -8.309866   0.723069       0.820339\n",
              "1677  Producto_275  -8.493364   0.732829       0.805643\n",
              "365   Producto_424  -8.303635   0.680121       0.803791\n",
              "602   Producto_286  -8.546731   0.735104       0.801144\n",
              "1036  Producto_385  -8.710986   0.735455       0.784635\n",
              "1836  Producto_303  -8.982517   0.735104       0.756973\n",
              "953   Producto_316  -9.027579   0.735104       0.752405\n",
              "1834  Producto_310  -9.078135   0.735104       0.747281\n",
              "428   Producto_391  -9.039178   0.723069       0.746415\n",
              "1216  Producto_326  -9.127340   0.742954       0.745433"
            ]
          },
          "execution_count": 25,
          "metadata": {},
          "output_type": "execute_result"
        }
      ],
      "source": [
        "recomendar_hibrido_b2b(cliente_id=\"B2B_01\", top_n=10, alpha=0.6)\n"
      ]
    },
    {
      "cell_type": "code",
      "execution_count": 26,
      "id": "p3vHs_dxCMeS",
      "metadata": {
        "colab": {
          "base_uri": "https://localhost:8080/"
        },
        "id": "p3vHs_dxCMeS",
        "outputId": "40c2af3f-81bc-4c43-ec43-9ba9f89a85bf"
      },
      "outputs": [
        {
          "data": {
            "text/plain": [
              "{'Media score híbrido': 0.7463,\n",
              " 'Máximo score híbrido': 0.8041,\n",
              " 'Mínimo score híbrido': 0.713,\n",
              " 'Desviación estándar': 0.0285}"
            ]
          },
          "execution_count": 26,
          "metadata": {},
          "output_type": "execute_result"
        }
      ],
      "source": [
        "# Supongamos que ya ejecutaste:\n",
        "df_hibrido = recomendar_hibrido_b2b(cliente_id='B2B_01', top_n=20, alpha=0.5)\n",
        "\n",
        "# Ahora creamos el diccionario con estadísticas básicas del score_hibrido:\n",
        "metricas_hibrido_b2b = {\n",
        "    \"Media score híbrido\": round(df_hibrido[\"score_hibrido\"].mean(), 4),\n",
        "    \"Máximo score híbrido\": round(df_hibrido[\"score_hibrido\"].max(), 4),\n",
        "    \"Mínimo score híbrido\": round(df_hibrido[\"score_hibrido\"].min(), 4),\n",
        "    \"Desviación estándar\": round(df_hibrido[\"score_hibrido\"].std(), 4)\n",
        "}\n",
        "metricas_hibrido_b2b"
      ]
    },
    {
      "cell_type": "code",
      "execution_count": null,
      "id": "mXVgiKc60uzd",
      "metadata": {
        "colab": {
          "base_uri": "https://localhost:8080/"
        },
        "id": "mXVgiKc60uzd",
        "outputId": "1256a2c5-5479-4801-b8cd-4da79eef425f"
      },
      "outputs": [
        {
          "name": "stdout",
          "output_type": "stream",
          "text": [
            "Encoders saved successfully to ./modelos//encoders_b2b.pkl\n"
          ]
        }
      ],
      "source": [
        "# Save the encoders if needed for loading and predicting\n",
        "encoders_path = './modelos/encoders_b2b.pkl'\n",
        "dump(encoders, encoders_path)\n",
        "print(f\"Encoders saved successfully to {encoders_path}\")\n",
        "\n"
      ]
    },
    {
      "cell_type": "markdown",
      "id": "gJuXt48T11k6",
      "metadata": {
        "id": "gJuXt48T11k6"
      },
      "source": [
        "## Modelo hibrido sin extras"
      ]
    },
    {
      "cell_type": "code",
      "execution_count": 28,
      "id": "5G8714wz142L",
      "metadata": {
        "id": "5G8714wz142L"
      },
      "outputs": [],
      "source": [
        "def recomendar_hibrido_b2b_SinExtras(cliente_id, top_n=10, alpha=0.5):\n",
        "    # Validar existencia del cliente\n",
        "    if cliente_id not in dataset.mapping()[0]:\n",
        "        return f\"Cliente {cliente_id} no está en el dataset de LightFM.\"\n",
        "\n",
        "    # Productos ya comprados\n",
        "    productos_comprados = set(b2b_small[b2b_small['id_b2b'] == cliente_id]['producto'].unique())\n",
        "    productos_totales = b2b_small['producto'].unique()\n",
        "    productos_candidatos = list(set(productos_totales) - productos_comprados)\n",
        "\n",
        "    if not productos_candidatos:\n",
        "        return f\"Cliente {cliente_id} ya ha comprado todos los productos.\"\n",
        "\n",
        "    # --- LightFM ---\n",
        "    usuario_interno = dataset.mapping()[0][cliente_id]\n",
        "    productos_idx2 = [dataset.mapping()[2][p] for p in productos_candidatos if p in dataset.mapping()[2]]\n",
        "    scores_lfm2 = model_lfm2.predict(\n",
        "        user_ids=np.repeat(usuario_interno, len(productos_idx2)),\n",
        "        item_ids=productos_idx2,\n",
        "        user_features=user_features2,\n",
        "        item_features=item_features2\n",
        "    )\n",
        "\n",
        "    df_lfm2 = pd.DataFrame({\n",
        "        'producto': [p for p in productos_candidatos if p in dataset.mapping()[2]],\n",
        "        'score_lfm': scores_lfm2\n",
        "    })\n",
        "\n",
        "    # --- XGBoost ---\n",
        "    cliente_info = b2b_small[b2b_small['id_b2b'] == cliente_id].iloc[0]\n",
        "    nuevas_filas = []\n",
        "\n",
        "    for producto in df_lfm2['producto']:\n",
        "        fila = cliente_info.copy()\n",
        "        fila['producto'] = producto\n",
        "        nuevas_filas.append(fila)\n",
        "\n",
        "    pred_df = pd.DataFrame(nuevas_filas)\n",
        "\n",
        "    # Codificar con los mismos encoders usados en XGBoost\n",
        "    for col in encoders:\n",
        "        pred_df[col] = encoders[col].transform(pred_df[col])\n",
        "\n",
        "    X_pred = pred_df[model2.get_booster().feature_names]\n",
        "    scores_xgb = model2.predict_proba(X_pred)[:, 1]\n",
        "    # Combinar scores\n",
        "    # Normalizar LFM si hay más de un score y no son todos iguales\n",
        "    if df_lfm2['score_lfm'].nunique() > 1:\n",
        "        min_lfm = df_lfm2['score_lfm'].min()\n",
        "        max_lfm = df_lfm2['score_lfm'].max()\n",
        "        df_lfm2['score_lfm_norm'] = (df_lfm2['score_lfm'] - min_lfm) / (max_lfm - min_lfm)\n",
        "    else:\n",
        "        df_lfm2['score_lfm_norm'] = 0.5\n",
        "\n",
        "    # Unir scores\n",
        "    df_lfm2['score_xgb'] = scores_xgb\n",
        "    df_lfm2['score_hibrido'] = alpha * df_lfm2['score_lfm_norm'] + (1 - alpha) * df_lfm2['score_xgb']\n",
        "\n",
        "    return df_lfm2.sort_values('score_hibrido', ascending=False).head(top_n)[['producto', 'score_lfm', 'score_xgb', 'score_hibrido']]"
      ]
    },
    {
      "cell_type": "code",
      "execution_count": 29,
      "id": "Pg576eSE2d0V",
      "metadata": {
        "colab": {
          "base_uri": "https://localhost:8080/",
          "height": 0
        },
        "id": "Pg576eSE2d0V",
        "outputId": "b2ce7ec9-8d8b-45b2-f95f-e101f8fbcf28"
      },
      "outputs": [
        {
          "data": {
            "text/html": [
              "<div>\n",
              "<style scoped>\n",
              "    .dataframe tbody tr th:only-of-type {\n",
              "        vertical-align: middle;\n",
              "    }\n",
              "\n",
              "    .dataframe tbody tr th {\n",
              "        vertical-align: top;\n",
              "    }\n",
              "\n",
              "    .dataframe thead th {\n",
              "        text-align: right;\n",
              "    }\n",
              "</style>\n",
              "<table border=\"1\" class=\"dataframe\">\n",
              "  <thead>\n",
              "    <tr style=\"text-align: right;\">\n",
              "      <th></th>\n",
              "      <th>producto</th>\n",
              "      <th>score_lfm</th>\n",
              "      <th>score_xgb</th>\n",
              "      <th>score_hibrido</th>\n",
              "    </tr>\n",
              "  </thead>\n",
              "  <tbody>\n",
              "    <tr>\n",
              "      <th>844</th>\n",
              "      <td>Producto_394</td>\n",
              "      <td>-10.344651</td>\n",
              "      <td>0.712372</td>\n",
              "      <td>0.811796</td>\n",
              "    </tr>\n",
              "    <tr>\n",
              "      <th>602</th>\n",
              "      <td>Producto_286</td>\n",
              "      <td>-10.444649</td>\n",
              "      <td>0.713090</td>\n",
              "      <td>0.802541</td>\n",
              "    </tr>\n",
              "    <tr>\n",
              "      <th>1677</th>\n",
              "      <td>Producto_275</td>\n",
              "      <td>-10.457301</td>\n",
              "      <td>0.707887</td>\n",
              "      <td>0.799252</td>\n",
              "    </tr>\n",
              "    <tr>\n",
              "      <th>365</th>\n",
              "      <td>Producto_424</td>\n",
              "      <td>-10.364775</td>\n",
              "      <td>0.679883</td>\n",
              "      <td>0.796880</td>\n",
              "    </tr>\n",
              "    <tr>\n",
              "      <th>1036</th>\n",
              "      <td>Producto_385</td>\n",
              "      <td>-10.641154</td>\n",
              "      <td>0.723717</td>\n",
              "      <td>0.788040</td>\n",
              "    </tr>\n",
              "    <tr>\n",
              "      <th>1216</th>\n",
              "      <td>Producto_326</td>\n",
              "      <td>-10.908680</td>\n",
              "      <td>0.731783</td>\n",
              "      <td>0.765737</td>\n",
              "    </tr>\n",
              "    <tr>\n",
              "      <th>1834</th>\n",
              "      <td>Producto_310</td>\n",
              "      <td>-10.858469</td>\n",
              "      <td>0.717946</td>\n",
              "      <td>0.764993</td>\n",
              "    </tr>\n",
              "    <tr>\n",
              "      <th>428</th>\n",
              "      <td>Producto_391</td>\n",
              "      <td>-10.898959</td>\n",
              "      <td>0.712372</td>\n",
              "      <td>0.758899</td>\n",
              "    </tr>\n",
              "    <tr>\n",
              "      <th>953</th>\n",
              "      <td>Producto_316</td>\n",
              "      <td>-10.926962</td>\n",
              "      <td>0.717946</td>\n",
              "      <td>0.758457</td>\n",
              "    </tr>\n",
              "    <tr>\n",
              "      <th>1183</th>\n",
              "      <td>Producto_336</td>\n",
              "      <td>-11.030939</td>\n",
              "      <td>0.731783</td>\n",
              "      <td>0.754070</td>\n",
              "    </tr>\n",
              "  </tbody>\n",
              "</table>\n",
              "</div>"
            ],
            "text/plain": [
              "          producto  score_lfm  score_xgb  score_hibrido\n",
              "844   Producto_394 -10.344651   0.712372       0.811796\n",
              "602   Producto_286 -10.444649   0.713090       0.802541\n",
              "1677  Producto_275 -10.457301   0.707887       0.799252\n",
              "365   Producto_424 -10.364775   0.679883       0.796880\n",
              "1036  Producto_385 -10.641154   0.723717       0.788040\n",
              "1216  Producto_326 -10.908680   0.731783       0.765737\n",
              "1834  Producto_310 -10.858469   0.717946       0.764993\n",
              "428   Producto_391 -10.898959   0.712372       0.758899\n",
              "953   Producto_316 -10.926962   0.717946       0.758457\n",
              "1183  Producto_336 -11.030939   0.731783       0.754070"
            ]
          },
          "execution_count": 29,
          "metadata": {},
          "output_type": "execute_result"
        }
      ],
      "source": [
        "recomendar_hibrido_b2b_SinExtras(cliente_id=\"B2B_01\", top_n=10, alpha=0.6)\n"
      ]
    },
    {
      "cell_type": "code",
      "execution_count": 30,
      "id": "NT8bJu3H8GfZ",
      "metadata": {
        "colab": {
          "base_uri": "https://localhost:8080/"
        },
        "id": "NT8bJu3H8GfZ",
        "outputId": "388b440a-2b2c-4d97-e719-8b2d6b5265b1"
      },
      "outputs": [
        {
          "data": {
            "text/plain": [
              "{'Media score híbrido': 0.7474,\n",
              " 'Máximo score híbrido': 0.7952,\n",
              " 'Mínimo score híbrido': 0.7097,\n",
              " 'Desviación estándar': 0.0264}"
            ]
          },
          "execution_count": 30,
          "metadata": {},
          "output_type": "execute_result"
        }
      ],
      "source": [
        "# Supongamos que ya ejecutaste:\n",
        "df_hibrido2 = recomendar_hibrido_b2b_SinExtras(cliente_id='B2B_01', top_n=20, alpha=0.5)\n",
        "\n",
        "# Ahora creamos el diccionario con estadísticas básicas del score_hibrido:\n",
        "metricas_hibrido_b2b2 = {\n",
        "    \"Media score híbrido\": round(df_hibrido2[\"score_hibrido\"].mean(), 4),\n",
        "    \"Máximo score híbrido\": round(df_hibrido2[\"score_hibrido\"].max(), 4),\n",
        "    \"Mínimo score híbrido\": round(df_hibrido2[\"score_hibrido\"].min(), 4),\n",
        "    \"Desviación estándar\": round(df_hibrido2[\"score_hibrido\"].std(), 4)\n",
        "}\n",
        "metricas_hibrido_b2b2\n"
      ]
    },
    {
      "cell_type": "markdown",
      "id": "Z5SgcSVjGAbQ",
      "metadata": {
        "id": "Z5SgcSVjGAbQ"
      },
      "source": [
        "## Comparación de Modelos"
      ]
    },
    {
      "cell_type": "code",
      "execution_count": 31,
      "id": "uWobzmR6F9n0",
      "metadata": {
        "id": "uWobzmR6F9n0"
      },
      "outputs": [],
      "source": [
        "import matplotlib.pyplot as plt\n",
        "import seaborn as sns\n",
        "\n",
        "def comparar_modelos_b2b(cliente_id, top_n=30, alpha=0.5, normalizar_lfm=True):\n",
        "    df_scores = recomendar_hibrido_b2b(cliente_id=cliente_id, top_n=top_n, alpha=alpha)\n",
        "\n",
        "    if isinstance(df_scores, str):\n",
        "        print(df_scores)\n",
        "        return\n",
        "\n",
        "    # --- Normalizar LightFM si se requiere ---\n",
        "    if normalizar_lfm:\n",
        "        min_lfm, max_lfm = df_scores['score_lfm'].min(), df_scores['score_lfm'].max()\n",
        "        df_scores['score_lfm_norm'] = (df_scores['score_lfm'] - min_lfm) / (max_lfm - min_lfm)\n",
        "        df_scores['score_hibrido_norm'] = alpha * df_scores['score_lfm_norm'] + (1 - alpha) * df_scores['score_xgb']\n",
        "        cols_plot = ['score_lfm_norm', 'score_xgb', 'score_hibrido_norm']\n",
        "    else:\n",
        "        cols_plot = ['score_lfm', 'score_xgb', 'score_hibrido']\n",
        "\n",
        "    # --- Estadísticas descriptivas ---\n",
        "    print(\"Estadísticas de scores:\\n\")\n",
        "    for col in cols_plot:\n",
        "        print(f\"{col}:\\n{df_scores[col].describe()}\\n\")\n",
        "\n",
        "    # --- Gráfico comparativo ---\n",
        "    df_plot = df_scores.melt(id_vars='producto', value_vars=cols_plot,\n",
        "                             var_name='modelo', value_name='score')\n",
        "\n",
        "    plt.figure(figsize=(14, 6))\n",
        "    sns.barplot(data=df_plot, x='producto', y='score', hue='modelo', palette='Set2')\n",
        "    plt.xticks(rotation=45, ha='right')\n",
        "    plt.title(f\"Comparación de scores para Cliente {cliente_id}\")\n",
        "    plt.ylabel(\"Score\")\n",
        "    plt.xlabel(\"Producto\")\n",
        "    plt.legend(title='Modelo')\n",
        "    plt.tight_layout()\n",
        "    plt.show()\n",
        "\n",
        "    # --- Comparación de rankings ---\n",
        "    df_scores['rank_lfm'] = df_scores['score_lfm'].rank(ascending=False)\n",
        "    df_scores['rank_xgb'] = df_scores['score_xgb'].rank(ascending=False)\n",
        "    df_scores['rank_diff'] = df_scores['rank_xgb'] - df_scores['rank_lfm']\n",
        "\n",
        "    print(\"\\nTop 5 mayores diferencias de ranking (XGBoost vs LightFM):\")\n",
        "    print(df_scores[['producto', 'rank_lfm', 'rank_xgb', 'rank_diff']].sort_values('rank_diff', key=abs, ascending=False).head())\n"
      ]
    },
    {
      "cell_type": "code",
      "execution_count": 32,
      "id": "CU5FleHwGEeg",
      "metadata": {
        "colab": {
          "base_uri": "https://localhost:8080/",
          "height": 0
        },
        "id": "CU5FleHwGEeg",
        "outputId": "12c06ff7-95c1-4c8c-d330-4e6b9e41cb44"
      },
      "outputs": [
        {
          "name": "stdout",
          "output_type": "stream",
          "text": [
            "Estadísticas de scores:\n",
            "\n",
            "score_lfm_norm:\n",
            "count    15.000000\n",
            "mean      0.433766\n",
            "std       0.361939\n",
            "min       0.000000\n",
            "25%       0.106238\n",
            "50%       0.469040\n",
            "75%       0.683812\n",
            "max       1.000000\n",
            "Name: score_lfm_norm, dtype: float64\n",
            "\n",
            "score_xgb:\n",
            "count    15.000000\n",
            "mean      0.692988\n",
            "std       0.076417\n",
            "min       0.493758\n",
            "25%       0.701595\n",
            "50%       0.732829\n",
            "75%       0.735104\n",
            "max       0.742954\n",
            "Name: score_xgb, dtype: float64\n",
            "\n",
            "score_hibrido_norm:\n",
            "count    15.000000\n",
            "mean      0.537455\n",
            "std       0.200344\n",
            "min       0.294042\n",
            "25%       0.355378\n",
            "50%       0.575606\n",
            "75%       0.694560\n",
            "max       0.821799\n",
            "Name: score_hibrido_norm, dtype: float64\n",
            "\n"
          ]
        },
        {
          "data": {
            "image/png": "[encoded data removed]",
            "text/plain": [
              "<Figure size 1400x600 with 1 Axes>"
            ]
          },
          "metadata": {},
          "output_type": "display_data"
        },
        {
          "name": "stdout",
          "output_type": "stream",
          "text": [
            "\n",
            "Top 5 mayores diferencias de ranking (XGBoost vs LightFM):\n",
            "           producto  rank_lfm  rank_xgb  rank_diff\n",
            "1725   Producto_755       1.0      15.0       14.0\n",
            "1216   Producto_326      13.0       1.0      -12.0\n",
            "365    Producto_424       2.0      12.0       10.0\n",
            "610    Producto_290      15.0       5.0      -10.0\n",
            "450   Producto_1561       5.0      14.0        9.0\n"
          ]
        }
      ],
      "source": [
        "comparar_modelos_b2b(cliente_id=\"B2B_01\", top_n=15, alpha=0.6)\n",
        "\n"
      ]
    },
    {
      "cell_type": "markdown",
      "id": "hBQw1pig8QoH",
      "metadata": {
        "id": "hBQw1pig8QoH"
      },
      "source": [
        "## Comparacion modelos sin Extras"
      ]
    },
    {
      "cell_type": "code",
      "execution_count": 33,
      "id": "SLGX-b8p8QE8",
      "metadata": {
        "id": "SLGX-b8p8QE8"
      },
      "outputs": [],
      "source": [
        "import matplotlib.pyplot as plt\n",
        "import seaborn as sns\n",
        "\n",
        "def comparar_modelos_b2b_SinExtras(cliente_id, top_n=30, alpha=0.5, normalizar_lfm=True):\n",
        "    df_scores = recomendar_hibrido_b2b_SinExtras(cliente_id=cliente_id, top_n=top_n, alpha=alpha)\n",
        "\n",
        "    if isinstance(df_scores, str):\n",
        "        print(df_scores)\n",
        "        return\n",
        "\n",
        "    # --- Normalizar LightFM si se requiere ---\n",
        "    if normalizar_lfm:\n",
        "        min_lfm, max_lfm = df_scores['score_lfm'].min(), df_scores['score_lfm'].max()\n",
        "        df_scores['score_lfm_norm'] = (df_scores['score_lfm'] - min_lfm) / (max_lfm - min_lfm)\n",
        "        df_scores['score_hibrido_norm'] = alpha * df_scores['score_lfm_norm'] + (1 - alpha) * df_scores['score_xgb']\n",
        "        cols_plot = ['score_lfm_norm', 'score_xgb', 'score_hibrido_norm']\n",
        "    else:\n",
        "        cols_plot = ['score_lfm', 'score_xgb', 'score_hibrido']\n",
        "\n",
        "    # --- Estadísticas descriptivas ---\n",
        "    print(\"Estadísticas de scores:\\n\")\n",
        "    for col in cols_plot:\n",
        "        print(f\"{col}:\\n{df_scores[col].describe()}\\n\")\n",
        "\n",
        "    # --- Gráfico comparativo ---\n",
        "    df_plot = df_scores.melt(id_vars='producto', value_vars=cols_plot,\n",
        "                             var_name='modelo', value_name='score')\n",
        "\n",
        "    plt.figure(figsize=(14, 6))\n",
        "    sns.barplot(data=df_plot, x='producto', y='score', hue='modelo', palette='Set2')\n",
        "    plt.xticks(rotation=45, ha='right')\n",
        "    plt.title(f\"Comparación de scores para Cliente {cliente_id}\")\n",
        "    plt.ylabel(\"Score\")\n",
        "    plt.xlabel(\"Producto\")\n",
        "    plt.legend(title='Modelo')\n",
        "    plt.tight_layout()\n",
        "    plt.show()\n",
        "\n",
        "    # --- Comparación de rankings ---\n",
        "    df_scores['rank_lfm'] = df_scores['score_lfm'].rank(ascending=False)\n",
        "    df_scores['rank_xgb'] = df_scores['score_xgb'].rank(ascending=False)\n",
        "    df_scores['rank_diff'] = df_scores['rank_xgb'] - df_scores['rank_lfm']\n",
        "\n",
        "    print(\"\\nTop 5 mayores diferencias de ranking (XGBoost vs LightFM):\")\n",
        "    print(df_scores[['producto', 'rank_lfm', 'rank_xgb', 'rank_diff']].sort_values('rank_diff', key=abs, ascending=False).head())\n"
      ]
    },
    {
      "cell_type": "code",
      "execution_count": 34,
      "id": "vv50B4358e5z",
      "metadata": {
        "colab": {
          "base_uri": "https://localhost:8080/",
          "height": 0
        },
        "id": "vv50B4358e5z",
        "outputId": "fb2082e0-b49e-477e-81d8-3f5a7f65541d"
      },
      "outputs": [
        {
          "name": "stdout",
          "output_type": "stream",
          "text": [
            "Estadísticas de scores:\n",
            "\n",
            "score_lfm_norm:\n",
            "count    15.000000\n",
            "mean      0.417935\n",
            "std       0.366642\n",
            "min       0.000000\n",
            "25%       0.115006\n",
            "50%       0.342860\n",
            "75%       0.761652\n",
            "max       1.000000\n",
            "Name: score_lfm_norm, dtype: float64\n",
            "\n",
            "score_xgb:\n",
            "count    15.000000\n",
            "mean      0.716615\n",
            "std       0.012765\n",
            "min       0.679883\n",
            "25%       0.712731\n",
            "50%       0.717946\n",
            "75%       0.725940\n",
            "max       0.731783\n",
            "Name: score_xgb, dtype: float64\n",
            "\n",
            "score_hibrido_norm:\n",
            "count    15.000000\n",
            "mean      0.537407\n",
            "std       0.217103\n",
            "min       0.285236\n",
            "25%       0.358225\n",
            "50%       0.497460\n",
            "75%       0.743312\n",
            "max       0.884949\n",
            "Name: score_hibrido_norm, dtype: float64\n",
            "\n"
          ]
        },
        {
          "data": {
            "image/png": "[encoded data removed]",
            "text/plain": [
              "<Figure size 1400x600 with 1 Axes>"
            ]
          },
          "metadata": {},
          "output_type": "display_data"
        },
        {
          "name": "stdout",
          "output_type": "stream",
          "text": [
            "\n",
            "Top 5 mayores diferencias de ranking (XGBoost vs LightFM):\n",
            "          producto  rank_lfm  rank_xgb  rank_diff\n",
            "365   Producto_424       2.0      15.0       13.0\n",
            "844   Producto_394       1.0      12.5       11.5\n",
            "1677  Producto_275       4.0      14.0       10.0\n",
            "1585  Producto_323      13.0       3.5       -9.5\n",
            "1183  Producto_336      10.0       1.5       -8.5\n"
          ]
        }
      ],
      "source": [
        "comparar_modelos_b2b_SinExtras(cliente_id=\"B2B_01\", top_n=15, alpha=0.6)\n"
      ]
    },
    {
      "cell_type": "markdown",
      "id": "vM94dmbS5fvI",
      "metadata": {
        "id": "vM94dmbS5fvI"
      },
      "source": [
        "## Exportar todos los modelos realizados"
      ]
    },
    {
      "cell_type": "code",
      "execution_count": 35,
      "id": "7GzpciTq5ktp",
      "metadata": {
        "id": "7GzpciTq5ktp"
      },
      "outputs": [],
      "source": [
        "# import joblib\n",
        "# import os\n",
        "\n",
        "# # Crear carpeta si no existe\n",
        "# os.makedirs(\"modelos\", exist_ok=True)\n",
        "\n",
        "# # Guardar modelos B2B\n",
        "# joblib.dump(model, 'modelos/b2b_model_xgb.json')\n",
        "# joblib.dump(model_lfm, 'modelos/b2b_model_lfm.json')\n",
        "# joblib.dump(dataset, 'modelos/b2b_dataset.json')\n",
        "# joblib.dump(user_features, 'modelos/b2b_user_features.json')\n",
        "# joblib.dump(item_features, 'modelos/b2b_item_features.json')\n",
        "# joblib.dump(encoders, 'modelos/b2b_encoders.json')\n",
        "\n",
        "# print(\"Modelos y objetos B2B guardados correctamente.\")\n"
      ]
    },
    {
      "cell_type": "code",
      "execution_count": 36,
      "id": "Rj13eJqrP8Te",
      "metadata": {
        "id": "Rj13eJqrP8Te"
      },
      "outputs": [],
      "source": [
        "# from google.colab import files\n",
        "# files.download('modelos/b2b_model_xgb.json')\n",
        "# files.download('modelos/b2b_model_lfm.json')\n",
        "# files.download('modelos/b2b_dataset.json')\n",
        "# files.download('modelos/b2b_user_features.json')\n",
        "# files.download('modelos/b2b_item_features.json')\n",
        "# files.download('modelos/b2b_encoders.json')\n"
      ]
    },
    {
      "cell_type": "markdown",
      "id": "tvtc1Dj1onte",
      "metadata": {
        "id": "tvtc1Dj1onte"
      },
      "source": [
        "## Precios\n"
      ]
    },
    {
      "cell_type": "code",
      "execution_count": 37,
      "id": "3eYpYbrGo4M1",
      "metadata": {
        "colab": {
          "base_uri": "https://localhost:8080/"
        },
        "id": "3eYpYbrGo4M1",
        "outputId": "d00fe4f0-eca9-4d17-8d6d-15b28cd91150"
      },
      "outputs": [
        {
          "name": "stdout",
          "output_type": "stream",
          "text": [
            "DataFrame con precios promedio por producto:\n",
            "        producto  precio_promedio\n",
            "0     Producto_1      3157.516002\n",
            "1    Producto_10       127.521962\n",
            "2   Producto_100      1663.522049\n",
            "3  Producto_1000       283.441552\n",
            "4  Producto_1001      2094.794838\n",
            "\n",
            "Productos con diferentes precios (se calculó el promedio):\n",
            "['Producto_1', 'Producto_10', 'Producto_100', 'Producto_1000', 'Producto_1001', 'Producto_1002', 'Producto_1003', 'Producto_1004', 'Producto_1005', 'Producto_1006', 'Producto_1007', 'Producto_1008', 'Producto_1009', 'Producto_101', 'Producto_1010', 'Producto_1011', 'Producto_1012', 'Producto_1013', 'Producto_1015', 'Producto_1016', 'Producto_1017', 'Producto_1019', 'Producto_102', 'Producto_1020', 'Producto_1021', 'Producto_1023', 'Producto_1024', 'Producto_1025', 'Producto_1026', 'Producto_1027', 'Producto_1028', 'Producto_1029', 'Producto_103', 'Producto_1030', 'Producto_1031', 'Producto_1032', 'Producto_1033', 'Producto_1034', 'Producto_1035', 'Producto_1036', 'Producto_1037', 'Producto_1039', 'Producto_104', 'Producto_1040', 'Producto_1041', 'Producto_1042', 'Producto_1043', 'Producto_1044', 'Producto_1045', 'Producto_1046', 'Producto_1047', 'Producto_1048', 'Producto_1049', 'Producto_105', 'Producto_1050', 'Producto_1051', 'Producto_1052', 'Producto_1053', 'Producto_1054', 'Producto_1055', 'Producto_1056', 'Producto_1057', 'Producto_1059', 'Producto_106', 'Producto_1062', 'Producto_1065', 'Producto_1068', 'Producto_1069', 'Producto_107', 'Producto_1070', 'Producto_1072', 'Producto_1073', 'Producto_1074', 'Producto_1075', 'Producto_1076', 'Producto_1077', 'Producto_1079', 'Producto_108', 'Producto_1081', 'Producto_1082', 'Producto_1083', 'Producto_1085', 'Producto_1086', 'Producto_1087', 'Producto_1088', 'Producto_1089', 'Producto_109', 'Producto_1090', 'Producto_1091', 'Producto_1092', 'Producto_1093', 'Producto_1094', 'Producto_1095', 'Producto_1096', 'Producto_1097', 'Producto_1098', 'Producto_1099', 'Producto_110', 'Producto_1100', 'Producto_1102', 'Producto_1104', 'Producto_1105', 'Producto_1106', 'Producto_1107', 'Producto_1108', 'Producto_1109', 'Producto_111', 'Producto_1111', 'Producto_1112', 'Producto_1115', 'Producto_1116', 'Producto_1117', 'Producto_1118', 'Producto_1119', 'Producto_112', 'Producto_1120', 'Producto_1122', 'Producto_1123', 'Producto_1129', 'Producto_113', 'Producto_1130', 'Producto_1131', 'Producto_1132', 'Producto_1133', 'Producto_1134', 'Producto_1135', 'Producto_1136', 'Producto_1137', 'Producto_1139', 'Producto_114', 'Producto_1140', 'Producto_1141', 'Producto_1142', 'Producto_1143', 'Producto_1144', 'Producto_1145', 'Producto_1146', 'Producto_1147', 'Producto_1148', 'Producto_1149', 'Producto_115', 'Producto_1150', 'Producto_1152', 'Producto_1153', 'Producto_1154', 'Producto_1155', 'Producto_1156', 'Producto_1157', 'Producto_1159', 'Producto_116', 'Producto_1161', 'Producto_1162', 'Producto_1163', 'Producto_1164', 'Producto_1167', 'Producto_1168', 'Producto_1169', 'Producto_117', 'Producto_1171', 'Producto_1174', 'Producto_1175', 'Producto_1176', 'Producto_1178', 'Producto_1179', 'Producto_1180', 'Producto_1181', 'Producto_1182', 'Producto_1183', 'Producto_1184', 'Producto_1185', 'Producto_1186', 'Producto_1188', 'Producto_119', 'Producto_1190', 'Producto_1192', 'Producto_1193', 'Producto_1194', 'Producto_1195', 'Producto_1196', 'Producto_1197', 'Producto_1199', 'Producto_12', 'Producto_120', 'Producto_1200', 'Producto_1201', 'Producto_1202', 'Producto_1203', 'Producto_1206', 'Producto_1207', 'Producto_121', 'Producto_1210', 'Producto_1211', 'Producto_1212', 'Producto_1213', 'Producto_1214', 'Producto_1217', 'Producto_1218', 'Producto_1219', 'Producto_1223', 'Producto_1224', 'Producto_1226', 'Producto_1227', 'Producto_1228', 'Producto_1229', 'Producto_123', 'Producto_1230', 'Producto_1232', 'Producto_1234', 'Producto_1235', 'Producto_1239', 'Producto_1240', 'Producto_1242', 'Producto_1243', 'Producto_1244', 'Producto_1245', 'Producto_1246', 'Producto_1247', 'Producto_1249', 'Producto_125', 'Producto_1252', 'Producto_1253', 'Producto_1254', 'Producto_1255', 'Producto_1256', 'Producto_1257', 'Producto_1259', 'Producto_126', 'Producto_1260', 'Producto_1262', 'Producto_1263', 'Producto_1264', 'Producto_1265', 'Producto_1266', 'Producto_1267', 'Producto_1269', 'Producto_127', 'Producto_1270', 'Producto_1271', 'Producto_1272', 'Producto_1273', 'Producto_1274', 'Producto_1278', 'Producto_1279', 'Producto_128', 'Producto_1280', 'Producto_1281', 'Producto_1282', 'Producto_1283', 'Producto_1284', 'Producto_1285', 'Producto_1287', 'Producto_1288', 'Producto_1289', 'Producto_129', 'Producto_1290', 'Producto_1291', 'Producto_1293', 'Producto_1294', 'Producto_1297', 'Producto_1298', 'Producto_1299', 'Producto_13', 'Producto_1300', 'Producto_1301', 'Producto_1302', 'Producto_1303', 'Producto_1304', 'Producto_1305', 'Producto_1306', 'Producto_1307', 'Producto_1308', 'Producto_1309', 'Producto_1310', 'Producto_1311', 'Producto_1312', 'Producto_1313', 'Producto_1314', 'Producto_1315', 'Producto_1316', 'Producto_1317', 'Producto_1318', 'Producto_1319', 'Producto_132', 'Producto_1320', 'Producto_1321', 'Producto_1322', 'Producto_1324', 'Producto_1327', 'Producto_1328', 'Producto_133', 'Producto_1330', 'Producto_1331', 'Producto_1332', 'Producto_1333', 'Producto_1334', 'Producto_1335', 'Producto_1336', 'Producto_1337', 'Producto_1338', 'Producto_134', 'Producto_1341', 'Producto_1342', 'Producto_1343', 'Producto_1344', 'Producto_1346', 'Producto_1347', 'Producto_1349', 'Producto_1350', 'Producto_1351', 'Producto_1352', 'Producto_1353', 'Producto_1354', 'Producto_1356', 'Producto_1357', 'Producto_1358', 'Producto_1359', 'Producto_136', 'Producto_1360', 'Producto_1361', 'Producto_1362', 'Producto_1363', 'Producto_1364', 'Producto_1365', 'Producto_1366', 'Producto_1367', 'Producto_1368', 'Producto_1369', 'Producto_137', 'Producto_1370', 'Producto_1371', 'Producto_1372', 'Producto_1373', 'Producto_1374', 'Producto_1376', 'Producto_1377', 'Producto_1378', 'Producto_1379', 'Producto_138', 'Producto_1380', 'Producto_1381', 'Producto_1382', 'Producto_1383', 'Producto_1384', 'Producto_1387', 'Producto_1388', 'Producto_1389', 'Producto_139', 'Producto_1390', 'Producto_1391', 'Producto_1392', 'Producto_1393', 'Producto_1394', 'Producto_1395', 'Producto_1396', 'Producto_1397', 'Producto_1398', 'Producto_1399', 'Producto_14', 'Producto_140', 'Producto_1400', 'Producto_1401', 'Producto_1402', 'Producto_1403', 'Producto_1404', 'Producto_1405', 'Producto_1406', 'Producto_1407', 'Producto_1408', 'Producto_1409', 'Producto_141', 'Producto_1410', 'Producto_1411', 'Producto_1412', 'Producto_1413', 'Producto_1414', 'Producto_1415', 'Producto_1416', 'Producto_1417', 'Producto_1419', 'Producto_142', 'Producto_1420', 'Producto_1421', 'Producto_1425', 'Producto_1427', 'Producto_1429', 'Producto_143', 'Producto_1430', 'Producto_1432', 'Producto_1433', 'Producto_1434', 'Producto_1435', 'Producto_1437', 'Producto_144', 'Producto_1440', 'Producto_1441', 'Producto_1442', 'Producto_1443', 'Producto_1445', 'Producto_1448', 'Producto_1449', 'Producto_145', 'Producto_1450', 'Producto_1451', 'Producto_1452', 'Producto_1453', 'Producto_1454', 'Producto_1457', 'Producto_146', 'Producto_1461', 'Producto_1462', 'Producto_1469', 'Producto_147', 'Producto_1470', 'Producto_1473', 'Producto_1474', 'Producto_1475', 'Producto_1477', 'Producto_1479', 'Producto_148', 'Producto_1480', 'Producto_1481', 'Producto_1483', 'Producto_1485', 'Producto_1486', 'Producto_1487', 'Producto_149', 'Producto_1492', 'Producto_1494', 'Producto_1495', 'Producto_1496', 'Producto_1497', 'Producto_1498', 'Producto_15', 'Producto_150', 'Producto_1500', 'Producto_1501', 'Producto_1504', 'Producto_1506', 'Producto_151', 'Producto_1510', 'Producto_1512', 'Producto_1513', 'Producto_1517', 'Producto_1518', 'Producto_1519', 'Producto_152', 'Producto_1521', 'Producto_1522', 'Producto_1523', 'Producto_1526', 'Producto_1527', 'Producto_153', 'Producto_1530', 'Producto_1533', 'Producto_1534', 'Producto_1535', 'Producto_1536', 'Producto_1537', 'Producto_1538', 'Producto_1539', 'Producto_154', 'Producto_1540', 'Producto_1541', 'Producto_1542', 'Producto_1543', 'Producto_1544', 'Producto_1546', 'Producto_1547', 'Producto_1548', 'Producto_1549', 'Producto_155', 'Producto_1550', 'Producto_1551', 'Producto_1552', 'Producto_1553', 'Producto_1554', 'Producto_1556', 'Producto_1559', 'Producto_156', 'Producto_1560', 'Producto_1561', 'Producto_1562', 'Producto_1563', 'Producto_1566', 'Producto_1567', 'Producto_1569', 'Producto_157', 'Producto_1570', 'Producto_1573', 'Producto_1574', 'Producto_1577', 'Producto_1579', 'Producto_158', 'Producto_1583', 'Producto_1589', 'Producto_159', 'Producto_1590', 'Producto_1592', 'Producto_1594', 'Producto_1597', 'Producto_1598', 'Producto_1599', 'Producto_16', 'Producto_160', 'Producto_1603', 'Producto_1604', 'Producto_161', 'Producto_1612', 'Producto_1614', 'Producto_1615', 'Producto_1616', 'Producto_1618', 'Producto_1619', 'Producto_162', 'Producto_1620', 'Producto_1622', 'Producto_1623', 'Producto_1624', 'Producto_1626', 'Producto_1627', 'Producto_1628', 'Producto_163', 'Producto_1630', 'Producto_1632', 'Producto_1634', 'Producto_1635', 'Producto_1636', 'Producto_1638', 'Producto_164', 'Producto_1644', 'Producto_1645', 'Producto_1648', 'Producto_1649', 'Producto_165', 'Producto_1650', 'Producto_1651', 'Producto_1652', 'Producto_1653', 'Producto_1654', 'Producto_1655', 'Producto_1656', 'Producto_1657', 'Producto_1658', 'Producto_1659', 'Producto_166', 'Producto_1660', 'Producto_1663', 'Producto_1664', 'Producto_1665', 'Producto_1669', 'Producto_167', 'Producto_1673', 'Producto_1677', 'Producto_168', 'Producto_1684', 'Producto_1686', 'Producto_1687', 'Producto_1688', 'Producto_1689', 'Producto_169', 'Producto_1690', 'Producto_1691', 'Producto_1692', 'Producto_1694', 'Producto_1696', 'Producto_1698', 'Producto_1699', 'Producto_170', 'Producto_1700', 'Producto_1702', 'Producto_1703', 'Producto_1704', 'Producto_1705', 'Producto_1706', 'Producto_1707', 'Producto_1708', 'Producto_171', 'Producto_1711', 'Producto_1712', 'Producto_1713', 'Producto_1714', 'Producto_1715', 'Producto_1716', 'Producto_172', 'Producto_1721', 'Producto_1723', 'Producto_1724', 'Producto_1725', 'Producto_1726', 'Producto_1727', 'Producto_1729', 'Producto_173', 'Producto_1730', 'Producto_1731', 'Producto_1733', 'Producto_1734', 'Producto_1736', 'Producto_1737', 'Producto_1738', 'Producto_1743', 'Producto_1745', 'Producto_1746', 'Producto_1747', 'Producto_1748', 'Producto_1749', 'Producto_175', 'Producto_1750', 'Producto_1752', 'Producto_1753', 'Producto_1754', 'Producto_176', 'Producto_1764', 'Producto_1765', 'Producto_1766', 'Producto_1767', 'Producto_1768', 'Producto_1769', 'Producto_1770', 'Producto_1771', 'Producto_1773', 'Producto_1775', 'Producto_1776', 'Producto_1777', 'Producto_1778', 'Producto_1779', 'Producto_178', 'Producto_1780', 'Producto_1783', 'Producto_1785', 'Producto_1787', 'Producto_179', 'Producto_1790', 'Producto_1791', 'Producto_1794', 'Producto_1795', 'Producto_1796', 'Producto_1797', 'Producto_1798', 'Producto_1799', 'Producto_18', 'Producto_180', 'Producto_1800', 'Producto_1801', 'Producto_1802', 'Producto_1806', 'Producto_181', 'Producto_1814', 'Producto_1815', 'Producto_1816', 'Producto_1818', 'Producto_1819', 'Producto_182', 'Producto_1820', 'Producto_1821', 'Producto_1828', 'Producto_1829', 'Producto_183', 'Producto_1843', 'Producto_1844', 'Producto_1845', 'Producto_1848', 'Producto_1849', 'Producto_185', 'Producto_1850', 'Producto_1852', 'Producto_1853', 'Producto_1854', 'Producto_1855', 'Producto_1857', 'Producto_1859', 'Producto_186', 'Producto_1860', 'Producto_1861', 'Producto_1862', 'Producto_1863', 'Producto_1864', 'Producto_1865', 'Producto_1867', 'Producto_1868', 'Producto_1869', 'Producto_187', 'Producto_1870', 'Producto_1871', 'Producto_1876', 'Producto_1877', 'Producto_188', 'Producto_1880', 'Producto_1881', 'Producto_1882', 'Producto_1884', 'Producto_1885', 'Producto_1887', 'Producto_1888', 'Producto_189', 'Producto_1893', 'Producto_1895', 'Producto_1897', 'Producto_1899', 'Producto_19', 'Producto_190', 'Producto_1900', 'Producto_1902', 'Producto_1904', 'Producto_1905', 'Producto_1906', 'Producto_1907', 'Producto_1908', 'Producto_1909', 'Producto_191', 'Producto_1911', 'Producto_1912', 'Producto_1913', 'Producto_1915', 'Producto_1916', 'Producto_1917', 'Producto_1918', 'Producto_1919', 'Producto_192', 'Producto_1922', 'Producto_1926', 'Producto_1929', 'Producto_193', 'Producto_1930', 'Producto_1931', 'Producto_1932', 'Producto_1933', 'Producto_1936', 'Producto_1938', 'Producto_194', 'Producto_1941', 'Producto_1942', 'Producto_1943', 'Producto_1944', 'Producto_1945', 'Producto_1946', 'Producto_1947', 'Producto_1948', 'Producto_195', 'Producto_1950', 'Producto_1951', 'Producto_1952', 'Producto_1954', 'Producto_1956', 'Producto_1958', 'Producto_196', 'Producto_1960', 'Producto_1961', 'Producto_1962', 'Producto_1963', 'Producto_1965', 'Producto_197', 'Producto_1970', 'Producto_1976', 'Producto_1977', 'Producto_198', 'Producto_1986', 'Producto_199', 'Producto_1994', 'Producto_1997', 'Producto_1998', 'Producto_1999', 'Producto_2', 'Producto_20', 'Producto_200', 'Producto_2002', 'Producto_2005', 'Producto_2006', 'Producto_2007', 'Producto_2008', 'Producto_2009', 'Producto_201', 'Producto_2010', 'Producto_2011', 'Producto_2012', 'Producto_2013', 'Producto_2014', 'Producto_2015', 'Producto_2016', 'Producto_2018', 'Producto_202', 'Producto_2020', 'Producto_2021', 'Producto_2025', 'Producto_2026', 'Producto_2028', 'Producto_203', 'Producto_2030', 'Producto_2031', 'Producto_2032', 'Producto_2033', 'Producto_2037', 'Producto_2038', 'Producto_2039', 'Producto_204', 'Producto_2040', 'Producto_2041', 'Producto_2043', 'Producto_2045', 'Producto_2046', 'Producto_2049', 'Producto_205', 'Producto_2050', 'Producto_2051', 'Producto_2056', 'Producto_2058', 'Producto_2059', 'Producto_206', 'Producto_2061', 'Producto_2064', 'Producto_2065', 'Producto_2069', 'Producto_207', 'Producto_2070', 'Producto_2071', 'Producto_2072', 'Producto_2074', 'Producto_2075', 'Producto_2076', 'Producto_2078', 'Producto_208', 'Producto_2080', 'Producto_2081', 'Producto_2083', 'Producto_2084', 'Producto_2085', 'Producto_2086', 'Producto_209', 'Producto_2092', 'Producto_2093', 'Producto_2094', 'Producto_2097', 'Producto_2098', 'Producto_21', 'Producto_210', 'Producto_2100', 'Producto_2101', 'Producto_2102', 'Producto_2104', 'Producto_2106', 'Producto_2108', 'Producto_2109', 'Producto_211', 'Producto_2110', 'Producto_2112', 'Producto_2113', 'Producto_2115', 'Producto_2117', 'Producto_2118', 'Producto_2119', 'Producto_212', 'Producto_2121', 'Producto_2123', 'Producto_2127', 'Producto_2128', 'Producto_2129', 'Producto_213', 'Producto_2130', 'Producto_2132', 'Producto_2134', 'Producto_2135', 'Producto_2138', 'Producto_2140', 'Producto_2141', 'Producto_2142', 'Producto_2143', 'Producto_2145', 'Producto_2146', 'Producto_2147', 'Producto_2150', 'Producto_2151', 'Producto_2152', 'Producto_2154', 'Producto_2158', 'Producto_2160', 'Producto_2167', 'Producto_2168', 'Producto_2170', 'Producto_2171', 'Producto_2172', 'Producto_2173', 'Producto_2175', 'Producto_2176', 'Producto_2177', 'Producto_2179', 'Producto_218', 'Producto_2180', 'Producto_2181', 'Producto_2182', 'Producto_2184', 'Producto_2185', 'Producto_2186', 'Producto_2187', 'Producto_219', 'Producto_2191', 'Producto_2197', 'Producto_2198', 'Producto_22', 'Producto_220', 'Producto_2201', 'Producto_2203', 'Producto_2205', 'Producto_2206', 'Producto_2207', 'Producto_221', 'Producto_2210', 'Producto_2211', 'Producto_2215', 'Producto_2217', 'Producto_222', 'Producto_2220', 'Producto_2221', 'Producto_2223', 'Producto_2224', 'Producto_2225', 'Producto_2226', 'Producto_2229', 'Producto_223', 'Producto_2230', 'Producto_2232', 'Producto_2234', 'Producto_2235', 'Producto_224', 'Producto_2244', 'Producto_2246', 'Producto_2249', 'Producto_225', 'Producto_2251', 'Producto_2252', 'Producto_2253', 'Producto_2257', 'Producto_226', 'Producto_2260', 'Producto_2262', 'Producto_2267', 'Producto_227', 'Producto_2270', 'Producto_2274', 'Producto_2279', 'Producto_228', 'Producto_2280', 'Producto_2281', 'Producto_2285', 'Producto_2289', 'Producto_229', 'Producto_2290', 'Producto_2291', 'Producto_2294', 'Producto_23', 'Producto_230', 'Producto_2304', 'Producto_2306', 'Producto_231', 'Producto_2312', 'Producto_2313', 'Producto_2314', 'Producto_2315', 'Producto_2316', 'Producto_232', 'Producto_2321', 'Producto_2322', 'Producto_2323', 'Producto_2324', 'Producto_2325', 'Producto_2326', 'Producto_2327', 'Producto_2329', 'Producto_233', 'Producto_2330', 'Producto_2332', 'Producto_2333', 'Producto_2336', 'Producto_2337', 'Producto_234', 'Producto_2340', 'Producto_2341', 'Producto_2342', 'Producto_2344', 'Producto_2345', 'Producto_2347', 'Producto_2348', 'Producto_235', 'Producto_2351', 'Producto_2352', 'Producto_2356', 'Producto_2357', 'Producto_2358', 'Producto_2359', 'Producto_236', 'Producto_2360', 'Producto_2362', 'Producto_2363', 'Producto_2364', 'Producto_2366', 'Producto_2370', 'Producto_2372', 'Producto_2373', 'Producto_2374', 'Producto_2375', 'Producto_2376', 'Producto_2380', 'Producto_2384', 'Producto_2388', 'Producto_239', 'Producto_2393', 'Producto_2397', 'Producto_2398', 'Producto_2399', 'Producto_24', 'Producto_240', 'Producto_2400', 'Producto_2401', 'Producto_2402', 'Producto_2403', 'Producto_2406', 'Producto_2408', 'Producto_2409', 'Producto_241', 'Producto_2418', 'Producto_2419', 'Producto_242', 'Producto_2423', 'Producto_2424', 'Producto_2425', 'Producto_2426', 'Producto_243', 'Producto_2432', 'Producto_2439', 'Producto_244', 'Producto_2440', 'Producto_2442', 'Producto_2443', 'Producto_2445', 'Producto_2446', 'Producto_2448', 'Producto_245', 'Producto_2450', 'Producto_2451', 'Producto_2453', 'Producto_2455', 'Producto_246', 'Producto_2460', 'Producto_2461', 'Producto_2463', 'Producto_2465', 'Producto_247', 'Producto_2470', 'Producto_2472', 'Producto_2474', 'Producto_2475', 'Producto_2477', 'Producto_2479', 'Producto_248', 'Producto_2488', 'Producto_2489', 'Producto_249', 'Producto_2490', 'Producto_2492', 'Producto_2494', 'Producto_2495', 'Producto_2498', 'Producto_2499', 'Producto_25', 'Producto_250', 'Producto_2501', 'Producto_2502', 'Producto_2505', 'Producto_2507', 'Producto_251', 'Producto_2513', 'Producto_2515', 'Producto_2516', 'Producto_252', 'Producto_2521', 'Producto_2522', 'Producto_2523', 'Producto_253', 'Producto_2531', 'Producto_2534', 'Producto_2537', 'Producto_2538', 'Producto_254', 'Producto_2541', 'Producto_2542', 'Producto_2545', 'Producto_255', 'Producto_2551', 'Producto_2552', 'Producto_2555', 'Producto_2556', 'Producto_2558', 'Producto_256', 'Producto_257', 'Producto_2570', 'Producto_2574', 'Producto_2575', 'Producto_258', 'Producto_2580', 'Producto_2583', 'Producto_2587', 'Producto_2588', 'Producto_2589', 'Producto_2591', 'Producto_2592', 'Producto_2599', 'Producto_26', 'Producto_260', 'Producto_2605', 'Producto_2606', 'Producto_2607', 'Producto_2608', 'Producto_261', 'Producto_2611', 'Producto_262', 'Producto_2620', 'Producto_2622', 'Producto_2627', 'Producto_263', 'Producto_264', 'Producto_2641', 'Producto_265', 'Producto_266', 'Producto_267', 'Producto_2676', 'Producto_268', 'Producto_269', 'Producto_27', 'Producto_270', 'Producto_271', 'Producto_272', 'Producto_273', 'Producto_274', 'Producto_275', 'Producto_276', 'Producto_277', 'Producto_278', 'Producto_279', 'Producto_28', 'Producto_280', 'Producto_281', 'Producto_282', 'Producto_283', 'Producto_284', 'Producto_285', 'Producto_286', 'Producto_289', 'Producto_29', 'Producto_290', 'Producto_291', 'Producto_292', 'Producto_295', 'Producto_297', 'Producto_298', 'Producto_299', 'Producto_30', 'Producto_300', 'Producto_301', 'Producto_302', 'Producto_303', 'Producto_304', 'Producto_305', 'Producto_306', 'Producto_307', 'Producto_31', 'Producto_310', 'Producto_311', 'Producto_313', 'Producto_314', 'Producto_315', 'Producto_316', 'Producto_317', 'Producto_318', 'Producto_319', 'Producto_32', 'Producto_320', 'Producto_321', 'Producto_322', 'Producto_323', 'Producto_324', 'Producto_325', 'Producto_326', 'Producto_327', 'Producto_328', 'Producto_329', 'Producto_33', 'Producto_332', 'Producto_333', 'Producto_334', 'Producto_335', 'Producto_336', 'Producto_337', 'Producto_338', 'Producto_339', 'Producto_34', 'Producto_340', 'Producto_341', 'Producto_342', 'Producto_343', 'Producto_344', 'Producto_345', 'Producto_346', 'Producto_347', 'Producto_348', 'Producto_349', 'Producto_35', 'Producto_350', 'Producto_351', 'Producto_352', 'Producto_353', 'Producto_354', 'Producto_355', 'Producto_356', 'Producto_357', 'Producto_358', 'Producto_359', 'Producto_36', 'Producto_360', 'Producto_361', 'Producto_362', 'Producto_363', 'Producto_364', 'Producto_365', 'Producto_366', 'Producto_367', 'Producto_368', 'Producto_369', 'Producto_37', 'Producto_370', 'Producto_371', 'Producto_372', 'Producto_373', 'Producto_375', 'Producto_377', 'Producto_378', 'Producto_379', 'Producto_38', 'Producto_380', 'Producto_381', 'Producto_383', 'Producto_384', 'Producto_385', 'Producto_386', 'Producto_387', 'Producto_388', 'Producto_389', 'Producto_39', 'Producto_390', 'Producto_391', 'Producto_392', 'Producto_393', 'Producto_394', 'Producto_397', 'Producto_398', 'Producto_399', 'Producto_4', 'Producto_40', 'Producto_401', 'Producto_402', 'Producto_403', 'Producto_404', 'Producto_405', 'Producto_406', 'Producto_407', 'Producto_408', 'Producto_409', 'Producto_41', 'Producto_410', 'Producto_411', 'Producto_413', 'Producto_416', 'Producto_418', 'Producto_419', 'Producto_42', 'Producto_420', 'Producto_421', 'Producto_422', 'Producto_423', 'Producto_424', 'Producto_426', 'Producto_43', 'Producto_430', 'Producto_431', 'Producto_433', 'Producto_434', 'Producto_435', 'Producto_436', 'Producto_437', 'Producto_438', 'Producto_439', 'Producto_44', 'Producto_440', 'Producto_441', 'Producto_442', 'Producto_443', 'Producto_444', 'Producto_445', 'Producto_446', 'Producto_447', 'Producto_448', 'Producto_449', 'Producto_45', 'Producto_450', 'Producto_453', 'Producto_456', 'Producto_458', 'Producto_46', 'Producto_461', 'Producto_462', 'Producto_466', 'Producto_467', 'Producto_468', 'Producto_47', 'Producto_471', 'Producto_472', 'Producto_474', 'Producto_476', 'Producto_478', 'Producto_479', 'Producto_48', 'Producto_480', 'Producto_481', 'Producto_483', 'Producto_484', 'Producto_485', 'Producto_486', 'Producto_487', 'Producto_488', 'Producto_489', 'Producto_49', 'Producto_491', 'Producto_492', 'Producto_494', 'Producto_499', 'Producto_50', 'Producto_504', 'Producto_505', 'Producto_506', 'Producto_507', 'Producto_508', 'Producto_51', 'Producto_514', 'Producto_515', 'Producto_516', 'Producto_517', 'Producto_518', 'Producto_519', 'Producto_52', 'Producto_520', 'Producto_521', 'Producto_522', 'Producto_523', 'Producto_524', 'Producto_525', 'Producto_526', 'Producto_527', 'Producto_528', 'Producto_529', 'Producto_53', 'Producto_530', 'Producto_531', 'Producto_532', 'Producto_533', 'Producto_535', 'Producto_536', 'Producto_537', 'Producto_538', 'Producto_54', 'Producto_540', 'Producto_541', 'Producto_542', 'Producto_543', 'Producto_544', 'Producto_545', 'Producto_546', 'Producto_547', 'Producto_548', 'Producto_549', 'Producto_55', 'Producto_551', 'Producto_552', 'Producto_553', 'Producto_554', 'Producto_556', 'Producto_557', 'Producto_559', 'Producto_56', 'Producto_561', 'Producto_562', 'Producto_563', 'Producto_564', 'Producto_565', 'Producto_566', 'Producto_567', 'Producto_568', 'Producto_569', 'Producto_57', 'Producto_571', 'Producto_572', 'Producto_573', 'Producto_574', 'Producto_575', 'Producto_576', 'Producto_577', 'Producto_579', 'Producto_58', 'Producto_580', 'Producto_581', 'Producto_582', 'Producto_584', 'Producto_586', 'Producto_587', 'Producto_589', 'Producto_59', 'Producto_590', 'Producto_591', 'Producto_592', 'Producto_594', 'Producto_595', 'Producto_596', 'Producto_597', 'Producto_598', 'Producto_599', 'Producto_6', 'Producto_60', 'Producto_601', 'Producto_608', 'Producto_609', 'Producto_61', 'Producto_610', 'Producto_614', 'Producto_615', 'Producto_616', 'Producto_617', 'Producto_618', 'Producto_619', 'Producto_62', 'Producto_620', 'Producto_621', 'Producto_622', 'Producto_624', 'Producto_625', 'Producto_626', 'Producto_627', 'Producto_628', 'Producto_629', 'Producto_63', 'Producto_630', 'Producto_631', 'Producto_632', 'Producto_633', 'Producto_639', 'Producto_64', 'Producto_640', 'Producto_641', 'Producto_643', 'Producto_644', 'Producto_645', 'Producto_646', 'Producto_648', 'Producto_649', 'Producto_65', 'Producto_650', 'Producto_651', 'Producto_652', 'Producto_654', 'Producto_655', 'Producto_656', 'Producto_658', 'Producto_659', 'Producto_66', 'Producto_660', 'Producto_661', 'Producto_662', 'Producto_664', 'Producto_665', 'Producto_666', 'Producto_67', 'Producto_670', 'Producto_671', 'Producto_672', 'Producto_674', 'Producto_676', 'Producto_677', 'Producto_678', 'Producto_679', 'Producto_68', 'Producto_680', 'Producto_681', 'Producto_682', 'Producto_683', 'Producto_685', 'Producto_686', 'Producto_687', 'Producto_689', 'Producto_69', 'Producto_690', 'Producto_694', 'Producto_695', 'Producto_696', 'Producto_697', 'Producto_698', 'Producto_7', 'Producto_70', 'Producto_701', 'Producto_702', 'Producto_703', 'Producto_705', 'Producto_706', 'Producto_707', 'Producto_708', 'Producto_709', 'Producto_71', 'Producto_710', 'Producto_712', 'Producto_713', 'Producto_714', 'Producto_715', 'Producto_716', 'Producto_717', 'Producto_718', 'Producto_719', 'Producto_72', 'Producto_720', 'Producto_721', 'Producto_722', 'Producto_726', 'Producto_727', 'Producto_728', 'Producto_729', 'Producto_73', 'Producto_730', 'Producto_731', 'Producto_732', 'Producto_733', 'Producto_734', 'Producto_735', 'Producto_736', 'Producto_737', 'Producto_738', 'Producto_739', 'Producto_74', 'Producto_740', 'Producto_741', 'Producto_743', 'Producto_744', 'Producto_745', 'Producto_746', 'Producto_748', 'Producto_75', 'Producto_750', 'Producto_751', 'Producto_752', 'Producto_753', 'Producto_754', 'Producto_755', 'Producto_756', 'Producto_757', 'Producto_758', 'Producto_759', 'Producto_76', 'Producto_760', 'Producto_763', 'Producto_764', 'Producto_765', 'Producto_766', 'Producto_768', 'Producto_769', 'Producto_77', 'Producto_770', 'Producto_771', 'Producto_772', 'Producto_773', 'Producto_774', 'Producto_777', 'Producto_778', 'Producto_779', 'Producto_78', 'Producto_780', 'Producto_784', 'Producto_786', 'Producto_79', 'Producto_790', 'Producto_791', 'Producto_792', 'Producto_793', 'Producto_795', 'Producto_796', 'Producto_797', 'Producto_8', 'Producto_80', 'Producto_800', 'Producto_801', 'Producto_802', 'Producto_803', 'Producto_804', 'Producto_806', 'Producto_807', 'Producto_809', 'Producto_81', 'Producto_810', 'Producto_811', 'Producto_813', 'Producto_814', 'Producto_815', 'Producto_816', 'Producto_817', 'Producto_818', 'Producto_819', 'Producto_82', 'Producto_820', 'Producto_821', 'Producto_822', 'Producto_823', 'Producto_824', 'Producto_825', 'Producto_826', 'Producto_827', 'Producto_828', 'Producto_829', 'Producto_83', 'Producto_831', 'Producto_832', 'Producto_833', 'Producto_834', 'Producto_835', 'Producto_836', 'Producto_837', 'Producto_838', 'Producto_840', 'Producto_841', 'Producto_842', 'Producto_843', 'Producto_844', 'Producto_845', 'Producto_846', 'Producto_847', 'Producto_848', 'Producto_849', 'Producto_85', 'Producto_850', 'Producto_851', 'Producto_852', 'Producto_853', 'Producto_854', 'Producto_855', 'Producto_856', 'Producto_857', 'Producto_858', 'Producto_859', 'Producto_860', 'Producto_861', 'Producto_862', 'Producto_863', 'Producto_864', 'Producto_865', 'Producto_866', 'Producto_867', 'Producto_868', 'Producto_869', 'Producto_870', 'Producto_871', 'Producto_872', 'Producto_873', 'Producto_874', 'Producto_875', 'Producto_876', 'Producto_877', 'Producto_878', 'Producto_879', 'Producto_88', 'Producto_881', 'Producto_882', 'Producto_883', 'Producto_884', 'Producto_886', 'Producto_887', 'Producto_888', 'Producto_889', 'Producto_890', 'Producto_891', 'Producto_892', 'Producto_893', 'Producto_894', 'Producto_895', 'Producto_896', 'Producto_897', 'Producto_898', 'Producto_899', 'Producto_9', 'Producto_900', 'Producto_901', 'Producto_902', 'Producto_904', 'Producto_905', 'Producto_906', 'Producto_907', 'Producto_908', 'Producto_909', 'Producto_910', 'Producto_911', 'Producto_912', 'Producto_913', 'Producto_914', 'Producto_915', 'Producto_916', 'Producto_917', 'Producto_918', 'Producto_919', 'Producto_920', 'Producto_922', 'Producto_923', 'Producto_924', 'Producto_925', 'Producto_926', 'Producto_927', 'Producto_928', 'Producto_929', 'Producto_930', 'Producto_931', 'Producto_932', 'Producto_933', 'Producto_934', 'Producto_935', 'Producto_936', 'Producto_937', 'Producto_938', 'Producto_939', 'Producto_940', 'Producto_941', 'Producto_942', 'Producto_945', 'Producto_946', 'Producto_947', 'Producto_948', 'Producto_95', 'Producto_950', 'Producto_951', 'Producto_952', 'Producto_953', 'Producto_954', 'Producto_955', 'Producto_956', 'Producto_957', 'Producto_958', 'Producto_959', 'Producto_96', 'Producto_960', 'Producto_961', 'Producto_962', 'Producto_963', 'Producto_964', 'Producto_965', 'Producto_966', 'Producto_967', 'Producto_968', 'Producto_969', 'Producto_97', 'Producto_970', 'Producto_971', 'Producto_972', 'Producto_973', 'Producto_974', 'Producto_975', 'Producto_976', 'Producto_978', 'Producto_979', 'Producto_98', 'Producto_980', 'Producto_984', 'Producto_986', 'Producto_987', 'Producto_988', 'Producto_989', 'Producto_99', 'Producto_991', 'Producto_992', 'Producto_993', 'Producto_994', 'Producto_995', 'Producto_996', 'Producto_997', 'Producto_998', 'Producto_999']\n"
          ]
        }
      ],
      "source": [
        "# Extraer precios de los productos\n",
        "# Agrupar por producto y calcular el promedio del valor total\n",
        "precios_productos = b2b[['producto', 'valor_total']].copy()\n",
        "precios_productos_promedio = precios_productos.groupby('producto')['valor_total'].mean().reset_index()\n",
        "precios_productos_promedio = precios_productos_promedio.rename(columns={'valor_total': 'precio_promedio'})\n",
        "\n",
        "# Guardar en un dataframe\n",
        "df_precios_productos = precios_productos_promedio\n",
        "\n",
        "print(\"DataFrame con precios promedio por producto:\")\n",
        "print(df_precios_productos.head())\n",
        "\n",
        "# Puedes verificar si hay productos repetidos con diferente precio en el dataframe original antes del groupby\n",
        "productos_con_precios_varios = b2b.groupby('producto')['valor_total'].nunique()\n",
        "productos_con_precios_varios = productos_con_precios_varios[productos_con_precios_varios > 1].index.tolist()\n",
        "\n",
        "if productos_con_precios_varios:\n",
        "    print(\"\\nProductos con diferentes precios (se calculó el promedio):\")\n",
        "    print(productos_con_precios_varios)\n",
        "else:\n",
        "    print(\"\\nNo se encontraron productos con precios diferentes en los datos originales.\")\n"
      ]
    },
    {
      "cell_type": "code",
      "execution_count": 38,
      "id": "A23LG3ET4TGL",
      "metadata": {
        "colab": {
          "base_uri": "https://localhost:8080/"
        },
        "id": "A23LG3ET4TGL",
        "outputId": "0fc38e76-4b68-48e0-f44c-ecf19010d6e8"
      },
      "outputs": [
        {
          "name": "stdout",
          "output_type": "stream",
          "text": [
            "\n",
            "DataFrame de precios guardado como CSV en Google Drive.\n"
          ]
        }
      ],
      "source": [
        "df_precios_productos.to_csv('./precios_productos_promedio.csv', index=False)\n",
        "\n",
        "print(\"\\nDataFrame de precios guardado como CSV en Google Drive.\")"
      ]
    },
    {
      "cell_type": "code",
      "execution_count": 39,
      "id": "FOfjfIdCtq79",
      "metadata": {
        "colab": {
          "base_uri": "https://localhost:8080/",
          "height": 487
        },
        "id": "FOfjfIdCtq79",
        "outputId": "865f9689-e4c1-4827-cbfd-344271fcf7ec"
      },
      "outputs": [
        {
          "name": "stdout",
          "output_type": "stream",
          "text": [
            "\n",
            "Recomendaciones con información adicional:\n"
          ]
        },
        {
          "data": {
            "text/html": [
              "<div>\n",
              "<style scoped>\n",
              "    .dataframe tbody tr th:only-of-type {\n",
              "        vertical-align: middle;\n",
              "    }\n",
              "\n",
              "    .dataframe tbody tr th {\n",
              "        vertical-align: top;\n",
              "    }\n",
              "\n",
              "    .dataframe thead th {\n",
              "        text-align: right;\n",
              "    }\n",
              "</style>\n",
              "<table border=\"1\" class=\"dataframe\">\n",
              "  <thead>\n",
              "    <tr style=\"text-align: right;\">\n",
              "      <th></th>\n",
              "      <th>producto</th>\n",
              "      <th>score_hibrido</th>\n",
              "      <th>precio_promedio</th>\n",
              "      <th>valor_esperado</th>\n",
              "      <th>alineación con portafolio estratégico b2b</th>\n",
              "    </tr>\n",
              "  </thead>\n",
              "  <tbody>\n",
              "    <tr>\n",
              "      <th>844</th>\n",
              "      <td>Producto_394</td>\n",
              "      <td>0.820339</td>\n",
              "      <td>1997.045347</td>\n",
              "      <td>1638.253874</td>\n",
              "      <td>0.000244</td>\n",
              "    </tr>\n",
              "    <tr>\n",
              "      <th>1677</th>\n",
              "      <td>Producto_275</td>\n",
              "      <td>0.805643</td>\n",
              "      <td>207.845752</td>\n",
              "      <td>167.449492</td>\n",
              "      <td>0.000283</td>\n",
              "    </tr>\n",
              "    <tr>\n",
              "      <th>365</th>\n",
              "      <td>Producto_424</td>\n",
              "      <td>0.803791</td>\n",
              "      <td>2413.236223</td>\n",
              "      <td>1939.737668</td>\n",
              "      <td>0.000285</td>\n",
              "    </tr>\n",
              "    <tr>\n",
              "      <th>602</th>\n",
              "      <td>Producto_286</td>\n",
              "      <td>0.801144</td>\n",
              "      <td>1148.888592</td>\n",
              "      <td>920.425344</td>\n",
              "      <td>0.000329</td>\n",
              "    </tr>\n",
              "    <tr>\n",
              "      <th>1036</th>\n",
              "      <td>Producto_385</td>\n",
              "      <td>0.784635</td>\n",
              "      <td>242.879971</td>\n",
              "      <td>190.572230</td>\n",
              "      <td>0.000285</td>\n",
              "    </tr>\n",
              "    <tr>\n",
              "      <th>1836</th>\n",
              "      <td>Producto_303</td>\n",
              "      <td>0.756973</td>\n",
              "      <td>334.968357</td>\n",
              "      <td>253.561872</td>\n",
              "      <td>0.000347</td>\n",
              "    </tr>\n",
              "    <tr>\n",
              "      <th>953</th>\n",
              "      <td>Producto_316</td>\n",
              "      <td>0.752405</td>\n",
              "      <td>5249.250202</td>\n",
              "      <td>3949.562347</td>\n",
              "      <td>0.000343</td>\n",
              "    </tr>\n",
              "    <tr>\n",
              "      <th>1834</th>\n",
              "      <td>Producto_310</td>\n",
              "      <td>0.747281</td>\n",
              "      <td>3181.705652</td>\n",
              "      <td>2377.627281</td>\n",
              "      <td>0.000290</td>\n",
              "    </tr>\n",
              "    <tr>\n",
              "      <th>428</th>\n",
              "      <td>Producto_391</td>\n",
              "      <td>0.746415</td>\n",
              "      <td>663.454202</td>\n",
              "      <td>495.212497</td>\n",
              "      <td>0.000198</td>\n",
              "    </tr>\n",
              "    <tr>\n",
              "      <th>1216</th>\n",
              "      <td>Producto_326</td>\n",
              "      <td>0.745433</td>\n",
              "      <td>504.010005</td>\n",
              "      <td>375.705826</td>\n",
              "      <td>0.000332</td>\n",
              "    </tr>\n",
              "  </tbody>\n",
              "</table>\n",
              "</div>"
            ],
            "text/plain": [
              "          producto  score_hibrido  precio_promedio  valor_esperado  \\\n",
              "844   Producto_394       0.820339      1997.045347     1638.253874   \n",
              "1677  Producto_275       0.805643       207.845752      167.449492   \n",
              "365   Producto_424       0.803791      2413.236223     1939.737668   \n",
              "602   Producto_286       0.801144      1148.888592      920.425344   \n",
              "1036  Producto_385       0.784635       242.879971      190.572230   \n",
              "1836  Producto_303       0.756973       334.968357      253.561872   \n",
              "953   Producto_316       0.752405      5249.250202     3949.562347   \n",
              "1834  Producto_310       0.747281      3181.705652     2377.627281   \n",
              "428   Producto_391       0.746415       663.454202      495.212497   \n",
              "1216  Producto_326       0.745433       504.010005      375.705826   \n",
              "\n",
              "      alineación con portafolio estratégico b2b  \n",
              "844                                    0.000244  \n",
              "1677                                   0.000283  \n",
              "365                                    0.000285  \n",
              "602                                    0.000329  \n",
              "1036                                   0.000285  \n",
              "1836                                   0.000347  \n",
              "953                                    0.000343  \n",
              "1834                                   0.000290  \n",
              "428                                    0.000198  \n",
              "1216                                   0.000332  "
            ]
          },
          "execution_count": 39,
          "metadata": {},
          "output_type": "execute_result"
        }
      ],
      "source": [
        "# Assuming the previous code block has been executed and variables like\n",
        "# b2b, model_lfm, user_features, item_features, model, encoders, and df_precios_productos are available.\n",
        "\n",
        "def recomendar_hibrido_con_info(cliente_id, df_original, model_lfm, user_features, item_features, model_xgb, encoders, df_precios, top_n=10, alpha=0.5):\n",
        "    \"\"\"\n",
        "    Recomienda productos de forma híbrida (LightFM + XGBoost) para un cliente\n",
        "    y reporta precio, valor esperado y alineación estratégica.\n",
        "\n",
        "    Args:\n",
        "        cliente_id (str): ID del cliente.\n",
        "        df_original (pd.DataFrame): DataFrame original con todos los datos (incluye 'precio_promedio' y 'alineación con portafolio estratégico b2b').\n",
        "        model_lfm (LightFM): Modelo LightFM entrenado.\n",
        "        user_features: User features para LightFM.\n",
        "        item_features: Item features para LightFM.\n",
        "        model_xgb (xgb.XGBClassifier): Modelo XGBoost entrenado.\n",
        "        encoders (dict): Diccionario de LabelEncoders usados para el modelo XGBoost.\n",
        "        df_precios (pd.DataFrame): DataFrame con los precios promedio por producto.\n",
        "        top_n (int): Número de recomendaciones a retornar.\n",
        "        alpha (float): Ponderación para el score de LightFM en el score híbrido (0 <= alpha <= 1).\n",
        "\n",
        "    Returns:\n",
        "        pd.DataFrame: DataFrame con las recomendaciones, scores, precio, valor esperado y alineación.\n",
        "                      Retorna un string si el cliente no se encuentra.\n",
        "    \"\"\"\n",
        "    # Validar existencia del cliente en LightFM\n",
        "    # Necesitamos acceder al objeto dataset original usado para LightFM para el mapping\n",
        "    # Asumimos que el objeto `dataset` del pipeline LightFM con extras está disponible\n",
        "    if cliente_id not in dataset.mapping()[0]:\n",
        "        return f\"Cliente {cliente_id} no está en el dataset de LightFM (completo).\"\n",
        "\n",
        "    # Productos ya comprados\n",
        "    productos_comprados = set(df_original[df_original['id_b2b'] == cliente_id]['producto'].unique())\n",
        "    productos_totales = df_original['producto'].unique()\n",
        "    productos_candidatos = list(set(productos_totales) - productos_comprados)\n",
        "\n",
        "    if not productos_candidatos:\n",
        "        return f\"Cliente {cliente_id} ya ha comprado todos los productos.\"\n",
        "\n",
        "    # --- LightFM ---\n",
        "    usuario_interno = dataset.mapping()[0][cliente_id]\n",
        "    # Filtrar productos candidatos que también estén en el mapping de LightFM\n",
        "    productos_idx = [dataset.mapping()[2][p] for p in productos_candidatos if p in dataset.mapping()[2]]\n",
        "    productos_candidatos_filtrados = [p for p in productos_candidatos if p in dataset.mapping()[2]]\n",
        "\n",
        "\n",
        "    # Verificar si hay productos candidatos después del filtrado\n",
        "    if not productos_idx:\n",
        "         return f\"No hay productos candidatos disponibles en el dataset LightFM para recomendar al cliente {cliente_id}.\"\n",
        "\n",
        "\n",
        "    scores_lfm = model_lfm.predict(\n",
        "        user_ids=np.repeat(usuario_interno, len(productos_idx)),\n",
        "        item_ids=productos_idx,\n",
        "        user_features=user_features,\n",
        "        item_features=item_features\n",
        "    )\n",
        "\n",
        "    df_lfm = pd.DataFrame({\n",
        "        'producto': productos_candidatos_filtrados, # Usar la lista filtrada\n",
        "        'score_lfm': scores_lfm\n",
        "    })\n",
        "\n",
        "    # --- XGBoost ---\n",
        "    # Tomar una muestra representativa del cliente del dataframe original\n",
        "    cliente_info = df_original[df_original['id_b2b'] == cliente_id].iloc[0]\n",
        "    nuevas_filas = []\n",
        "\n",
        "    for producto in df_lfm['producto']: # Usar productos del df_lfm\n",
        "        fila = cliente_info.copy()\n",
        "        fila['producto'] = producto\n",
        "        nuevas_filas.append(fila)\n",
        "\n",
        "    pred_df = pd.DataFrame(nuevas_filas)\n",
        "\n",
        "    # Asegurarse de que las columnas necesarias para el encoder estén presentes\n",
        "    cat_cols_encoders = list(encoders.keys())\n",
        "    for col in cat_cols_encoders:\n",
        "        if col not in pred_df.columns:\n",
        "             # Intentar obtener la columna de la info del cliente o dejarla faltante si no es una feature del cliente\n",
        "             if col in cliente_info.index:\n",
        "                  pred_df[col] = cliente_info[col]\n",
        "             # Si es una columna de producto, ya se añadió al crear las filas.\n",
        "             # Si no es ni de cliente ni de producto, podría faltar.\n",
        "             # Aquí asumimos que las columnas de los encoders están en cliente_info o en las columnas añadidas.\n",
        "             # Si hay errores, se podría añadir manejo específico para columnas faltantes.\n",
        "\n",
        "\n",
        "    # Codificar con los mismos encoders usados en XGBoost\n",
        "    for col in encoders:\n",
        "        if col in pred_df.columns:\n",
        "            try:\n",
        "                 pred_df[col] = encoders[col].transform(pred_df[col].astype(str)) # Asegurar tipo string para transform\n",
        "            except ValueError as e:\n",
        "                 print(f\"Error al codificar la columna '{col}': {e}\")\n",
        "                 print(f\"Valores únicos en la columna '{col}' antes de codificar: {pred_df[col].unique()}\")\n",
        "                 # Manejar el error, quizás re-fit o skip dependiendo de la estrategia\n",
        "                 pass\n",
        "\n",
        "\n",
        "    # Predecir con XGBoost\n",
        "    # Asegurarse de que las columnas de X_pred coinciden con las feature_names del booster\n",
        "    xgb_feature_names = model_xgb.get_booster().feature_names\n",
        "    X_pred = pred_df[xgb_feature_names]\n",
        "    scores_xgb = model_xgb.predict_proba(X_pred)[:, 1]\n",
        "\n",
        "    # --- Combinar scores ---\n",
        "    # Normalizar LFM si hay más de un score y no son todos iguales\n",
        "    if df_lfm['score_lfm'].nunique() > 1:\n",
        "        min_lfm = df_lfm['score_lfm'].min()\n",
        "        max_lfm = df_lfm['score_lfm'].max()\n",
        "        df_lfm['score_lfm_norm'] = (df_lfm['score_lfm'] - min_lfm) / (max_lfm - min_lfm)\n",
        "    else:\n",
        "        df_lfm['score_lfm_norm'] = 0.5 # Valor por defecto si todos los scores son iguales\n",
        "\n",
        "    # Unir scores de XGBoost\n",
        "    df_lfm['score_xgb'] = scores_xgb\n",
        "    df_lfm['score_hibrido'] = alpha * df_lfm['score_lfm_norm'] + (1 - alpha) * df_lfm['score_xgb']\n",
        "\n",
        "    # --- Agregar información de precio y alineación estratégica ---\n",
        "    # Unir con el dataframe de precios promedio\n",
        "    df_recomendaciones = df_lfm.merge(df_precios, on='producto', how='left')\n",
        "\n",
        "    # Agregar la columna de alineación estratégica del dataframe original\n",
        "    # Necesitamos la alineación por producto. Podemos obtenerla del df_original agrupando por producto\n",
        "    alineacion_productos = df_original.drop_duplicates('producto')[['producto', 'alineación con portafolio estratégico b2b']]\n",
        "    df_recomendaciones = df_recomendaciones.merge(alineacion_productos, on='producto', how='left')\n",
        "\n",
        "\n",
        "    # Calcular el valor esperado\n",
        "    df_recomendaciones['valor_esperado'] = df_recomendaciones['score_hibrido'] * df_recomendaciones['precio_promedio']\n",
        "\n",
        "\n",
        "    # Ordenar por score híbrido y seleccionar top_n\n",
        "    df_recomendaciones = df_recomendaciones.sort_values('score_hibrido', ascending=False).head(top_n)\n",
        "\n",
        "    # Seleccionar y renombrar columnas finales\n",
        "    return df_recomendaciones[[\n",
        "        'producto',\n",
        "        'score_hibrido',\n",
        "        'precio_promedio',\n",
        "        'valor_esperado',\n",
        "        'alineación con portafolio estratégico b2b'\n",
        "    ]]\n",
        "\n",
        "# Ejemplo de uso de la nueva función:\n",
        "recomendaciones_completas = recomendar_hibrido_con_info(\n",
        "    cliente_id=\"B2B_01\",\n",
        "    df_original=b2b, # Pasamos el dataframe original completo\n",
        "    model_lfm=model_lfm,\n",
        "    user_features=user_features,\n",
        "    item_features=item_features,\n",
        "    model_xgb=model, # Usamos el modelo XGBoost entrenado con extras\n",
        "    encoders=encoders, # Usamos los encoders del modelo XGBoost entrenado con extras\n",
        "    df_precios=df_precios_productos, # Pasamos el dataframe de precios\n",
        "    top_n=10,\n",
        "    alpha=0.6 # Ajusta el alpha según necesites\n",
        ")\n",
        "\n",
        "print(\"\\nRecomendaciones con información adicional:\")\n",
        "recomendaciones_completas\n"
      ]
    },
    {
      "cell_type": "markdown",
      "id": "v5uofcUuqSzI",
      "metadata": {
        "id": "v5uofcUuqSzI"
      },
      "source": [
        "## Calculo del valor esperado Ingresos"
      ]
    },
    {
      "cell_type": "code",
      "execution_count": 40,
      "id": "nmZU8qcRqHRA",
      "metadata": {
        "colab": {
          "base_uri": "https://localhost:8080/"
        },
        "id": "nmZU8qcRqHRA",
        "outputId": "fbb59e4f-4ad7-4c87-94a7-1381e070cd7e"
      },
      "outputs": [
        {
          "name": "stdout",
          "output_type": "stream",
          "text": [
            "Valor esperado total: 12308.11\n"
          ]
        }
      ],
      "source": [
        "# Filtrar solo scores positivos\n",
        "val_positivos = recomendaciones_completas[recomendaciones_completas['score_hibrido'] > 0].copy()\n",
        "\n",
        "# Calcular el valor esperado como SumaProducto\n",
        "valor_esperado = (val_positivos['score_hibrido'] * val_positivos['precio_promedio']).sum()\n",
        "\n",
        "print(f\"Valor esperado total: {valor_esperado:.2f}\")"
      ]
    },
    {
      "cell_type": "markdown",
      "id": "menj5r8aqWx-",
      "metadata": {
        "id": "menj5r8aqWx-"
      },
      "source": [
        "## Tasa de alineacion estrategica"
      ]
    },
    {
      "cell_type": "code",
      "execution_count": 41,
      "id": "t7u36Ze7qSZb",
      "metadata": {
        "colab": {
          "base_uri": "https://localhost:8080/"
        },
        "id": "t7u36Ze7qSZb",
        "outputId": "bb55cd5a-8570-49e5-944c-95e01ad55848"
      },
      "outputs": [
        {
          "name": "stdout",
          "output_type": "stream",
          "text": [
            " % de recomendaciones con alta alineación estratégica: 90.00%\n"
          ]
        }
      ],
      "source": [
        "tasa_alta = (recomendaciones_completas['alineación con portafolio estratégico b2b'].astype(float) > 0.0002).mean()\n",
        "print(f\" % de recomendaciones con alta alineación estratégica: {tasa_alta:.2%}\")\n",
        "\n"
      ]
    },
    {
      "cell_type": "markdown",
      "id": "12bHbhR4q0vf",
      "metadata": {
        "id": "12bHbhR4q0vf"
      },
      "source": [
        "## Top producto mas recomendado"
      ]
    },
    {
      "cell_type": "code",
      "execution_count": 42,
      "id": "w039ydGcq3Fa",
      "metadata": {
        "colab": {
          "base_uri": "https://localhost:8080/"
        },
        "id": "w039ydGcq3Fa",
        "outputId": "5a3222d1-f538-4bf6-8c65-89f076d4dd91"
      },
      "outputs": [
        {
          "name": "stdout",
          "output_type": "stream",
          "text": [
            "Top 5 productos más recomendados:\n",
            "producto\n",
            "Producto_394    1\n",
            "Producto_275    1\n",
            "Producto_424    1\n",
            "Producto_286    1\n",
            "Producto_385    1\n",
            "Name: count, dtype: int64\n"
          ]
        }
      ],
      "source": [
        "top_productos = recomendaciones_completas['producto'].value_counts().head(5)\n",
        "print(\"Top 5 productos más recomendados:\")\n",
        "print(top_productos)\n"
      ]
    },
    {
      "cell_type": "code",
      "execution_count": 43,
      "id": "dU-mrhkQn7if",
      "metadata": {
        "colab": {
          "base_uri": "https://localhost:8080/"
        },
        "id": "dU-mrhkQn7if",
        "outputId": "6798300c-728f-433e-f7b4-bed73f3d9b4f"
      },
      "outputs": [
        {
          "name": "stdout",
          "output_type": "stream",
          "text": [
            "Procesando cliente: B2B_01\n",
            "Procesando cliente: B2B_02\n",
            "Procesando cliente: B2B_03\n",
            "Procesando cliente: B2B_04\n",
            "Procesando cliente: B2B_05\n",
            "Procesando cliente: B2B_06\n",
            "\n",
            "Resumen de resultados por cliente:\n",
            "  cliente_id  valor_esperado_total  tasa_alta_alineacion  promedio_alineacion\n",
            "0     B2B_01          12308.108430                   0.9             0.000294\n",
            "1     B2B_02          30660.111723                   0.9             0.000315\n",
            "2     B2B_03           4390.091557                   0.8             0.000259\n",
            "3     B2B_04           6408.480635                   0.9             0.000280\n",
            "4     B2B_05           7728.599899                   0.9             0.000351\n"
          ]
        }
      ],
      "source": [
        "# Obtener la lista de clientes únicos\n",
        "clientes_unicos = b2b['id_b2b'].unique()\n",
        "\n",
        "# DataFrame para almacenar los resultados por cliente\n",
        "resultados_por_cliente = []\n",
        "\n",
        "# Iterar sobre cada cliente único\n",
        "for cliente_id in clientes_unicos:\n",
        "    print(f\"Procesando cliente: {cliente_id}\")\n",
        "\n",
        "    # 1. Calcular recomendaciones con el modelo híbrido\n",
        "    recomendaciones = recomendar_hibrido_con_info(\n",
        "        cliente_id=cliente_id,\n",
        "        df_original=b2b,\n",
        "        model_lfm=model_lfm,\n",
        "        user_features=user_features,\n",
        "        item_features=item_features,\n",
        "        model_xgb=model,\n",
        "        encoders=encoders,\n",
        "        df_precios=df_precios_productos,\n",
        "        top_n=10, # Ajusta top_n según la cantidad de recomendaciones que quieras por cliente\n",
        "        alpha=0.6 # Ajusta el alpha según tu preferencia\n",
        "    )\n",
        "\n",
        "    # Verificar si la función retornó un string (cliente no encontrado o sin candidatos)\n",
        "    if isinstance(recomendaciones, str):\n",
        "        print(recomendaciones)\n",
        "        continue # Pasar al siguiente cliente\n",
        "\n",
        "    # Asegurarse de que 'alineación con portafolio estratégico b2b' es numérico para el cálculo de tasa\n",
        "    recomendaciones['alineación con portafolio estratégico b2b'] = pd.to_numeric(\n",
        "        recomendaciones['alineación con portafolio estratégico b2b'], errors='coerce'\n",
        "    )\n",
        "\n",
        "    # 2. Calcular valor esperado (suma de score * precio)\n",
        "    # Consideramos solo recomendaciones con score híbrido > 0 para el valor esperado\n",
        "    val_positivos = recomendaciones[recomendaciones['score_hibrido'] > 0].copy()\n",
        "    valor_esperado = (val_positivos['score_hibrido'] * val_positivos['precio_promedio']).sum()\n",
        "\n",
        "    # 3. Calcular tasa de alineación con el portafolio estratégico\n",
        "    # Consideramos \"alta alineación\" un valor estratégico > 0.0002\n",
        "    tasa_alta_alineacion = (recomendaciones['alineación con portafolio estratégico b2b'] > 0.0002).mean()\n",
        "\n",
        "    # 4. Promedio de alineaciones estrategicas\n",
        "    promedio_alineacion = recomendaciones['alineación con portafolio estratégico b2b'].mean()\n",
        "\n",
        "    # Almacenar los resultados\n",
        "    resultados_por_cliente.append({\n",
        "        'cliente_id': cliente_id,\n",
        "        'recomendaciones': recomendaciones.to_dict('records'), # Almacenar las recomendaciones como lista de diccionarios\n",
        "        'valor_esperado_total': valor_esperado,\n",
        "        'tasa_alta_alineacion': tasa_alta_alineacion,\n",
        "        'promedio_alineacion': promedio_alineacion\n",
        "    })\n",
        "\n",
        "# Opcional: Convertir la lista de resultados a un DataFrame para mejor visualización general\n",
        "df_resultados = pd.DataFrame(resultados_por_cliente)\n",
        "\n",
        "print(\"\\nResumen de resultados por cliente:\")\n",
        "print(df_resultados[['cliente_id', 'valor_esperado_total', 'tasa_alta_alineacion', 'promedio_alineacion']].head()) # Mostrar un resumen\n",
        "\n",
        "# Para ver las recomendaciones detalladas para un cliente específico\n",
        "# Por ejemplo, para el primer cliente:\n",
        "# print(\"\\nRecomendaciones detalladas para el primer cliente en el resumen:\")\n",
        "# print(pd.DataFrame(df_resultados.iloc[0]['recomendaciones']))\n",
        "\n",
        "# Para exportar los resultados\n",
        "df_resultados.to_csv('resultados_recomendaciones_clientes.csv', index=False)\n",
        "df_resultados.to_json('resultados_recomendaciones_clientes.json', orient='records')\n"
      ]
    },
    {
      "cell_type": "code",
      "execution_count": 44,
      "id": "xmZmsJi_o_9W",
      "metadata": {
        "colab": {
          "base_uri": "https://localhost:8080/"
        },
        "id": "xmZmsJi_o_9W",
        "outputId": "e294b27a-3407-4d63-d6a7-b2baff33ff14"
      },
      "outputs": [
        {
          "name": "stdout",
          "output_type": "stream",
          "text": [
            "\n",
            "Recomendaciones para el primer cliente en el resumen:\n",
            "       producto  score_hibrido  precio_promedio  valor_esperado  \\\n",
            "0  Producto_394       0.820339      1997.045347     1638.253874   \n",
            "1  Producto_275       0.805643       207.845752      167.449492   \n",
            "2  Producto_424       0.803791      2413.236223     1939.737668   \n",
            "3  Producto_286       0.801144      1148.888592      920.425344   \n",
            "4  Producto_385       0.784635       242.879971      190.572230   \n",
            "5  Producto_303       0.756973       334.968357      253.561872   \n",
            "6  Producto_316       0.752405      5249.250202     3949.562347   \n",
            "7  Producto_310       0.747281      3181.705652     2377.627281   \n",
            "8  Producto_391       0.746415       663.454202      495.212497   \n",
            "9  Producto_326       0.745433       504.010005      375.705826   \n",
            "\n",
            "   alineación con portafolio estratégico b2b  \n",
            "0                                   0.000244  \n",
            "1                                   0.000283  \n",
            "2                                   0.000285  \n",
            "3                                   0.000329  \n",
            "4                                   0.000285  \n",
            "5                                   0.000347  \n",
            "6                                   0.000343  \n",
            "7                                   0.000290  \n",
            "8                                   0.000198  \n",
            "9                                   0.000332  \n",
            "\n",
            "Tasa de alta alineación estratégica para B2B_01: 90.00%\n"
          ]
        }
      ],
      "source": [
        "import pandas as pd\n",
        "# Mostrar las recomendaciones calculadas para el primer cliente en el resumen\n",
        "# que contiene la tasa de alineación estratégica.\n",
        "if not df_resultados.empty:\n",
        "  primer_cliente_resultados = df_resultados.iloc[0]\n",
        "  print(\"\\nRecomendaciones para el primer cliente en el resumen:\")\n",
        "  print(pd.DataFrame(primer_cliente_resultados['recomendaciones']))\n",
        "  print(f\"\\nTasa de alta alineación estratégica para {primer_cliente_resultados['cliente_id']}: {primer_cliente_resultados['tasa_alta_alineacion']:.2%}\")\n",
        "else:\n",
        "  print(\"\\nNo hay resultados por cliente disponibles para mostrar.\")\n"
      ]
    },
    {
      "cell_type": "markdown",
      "id": "Atr-ii8n-CUM",
      "metadata": {
        "id": "Atr-ii8n-CUM"
      },
      "source": [
        "## Interfaz provisional"
      ]
    },
    {
      "cell_type": "code",
      "execution_count": 45,
      "id": "C81awqQW-F4D",
      "metadata": {
        "colab": {
          "base_uri": "https://localhost:8080/",
          "height": 0,
          "referenced_widgets": [
            "38ab90542d644a448c944c2499954169",
            "f11250e4a06348568459f558da041f51",
            "cbc2f184608c40da9c596ff53608af14",
            "b5423e8b081d44d7858e0c7bda06ec85",
            "df27c880d37f42228dfb8e8eddceea91",
            "e11cb130c7ef4c708412e69522e6f377",
            "c7f797d812814a5fb4622c56d4a33dc1",
            "3cc5f09c4e3a475dbd0831ca1f02f983",
            "264c74d0396e45598bb4de5438f568da",
            "22e543aeabde457988c32c08e361067f",
            "93e2748d4ced4307b74f4b8a0b6d7982",
            "db46ac1755624196820364ed20e8599e",
            "905f1733bed94e3bad0cf211b17c3882",
            "f7287a41c24f4726b4bb20a72076d65d",
            "e72c3cfd43204021aee9ef5fc2cdf990",
            "60316cb3ff4043428c182fd43a6825fb"
          ]
        },
        "id": "C81awqQW-F4D",
        "outputId": "6a205080-fe43-4234-b833-2325c0332144"
      },
      "outputs": [
        {
          "data": {
            "application/vnd.jupyter.widget-view+json": {
              "model_id": "7e2854fede3c4d799ee8afc5cb3f69f4",
              "version_major": 2,
              "version_minor": 0
            },
            "text/plain": [
              "VBox(children=(Text(value='B2B_01', description='Cliente ID:', placeholder='ID del cliente'), IntSlider(value=…"
            ]
          },
          "metadata": {},
          "output_type": "display_data"
        }
      ],
      "source": [
        "# Librerías\n",
        "import ipywidgets as widgets\n",
        "from IPython.display import display, clear_output\n",
        "import matplotlib.pyplot as plt\n",
        "import seaborn as sns\n",
        "import pandas as pd\n",
        "\n",
        "# Widgets de entrada\n",
        "id_input = widgets.Text(\n",
        "    value='B2B_01',\n",
        "    placeholder='ID del cliente',\n",
        "    description='Cliente ID:',\n",
        "    disabled=False\n",
        ")\n",
        "\n",
        "topn_slider = widgets.IntSlider(\n",
        "    value=10,\n",
        "    min=1,\n",
        "    max=30,\n",
        "    step=1,\n",
        "    description='Top-N:',\n",
        "    continuous_update=False\n",
        ")\n",
        "\n",
        "alpha_slider = widgets.FloatSlider(\n",
        "    value=0.5,\n",
        "    min=0.0,\n",
        "    max=1.0,\n",
        "    step=0.05,\n",
        "    description='Peso LFM (α):',\n",
        "    continuous_update=False\n",
        ")\n",
        "\n",
        "btn = widgets.Button(description=\"Comparar Modelos\")\n",
        "output = widgets.Output()\n",
        "\n",
        "# Función principal\n",
        "def on_click(b):\n",
        "    output.clear_output()\n",
        "    with output:\n",
        "        try:\n",
        "            cliente_id = id_input.value.strip()\n",
        "            topn = topn_slider.value\n",
        "            alpha = alpha_slider.value\n",
        "\n",
        "            df_scores = recomendar_hibrido_b2b(cliente_id=cliente_id, top_n=topn, alpha=alpha)\n",
        "\n",
        "            if isinstance(df_scores, str):\n",
        "                print(df_scores)\n",
        "                return\n",
        "\n",
        "            # Normalizar LightFM\n",
        "            min_lfm, max_lfm = df_scores['score_lfm'].min(), df_scores['score_lfm'].max()\n",
        "            df_scores['score_lfm_norm'] = (df_scores['score_lfm'] - min_lfm) / (max_lfm - min_lfm)\n",
        "            df_scores['score_hibrido_norm'] = alpha * df_scores['score_lfm_norm'] + (1 - alpha) * df_scores['score_xgb']\n",
        "\n",
        "            # Gráfico de scores\n",
        "            df_plot = df_scores.melt(\n",
        "                id_vars='producto',\n",
        "                value_vars=['score_lfm_norm', 'score_xgb', 'score_hibrido_norm'],\n",
        "                var_name='modelo', value_name='score'\n",
        "            )\n",
        "\n",
        "            plt.figure(figsize=(14, 6))\n",
        "            sns.barplot(data=df_plot, x='producto', y='score', hue='modelo', palette='Blues')\n",
        "            plt.title(f\"Comparación de scores normalizados para Cliente {cliente_id}\")\n",
        "            plt.xticks(rotation=45, ha='right')\n",
        "            plt.tight_layout()\n",
        "            plt.show()\n",
        "\n",
        "            # Tabla con score promedio\n",
        "            df_scores['score_promedio'] = df_scores[['score_lfm', 'score_xgb']].mean(axis=1)\n",
        "            tabla = df_scores[['producto', 'score_lfm', 'score_xgb', 'score_promedio']].sort_values(\n",
        "                'score_promedio', ascending=False).reset_index(drop=True)\n",
        "            display(tabla)\n",
        "\n",
        "            # Imprimir métricas de cada modelo por separado\n",
        "            print(\"\\nMétricas del modelo XGBoost:\")\n",
        "            for k, v in metricas_xgb_b2b.items():\n",
        "                print(f\"{k}: {v:.4f}\")\n",
        "\n",
        "            print(\"\\nMétricas del modelo LightFM:\")\n",
        "            for k, v in metricas_lfm_b2b.items():\n",
        "                print(f\"{k}: {v:.4f}\")\n",
        "\n",
        "            print(\"\\nMétricas del modelo Híbrido:\")\n",
        "            for k, v in metricas_hibrido_b2b.items():\n",
        "                print(f\"{k}: {v:.4f}\")\n",
        "\n",
        "        except Exception as e:\n",
        "            print(f\"Error: {e}\")\n",
        "\n",
        "btn.on_click(on_click)\n",
        "\n",
        "# Mostrar interfaz\n",
        "display(widgets.VBox([\n",
        "    id_input,\n",
        "    topn_slider,\n",
        "    alpha_slider,\n",
        "    btn,\n",
        "    output\n",
        "]))\n"
      ]
    }
  ],
  "metadata": {
    "colab": {
      "collapsed_sections": [
        "daad5505",
        "be2b2e16",
        "4KnVk1R10yX2",
        "07cc7641",
        "gJuXt48T11k6",
        "Z5SgcSVjGAbQ",
        "hBQw1pig8QoH",
        "vM94dmbS5fvI",
        "Atr-ii8n-CUM"
      ],
      "provenance": []
    },
    "kernelspec": {
      "display_name": "Python 3",
      "language": "python",
      "name": "python3"
    },
    "language_info": {
      "codemirror_mode": {
        "name": "ipython",
        "version": 3
      },
      "file_extension": ".py",
      "mimetype": "text/x-python",
      "name": "python",
      "nbconvert_exporter": "python",
      "pygments_lexer": "ipython3",
      "version": "3.11.9"
    },
    "widgets": {
      "application/vnd.jupyter.widget-state+json": {
        "22e543aeabde457988c32c08e361067f": {
          "model_module": "@jupyter-widgets/base",
          "model_module_version": "1.2.0",
          "model_name": "LayoutModel",
          "state": {
            "_model_module": "@jupyter-widgets/base",
            "_model_module_version": "1.2.0",
            "_model_name": "LayoutModel",
            "_view_count": null,
            "_view_module": "@jupyter-widgets/base",
            "_view_module_version": "1.2.0",
            "_view_name": "LayoutView",
            "align_content": null,
            "align_items": null,
            "align_self": null,
            "border": null,
            "bottom": null,
            "display": null,
            "flex": null,
            "flex_flow": null,
            "grid_area": null,
            "grid_auto_columns": null,
            "grid_auto_flow": null,
            "grid_auto_rows": null,
            "grid_column": null,
            "grid_gap": null,
            "grid_row": null,
            "grid_template_areas": null,
            "grid_template_columns": null,
            "grid_template_rows": null,
            "height": null,
            "justify_content": null,
            "justify_items": null,
            "left": null,
            "margin": null,
            "max_height": null,
            "max_width": null,
            "min_height": null,
            "min_width": null,
            "object_fit": null,
            "object_position": null,
            "order": null,
            "overflow": null,
            "overflow_x": null,
            "overflow_y": null,
            "padding": null,
            "right": null,
            "top": null,
            "visibility": null,
            "width": null
          }
        },
        "264c74d0396e45598bb4de5438f568da": {
          "model_module": "@jupyter-widgets/controls",
          "model_module_version": "1.5.0",
          "model_name": "DescriptionStyleModel",
          "state": {
            "_model_module": "@jupyter-widgets/controls",
            "_model_module_version": "1.5.0",
            "_model_name": "DescriptionStyleModel",
            "_view_count": null,
            "_view_module": "@jupyter-widgets/base",
            "_view_module_version": "1.2.0",
            "_view_name": "StyleView",
            "description_width": ""
          }
        },
        "38ab90542d644a448c944c2499954169": {
          "model_module": "@jupyter-widgets/controls",
          "model_module_version": "1.5.0",
          "model_name": "VBoxModel",
          "state": {
            "_dom_classes": [],
            "_model_module": "@jupyter-widgets/controls",
            "_model_module_version": "1.5.0",
            "_model_name": "VBoxModel",
            "_view_count": null,
            "_view_module": "@jupyter-widgets/controls",
            "_view_module_version": "1.5.0",
            "_view_name": "VBoxView",
            "box_style": "",
            "children": [
              "IPY_MODEL_f11250e4a06348568459f558da041f51",
              "IPY_MODEL_cbc2f184608c40da9c596ff53608af14",
              "IPY_MODEL_b5423e8b081d44d7858e0c7bda06ec85",
              "IPY_MODEL_df27c880d37f42228dfb8e8eddceea91",
              "IPY_MODEL_e11cb130c7ef4c708412e69522e6f377"
            ],
            "layout": "IPY_MODEL_c7f797d812814a5fb4622c56d4a33dc1"
          }
        },
        "3cc5f09c4e3a475dbd0831ca1f02f983": {
          "model_module": "@jupyter-widgets/base",
          "model_module_version": "1.2.0",
          "model_name": "LayoutModel",
          "state": {
            "_model_module": "@jupyter-widgets/base",
            "_model_module_version": "1.2.0",
            "_model_name": "LayoutModel",
            "_view_count": null,
            "_view_module": "@jupyter-widgets/base",
            "_view_module_version": "1.2.0",
            "_view_name": "LayoutView",
            "align_content": null,
            "align_items": null,
            "align_self": null,
            "border": null,
            "bottom": null,
            "display": null,
            "flex": null,
            "flex_flow": null,
            "grid_area": null,
            "grid_auto_columns": null,
            "grid_auto_flow": null,
            "grid_auto_rows": null,
            "grid_column": null,
            "grid_gap": null,
            "grid_row": null,
            "grid_template_areas": null,
            "grid_template_columns": null,
            "grid_template_rows": null,
            "height": null,
            "justify_content": null,
            "justify_items": null,
            "left": null,
            "margin": null,
            "max_height": null,
            "max_width": null,
            "min_height": null,
            "min_width": null,
            "object_fit": null,
            "object_position": null,
            "order": null,
            "overflow": null,
            "overflow_x": null,
            "overflow_y": null,
            "padding": null,
            "right": null,
            "top": null,
            "visibility": null,
            "width": null
          }
        },
        "60316cb3ff4043428c182fd43a6825fb": {
          "model_module": "@jupyter-widgets/base",
          "model_module_version": "1.2.0",
          "model_name": "LayoutModel",
          "state": {
            "_model_module": "@jupyter-widgets/base",
            "_model_module_version": "1.2.0",
            "_model_name": "LayoutModel",
            "_view_count": null,
            "_view_module": "@jupyter-widgets/base",
            "_view_module_version": "1.2.0",
            "_view_name": "LayoutView",
            "align_content": null,
            "align_items": null,
            "align_self": null,
            "border": null,
            "bottom": null,
            "display": null,
            "flex": null,
            "flex_flow": null,
            "grid_area": null,
            "grid_auto_columns": null,
            "grid_auto_flow": null,
            "grid_auto_rows": null,
            "grid_column": null,
            "grid_gap": null,
            "grid_row": null,
            "grid_template_areas": null,
            "grid_template_columns": null,
            "grid_template_rows": null,
            "height": null,
            "justify_content": null,
            "justify_items": null,
            "left": null,
            "margin": null,
            "max_height": null,
            "max_width": null,
            "min_height": null,
            "min_width": null,
            "object_fit": null,
            "object_position": null,
            "order": null,
            "overflow": null,
            "overflow_x": null,
            "overflow_y": null,
            "padding": null,
            "right": null,
            "top": null,
            "visibility": null,
            "width": null
          }
        },
        "905f1733bed94e3bad0cf211b17c3882": {
          "model_module": "@jupyter-widgets/controls",
          "model_module_version": "1.5.0",
          "model_name": "SliderStyleModel",
          "state": {
            "_model_module": "@jupyter-widgets/controls",
            "_model_module_version": "1.5.0",
            "_model_name": "SliderStyleModel",
            "_view_count": null,
            "_view_module": "@jupyter-widgets/base",
            "_view_module_version": "1.2.0",
            "_view_name": "StyleView",
            "description_width": "",
            "handle_color": null
          }
        },
        "93e2748d4ced4307b74f4b8a0b6d7982": {
          "model_module": "@jupyter-widgets/controls",
          "model_module_version": "1.5.0",
          "model_name": "SliderStyleModel",
          "state": {
            "_model_module": "@jupyter-widgets/controls",
            "_model_module_version": "1.5.0",
            "_model_name": "SliderStyleModel",
            "_view_count": null,
            "_view_module": "@jupyter-widgets/base",
            "_view_module_version": "1.2.0",
            "_view_name": "StyleView",
            "description_width": "",
            "handle_color": null
          }
        },
        "b5423e8b081d44d7858e0c7bda06ec85": {
          "model_module": "@jupyter-widgets/controls",
          "model_module_version": "1.5.0",
          "model_name": "FloatSliderModel",
          "state": {
            "_dom_classes": [],
            "_model_module": "@jupyter-widgets/controls",
            "_model_module_version": "1.5.0",
            "_model_name": "FloatSliderModel",
            "_view_count": null,
            "_view_module": "@jupyter-widgets/controls",
            "_view_module_version": "1.5.0",
            "_view_name": "FloatSliderView",
            "continuous_update": false,
            "description": "Peso LFM (α):",
            "description_tooltip": null,
            "disabled": false,
            "layout": "IPY_MODEL_db46ac1755624196820364ed20e8599e",
            "max": 1,
            "min": 0,
            "orientation": "horizontal",
            "readout": true,
            "readout_format": ".2f",
            "step": 0.05,
            "style": "IPY_MODEL_905f1733bed94e3bad0cf211b17c3882",
            "value": 0.5
          }
        },
        "c7f797d812814a5fb4622c56d4a33dc1": {
          "model_module": "@jupyter-widgets/base",
          "model_module_version": "1.2.0",
          "model_name": "LayoutModel",
          "state": {
            "_model_module": "@jupyter-widgets/base",
            "_model_module_version": "1.2.0",
            "_model_name": "LayoutModel",
            "_view_count": null,
            "_view_module": "@jupyter-widgets/base",
            "_view_module_version": "1.2.0",
            "_view_name": "LayoutView",
            "align_content": null,
            "align_items": null,
            "align_self": null,
            "border": null,
            "bottom": null,
            "display": null,
            "flex": null,
            "flex_flow": null,
            "grid_area": null,
            "grid_auto_columns": null,
            "grid_auto_flow": null,
            "grid_auto_rows": null,
            "grid_column": null,
            "grid_gap": null,
            "grid_row": null,
            "grid_template_areas": null,
            "grid_template_columns": null,
            "grid_template_rows": null,
            "height": null,
            "justify_content": null,
            "justify_items": null,
            "left": null,
            "margin": null,
            "max_height": null,
            "max_width": null,
            "min_height": null,
            "min_width": null,
            "object_fit": null,
            "object_position": null,
            "order": null,
            "overflow": null,
            "overflow_x": null,
            "overflow_y": null,
            "padding": null,
            "right": null,
            "top": null,
            "visibility": null,
            "width": null
          }
        },
        "cbc2f184608c40da9c596ff53608af14": {
          "model_module": "@jupyter-widgets/controls",
          "model_module_version": "1.5.0",
          "model_name": "IntSliderModel",
          "state": {
            "_dom_classes": [],
            "_model_module": "@jupyter-widgets/controls",
            "_model_module_version": "1.5.0",
            "_model_name": "IntSliderModel",
            "_view_count": null,
            "_view_module": "@jupyter-widgets/controls",
            "_view_module_version": "1.5.0",
            "_view_name": "IntSliderView",
            "continuous_update": false,
            "description": "Top-N:",
            "description_tooltip": null,
            "disabled": false,
            "layout": "IPY_MODEL_22e543aeabde457988c32c08e361067f",
            "max": 30,
            "min": 1,
            "orientation": "horizontal",
            "readout": true,
            "readout_format": "d",
            "step": 1,
            "style": "IPY_MODEL_93e2748d4ced4307b74f4b8a0b6d7982",
            "value": 10
          }
        },
        "db46ac1755624196820364ed20e8599e": {
          "model_module": "@jupyter-widgets/base",
          "model_module_version": "1.2.0",
          "model_name": "LayoutModel",
          "state": {
            "_model_module": "@jupyter-widgets/base",
            "_model_module_version": "1.2.0",
            "_model_name": "LayoutModel",
            "_view_count": null,
            "_view_module": "@jupyter-widgets/base",
            "_view_module_version": "1.2.0",
            "_view_name": "LayoutView",
            "align_content": null,
            "align_items": null,
            "align_self": null,
            "border": null,
            "bottom": null,
            "display": null,
            "flex": null,
            "flex_flow": null,
            "grid_area": null,
            "grid_auto_columns": null,
            "grid_auto_flow": null,
            "grid_auto_rows": null,
            "grid_column": null,
            "grid_gap": null,
            "grid_row": null,
            "grid_template_areas": null,
            "grid_template_columns": null,
            "grid_template_rows": null,
            "height": null,
            "justify_content": null,
            "justify_items": null,
            "left": null,
            "margin": null,
            "max_height": null,
            "max_width": null,
            "min_height": null,
            "min_width": null,
            "object_fit": null,
            "object_position": null,
            "order": null,
            "overflow": null,
            "overflow_x": null,
            "overflow_y": null,
            "padding": null,
            "right": null,
            "top": null,
            "visibility": null,
            "width": null
          }
        },
        "df27c880d37f42228dfb8e8eddceea91": {
          "model_module": "@jupyter-widgets/controls",
          "model_module_version": "1.5.0",
          "model_name": "ButtonModel",
          "state": {
            "_dom_classes": [],
            "_model_module": "@jupyter-widgets/controls",
            "_model_module_version": "1.5.0",
            "_model_name": "ButtonModel",
            "_view_count": null,
            "_view_module": "@jupyter-widgets/controls",
            "_view_module_version": "1.5.0",
            "_view_name": "ButtonView",
            "button_style": "",
            "description": "Comparar Modelos",
            "disabled": false,
            "icon": "",
            "layout": "IPY_MODEL_f7287a41c24f4726b4bb20a72076d65d",
            "style": "IPY_MODEL_e72c3cfd43204021aee9ef5fc2cdf990",
            "tooltip": ""
          }
        },
        "e11cb130c7ef4c708412e69522e6f377": {
          "model_module": "@jupyter-widgets/output",
          "model_module_version": "1.0.0",
          "model_name": "OutputModel",
          "state": {
            "_dom_classes": [],
            "_model_module": "@jupyter-widgets/output",
            "_model_module_version": "1.0.0",
            "_model_name": "OutputModel",
            "_view_count": null,
            "_view_module": "@jupyter-widgets/output",
            "_view_module_version": "1.0.0",
            "_view_name": "OutputView",
            "layout": "IPY_MODEL_60316cb3ff4043428c182fd43a6825fb",
            "msg_id": "",
            "outputs": []
          }
        },
        "e72c3cfd43204021aee9ef5fc2cdf990": {
          "model_module": "@jupyter-widgets/controls",
          "model_module_version": "1.5.0",
          "model_name": "ButtonStyleModel",
          "state": {
            "_model_module": "@jupyter-widgets/controls",
            "_model_module_version": "1.5.0",
            "_model_name": "ButtonStyleModel",
            "_view_count": null,
            "_view_module": "@jupyter-widgets/base",
            "_view_module_version": "1.2.0",
            "_view_name": "StyleView",
            "button_color": null,
            "font_weight": ""
          }
        },
        "f11250e4a06348568459f558da041f51": {
          "model_module": "@jupyter-widgets/controls",
          "model_module_version": "1.5.0",
          "model_name": "TextModel",
          "state": {
            "_dom_classes": [],
            "_model_module": "@jupyter-widgets/controls",
            "_model_module_version": "1.5.0",
            "_model_name": "TextModel",
            "_view_count": null,
            "_view_module": "@jupyter-widgets/controls",
            "_view_module_version": "1.5.0",
            "_view_name": "TextView",
            "continuous_update": true,
            "description": "Cliente ID:",
            "description_tooltip": null,
            "disabled": false,
            "layout": "IPY_MODEL_3cc5f09c4e3a475dbd0831ca1f02f983",
            "placeholder": "ID del cliente",
            "style": "IPY_MODEL_264c74d0396e45598bb4de5438f568da",
            "value": "B2B_01"
          }
        },
        "f7287a41c24f4726b4bb20a72076d65d": {
          "model_module": "@jupyter-widgets/base",
          "model_module_version": "1.2.0",
          "model_name": "LayoutModel",
          "state": {
            "_model_module": "@jupyter-widgets/base",
            "_model_module_version": "1.2.0",
            "_model_name": "LayoutModel",
            "_view_count": null,
            "_view_module": "@jupyter-widgets/base",
            "_view_module_version": "1.2.0",
            "_view_name": "LayoutView",
            "align_content": null,
            "align_items": null,
            "align_self": null,
            "border": null,
            "bottom": null,
            "display": null,
            "flex": null,
            "flex_flow": null,
            "grid_area": null,
            "grid_auto_columns": null,
            "grid_auto_flow": null,
            "grid_auto_rows": null,
            "grid_column": null,
            "grid_gap": null,
            "grid_row": null,
            "grid_template_areas": null,
            "grid_template_columns": null,
            "grid_template_rows": null,
            "height": null,
            "justify_content": null,
            "justify_items": null,
            "left": null,
            "margin": null,
            "max_height": null,
            "max_width": null,
            "min_height": null,
            "min_width": null,
            "object_fit": null,
            "object_position": null,
            "order": null,
            "overflow": null,
            "overflow_x": null,
            "overflow_y": null,
            "padding": null,
            "right": null,
            "top": null,
            "visibility": null,
            "width": null
          }
        }
      }
    }
  },
  "nbformat": 4,
  "nbformat_minor": 5
}
