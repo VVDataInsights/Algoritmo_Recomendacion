{
 "cells": [
  {
   "cell_type": "code",
   "execution_count": 19,
   "id": "c9c76939",
   "metadata": {},
   "outputs": [],
   "source": [
    "import sys\n",
    "import pandas as pd\n",
    "import numpy as np\n",
    "\n",
    "import re\n",
    "from joblib import dump, load\n",
    "import matplotlib.pyplot as plt\n",
    "pd.options.display.max_colwidth=200\n",
    "%matplotlib inline\n",
    "from sklearn.model_selection import train_test_split\n",
    "from sklearn.pipeline import Pipeline\n",
    "from sklearn.compose import ColumnTransformer\n",
    "from sklearn.preprocessing import PolynomialFeatures\n",
    "\n",
    "import scipy.stats as stats\n",
    "import seaborn as sns; sns.set()  # for plot styling\n",
    "from mpl_toolkits.mplot3d import Axes3D # for 3D plots\n",
    "from sklearn.model_selection import KFold, GridSearchCV, train_test_split\n",
    "from sklearn.preprocessing import OneHotEncoder\n",
    "import seaborn as sns\n",
    "from sklearn.metrics import mean_squared_error as mse, r2_score, mean_absolute_error as mae\n",
    "from sklearn.tree import DecisionTreeClassifier\n",
    "from sklearn.preprocessing import LabelEncoder\n",
    "\n",
    "# Metricas\n",
    "from sklearn.metrics import confusion_matrix, classification_report, precision_score, recall_score, f1_score, accuracy_score\n",
    "from sklearn.metrics import ConfusionMatrixDisplay\n",
    "from sklearn.neighbors import KNeighborsClassifier\n",
    "\n",
    "# q-q plots\n",
    "import scipy.stats as stats\n",
    "\n",
    "# !!!! + AGRUPACION\n",
    "from sklearn.decomposition import PCA\n",
    "from sklearn.preprocessing import StandardScaler\n",
    "from sklearn.cluster import KMeans, DBSCAN, AgglomerativeClustering\n",
    "\n",
    "\n",
    "\n",
    "from scipy.spatial.distance import cdist\n",
    "from sklearn.metrics import silhouette_samples, silhouette_score\n",
    "from sklearn.preprocessing import MinMaxScaler\n",
    "import matplotlib.cm as cm\n",
    "\n"
   ]
  },
  {
   "cell_type": "markdown",
   "id": "7804e6c2",
   "metadata": {},
   "source": [
    "# Carga de datos"
   ]
  },
  {
   "cell_type": "code",
   "execution_count": 20,
   "metadata": {},
   "outputs": [],
   "source": [
    "df = pd.read_csv('data/base_2_cotizaciones.txt', sep = '\\t')\n"
   ]
  },
  {
   "cell_type": "code",
   "execution_count": 21,
   "id": "82747c35",
   "metadata": {},
   "outputs": [],
   "source": [
    "df_cot = df.copy()"
   ]
  },
  {
   "cell_type": "markdown",
   "id": "140baa44",
   "metadata": {},
   "source": [
    "# Entendimiento específico"
   ]
  },
  {
   "cell_type": "code",
   "execution_count": 22,
   "id": "cd20975b",
   "metadata": {},
   "outputs": [
    {
     "data": {
      "text/html": [
       "<div>\n",
       "<style scoped>\n",
       "    .dataframe tbody tr th:only-of-type {\n",
       "        vertical-align: middle;\n",
       "    }\n",
       "\n",
       "    .dataframe tbody tr th {\n",
       "        vertical-align: top;\n",
       "    }\n",
       "\n",
       "    .dataframe thead th {\n",
       "        text-align: right;\n",
       "    }\n",
       "</style>\n",
       "<table border=\"1\" class=\"dataframe\">\n",
       "  <thead>\n",
       "    <tr style=\"text-align: right;\">\n",
       "      <th></th>\n",
       "      <th>cotizacion</th>\n",
       "      <th>estado_cotizacion</th>\n",
       "      <th>id</th>\n",
       "      <th>fecha_creacion</th>\n",
       "      <th>fecha_modificacion</th>\n",
       "      <th>categoria_macro</th>\n",
       "      <th>categoria</th>\n",
       "      <th>producto</th>\n",
       "      <th>cantidad</th>\n",
       "      <th>precio</th>\n",
       "      <th>valor</th>\n",
       "    </tr>\n",
       "  </thead>\n",
       "  <tbody>\n",
       "    <tr>\n",
       "      <th>0</th>\n",
       "      <td>1381861.0</td>\n",
       "      <td>Cotización Ganada</td>\n",
       "      <td>91587</td>\n",
       "      <td>1972-08-05 12:25:47.700</td>\n",
       "      <td>1972-08-05 13:37:35</td>\n",
       "      <td>categoria_macro_4</td>\n",
       "      <td>categoria_9</td>\n",
       "      <td>producto_524</td>\n",
       "      <td>1.0</td>\n",
       "      <td>34.957429</td>\n",
       "      <td>34.957429</td>\n",
       "    </tr>\n",
       "    <tr>\n",
       "      <th>1</th>\n",
       "      <td>1381861.0</td>\n",
       "      <td>Cotización Ganada</td>\n",
       "      <td>91587</td>\n",
       "      <td>1972-08-05 12:25:47.700</td>\n",
       "      <td>1972-08-05 13:37:35</td>\n",
       "      <td>categoria_macro_4</td>\n",
       "      <td>categoria_11</td>\n",
       "      <td>producto_124</td>\n",
       "      <td>1.0</td>\n",
       "      <td>2.262000</td>\n",
       "      <td>2.262000</td>\n",
       "    </tr>\n",
       "    <tr>\n",
       "      <th>2</th>\n",
       "      <td>1381861.0</td>\n",
       "      <td>Cotización Ganada</td>\n",
       "      <td>91587</td>\n",
       "      <td>1972-08-05 12:25:47.700</td>\n",
       "      <td>1972-08-05 13:37:35</td>\n",
       "      <td>categoria_macro_4</td>\n",
       "      <td>categoria_10</td>\n",
       "      <td>producto_5085</td>\n",
       "      <td>1.0</td>\n",
       "      <td>40.600000</td>\n",
       "      <td>40.600000</td>\n",
       "    </tr>\n",
       "    <tr>\n",
       "      <th>3</th>\n",
       "      <td>1381861.0</td>\n",
       "      <td>Cotización Ganada</td>\n",
       "      <td>91587</td>\n",
       "      <td>1972-08-05 12:25:47.700</td>\n",
       "      <td>1972-08-05 13:37:35</td>\n",
       "      <td>categoria_macro_4</td>\n",
       "      <td>categoria_11</td>\n",
       "      <td>producto_188</td>\n",
       "      <td>1.0</td>\n",
       "      <td>7.863143</td>\n",
       "      <td>7.863143</td>\n",
       "    </tr>\n",
       "    <tr>\n",
       "      <th>4</th>\n",
       "      <td>1381864.0</td>\n",
       "      <td>Cotización Ganada</td>\n",
       "      <td>93623</td>\n",
       "      <td>1972-08-05 14:36:57.273</td>\n",
       "      <td>1972-08-05 15:06:26</td>\n",
       "      <td>categoria_macro_4</td>\n",
       "      <td>categoria_10</td>\n",
       "      <td>producto_391</td>\n",
       "      <td>1.0</td>\n",
       "      <td>63.932571</td>\n",
       "      <td>63.932571</td>\n",
       "    </tr>\n",
       "  </tbody>\n",
       "</table>\n",
       "</div>"
      ],
      "text/plain": [
       "   cotizacion  estado_cotizacion     id           fecha_creacion  \\\n",
       "0   1381861.0  Cotización Ganada  91587  1972-08-05 12:25:47.700   \n",
       "1   1381861.0  Cotización Ganada  91587  1972-08-05 12:25:47.700   \n",
       "2   1381861.0  Cotización Ganada  91587  1972-08-05 12:25:47.700   \n",
       "3   1381861.0  Cotización Ganada  91587  1972-08-05 12:25:47.700   \n",
       "4   1381864.0  Cotización Ganada  93623  1972-08-05 14:36:57.273   \n",
       "\n",
       "    fecha_modificacion    categoria_macro     categoria       producto  \\\n",
       "0  1972-08-05 13:37:35  categoria_macro_4   categoria_9   producto_524   \n",
       "1  1972-08-05 13:37:35  categoria_macro_4  categoria_11   producto_124   \n",
       "2  1972-08-05 13:37:35  categoria_macro_4  categoria_10  producto_5085   \n",
       "3  1972-08-05 13:37:35  categoria_macro_4  categoria_11   producto_188   \n",
       "4  1972-08-05 15:06:26  categoria_macro_4  categoria_10   producto_391   \n",
       "\n",
       "   cantidad     precio      valor  \n",
       "0       1.0  34.957429  34.957429  \n",
       "1       1.0   2.262000   2.262000  \n",
       "2       1.0  40.600000  40.600000  \n",
       "3       1.0   7.863143   7.863143  \n",
       "4       1.0  63.932571  63.932571  "
      ]
     },
     "execution_count": 22,
     "metadata": {},
     "output_type": "execute_result"
    }
   ],
   "source": [
    "df_cot.head(5)"
   ]
  },
  {
   "cell_type": "code",
   "execution_count": 23,
   "id": "41984049",
   "metadata": {},
   "outputs": [
    {
     "name": "stdout",
     "output_type": "stream",
     "text": [
      "Cantidad Productos: 2735\n"
     ]
    }
   ],
   "source": [
    "productos = df_cot[\"producto\"].unique().size\n",
    "print(f\"Cantidad Productos: {productos}\")"
   ]
  },
  {
   "cell_type": "code",
   "execution_count": 24,
   "id": "8af8c108",
   "metadata": {},
   "outputs": [
    {
     "name": "stdout",
     "output_type": "stream",
     "text": [
      "Estados: ['Cotización Ganada' 'Cotización Expirada' 'Cotización Perdida' 'Abierta']\n"
     ]
    }
   ],
   "source": [
    "estados = df_cot[\"estado_cotizacion\"].unique()\n",
    "print(f\"Estados: {estados}\")"
   ]
  },
  {
   "cell_type": "markdown",
   "id": "c0808e57",
   "metadata": {},
   "source": [
    "# DF de precios "
   ]
  },
  {
   "cell_type": "markdown",
   "id": "9d85ebb5",
   "metadata": {},
   "source": [
    "Para los productos con varios precios asignados se calculó el pormedio para tener la tabla de preciosos son con productos únicos."
   ]
  },
  {
   "cell_type": "code",
   "execution_count": 25,
   "id": "0310b8f6",
   "metadata": {},
   "outputs": [
    {
     "name": "stdout",
     "output_type": "stream",
     "text": [
      "           producto     precio\n",
      "0        producto_1   8.749715\n",
      "1       producto_10  11.696667\n",
      "2      producto_100   2.038286\n",
      "3     producto_1002   9.106000\n",
      "4     producto_1003   0.472286\n",
      "...             ...        ...\n",
      "2730   producto_992  39.611238\n",
      "2731   producto_993  56.442285\n",
      "2732   producto_995  10.348857\n",
      "2733   producto_996  21.244571\n",
      "2734   producto_998  27.210286\n",
      "\n",
      "[2735 rows x 2 columns]\n"
     ]
    }
   ],
   "source": [
    "\n",
    "df_precios = df_cot[['producto', 'precio']].drop_duplicates()\n",
    "df_precios = df_precios.groupby('producto', as_index=False)['precio'].mean()\n",
    "\n",
    "\n",
    "print(df_precios)\n"
   ]
  },
  {
   "cell_type": "markdown",
   "id": "b347224b",
   "metadata": {},
   "source": [
    "# DF cotizaciones fallidas"
   ]
  },
  {
   "cell_type": "code",
   "execution_count": 26,
   "id": "6d8a64c7",
   "metadata": {},
   "outputs": [],
   "source": [
    "\n",
    "df_filtrado = df_cot[df_cot['estado_cotizacion'].isin(['Cotización Perdida', 'Cotización Expirada'])]\n"
   ]
  }
 ],
 "metadata": {
  "kernelspec": {
   "display_name": "venv",
   "language": "python",
   "name": "python3"
  },
  "language_info": {
   "codemirror_mode": {
    "name": "ipython",
    "version": 3
   },
   "file_extension": ".py",
   "mimetype": "text/x-python",
   "name": "python",
   "nbconvert_exporter": "python",
   "pygments_lexer": "ipython3",
   "version": "3.9.12"
  }
 },
 "nbformat": 4,
 "nbformat_minor": 5
}
