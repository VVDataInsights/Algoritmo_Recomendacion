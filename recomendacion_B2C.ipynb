{
  "cells": [
    {
      "cell_type": "code",
      "execution_count": 1,
      "id": "046180c9",
      "metadata": {
        "colab": {
          "base_uri": "https://localhost:8080/"
        },
        "id": "046180c9",
        "outputId": "704fa422-25a8-4fca-d1aa-5cc9110f58ca"
      },
      "outputs": [
        {
          "output_type": "stream",
          "name": "stdout",
          "text": [
            "Requirement already satisfied: pandas in /usr/local/lib/python3.11/dist-packages (2.2.2)\n",
            "Requirement already satisfied: numpy>=1.23.2 in /usr/local/lib/python3.11/dist-packages (from pandas) (2.0.2)\n",
            "Requirement already satisfied: python-dateutil>=2.8.2 in /usr/local/lib/python3.11/dist-packages (from pandas) (2.9.0.post0)\n",
            "Requirement already satisfied: pytz>=2020.1 in /usr/local/lib/python3.11/dist-packages (from pandas) (2025.2)\n",
            "Requirement already satisfied: tzdata>=2022.7 in /usr/local/lib/python3.11/dist-packages (from pandas) (2025.2)\n",
            "Requirement already satisfied: six>=1.5 in /usr/local/lib/python3.11/dist-packages (from python-dateutil>=2.8.2->pandas) (1.17.0)\n"
          ]
        }
      ],
      "source": [
        "import sys\n",
        "!pip install pandas\n",
        "import pandas as pd\n",
        "import numpy as np\n",
        "import nltk\n",
        "\n",
        "\n",
        "import re\n",
        "import nltk\n",
        "from joblib import dump, load\n",
        "import matplotlib.pyplot as plt\n",
        "pd.options.display.max_colwidth=200\n",
        "%matplotlib inline\n",
        "from sklearn.model_selection import train_test_split\n",
        "from sklearn.linear_model import LinearRegression\n",
        "from sklearn.pipeline import Pipeline\n",
        "from sklearn.compose import ColumnTransformer\n",
        "from sklearn.preprocessing import StandardScaler\n",
        "from sklearn.preprocessing import PolynomialFeatures\n",
        "from sklearn.metrics import mean_absolute_error, mean_squared_error, r2_score\n",
        "from sklearn.model_selection import train_test_split\n",
        "from sklearn.linear_model import LinearRegression\n",
        "from sklearn.pipeline import Pipeline\n",
        "from sklearn.compose import ColumnTransformer\n",
        "from sklearn.preprocessing import StandardScaler\n",
        "from sklearn.preprocessing import PolynomialFeatures\n",
        "from sklearn.metrics import mean_absolute_error, mean_squared_error, r2_score\n",
        "from sklearn.preprocessing import StandardScaler  # Asegúrate de importar StandardScaler\n",
        "from sklearn.cluster import KMeans\n",
        "from sklearn.metrics import silhouette_samples, silhouette_score\n",
        "\n",
        "\n",
        "\n",
        "\n",
        "import scipy.stats as stats\n",
        "import seaborn as sns; sns.set()  # for plot styling\n",
        "\n",
        "from sklearn.preprocessing import StandardScaler\n",
        "from sklearn.cluster import KMeans\n",
        "from sklearn.metrics import silhouette_samples, silhouette_score\n",
        "from sklearn.preprocessing import MinMaxScaler\n",
        "\n",
        "from matplotlib import cm\n",
        "from mpl_toolkits.mplot3d import Axes3D # for 3D plots\n",
        "import matplotlib.pyplot as plt\n",
        "\n",
        "import numpy as np\n",
        "import pandas as pd\n",
        "from sklearn.model_selection import KFold, GridSearchCV, train_test_split\n",
        "from sklearn.preprocessing import OneHotEncoder, MinMaxScaler\n",
        "import matplotlib.pyplot as plt\n",
        "from sklearn.linear_model import LinearRegression\n",
        "import seaborn as sns\n",
        "from sklearn.metrics import mean_squared_error as mse, r2_score, mean_absolute_error as mae\n",
        "\n",
        "\n",
        "import pandas as pd\n",
        "import numpy as np\n",
        "import matplotlib.pyplot as plt\n",
        "import seaborn as sns\n",
        "\n",
        "from sklearn import tree\n",
        "\n",
        "\n",
        "from sklearn.tree import DecisionTreeClassifier\n",
        "from sklearn.preprocessing import LabelEncoder\n",
        "\n",
        "# Para búsqueda de hiperparámetros\n",
        "from sklearn.model_selection import GridSearchCV\n",
        "# Para la validación cruzada\n",
        "from sklearn.model_selection import KFold\n",
        "\n",
        "# Metricas\n",
        "from sklearn.metrics import confusion_matrix, classification_report, precision_score, recall_score, f1_score, accuracy_score\n",
        "from sklearn.metrics import ConfusionMatrixDisplay\n",
        "\n",
        "from sklearn.model_selection import GridSearchCV\n",
        "from sklearn.neighbors import KNeighborsClassifier\n",
        "\n",
        "# q-q plots\n",
        "import scipy.stats as stats"
      ]
    },
    {
      "cell_type": "code",
      "execution_count": 2,
      "id": "f4b385fe",
      "metadata": {
        "colab": {
          "base_uri": "https://localhost:8080/"
        },
        "id": "f4b385fe",
        "outputId": "c02fc542-f110-49fe-f062-9efd460ac08b"
      },
      "outputs": [
        {
          "output_type": "stream",
          "name": "stdout",
          "text": [
            "Requirement already satisfied: LightFM in /usr/local/lib/python3.11/dist-packages (1.17)\n",
            "Requirement already satisfied: numpy in /usr/local/lib/python3.11/dist-packages (from LightFM) (2.0.2)\n",
            "Requirement already satisfied: scipy>=0.17.0 in /usr/local/lib/python3.11/dist-packages (from LightFM) (1.15.2)\n",
            "Requirement already satisfied: requests in /usr/local/lib/python3.11/dist-packages (from LightFM) (2.32.3)\n",
            "Requirement already satisfied: scikit-learn in /usr/local/lib/python3.11/dist-packages (from LightFM) (1.6.1)\n",
            "Requirement already satisfied: charset-normalizer<4,>=2 in /usr/local/lib/python3.11/dist-packages (from requests->LightFM) (3.4.1)\n",
            "Requirement already satisfied: idna<4,>=2.5 in /usr/local/lib/python3.11/dist-packages (from requests->LightFM) (3.10)\n",
            "Requirement already satisfied: urllib3<3,>=1.21.1 in /usr/local/lib/python3.11/dist-packages (from requests->LightFM) (2.4.0)\n",
            "Requirement already satisfied: certifi>=2017.4.17 in /usr/local/lib/python3.11/dist-packages (from requests->LightFM) (2025.4.26)\n",
            "Requirement already satisfied: joblib>=1.2.0 in /usr/local/lib/python3.11/dist-packages (from scikit-learn->LightFM) (1.4.2)\n",
            "Requirement already satisfied: threadpoolctl>=3.1.0 in /usr/local/lib/python3.11/dist-packages (from scikit-learn->LightFM) (3.6.0)\n"
          ]
        }
      ],
      "source": [
        "!pip install LightFM\n",
        "from lightfm import LightFM\n",
        "from lightfm.data import Dataset"
      ]
    },
    {
      "cell_type": "markdown",
      "id": "9aca4f8c",
      "metadata": {
        "id": "9aca4f8c"
      },
      "source": [
        "## Carga de datos"
      ]
    },
    {
      "cell_type": "code",
      "execution_count": 3,
      "id": "61b4679f",
      "metadata": {
        "id": "61b4679f"
      },
      "outputs": [],
      "source": [
        "pd2 = pd.read_csv(\"b2c_nuevo.csv\" , sep=\",\", encoding=\"utf-8\")"
      ]
    },
    {
      "cell_type": "code",
      "execution_count": 4,
      "id": "09f3b486",
      "metadata": {
        "id": "09f3b486"
      },
      "outputs": [],
      "source": [
        "\n",
        "b2c = pd2.copy()"
      ]
    },
    {
      "cell_type": "markdown",
      "id": "a6328d14",
      "metadata": {
        "id": "a6328d14"
      },
      "source": [
        "## Implementación B2C"
      ]
    },
    {
      "cell_type": "code",
      "execution_count": 5,
      "id": "a42a8d45",
      "metadata": {
        "colab": {
          "base_uri": "https://localhost:8080/"
        },
        "id": "a42a8d45",
        "outputId": "520bac14-d9ac-4afc-b9ec-153a9b4dabf1"
      },
      "outputs": [
        {
          "output_type": "execute_result",
          "data": {
            "text/plain": [
              "Index(['edad_promedio', 'ingreso_laboral_promedio', 'porcentaje_urbano',\n",
              "       'IPUG', 'GINI', 'num_pedidos', 'categorias_diferentes',\n",
              "       'Total de edificaciones en obra', 'pedido', 'id', 'edad', 'municipio',\n",
              "       'asesor', 'punto de venta', 'cluster', 'categoria_macro', 'categoria',\n",
              "       'subcategoria', 'producto', 'color', 'cantidad', 'precio', 'valor',\n",
              "       'alineación con portafolio estratégico', 'log_cantidad', 'log_precio',\n",
              "       'log_valor', 'ajustada_alineacion', 'total_productos', 'total_gasto',\n",
              "       'precio_promedio', 'ticket_promedio', 'cantidad_promedio',\n",
              "       'zona_AMAZONAS', 'zona_ANTIOQUIA', 'zona_ARAUCA', 'zona_ATLÁNTICO',\n",
              "       'zona_BOGOTÁ', 'zona_BOLÍVAR', 'zona_BOYACA', 'zona_CALDAS',\n",
              "       'zona_CAQUETA', 'zona_CASANARE', 'zona_CAUCA', 'zona_CESAR',\n",
              "       'zona_CHOCO', 'zona_CUNDINAMARCA', 'zona_CÓRDOBA', 'zona_GUAINIA',\n",
              "       'zona_GUAVIARE', 'zona_HUILA', 'zona_LA GUAJIRA', 'zona_MAGDALENA',\n",
              "       'zona_META', 'zona_NARIÑO', 'zona_NORTE SANTANDER', 'zona_PUTUMAYO',\n",
              "       'zona_QUINDIO', 'zona_RISARALDA', 'zona_SAN ANDRÉS', 'zona_SANTANDER',\n",
              "       'zona_SUCRE', 'zona_TOLIMA', 'zona_VALLE', 'zona_VAUPES',\n",
              "       'zona_VICHADA', 'año', 'mes', 'día', 'trimestre'],\n",
              "      dtype='object')"
            ]
          },
          "metadata": {},
          "execution_count": 5
        }
      ],
      "source": [
        "b2c.columns"
      ]
    },
    {
      "cell_type": "code",
      "source": [
        "b2c = b2c.dropna(subset=['id', 'producto'])  # elimina filas con id o producto nulo\n"
      ],
      "metadata": {
        "id": "bNlQCZWbjeAJ"
      },
      "id": "bNlQCZWbjeAJ",
      "execution_count": 6,
      "outputs": []
    },
    {
      "cell_type": "markdown",
      "id": "daad5505",
      "metadata": {
        "id": "daad5505"
      },
      "source": [
        "## Pipeline LightFM"
      ]
    },
    {
      "cell_type": "code",
      "execution_count": 22,
      "id": "ed07f418",
      "metadata": {
        "id": "ed07f418"
      },
      "outputs": [],
      "source": [
        "from lightfm.data import Dataset\n",
        "\n",
        "dataset = Dataset()\n",
        "\n",
        "# USER features\n",
        "user_features = (\n",
        "    [f\"cluster:{x}\" for x in b2c['cluster'].astype(str).unique()] +\n",
        "    [f\"municipio:{x}\" for x in b2c['municipio'].astype(str).unique()] +\n",
        "    [f\"asesor:{x}\" for x in b2c['asesor'].astype(str).unique()] +\n",
        "    [f\"punto:{x}\" for x in b2c['punto de venta'].astype(str).unique()] +\n",
        "    b2c.columns[b2c.columns.str.startswith(\"zona_\")].tolist()\n",
        ")\n",
        "\n",
        "# ITEM features\n",
        "item_features = (\n",
        "    [f\"categoria_macro:{x}\" for x in b2c['categoria_macro'].astype(str).unique()] +\n",
        "    [f\"subcategoria:{x}\" for x in b2c['subcategoria'].astype(str).unique()] +\n",
        "    [f\"color:{x}\" for x in b2c['color'].astype(str).unique()]\n",
        ")\n",
        "\n",
        "dataset.fit(\n",
        "    users=b2c['id'].unique(),\n",
        "    items=b2c['producto'].unique(),\n",
        "    user_features=user_features,\n",
        "    item_features=item_features\n",
        ")\n"
      ]
    },
    {
      "cell_type": "code",
      "execution_count": 23,
      "id": "84ba9f28",
      "metadata": {
        "id": "84ba9f28"
      },
      "outputs": [],
      "source": [
        "\n",
        "interactions, _ = dataset.build_interactions([\n",
        "    (row['id'], row['producto']) for _, row in b2c.iterrows()\n",
        "])\n"
      ]
    },
    {
      "cell_type": "markdown",
      "id": "d26a7e2b",
      "metadata": {
        "id": "d26a7e2b"
      },
      "source": [
        "Ahora establecemos como se realiza la caracterización de los clientes y de los porductos"
      ]
    },
    {
      "cell_type": "code",
      "execution_count": 24,
      "id": "5681fa92",
      "metadata": {
        "id": "5681fa92"
      },
      "outputs": [],
      "source": [
        "def construir_features_usuario(df):\n",
        "    features = []\n",
        "    for _, row in df.iterrows():\n",
        "        f = [\n",
        "            f\"cluster:{row['cluster']}\",\n",
        "            f\"municipio:{row['municipio']}\",\n",
        "            f\"asesor:{row['asesor']}\",\n",
        "            f\"punto:{row['punto de venta']}\"\n",
        "        ]\n",
        "        for zona in df.columns[df.columns.str.startswith(\"zona_\")]:\n",
        "            if row[zona] == 1:\n",
        "                f.append(zona)\n",
        "        features.append((row['id'], f))\n",
        "    return features\n",
        "\n",
        "\n",
        "def construir_features_producto(df):\n",
        "    features = []\n",
        "    for _, row in df.iterrows():\n",
        "        f = [\n",
        "            f\"categoria_macro:{row['categoria_macro']}\",\n",
        "            f\"subcategoria:{row['subcategoria']}\",\n",
        "            f\"color:{row['color']}\"\n",
        "        ]\n",
        "        features.append((row['producto'], f))\n",
        "    return features\n",
        "\n",
        "\n",
        "user_features = dataset.build_user_features(construir_features_usuario(b2c))\n",
        "item_features = dataset.build_item_features(construir_features_producto(b2c))\n"
      ]
    },
    {
      "cell_type": "code",
      "execution_count": 25,
      "id": "6f118b80",
      "metadata": {
        "colab": {
          "base_uri": "https://localhost:8080/"
        },
        "id": "6f118b80",
        "outputId": "05d5e9be-ca5e-4c56-eb7d-27b8df8f4248"
      },
      "outputs": [
        {
          "output_type": "execute_result",
          "data": {
            "text/plain": [
              "<lightfm.lightfm.LightFM at 0x7d1d9d172a50>"
            ]
          },
          "metadata": {},
          "execution_count": 25
        }
      ],
      "source": [
        "model = LightFM(loss='warp', no_components=16)\n",
        "model.fit(interactions, user_features=user_features, item_features=item_features, epochs=5, num_threads=1)\n"
      ]
    },
    {
      "cell_type": "code",
      "source": [
        "b2c['id'].dropna().unique()[:10]\n"
      ],
      "metadata": {
        "colab": {
          "base_uri": "https://localhost:8080/"
        },
        "id": "FbHCeAH3oLTH",
        "outputId": "ecd7ef93-2635-489f-cd7e-6c8af37c049f"
      },
      "id": "FbHCeAH3oLTH",
      "execution_count": 26,
      "outputs": [
        {
          "output_type": "execute_result",
          "data": {
            "text/plain": [
              "array([ 2,  3,  4,  5,  6,  7,  8,  9, 10, 11])"
            ]
          },
          "metadata": {},
          "execution_count": 26
        }
      ]
    },
    {
      "cell_type": "code",
      "execution_count": 27,
      "id": "d3377f9c",
      "metadata": {
        "colab": {
          "base_uri": "https://localhost:8080/"
        },
        "id": "d3377f9c",
        "outputId": "9335ce1f-4894-4fac-a359-ddfddffaa41f"
      },
      "outputs": [
        {
          "output_type": "stream",
          "name": "stdout",
          "text": [
            "Recomendaciones: ['producto_132', 'producto_59', 'producto_171', 'producto_130', 'producto_831', 'producto_681', 'producto_1116', 'producto_1508', 'producto_830', 'producto_3']\n"
          ]
        }
      ],
      "source": [
        "usuario_interno = dataset.mapping()[0][11]\n",
        "scores = model.predict(usuario_interno, np.arange(len(dataset.mapping()[2])), user_features=user_features, item_features=item_features)\n",
        "top_items = np.argsort(-scores)[:10]\n",
        "productos = list(dataset.mapping()[2].keys())\n",
        "print(\"Recomendaciones:\", [productos[i] for i in top_items])\n"
      ]
    },
    {
      "cell_type": "markdown",
      "id": "be2b2e16",
      "metadata": {
        "id": "be2b2e16"
      },
      "source": [
        "## Modelo Tabular"
      ]
    },
    {
      "cell_type": "code",
      "source": [
        "positivos = b2c[['id', 'producto']].drop_duplicates().copy()\n",
        "positivos['interaccion'] = 1\n"
      ],
      "metadata": {
        "id": "e7n86gtPptih"
      },
      "id": "e7n86gtPptih",
      "execution_count": 5,
      "outputs": []
    },
    {
      "cell_type": "code",
      "source": [
        "import pandas as pd\n",
        "import numpy as np\n",
        "from tqdm import tqdm  # barra de progreso\n",
        "\n",
        "usuarios = b2c['id'].unique()\n",
        "productos = b2c['producto'].unique()\n",
        "compras = b2c.groupby('id')['producto'].apply(set).to_dict()\n",
        "\n",
        "negativos = []\n",
        "rng = np.random.default_rng(seed=42)\n",
        "\n",
        "# Número de negativos por usuario (puedes cambiarlo)\n",
        "k_negativos = 5\n",
        "\n",
        "for u in tqdm(usuarios):\n",
        "    comprados = compras.get(u, set())\n",
        "    candidatos = list(set(productos) - comprados)\n",
        "\n",
        "    if len(candidatos) == 0:\n",
        "        continue  # este usuario ya compró todo\n",
        "\n",
        "    muestra = rng.choice(candidatos, size=min(k_negativos, len(candidatos)), replace=False)\n",
        "    negativos.extend([(u, p, 0) for p in muestra])\n",
        "\n",
        "# Convertir a DataFrame\n",
        "negativos = pd.DataFrame(negativos, columns=['id', 'producto', 'interaccion'])\n",
        "\n",
        "# Positivos\n",
        "positivos = b2c[['id', 'producto']].drop_duplicates().copy()\n",
        "positivos['interaccion'] = 1\n",
        "\n",
        "# Unir todo\n",
        "df_tabular = pd.concat([positivos, negativos], axis=0, ignore_index=True)\n"
      ],
      "metadata": {
        "colab": {
          "base_uri": "https://localhost:8080/"
        },
        "id": "toRXrCsgy7Pw",
        "outputId": "a5785587-4f7b-4054-c984-8801b75b74b2"
      },
      "id": "toRXrCsgy7Pw",
      "execution_count": 6,
      "outputs": [
        {
          "output_type": "stream",
          "name": "stderr",
          "text": [
            "100%|██████████| 419221/419221 [21:56<00:00, 318.42it/s]\n"
          ]
        }
      ]
    },
    {
      "cell_type": "code",
      "source": [
        "features_usuario = b2c.drop_duplicates('id').set_index('id')[\n",
        "    ['edad', 'edad_promedio', 'ingreso_laboral_promedio', 'GINI', 'IPUG', 'cluster']\n",
        "]\n",
        "\n",
        "features_producto = b2c.drop_duplicates('producto').set_index('producto')[\n",
        "    ['categoria_macro', 'subcategoria', 'color', 'precio', 'alineación con portafolio estratégico']\n",
        "]\n",
        "\n",
        "df_tabular = df_tabular.merge(features_usuario, on='id', how='left')\n",
        "df_tabular = df_tabular.merge(features_producto, on='producto', how='left')\n"
      ],
      "metadata": {
        "id": "GwE9dDT0qCX3"
      },
      "id": "GwE9dDT0qCX3",
      "execution_count": 7,
      "outputs": []
    },
    {
      "cell_type": "code",
      "source": [
        "from xgboost import XGBClassifier\n",
        "from sklearn.model_selection import train_test_split\n",
        "from sklearn.metrics import roc_auc_score, classification_report\n",
        "import pandas as pd\n",
        "\n",
        "# --- 1. Selección de columnas útiles (excluye id, producto, interaccion) ---\n",
        "X = df_tabular.drop(columns=['id', 'producto', 'interaccion'])\n",
        "y = df_tabular['interaccion']\n",
        "\n",
        "# --- 2. Tratar nulos y reducir cardinalidad ---\n",
        "X.fillna(\"desconocido\", inplace=True)\n",
        "\n",
        "# Reducir cardinalidad de 'color' si tiene muchos valores\n",
        "if X['color'].nunique() > 20:\n",
        "    top_colores = X['color'].value_counts().nlargest(20).index\n",
        "    X['color'] = X['color'].where(X['color'].isin(top_colores), 'otros')\n",
        "\n",
        "# --- 3. Convertir categóricas a tipo 'category' ---\n",
        "categoricas = ['cluster', 'categoria_macro', 'subcategoria', 'color']\n",
        "for col in categoricas:\n",
        "    X[col] = X[col].astype('category')\n",
        "\n",
        "# --- 4. Split y entrenamiento ---\n",
        "X_train, X_test, y_train, y_test = train_test_split(\n",
        "    X, y, stratify=y, test_size=0.2, random_state=42\n",
        ")\n",
        "\n",
        "modelo_xgb = XGBClassifier(\n",
        "    tree_method='hist',\n",
        "    enable_categorical=True,\n",
        "    use_label_encoder=False,\n",
        "    eval_metric='logloss',\n",
        "    n_estimators=100,\n",
        "    learning_rate=0.1,\n",
        "    max_depth=6,\n",
        "    random_state=42\n",
        ")\n",
        "\n",
        "modelo_xgb.fit(X_train, y_train)\n",
        "\n",
        "# --- 5. Evaluación ---\n",
        "probs = modelo_xgb.predict_proba(X_test)[:, 1]\n",
        "preds = modelo_xgb.predict(X_test)\n",
        "\n",
        "print(\"AUC:\", round(roc_auc_score(y_test, probs), 4))\n",
        "print(classification_report(y_test, preds))\n"
      ],
      "metadata": {
        "colab": {
          "base_uri": "https://localhost:8080/"
        },
        "id": "iJzwBEaF6fbO",
        "outputId": "6f5e620d-b99e-4555-bc8b-85830b85089f"
      },
      "id": "iJzwBEaF6fbO",
      "execution_count": 12,
      "outputs": [
        {
          "output_type": "stream",
          "name": "stderr",
          "text": [
            "/usr/local/lib/python3.11/dist-packages/xgboost/core.py:158: UserWarning: [02:02:58] WARNING: /workspace/src/learner.cc:740: \n",
            "Parameters: { \"use_label_encoder\" } are not used.\n",
            "\n",
            "  warnings.warn(smsg, UserWarning)\n"
          ]
        },
        {
          "output_type": "stream",
          "name": "stdout",
          "text": [
            "AUC: 0.914\n",
            "              precision    recall  f1-score   support\n",
            "\n",
            "           0       0.84      0.86      0.85    419221\n",
            "           1       0.83      0.81      0.82    356427\n",
            "\n",
            "    accuracy                           0.84    775648\n",
            "   macro avg       0.84      0.83      0.83    775648\n",
            "weighted avg       0.84      0.84      0.84    775648\n",
            "\n"
          ]
        }
      ]
    },
    {
      "cell_type": "code",
      "source": [
        "import matplotlib.pyplot as plt\n",
        "from xgboost import plot_importance\n",
        "\n",
        "plt.figure(figsize=(10, 6))\n",
        "plot_importance(modelo_xgb, max_num_features=15, importance_type='gain')\n",
        "plt.title(\"Top 15 Features más importantes\")\n",
        "plt.show()\n"
      ],
      "metadata": {
        "colab": {
          "base_uri": "https://localhost:8080/",
          "height": 498
        },
        "id": "xh8QZrlTqhnB",
        "outputId": "c4b4ce95-9511-476d-f463-80c67b3ef28c"
      },
      "id": "xh8QZrlTqhnB",
      "execution_count": 13,
      "outputs": [
        {
          "output_type": "display_data",
          "data": {
            "text/plain": [
              "<Figure size 1000x600 with 0 Axes>"
            ]
          },
          "metadata": {}
        },
        {
          "output_type": "display_data",
          "data": {
            "text/plain": [
              "<Figure size 640x480 with 1 Axes>"
            ],
            "image/png": "[encoded data removed]"
          },
          "metadata": {}
        }
      ]
    },
    {
      "cell_type": "code",
      "source": [
        "def recomendar_con_xgboost(cliente_id, top_n=10):\n",
        "    # Productos ya comprados por el cliente\n",
        "    productos_comprados = set(b2c[b2c['id'] == cliente_id]['producto'].unique())\n",
        "\n",
        "    # Productos candidatos (no comprados)\n",
        "    todos_productos = b2c['producto'].unique()\n",
        "    productos_candidatos = list(set(todos_productos) - productos_comprados)\n",
        "\n",
        "    if not productos_candidatos:\n",
        "        return f\"Cliente {cliente_id} ya ha comprado todos los productos.\"\n",
        "\n",
        "    # Crear dataset de predicción\n",
        "    df_pred = pd.DataFrame({'id': cliente_id, 'producto': productos_candidatos})\n",
        "\n",
        "    # Merge con features del usuario\n",
        "    df_pred = df_pred.merge(features_usuario, on='id', how='left')\n",
        "\n",
        "    # Merge con features del producto\n",
        "    df_pred = df_pred.merge(features_producto, on='producto', how='left')\n",
        "\n",
        "    # Tratar nulos\n",
        "    df_pred.fillna(\"desconocido\", inplace=True)\n",
        "\n",
        "    # Reducir cardinalidad de color si es necesario\n",
        "    if 'color' in df_pred.columns and df_pred['color'].nunique() > 20:\n",
        "        top_colores = features_producto['color'].value_counts().nlargest(20).index\n",
        "        df_pred['color'] = df_pred['color'].where(df_pred['color'].isin(top_colores), 'otros')\n",
        "\n",
        "    # Convertir variables categóricas\n",
        "    for col in ['cluster', 'categoria_macro', 'subcategoria', 'color']:\n",
        "        if col in df_pred.columns:\n",
        "            df_pred[col] = df_pred[col].astype('category')\n",
        "\n",
        "    # 🔧 Eliminar columnas no usadas durante el entrenamiento\n",
        "    X_pred = df_pred.drop(columns=['id', 'producto'])  # ← ahora sí correcto\n",
        "\n",
        "    # Predecir probabilidad de compra\n",
        "    probs = modelo_xgb.predict_proba(X_pred)[:, 1]\n",
        "\n",
        "    # Construir ranking\n",
        "    df_pred['score'] = probs\n",
        "    top_recomendaciones = df_pred.sort_values('score', ascending=False).head(top_n)\n",
        "\n",
        "    return top_recomendaciones[['producto', 'score']]\n"
      ],
      "metadata": {
        "id": "RhkMFZKxDCrj"
      },
      "id": "RhkMFZKxDCrj",
      "execution_count": 18,
      "outputs": []
    },
    {
      "cell_type": "code",
      "source": [
        "recomendar_con_xgboost(cliente_id=2, top_n=10)\n"
      ],
      "metadata": {
        "colab": {
          "base_uri": "https://localhost:8080/",
          "height": 363
        },
        "id": "hiDm-5r5DJc2",
        "outputId": "73ae61f9-e173-404c-d409-cbe74ee3c9cf"
      },
      "id": "hiDm-5r5DJc2",
      "execution_count": 19,
      "outputs": [
        {
          "output_type": "execute_result",
          "data": {
            "text/plain": [
              "          producto     score\n",
              "6029   producto_49  0.987866\n",
              "6402   producto_19  0.981998\n",
              "1541   producto_72  0.981534\n",
              "5474   producto_74  0.973359\n",
              "5423    producto_3  0.972666\n",
              "3260   producto_28  0.971574\n",
              "3093  producto_112  0.970500\n",
              "1390   producto_66  0.969431\n",
              "2340   producto_27  0.968106\n",
              "2329   producto_40  0.962925"
            ],
            "text/html": [
              "\n",
              "  <div id=\"df-ce0e1a7f-d8e4-4332-80cb-afb671e87ea7\" class=\"colab-df-container\">\n",
              "    <div>\n",
              "<style scoped>\n",
              "    .dataframe tbody tr th:only-of-type {\n",
              "        vertical-align: middle;\n",
              "    }\n",
              "\n",
              "    .dataframe tbody tr th {\n",
              "        vertical-align: top;\n",
              "    }\n",
              "\n",
              "    .dataframe thead th {\n",
              "        text-align: right;\n",
              "    }\n",
              "</style>\n",
              "<table border=\"1\" class=\"dataframe\">\n",
              "  <thead>\n",
              "    <tr style=\"text-align: right;\">\n",
              "      <th></th>\n",
              "      <th>producto</th>\n",
              "      <th>score</th>\n",
              "    </tr>\n",
              "  </thead>\n",
              "  <tbody>\n",
              "    <tr>\n",
              "      <th>6029</th>\n",
              "      <td>producto_49</td>\n",
              "      <td>0.987866</td>\n",
              "    </tr>\n",
              "    <tr>\n",
              "      <th>6402</th>\n",
              "      <td>producto_19</td>\n",
              "      <td>0.981998</td>\n",
              "    </tr>\n",
              "    <tr>\n",
              "      <th>1541</th>\n",
              "      <td>producto_72</td>\n",
              "      <td>0.981534</td>\n",
              "    </tr>\n",
              "    <tr>\n",
              "      <th>5474</th>\n",
              "      <td>producto_74</td>\n",
              "      <td>0.973359</td>\n",
              "    </tr>\n",
              "    <tr>\n",
              "      <th>5423</th>\n",
              "      <td>producto_3</td>\n",
              "      <td>0.972666</td>\n",
              "    </tr>\n",
              "    <tr>\n",
              "      <th>3260</th>\n",
              "      <td>producto_28</td>\n",
              "      <td>0.971574</td>\n",
              "    </tr>\n",
              "    <tr>\n",
              "      <th>3093</th>\n",
              "      <td>producto_112</td>\n",
              "      <td>0.970500</td>\n",
              "    </tr>\n",
              "    <tr>\n",
              "      <th>1390</th>\n",
              "      <td>producto_66</td>\n",
              "      <td>0.969431</td>\n",
              "    </tr>\n",
              "    <tr>\n",
              "      <th>2340</th>\n",
              "      <td>producto_27</td>\n",
              "      <td>0.968106</td>\n",
              "    </tr>\n",
              "    <tr>\n",
              "      <th>2329</th>\n",
              "      <td>producto_40</td>\n",
              "      <td>0.962925</td>\n",
              "    </tr>\n",
              "  </tbody>\n",
              "</table>\n",
              "</div>\n",
              "    <div class=\"colab-df-buttons\">\n",
              "\n",
              "  <div class=\"colab-df-container\">\n",
              "    <button class=\"colab-df-convert\" onclick=\"convertToInteractive('df-ce0e1a7f-d8e4-4332-80cb-afb671e87ea7')\"\n",
              "            title=\"Convert this dataframe to an interactive table.\"\n",
              "            style=\"display:none;\">\n",
              "\n",
              "  <svg xmlns=\"http://www.w3.org/2000/svg\" height=\"24px\" viewBox=\"0 -960 960 960\">\n",
              "    <path d=\"M120-120v-720h720v720H120Zm60-500h600v-160H180v160Zm220 220h160v-160H400v160Zm0 220h160v-160H400v160ZM180-400h160v-160H180v160Zm440 0h160v-160H620v160ZM180-180h160v-160H180v160Zm440 0h160v-160H620v160Z\"/>\n",
              "  </svg>\n",
              "    </button>\n",
              "\n",
              "  <style>\n",
              "    .colab-df-container {\n",
              "      display:flex;\n",
              "      gap: 12px;\n",
              "    }\n",
              "\n",
              "    .colab-df-convert {\n",
              "      background-color: #E8F0FE;\n",
              "      border: none;\n",
              "      border-radius: 50%;\n",
              "      cursor: pointer;\n",
              "      display: none;\n",
              "      fill: #1967D2;\n",
              "      height: 32px;\n",
              "      padding: 0 0 0 0;\n",
              "      width: 32px;\n",
              "    }\n",
              "\n",
              "    .colab-df-convert:hover {\n",
              "      background-color: #E2EBFA;\n",
              "      box-shadow: 0px 1px 2px rgba(60, 64, 67, 0.3), 0px 1px 3px 1px rgba(60, 64, 67, 0.15);\n",
              "      fill: #174EA6;\n",
              "    }\n",
              "\n",
              "    .colab-df-buttons div {\n",
              "      margin-bottom: 4px;\n",
              "    }\n",
              "\n",
              "    [theme=dark] .colab-df-convert {\n",
              "      background-color: #3B4455;\n",
              "      fill: #D2E3FC;\n",
              "    }\n",
              "\n",
              "    [theme=dark] .colab-df-convert:hover {\n",
              "      background-color: #434B5C;\n",
              "      box-shadow: 0px 1px 3px 1px rgba(0, 0, 0, 0.15);\n",
              "      filter: drop-shadow(0px 1px 2px rgba(0, 0, 0, 0.3));\n",
              "      fill: #FFFFFF;\n",
              "    }\n",
              "  </style>\n",
              "\n",
              "    <script>\n",
              "      const buttonEl =\n",
              "        document.querySelector('#df-ce0e1a7f-d8e4-4332-80cb-afb671e87ea7 button.colab-df-convert');\n",
              "      buttonEl.style.display =\n",
              "        google.colab.kernel.accessAllowed ? 'block' : 'none';\n",
              "\n",
              "      async function convertToInteractive(key) {\n",
              "        const element = document.querySelector('#df-ce0e1a7f-d8e4-4332-80cb-afb671e87ea7');\n",
              "        const dataTable =\n",
              "          await google.colab.kernel.invokeFunction('convertToInteractive',\n",
              "                                                    [key], {});\n",
              "        if (!dataTable) return;\n",
              "\n",
              "        const docLinkHtml = 'Like what you see? Visit the ' +\n",
              "          '<a target=\"_blank\" href=https://colab.research.google.com/notebooks/data_table.ipynb>data table notebook</a>'\n",
              "          + ' to learn more about interactive tables.';\n",
              "        element.innerHTML = '';\n",
              "        dataTable['output_type'] = 'display_data';\n",
              "        await google.colab.output.renderOutput(dataTable, element);\n",
              "        const docLink = document.createElement('div');\n",
              "        docLink.innerHTML = docLinkHtml;\n",
              "        element.appendChild(docLink);\n",
              "      }\n",
              "    </script>\n",
              "  </div>\n",
              "\n",
              "\n",
              "    <div id=\"df-53387b33-70b6-451a-ab25-b6a4a5c3191a\">\n",
              "      <button class=\"colab-df-quickchart\" onclick=\"quickchart('df-53387b33-70b6-451a-ab25-b6a4a5c3191a')\"\n",
              "                title=\"Suggest charts\"\n",
              "                style=\"display:none;\">\n",
              "\n",
              "<svg xmlns=\"http://www.w3.org/2000/svg\" height=\"24px\"viewBox=\"0 0 24 24\"\n",
              "     width=\"24px\">\n",
              "    <g>\n",
              "        <path d=\"M19 3H5c-1.1 0-2 .9-2 2v14c0 1.1.9 2 2 2h14c1.1 0 2-.9 2-2V5c0-1.1-.9-2-2-2zM9 17H7v-7h2v7zm4 0h-2V7h2v10zm4 0h-2v-4h2v4z\"/>\n",
              "    </g>\n",
              "</svg>\n",
              "      </button>\n",
              "\n",
              "<style>\n",
              "  .colab-df-quickchart {\n",
              "      --bg-color: #E8F0FE;\n",
              "      --fill-color: #1967D2;\n",
              "      --hover-bg-color: #E2EBFA;\n",
              "      --hover-fill-color: #174EA6;\n",
              "      --disabled-fill-color: #AAA;\n",
              "      --disabled-bg-color: #DDD;\n",
              "  }\n",
              "\n",
              "  [theme=dark] .colab-df-quickchart {\n",
              "      --bg-color: #3B4455;\n",
              "      --fill-color: #D2E3FC;\n",
              "      --hover-bg-color: #434B5C;\n",
              "      --hover-fill-color: #FFFFFF;\n",
              "      --disabled-bg-color: #3B4455;\n",
              "      --disabled-fill-color: #666;\n",
              "  }\n",
              "\n",
              "  .colab-df-quickchart {\n",
              "    background-color: var(--bg-color);\n",
              "    border: none;\n",
              "    border-radius: 50%;\n",
              "    cursor: pointer;\n",
              "    display: none;\n",
              "    fill: var(--fill-color);\n",
              "    height: 32px;\n",
              "    padding: 0;\n",
              "    width: 32px;\n",
              "  }\n",
              "\n",
              "  .colab-df-quickchart:hover {\n",
              "    background-color: var(--hover-bg-color);\n",
              "    box-shadow: 0 1px 2px rgba(60, 64, 67, 0.3), 0 1px 3px 1px rgba(60, 64, 67, 0.15);\n",
              "    fill: var(--button-hover-fill-color);\n",
              "  }\n",
              "\n",
              "  .colab-df-quickchart-complete:disabled,\n",
              "  .colab-df-quickchart-complete:disabled:hover {\n",
              "    background-color: var(--disabled-bg-color);\n",
              "    fill: var(--disabled-fill-color);\n",
              "    box-shadow: none;\n",
              "  }\n",
              "\n",
              "  .colab-df-spinner {\n",
              "    border: 2px solid var(--fill-color);\n",
              "    border-color: transparent;\n",
              "    border-bottom-color: var(--fill-color);\n",
              "    animation:\n",
              "      spin 1s steps(1) infinite;\n",
              "  }\n",
              "\n",
              "  @keyframes spin {\n",
              "    0% {\n",
              "      border-color: transparent;\n",
              "      border-bottom-color: var(--fill-color);\n",
              "      border-left-color: var(--fill-color);\n",
              "    }\n",
              "    20% {\n",
              "      border-color: transparent;\n",
              "      border-left-color: var(--fill-color);\n",
              "      border-top-color: var(--fill-color);\n",
              "    }\n",
              "    30% {\n",
              "      border-color: transparent;\n",
              "      border-left-color: var(--fill-color);\n",
              "      border-top-color: var(--fill-color);\n",
              "      border-right-color: var(--fill-color);\n",
              "    }\n",
              "    40% {\n",
              "      border-color: transparent;\n",
              "      border-right-color: var(--fill-color);\n",
              "      border-top-color: var(--fill-color);\n",
              "    }\n",
              "    60% {\n",
              "      border-color: transparent;\n",
              "      border-right-color: var(--fill-color);\n",
              "    }\n",
              "    80% {\n",
              "      border-color: transparent;\n",
              "      border-right-color: var(--fill-color);\n",
              "      border-bottom-color: var(--fill-color);\n",
              "    }\n",
              "    90% {\n",
              "      border-color: transparent;\n",
              "      border-bottom-color: var(--fill-color);\n",
              "    }\n",
              "  }\n",
              "</style>\n",
              "\n",
              "      <script>\n",
              "        async function quickchart(key) {\n",
              "          const quickchartButtonEl =\n",
              "            document.querySelector('#' + key + ' button');\n",
              "          quickchartButtonEl.disabled = true;  // To prevent multiple clicks.\n",
              "          quickchartButtonEl.classList.add('colab-df-spinner');\n",
              "          try {\n",
              "            const charts = await google.colab.kernel.invokeFunction(\n",
              "                'suggestCharts', [key], {});\n",
              "          } catch (error) {\n",
              "            console.error('Error during call to suggestCharts:', error);\n",
              "          }\n",
              "          quickchartButtonEl.classList.remove('colab-df-spinner');\n",
              "          quickchartButtonEl.classList.add('colab-df-quickchart-complete');\n",
              "        }\n",
              "        (() => {\n",
              "          let quickchartButtonEl =\n",
              "            document.querySelector('#df-53387b33-70b6-451a-ab25-b6a4a5c3191a button');\n",
              "          quickchartButtonEl.style.display =\n",
              "            google.colab.kernel.accessAllowed ? 'block' : 'none';\n",
              "        })();\n",
              "      </script>\n",
              "    </div>\n",
              "\n",
              "    </div>\n",
              "  </div>\n"
            ],
            "application/vnd.google.colaboratory.intrinsic+json": {
              "type": "dataframe",
              "summary": "{\n  \"name\": \"recomendar_con_xgboost(cliente_id=2, top_n=10)\",\n  \"rows\": 10,\n  \"fields\": [\n    {\n      \"column\": \"producto\",\n      \"properties\": {\n        \"dtype\": \"string\",\n        \"num_unique_values\": 10,\n        \"samples\": [\n          \"producto_27\",\n          \"producto_19\",\n          \"producto_28\"\n        ],\n        \"semantic_type\": \"\",\n        \"description\": \"\"\n      }\n    },\n    {\n      \"column\": \"score\",\n      \"properties\": {\n        \"dtype\": \"float32\",\n        \"num_unique_values\": 10,\n        \"samples\": [\n          0.9681056141853333,\n          0.9819981455802917,\n          0.9715744853019714\n        ],\n        \"semantic_type\": \"\",\n        \"description\": \"\"\n      }\n    }\n  ]\n}"
            }
          },
          "metadata": {},
          "execution_count": 19
        }
      ]
    },
    {
      "cell_type": "markdown",
      "id": "07cc7641",
      "metadata": {
        "id": "07cc7641"
      },
      "source": [
        "## Recomendador HIBRIDO"
      ]
    },
    {
      "cell_type": "code",
      "source": [
        "\n",
        "def recomendar_hibrido(cliente_id, top_n=10, alpha=0.5):\n",
        "    # Validar que cliente exista en el mapping de LightFM\n",
        "    if cliente_id not in dataset.mapping()[0]:\n",
        "        return f\"Cliente {cliente_id} no está en el dataset de LightFM.\"\n",
        "\n",
        "    # Productos ya comprados\n",
        "    productos_comprados = set(b2c[b2c['id'] == cliente_id]['producto'].unique())\n",
        "    productos_totales = b2c['producto'].unique()\n",
        "    productos_candidatos = list(set(productos_totales) - productos_comprados)\n",
        "\n",
        "    if not productos_candidatos:\n",
        "        return f\"Cliente {cliente_id} ya ha comprado todos los productos.\"\n",
        "\n",
        "    # --- LightFM: obtener scores ---\n",
        "    usuario_interno = dataset.mapping()[0][cliente_id]\n",
        "    productos_idx = [dataset.mapping()[2][p] for p in productos_candidatos if p in dataset.mapping()[2]]\n",
        "    scores_lfm = model.predict(usuario_interno, productos_idx, user_features=user_features, item_features=item_features)\n",
        "\n",
        "    # Mapear scores a productos\n",
        "    lfm_scores = pd.DataFrame({'producto': [p for p in productos_candidatos if p in dataset.mapping()[2]],\n",
        "                               'score_lfm': scores_lfm})\n",
        "\n",
        "    # --- XGBoost: obtener scores ---\n",
        "    df_pred = pd.DataFrame({'id': cliente_id, 'producto': lfm_scores['producto']})\n",
        "    df_pred = df_pred.merge(features_usuario, on='id', how='left')\n",
        "    df_pred = df_pred.merge(features_producto, on='producto', how='left')\n",
        "    df_pred.fillna(\"desconocido\", inplace=True)\n",
        "\n",
        "    if 'color' in df_pred.columns and df_pred['color'].nunique() > 20:\n",
        "        top_colores = features_producto['color'].value_counts().nlargest(20).index\n",
        "        df_pred['color'] = df_pred['color'].where(df_pred['color'].isin(top_colores), 'otros')\n",
        "\n",
        "    for col in ['cluster', 'categoria_macro', 'subcategoria', 'color']:\n",
        "        if col in df_pred.columns:\n",
        "            df_pred[col] = df_pred[col].astype('category')\n",
        "\n",
        "    X_pred = df_pred.drop(columns=['id', 'producto'])\n",
        "    scores_xgb = modelo_xgb.predict_proba(X_pred)[:, 1]\n",
        "\n",
        "    # Combinar scores\n",
        "    lfm_scores['score_xgb'] = scores_xgb\n",
        "    lfm_scores['score_hibrido'] = alpha * lfm_scores['score_lfm'] + (1 - alpha) * lfm_scores['score_xgb']\n",
        "\n",
        "    # Ordenar y devolver top N\n",
        "    top_recomendaciones = lfm_scores.sort_values('score_hibrido', ascending=False).head(top_n)\n",
        "    return top_recomendaciones[['producto', 'score_lfm', 'score_xgb', 'score_hibrido']]\n"
      ],
      "metadata": {
        "id": "aU-SAGDxEkWV"
      },
      "id": "aU-SAGDxEkWV",
      "execution_count": 28,
      "outputs": []
    },
    {
      "cell_type": "code",
      "source": [
        "recomendar_hibrido(cliente_id=2, top_n=10, alpha=0.6)\n"
      ],
      "metadata": {
        "colab": {
          "base_uri": "https://localhost:8080/",
          "height": 363
        },
        "id": "t1HGqDOkFEiY",
        "outputId": "c5a1cff2-d8da-4cd0-9b65-204dc9e07c5e"
      },
      "id": "t1HGqDOkFEiY",
      "execution_count": 29,
      "outputs": [
        {
          "output_type": "execute_result",
          "data": {
            "text/plain": [
              "          producto  score_lfm  score_xgb  score_hibrido\n",
              "5928  producto_132 -77.083588   0.917538     -45.883137\n",
              "6029   producto_49 -77.165688   0.987866     -45.904270\n",
              "5474   producto_74 -77.166519   0.973359     -45.910568\n",
              "5423    producto_3 -77.397636   0.972666     -46.049519\n",
              "4985   producto_59 -77.347702   0.888995     -46.053024\n",
              "3093  producto_112 -77.412247   0.970500     -46.059151\n",
              "1390   producto_66 -77.412308   0.969431     -46.059616\n",
              "2682  producto_242 -77.413498   0.957155     -46.065239\n",
              "5509  producto_366 -77.412628   0.952704     -46.066498\n",
              "6402   producto_19 -77.432320   0.981998     -46.066593"
            ],
            "text/html": [
              "\n",
              "  <div id=\"df-d9701718-2a5f-4981-addc-ad619cef66f9\" class=\"colab-df-container\">\n",
              "    <div>\n",
              "<style scoped>\n",
              "    .dataframe tbody tr th:only-of-type {\n",
              "        vertical-align: middle;\n",
              "    }\n",
              "\n",
              "    .dataframe tbody tr th {\n",
              "        vertical-align: top;\n",
              "    }\n",
              "\n",
              "    .dataframe thead th {\n",
              "        text-align: right;\n",
              "    }\n",
              "</style>\n",
              "<table border=\"1\" class=\"dataframe\">\n",
              "  <thead>\n",
              "    <tr style=\"text-align: right;\">\n",
              "      <th></th>\n",
              "      <th>producto</th>\n",
              "      <th>score_lfm</th>\n",
              "      <th>score_xgb</th>\n",
              "      <th>score_hibrido</th>\n",
              "    </tr>\n",
              "  </thead>\n",
              "  <tbody>\n",
              "    <tr>\n",
              "      <th>5928</th>\n",
              "      <td>producto_132</td>\n",
              "      <td>-77.083588</td>\n",
              "      <td>0.917538</td>\n",
              "      <td>-45.883137</td>\n",
              "    </tr>\n",
              "    <tr>\n",
              "      <th>6029</th>\n",
              "      <td>producto_49</td>\n",
              "      <td>-77.165688</td>\n",
              "      <td>0.987866</td>\n",
              "      <td>-45.904270</td>\n",
              "    </tr>\n",
              "    <tr>\n",
              "      <th>5474</th>\n",
              "      <td>producto_74</td>\n",
              "      <td>-77.166519</td>\n",
              "      <td>0.973359</td>\n",
              "      <td>-45.910568</td>\n",
              "    </tr>\n",
              "    <tr>\n",
              "      <th>5423</th>\n",
              "      <td>producto_3</td>\n",
              "      <td>-77.397636</td>\n",
              "      <td>0.972666</td>\n",
              "      <td>-46.049519</td>\n",
              "    </tr>\n",
              "    <tr>\n",
              "      <th>4985</th>\n",
              "      <td>producto_59</td>\n",
              "      <td>-77.347702</td>\n",
              "      <td>0.888995</td>\n",
              "      <td>-46.053024</td>\n",
              "    </tr>\n",
              "    <tr>\n",
              "      <th>3093</th>\n",
              "      <td>producto_112</td>\n",
              "      <td>-77.412247</td>\n",
              "      <td>0.970500</td>\n",
              "      <td>-46.059151</td>\n",
              "    </tr>\n",
              "    <tr>\n",
              "      <th>1390</th>\n",
              "      <td>producto_66</td>\n",
              "      <td>-77.412308</td>\n",
              "      <td>0.969431</td>\n",
              "      <td>-46.059616</td>\n",
              "    </tr>\n",
              "    <tr>\n",
              "      <th>2682</th>\n",
              "      <td>producto_242</td>\n",
              "      <td>-77.413498</td>\n",
              "      <td>0.957155</td>\n",
              "      <td>-46.065239</td>\n",
              "    </tr>\n",
              "    <tr>\n",
              "      <th>5509</th>\n",
              "      <td>producto_366</td>\n",
              "      <td>-77.412628</td>\n",
              "      <td>0.952704</td>\n",
              "      <td>-46.066498</td>\n",
              "    </tr>\n",
              "    <tr>\n",
              "      <th>6402</th>\n",
              "      <td>producto_19</td>\n",
              "      <td>-77.432320</td>\n",
              "      <td>0.981998</td>\n",
              "      <td>-46.066593</td>\n",
              "    </tr>\n",
              "  </tbody>\n",
              "</table>\n",
              "</div>\n",
              "    <div class=\"colab-df-buttons\">\n",
              "\n",
              "  <div class=\"colab-df-container\">\n",
              "    <button class=\"colab-df-convert\" onclick=\"convertToInteractive('df-d9701718-2a5f-4981-addc-ad619cef66f9')\"\n",
              "            title=\"Convert this dataframe to an interactive table.\"\n",
              "            style=\"display:none;\">\n",
              "\n",
              "  <svg xmlns=\"http://www.w3.org/2000/svg\" height=\"24px\" viewBox=\"0 -960 960 960\">\n",
              "    <path d=\"M120-120v-720h720v720H120Zm60-500h600v-160H180v160Zm220 220h160v-160H400v160Zm0 220h160v-160H400v160ZM180-400h160v-160H180v160Zm440 0h160v-160H620v160ZM180-180h160v-160H180v160Zm440 0h160v-160H620v160Z\"/>\n",
              "  </svg>\n",
              "    </button>\n",
              "\n",
              "  <style>\n",
              "    .colab-df-container {\n",
              "      display:flex;\n",
              "      gap: 12px;\n",
              "    }\n",
              "\n",
              "    .colab-df-convert {\n",
              "      background-color: #E8F0FE;\n",
              "      border: none;\n",
              "      border-radius: 50%;\n",
              "      cursor: pointer;\n",
              "      display: none;\n",
              "      fill: #1967D2;\n",
              "      height: 32px;\n",
              "      padding: 0 0 0 0;\n",
              "      width: 32px;\n",
              "    }\n",
              "\n",
              "    .colab-df-convert:hover {\n",
              "      background-color: #E2EBFA;\n",
              "      box-shadow: 0px 1px 2px rgba(60, 64, 67, 0.3), 0px 1px 3px 1px rgba(60, 64, 67, 0.15);\n",
              "      fill: #174EA6;\n",
              "    }\n",
              "\n",
              "    .colab-df-buttons div {\n",
              "      margin-bottom: 4px;\n",
              "    }\n",
              "\n",
              "    [theme=dark] .colab-df-convert {\n",
              "      background-color: #3B4455;\n",
              "      fill: #D2E3FC;\n",
              "    }\n",
              "\n",
              "    [theme=dark] .colab-df-convert:hover {\n",
              "      background-color: #434B5C;\n",
              "      box-shadow: 0px 1px 3px 1px rgba(0, 0, 0, 0.15);\n",
              "      filter: drop-shadow(0px 1px 2px rgba(0, 0, 0, 0.3));\n",
              "      fill: #FFFFFF;\n",
              "    }\n",
              "  </style>\n",
              "\n",
              "    <script>\n",
              "      const buttonEl =\n",
              "        document.querySelector('#df-d9701718-2a5f-4981-addc-ad619cef66f9 button.colab-df-convert');\n",
              "      buttonEl.style.display =\n",
              "        google.colab.kernel.accessAllowed ? 'block' : 'none';\n",
              "\n",
              "      async function convertToInteractive(key) {\n",
              "        const element = document.querySelector('#df-d9701718-2a5f-4981-addc-ad619cef66f9');\n",
              "        const dataTable =\n",
              "          await google.colab.kernel.invokeFunction('convertToInteractive',\n",
              "                                                    [key], {});\n",
              "        if (!dataTable) return;\n",
              "\n",
              "        const docLinkHtml = 'Like what you see? Visit the ' +\n",
              "          '<a target=\"_blank\" href=https://colab.research.google.com/notebooks/data_table.ipynb>data table notebook</a>'\n",
              "          + ' to learn more about interactive tables.';\n",
              "        element.innerHTML = '';\n",
              "        dataTable['output_type'] = 'display_data';\n",
              "        await google.colab.output.renderOutput(dataTable, element);\n",
              "        const docLink = document.createElement('div');\n",
              "        docLink.innerHTML = docLinkHtml;\n",
              "        element.appendChild(docLink);\n",
              "      }\n",
              "    </script>\n",
              "  </div>\n",
              "\n",
              "\n",
              "    <div id=\"df-a912c274-f8f6-463d-a1dc-768577ee47dd\">\n",
              "      <button class=\"colab-df-quickchart\" onclick=\"quickchart('df-a912c274-f8f6-463d-a1dc-768577ee47dd')\"\n",
              "                title=\"Suggest charts\"\n",
              "                style=\"display:none;\">\n",
              "\n",
              "<svg xmlns=\"http://www.w3.org/2000/svg\" height=\"24px\"viewBox=\"0 0 24 24\"\n",
              "     width=\"24px\">\n",
              "    <g>\n",
              "        <path d=\"M19 3H5c-1.1 0-2 .9-2 2v14c0 1.1.9 2 2 2h14c1.1 0 2-.9 2-2V5c0-1.1-.9-2-2-2zM9 17H7v-7h2v7zm4 0h-2V7h2v10zm4 0h-2v-4h2v4z\"/>\n",
              "    </g>\n",
              "</svg>\n",
              "      </button>\n",
              "\n",
              "<style>\n",
              "  .colab-df-quickchart {\n",
              "      --bg-color: #E8F0FE;\n",
              "      --fill-color: #1967D2;\n",
              "      --hover-bg-color: #E2EBFA;\n",
              "      --hover-fill-color: #174EA6;\n",
              "      --disabled-fill-color: #AAA;\n",
              "      --disabled-bg-color: #DDD;\n",
              "  }\n",
              "\n",
              "  [theme=dark] .colab-df-quickchart {\n",
              "      --bg-color: #3B4455;\n",
              "      --fill-color: #D2E3FC;\n",
              "      --hover-bg-color: #434B5C;\n",
              "      --hover-fill-color: #FFFFFF;\n",
              "      --disabled-bg-color: #3B4455;\n",
              "      --disabled-fill-color: #666;\n",
              "  }\n",
              "\n",
              "  .colab-df-quickchart {\n",
              "    background-color: var(--bg-color);\n",
              "    border: none;\n",
              "    border-radius: 50%;\n",
              "    cursor: pointer;\n",
              "    display: none;\n",
              "    fill: var(--fill-color);\n",
              "    height: 32px;\n",
              "    padding: 0;\n",
              "    width: 32px;\n",
              "  }\n",
              "\n",
              "  .colab-df-quickchart:hover {\n",
              "    background-color: var(--hover-bg-color);\n",
              "    box-shadow: 0 1px 2px rgba(60, 64, 67, 0.3), 0 1px 3px 1px rgba(60, 64, 67, 0.15);\n",
              "    fill: var(--button-hover-fill-color);\n",
              "  }\n",
              "\n",
              "  .colab-df-quickchart-complete:disabled,\n",
              "  .colab-df-quickchart-complete:disabled:hover {\n",
              "    background-color: var(--disabled-bg-color);\n",
              "    fill: var(--disabled-fill-color);\n",
              "    box-shadow: none;\n",
              "  }\n",
              "\n",
              "  .colab-df-spinner {\n",
              "    border: 2px solid var(--fill-color);\n",
              "    border-color: transparent;\n",
              "    border-bottom-color: var(--fill-color);\n",
              "    animation:\n",
              "      spin 1s steps(1) infinite;\n",
              "  }\n",
              "\n",
              "  @keyframes spin {\n",
              "    0% {\n",
              "      border-color: transparent;\n",
              "      border-bottom-color: var(--fill-color);\n",
              "      border-left-color: var(--fill-color);\n",
              "    }\n",
              "    20% {\n",
              "      border-color: transparent;\n",
              "      border-left-color: var(--fill-color);\n",
              "      border-top-color: var(--fill-color);\n",
              "    }\n",
              "    30% {\n",
              "      border-color: transparent;\n",
              "      border-left-color: var(--fill-color);\n",
              "      border-top-color: var(--fill-color);\n",
              "      border-right-color: var(--fill-color);\n",
              "    }\n",
              "    40% {\n",
              "      border-color: transparent;\n",
              "      border-right-color: var(--fill-color);\n",
              "      border-top-color: var(--fill-color);\n",
              "    }\n",
              "    60% {\n",
              "      border-color: transparent;\n",
              "      border-right-color: var(--fill-color);\n",
              "    }\n",
              "    80% {\n",
              "      border-color: transparent;\n",
              "      border-right-color: var(--fill-color);\n",
              "      border-bottom-color: var(--fill-color);\n",
              "    }\n",
              "    90% {\n",
              "      border-color: transparent;\n",
              "      border-bottom-color: var(--fill-color);\n",
              "    }\n",
              "  }\n",
              "</style>\n",
              "\n",
              "      <script>\n",
              "        async function quickchart(key) {\n",
              "          const quickchartButtonEl =\n",
              "            document.querySelector('#' + key + ' button');\n",
              "          quickchartButtonEl.disabled = true;  // To prevent multiple clicks.\n",
              "          quickchartButtonEl.classList.add('colab-df-spinner');\n",
              "          try {\n",
              "            const charts = await google.colab.kernel.invokeFunction(\n",
              "                'suggestCharts', [key], {});\n",
              "          } catch (error) {\n",
              "            console.error('Error during call to suggestCharts:', error);\n",
              "          }\n",
              "          quickchartButtonEl.classList.remove('colab-df-spinner');\n",
              "          quickchartButtonEl.classList.add('colab-df-quickchart-complete');\n",
              "        }\n",
              "        (() => {\n",
              "          let quickchartButtonEl =\n",
              "            document.querySelector('#df-a912c274-f8f6-463d-a1dc-768577ee47dd button');\n",
              "          quickchartButtonEl.style.display =\n",
              "            google.colab.kernel.accessAllowed ? 'block' : 'none';\n",
              "        })();\n",
              "      </script>\n",
              "    </div>\n",
              "\n",
              "    </div>\n",
              "  </div>\n"
            ],
            "application/vnd.google.colaboratory.intrinsic+json": {
              "type": "dataframe",
              "summary": "{\n  \"name\": \"recomendar_hibrido(cliente_id=2, top_n=10, alpha=0\",\n  \"rows\": 10,\n  \"fields\": [\n    {\n      \"column\": \"producto\",\n      \"properties\": {\n        \"dtype\": \"string\",\n        \"num_unique_values\": 10,\n        \"samples\": [\n          \"producto_366\",\n          \"producto_49\",\n          \"producto_112\"\n        ],\n        \"semantic_type\": \"\",\n        \"description\": \"\"\n      }\n    },\n    {\n      \"column\": \"score_lfm\",\n      \"properties\": {\n        \"dtype\": \"float32\",\n        \"num_unique_values\": 10,\n        \"samples\": [\n          -77.41262817382812,\n          -77.16568756103516,\n          -77.41224670410156\n        ],\n        \"semantic_type\": \"\",\n        \"description\": \"\"\n      }\n    },\n    {\n      \"column\": \"score_xgb\",\n      \"properties\": {\n        \"dtype\": \"float32\",\n        \"num_unique_values\": 10,\n        \"samples\": [\n          0.9527044892311096,\n          0.9878657460212708,\n          0.9705002307891846\n        ],\n        \"semantic_type\": \"\",\n        \"description\": \"\"\n      }\n    },\n    {\n      \"column\": \"score_hibrido\",\n      \"properties\": {\n        \"dtype\": \"float32\",\n        \"num_unique_values\": 10,\n        \"samples\": [\n          -46.066497802734375,\n          -45.90427017211914,\n          -46.05915069580078\n        ],\n        \"semantic_type\": \"\",\n        \"description\": \"\"\n      }\n    }\n  ]\n}"
            }
          },
          "metadata": {},
          "execution_count": 29
        }
      ]
    },
    {
      "cell_type": "markdown",
      "source": [
        "## Comparación de Modelos"
      ],
      "metadata": {
        "id": "Z5SgcSVjGAbQ"
      },
      "id": "Z5SgcSVjGAbQ"
    },
    {
      "cell_type": "code",
      "source": [
        "def comparar_modelos(cliente_id, top_n=30, alpha=0.5, normalizar_lfm=True):\n",
        "    df_scores = recomendar_hibrido(cliente_id=cliente_id, top_n=top_n, alpha=alpha)\n",
        "\n",
        "    if isinstance(df_scores, str):\n",
        "        print(df_scores)\n",
        "        return\n",
        "\n",
        "    # --- Escalar LightFM si se requiere ---\n",
        "    if normalizar_lfm:\n",
        "        min_lfm, max_lfm = df_scores['score_lfm'].min(), df_scores['score_lfm'].max()\n",
        "        df_scores['score_lfm_norm'] = (df_scores['score_lfm'] - min_lfm) / (max_lfm - min_lfm)\n",
        "        df_scores['score_hibrido_norm'] = alpha * df_scores['score_lfm_norm'] + (1 - alpha) * df_scores['score_xgb']\n",
        "        cols_plot = ['score_lfm_norm', 'score_xgb', 'score_hibrido_norm']\n",
        "    else:\n",
        "        cols_plot = ['score_lfm', 'score_xgb', 'score_hibrido']\n",
        "\n",
        "    # --- Estadísticas ---\n",
        "    print(\"Estadísticas de scores:\")\n",
        "    for col in cols_plot:\n",
        "        print(f\"\\n{col}:\")\n",
        "        print(df_scores[col].describe())\n",
        "\n",
        "    # --- Gráfica mejorada ---\n",
        "    df_plot = df_scores.melt(id_vars='producto', value_vars=cols_plot,\n",
        "                             var_name='modelo', value_name='score')\n",
        "\n",
        "    plt.figure(figsize=(14, 6))\n",
        "    sns.barplot(data=df_plot, x='producto', y='score', hue='modelo', palette='Set2')\n",
        "    plt.xticks(rotation=45, ha='right')\n",
        "    plt.title(f\"Comparación de scores normalizados para Cliente {cliente_id}\" if normalizar_lfm else f\"Comparación de scores para Cliente {cliente_id}\")\n",
        "    plt.ylabel(\"Score\")\n",
        "    plt.xlabel(\"Producto\")\n",
        "    plt.legend(title='Modelo')\n",
        "    plt.tight_layout()\n",
        "    plt.show()\n",
        "\n",
        "    # --- Ranking comparado ---\n",
        "    df_scores['rank_lfm'] = df_scores['score_lfm'].rank(ascending=False)\n",
        "    df_scores['rank_xgb'] = df_scores['score_xgb'].rank(ascending=False)\n",
        "    df_scores['rank_diff'] = df_scores['rank_xgb'] - df_scores['rank_lfm']\n",
        "    print(\"\\nTop 5 mayores diferencias de ranking (XGBoost vs LightFM):\")\n",
        "    print(df_scores[['producto', 'rank_lfm', 'rank_xgb', 'rank_diff']].sort_values('rank_diff', key=abs, ascending=False).head())\n"
      ],
      "metadata": {
        "id": "uWobzmR6F9n0"
      },
      "id": "uWobzmR6F9n0",
      "execution_count": 34,
      "outputs": []
    },
    {
      "cell_type": "code",
      "source": [
        "comparar_modelos(cliente_id=2, top_n=15, alpha=0.6)\n"
      ],
      "metadata": {
        "colab": {
          "base_uri": "https://localhost:8080/",
          "height": 1000
        },
        "id": "CU5FleHwGEeg",
        "outputId": "f58b45ef-2a64-4403-a7b2-3b0525452606"
      },
      "id": "CU5FleHwGEeg",
      "execution_count": 35,
      "outputs": [
        {
          "output_type": "stream",
          "name": "stdout",
          "text": [
            "Estadísticas de scores:\n",
            "\n",
            "score_lfm_norm:\n",
            "count    15.000000\n",
            "mean      0.241849\n",
            "std       0.326134\n",
            "min       0.000000\n",
            "25%       0.051161\n",
            "50%       0.057951\n",
            "75%       0.242412\n",
            "max       1.000000\n",
            "Name: score_lfm_norm, dtype: float64\n",
            "\n",
            "score_xgb:\n",
            "count    15.000000\n",
            "mean      0.941927\n",
            "std       0.051273\n",
            "min       0.831729\n",
            "25%       0.935121\n",
            "50%       0.957307\n",
            "75%       0.973013\n",
            "max       0.987866\n",
            "Name: score_xgb, dtype: float64\n",
            "\n",
            "score_hibrido_norm:\n",
            "count    15.000000\n",
            "mean      0.521880\n",
            "std       0.194769\n",
            "min       0.382949\n",
            "25%       0.412526\n",
            "50%       0.422971\n",
            "75%       0.489930\n",
            "max       0.967015\n",
            "Name: score_hibrido_norm, dtype: float64\n"
          ]
        },
        {
          "output_type": "display_data",
          "data": {
            "text/plain": [
              "<Figure size 1400x600 with 1 Axes>"
            ],
            "image/png": "[encoded data removed]"
          },
          "metadata": {}
        },
        {
          "output_type": "stream",
          "name": "stdout",
          "text": [
            "\n",
            "Top 5 mayores diferencias de ranking (XGBoost vs LightFM):\n",
            "          producto  rank_lfm  rank_xgb  rank_diff\n",
            "1541   producto_72      15.0       3.0      -12.0\n",
            "6402   producto_19      13.0       2.0      -11.0\n",
            "5928  producto_132       1.0      12.0       11.0\n",
            "3183  producto_171       5.0      14.0        9.0\n",
            "775   producto_130       6.0      15.0        9.0\n"
          ]
        }
      ]
    }
  ],
  "metadata": {
    "kernelspec": {
      "display_name": "Python 3",
      "language": "python",
      "name": "python3"
    },
    "language_info": {
      "codemirror_mode": {
        "name": "ipython",
        "version": 3
      },
      "file_extension": ".py",
      "mimetype": "text/x-python",
      "name": "python",
      "nbconvert_exporter": "python",
      "pygments_lexer": "ipython3",
      "version": "3.11.9"
    },
    "colab": {
      "provenance": [],
      "collapsed_sections": [
        "daad5505"
      ]
    }
  },
  "nbformat": 4,
  "nbformat_minor": 5
}